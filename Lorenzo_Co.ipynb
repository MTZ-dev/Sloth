{
 "cells": [
  {
   "cell_type": "markdown",
   "id": "688d377a",
   "metadata": {},
   "source": [
    "Load Sloth"
   ]
  },
  {
   "cell_type": "code",
   "execution_count": 1,
   "id": "56f4bc51",
   "metadata": {},
   "outputs": [],
   "source": [
    "import slothpy as slt"
   ]
  },
  {
   "cell_type": "markdown",
   "id": "6788c6a0",
   "metadata": {},
   "source": [
    "Import additional packages"
   ]
  },
  {
   "cell_type": "code",
   "execution_count": 2,
   "id": "fdf11145",
   "metadata": {},
   "outputs": [],
   "source": [
    "import numpy as np\n",
    "import matplotlib.pyplot as plt"
   ]
  },
  {
   "cell_type": "code",
   "execution_count": 31,
   "id": "70395236",
   "metadata": {},
   "outputs": [],
   "source": [
    "DyCo = slt.compound_from_orca(\".\", \"Lorenzo_Co\", \"rot_orca\", \".\", \"rot.out\")"
   ]
  },
  {
   "cell_type": "code",
   "execution_count": 32,
   "id": "5029b106",
   "metadata": {},
   "outputs": [],
   "source": [
    "DyCo = slt.compound_from_orca(\".\", \"Lorenzo_Co\", \"no_rot_orca\", \".\", \"no_rot.out\")"
   ]
  },
  {
   "cell_type": "code",
   "execution_count": 3,
   "id": "dd6aac1f",
   "metadata": {},
   "outputs": [],
   "source": [
    "DyCo = slt.compound_from_molcas(\".\", \"Lorenzo_Co\", \"no_rot\", \".\", \"no_rot_lorenzo_bas0\")"
   ]
  },
  {
   "cell_type": "code",
   "execution_count": 4,
   "id": "a55edda6",
   "metadata": {},
   "outputs": [],
   "source": [
    "DyCo = slt.compound_from_molcas(\".\", \"Lorenzo_Co\", \"rot\", \".\", \"rot_lorenzo_bas0\")"
   ]
  },
  {
   "cell_type": "markdown",
   "id": "6503e5e7",
   "metadata": {},
   "source": [
    "To obtain energies of spin-orbit states you can run:"
   ]
  },
  {
   "cell_type": "code",
   "execution_count": 5,
   "id": "1e66acf0",
   "metadata": {},
   "outputs": [
    {
     "data": {
      "text/plain": [
       "array([0.00000000e+00, 4.75909676e-13, 2.43302869e+02, 2.43302869e+02,\n",
       "       7.24048610e+02, 7.24048610e+02])"
      ]
     },
     "execution_count": 5,
     "metadata": {},
     "output_type": "execute_result"
    }
   ],
   "source": [
    "DyCo.soc_energies_cm_1(\"no_rot\", 6)"
   ]
  },
  {
   "cell_type": "code",
   "execution_count": 6,
   "id": "8cd469e7",
   "metadata": {},
   "outputs": [
    {
     "data": {
      "text/plain": [
       "array([0.00000000e+00, 9.51819353e-13, 2.43300128e+02, 2.43300128e+02,\n",
       "       7.24054962e+02, 7.24054962e+02])"
      ]
     },
     "execution_count": 6,
     "metadata": {},
     "output_type": "execute_result"
    }
   ],
   "source": [
    "DyCo.soc_energies_cm_1(\"rot\", 6)"
   ]
  },
  {
   "cell_type": "code",
   "execution_count": 36,
   "id": "486925a8",
   "metadata": {},
   "outputs": [],
   "source": [
    "g_tensor, axes = DyCo.calculate_g_tensor_and_axes_doublet(\"rot_orca\", [0,1])"
   ]
  },
  {
   "cell_type": "code",
   "execution_count": 37,
   "id": "c8f6d687",
   "metadata": {},
   "outputs": [
    {
     "data": {
      "text/plain": [
       "array([[0.        , 0.01956045, 0.01998565, 9.79437324],\n",
       "       [1.        , 3.70344884, 3.81823146, 7.83421777]])"
      ]
     },
     "execution_count": 37,
     "metadata": {},
     "output_type": "execute_result"
    }
   ],
   "source": [
    "g_tensor"
   ]
  },
  {
   "cell_type": "code",
   "execution_count": 38,
   "id": "a7cb7aee",
   "metadata": {
    "scrolled": false
   },
   "outputs": [
    {
     "data": {
      "text/plain": [
       "array([[[ 5.78371953e-03,  9.99983087e-01, -6.12403982e-04],\n",
       "        [ 9.99982768e-01, -5.78309945e-03,  1.00951341e-03],\n",
       "        [ 1.00595475e-03, -6.18232171e-04, -9.99999303e-01]],\n",
       "\n",
       "       [[ 6.70292392e-02,  9.97566472e-01, -1.91889399e-02],\n",
       "        [ 9.97357063e-01, -6.64499880e-02,  2.93817712e-02],\n",
       "        [ 2.80351650e-02, -2.11076625e-02, -9.99384058e-01]]])"
      ]
     },
     "execution_count": 38,
     "metadata": {},
     "output_type": "execute_result"
    }
   ],
   "source": [
    "axes"
   ]
  },
  {
   "cell_type": "code",
   "execution_count": 33,
   "id": "02e2dce9",
   "metadata": {},
   "outputs": [],
   "source": [
    "g_tensor, axes = DyCo.calculate_g_tensor_and_axes_doublet(\"no_rot_orca\", [0,1])"
   ]
  },
  {
   "cell_type": "code",
   "execution_count": 34,
   "id": "648baca6",
   "metadata": {},
   "outputs": [
    {
     "data": {
      "text/plain": [
       "array([[0.        , 0.0194008 , 0.01987514, 9.79540961],\n",
       "       [1.        , 1.40597473, 1.44940627, 7.51010394]])"
      ]
     },
     "execution_count": 34,
     "metadata": {},
     "output_type": "execute_result"
    }
   ],
   "source": [
    "g_tensor"
   ]
  },
  {
   "cell_type": "code",
   "execution_count": 35,
   "id": "60fb35b0",
   "metadata": {},
   "outputs": [
    {
     "data": {
      "text/plain": [
       "array([[[-0.48926599, -0.82125664,  0.29352398],\n",
       "        [-0.78215629,  0.26430542, -0.56424656],\n",
       "        [ 0.38581125, -0.50564828, -0.7716667 ]],\n",
       "\n",
       "       [[ 0.26188856,  0.92531054, -0.27425313],\n",
       "        [-0.76217481,  0.37261996,  0.5293807 ],\n",
       "        [ 0.59203373,  0.07039008,  0.80283329]]])"
      ]
     },
     "execution_count": 35,
     "metadata": {},
     "output_type": "execute_result"
    }
   ],
   "source": [
    "axes"
   ]
  },
  {
   "cell_type": "code",
   "execution_count": 47,
   "id": "d00afd08",
   "metadata": {
    "scrolled": true
   },
   "outputs": [
    {
     "data": {
      "text/plain": [
       "array([[ 0.00000000e+00,  0.00000000e+00,  1.39996858e+02],\n",
       "       [ 2.00000000e+00, -2.00000000e+00,  7.28796027e-03],\n",
       "       [ 2.00000000e+00, -1.00000000e+00,  1.12140008e-02],\n",
       "       [ 2.00000000e+00,  0.00000000e+00, -1.14304611e+02],\n",
       "       [ 2.00000000e+00,  1.00000000e+00, -4.55544846e-01],\n",
       "       [ 2.00000000e+00,  2.00000000e+00,  9.29927984e-01]])"
      ]
     },
     "execution_count": 47,
     "metadata": {},
     "output_type": "execute_result"
    }
   ],
   "source": [
    "rot_trans = np.array([[ 5.78371953e-03,  9.99983087e-01, -6.12403982e-04],\n",
    "        [ 9.99982768e-01, -5.78309945e-03,  1.00951341e-03],\n",
    "        [ 1.00595475e-03, -6.18232171e-04, -9.99999303e-01]])\n",
    "\n",
    "rot_trans = rot_trans.T\n",
    "\n",
    "cfp_rot = DyCo.soc_crystal_field_parameters(\"rot_orca\", 0, 3, 2, rotation = rot_trans)\n",
    "\n",
    "cfp_rot_cm_1 = np.array(cfp_rot)\n",
    "\n",
    "for i in range(cfp_rot_cm_1.shape[0]):\n",
    "    cfp_rot_cm_1 [i,2] = cfp_rot_cm_1 [i,2] * 219474.6\n",
    "    \n",
    "cfp_rot_cm_1\n",
    "\n"
   ]
  },
  {
   "cell_type": "code",
   "execution_count": 48,
   "id": "ac705e90",
   "metadata": {
    "scrolled": true
   },
   "outputs": [
    {
     "data": {
      "text/plain": [
       "array([[ 0.00000000e+00,  0.00000000e+00,  1.40091678e+02],\n",
       "       [ 2.00000000e+00, -2.00000000e+00, -2.29647985e-01],\n",
       "       [ 2.00000000e+00, -1.00000000e+00,  4.16093139e-02],\n",
       "       [ 2.00000000e+00,  0.00000000e+00, -1.14382059e+02],\n",
       "       [ 2.00000000e+00,  1.00000000e+00, -4.53890027e-01],\n",
       "       [ 2.00000000e+00,  2.00000000e+00,  8.94165337e-01]])"
      ]
     },
     "execution_count": 48,
     "metadata": {},
     "output_type": "execute_result"
    }
   ],
   "source": [
    "rot_trans = np.array([[-0.48926599, -0.82125664,  0.29352398],\n",
    "        [-0.78215629,  0.26430542, -0.56424656],\n",
    "        [ 0.38581125, -0.50564828, -0.7716667 ]])\n",
    "\n",
    "rot_trans = rot_trans.T\n",
    "\n",
    "cfp = DyCo.soc_crystal_field_parameters(\"no_rot_orca\", 0, 3, 2, rotation= rot_trans)\n",
    "\n",
    "cfp_cm_1 = np.array(cfp)\n",
    "\n",
    "for i in range(cfp_cm_1 .shape[0]):\n",
    "    cfp_cm_1 [i,2] = cfp_cm_1 [i,2] * 219474.6\n",
    "    \n",
    "cfp_cm_1"
   ]
  },
  {
   "cell_type": "code",
   "execution_count": 17,
   "id": "201f332f",
   "metadata": {},
   "outputs": [
    {
     "data": {
      "text/plain": [
       "array([[  0.        ,   0.        , 121.65143446],\n",
       "       [  2.        ,  -2.        ,  -8.33556005],\n",
       "       [  2.        ,  -1.        , -93.81283247],\n",
       "       [  2.        ,   0.        , -63.93488953],\n",
       "       [  2.        ,   1.        , -51.60519097],\n",
       "       [  2.        ,   2.        ,   4.83014611]])"
      ]
     },
     "execution_count": 17,
     "metadata": {},
     "output_type": "execute_result"
    }
   ],
   "source": [
    "cfp = DyCo.soc_crystal_field_parameters(\"no_rot\", 0, 3, 2)\n",
    "\n",
    "cfp_cm_1 = np.array(cfp)\n",
    "\n",
    "for i in range(cfp_cm_1 .shape[0]):\n",
    "    cfp_cm_1 [i,2] = cfp_cm_1 [i,2] * 219474.6\n",
    "    \n",
    "cfp_cm_1"
   ]
  },
  {
   "cell_type": "code",
   "execution_count": 60,
   "id": "7408bda7",
   "metadata": {
    "scrolled": true
   },
   "outputs": [
    {
     "name": "stdout",
     "output_type": "stream",
     "text": [
      "0 0 140.09167750067513\n",
      "2 -2 -0.015022349505134178\n",
      "2 -1 25.119260814974528\n",
      "2 0 -94.1132191367354\n",
      "2 1 59.96045646559236\n",
      "2 2 -0.5034712790262911\n"
     ]
    }
   ],
   "source": [
    "for i in cfp:\n",
    "    print(f\"{i[0]} {i[1]} {i[2]* 219474.6}\")"
   ]
  },
  {
   "cell_type": "code",
   "execution_count": 17,
   "id": "a4b29768",
   "metadata": {},
   "outputs": [
    {
     "name": "stdout",
     "output_type": "stream",
     "text": [
      "0 0 139.99685848977649\n",
      "2 -2 0.012002881468232581\n",
      "2 -1 0.5185473915488832\n",
      "2 0 -114.30381360695529\n",
      "2 1 -0.13089081363393285\n",
      "2 2 -0.6574555341124702\n"
     ]
    }
   ],
   "source": [
    "for k in cfp_rot:\n",
    "    print(f\"{k[0]} {k[1]} {k[2]* 219474.6}\")"
   ]
  },
  {
   "cell_type": "code",
   "execution_count": 62,
   "id": "3520bcfd",
   "metadata": {},
   "outputs": [],
   "source": [
    "ito_soc_matrix_rot = DyCo.matrix_from_ito(\"kur\")"
   ]
  },
  {
   "cell_type": "code",
   "execution_count": 10,
   "id": "c071dc5c",
   "metadata": {},
   "outputs": [],
   "source": [
    "ito_soc_matrix_no_rot = DyCo.matrix_from_ito(\"no_rot\")"
   ]
  },
  {
   "cell_type": "code",
   "execution_count": 63,
   "id": "8d930429",
   "metadata": {},
   "outputs": [
    {
     "data": {
      "text/plain": [
       "array([ 11.8114666,  11.8114666, 268.3718884, 268.3718884])"
      ]
     },
     "execution_count": 63,
     "metadata": {},
     "output_type": "execute_result"
    }
   ],
   "source": [
    "energies, eigenvectors = np.linalg.eigh(ito_soc_matrix_rot)\n",
    "energies * 219474.6"
   ]
  },
  {
   "cell_type": "code",
   "execution_count": 12,
   "id": "27d948c5",
   "metadata": {
    "scrolled": true
   },
   "outputs": [
    {
     "data": {
      "text/plain": [
       "array([3.99221912e-07, 3.99221972e-07, 2.80183355e+02, 2.80183355e+02])"
      ]
     },
     "execution_count": 12,
     "metadata": {},
     "output_type": "execute_result"
    }
   ],
   "source": [
    "energies, eigenvectors = np.linalg.eigh(ito_soc_matrix_no_rot)\n",
    "energies * 219474.6"
   ]
  },
  {
   "cell_type": "code",
   "execution_count": 58,
   "id": "f934b5b9",
   "metadata": {},
   "outputs": [
    {
     "data": {
      "text/plain": [
       "-1.0000000038630528"
      ]
     },
     "execution_count": 58,
     "metadata": {},
     "output_type": "execute_result"
    }
   ],
   "source": [
    "a = np.array([[ 5.78371953e-03,  9.99983087e-01, -6.12403982e-04],\n",
    "        [ 9.99982768e-01, -5.78309945e-03,  1.00951341e-03],\n",
    "        [ 1.00595475e-03, -6.18232171e-04, -9.99999303e-01]])\n",
    "a = np.array([[ 0.2843829, -0.82284046, 0.49199588], [-0.41815955, -0.56825696, -0.70867949], [-0.86271024, 0.00419645, 0.50568116]])\n",
    "\n",
    "np.linalg.det(a)"
   ]
  },
  {
   "cell_type": "code",
   "execution_count": 65,
   "id": "3a545554",
   "metadata": {
    "scrolled": true
   },
   "outputs": [
    {
     "data": {
      "text/plain": [
       "array([[ 7.36708067e+00,  0.00000000e+00,  0.00000000e+00],\n",
       "       [-3.61000385e+00,  6.42197397e+00,  0.00000000e+00],\n",
       "       [-2.27735404e-07, -3.89268283e-07,  1.30482777e+01]])"
      ]
     },
     "execution_count": 65,
     "metadata": {},
     "output_type": "execute_result"
    }
   ],
   "source": [
    "a = np.array(   [[22.101241999999999,        0.0000000000000000,        0.0000000000000000],     \n",
    "  [-10.830011557286578,        19.265921924777000,        0.0000000000000000],     \n",
    "  [-6.8320621260590041E-007,  -1.1678048477038437E-006,   39.144832999999970]])\n",
    "b = a/3\n",
    "b"
   ]
  },
  {
   "cell_type": "code",
   "execution_count": 66,
   "id": "f8a72d8a",
   "metadata": {},
   "outputs": [
    {
     "name": "stdout",
     "output_type": "stream",
     "text": [
      "7.3670806666666664 0.0000000000000000 0.0000000000000000\n",
      "-3.6100038524288593 6.4219739749256668 0.0000000000000000\n",
      "-0.0000002277354042 -0.0000003892682826 13.0482776666666567\n"
     ]
    }
   ],
   "source": [
    "for i in range(3):\n",
    "    print(f'{b[i][0]:1.16f} {b[i][1]:1.16f} {b[i][2]:1.16f}')"
   ]
  }
 ],
 "metadata": {
  "kernelspec": {
   "display_name": "Python 3 (ipykernel)",
   "language": "python",
   "name": "python3"
  },
  "language_info": {
   "codemirror_mode": {
    "name": "ipython",
    "version": 3
   },
   "file_extension": ".py",
   "mimetype": "text/x-python",
   "name": "python",
   "nbconvert_exporter": "python",
   "pygments_lexer": "ipython3",
   "version": "3.11.3"
  }
 },
 "nbformat": 4,
 "nbformat_minor": 5
}
