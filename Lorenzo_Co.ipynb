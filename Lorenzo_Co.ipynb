{
 "cells": [
  {
   "cell_type": "markdown",
   "id": "688d377a",
   "metadata": {},
   "source": [
    "Load Sloth"
   ]
  },
  {
   "cell_type": "code",
   "execution_count": 1,
   "id": "56f4bc51",
   "metadata": {},
   "outputs": [],
   "source": [
    "import slothpy as slt"
   ]
  },
  {
   "cell_type": "markdown",
   "id": "6788c6a0",
   "metadata": {},
   "source": [
    "Import additional packages"
   ]
  },
  {
   "cell_type": "code",
   "execution_count": 2,
   "id": "fdf11145",
   "metadata": {},
   "outputs": [],
   "source": [
    "import numpy as np\n",
    "import matplotlib.pyplot as plt"
   ]
  },
  {
   "cell_type": "code",
   "execution_count": 3,
   "id": "cc6222f1",
   "metadata": {},
   "outputs": [
    {
     "ename": "TypeError",
     "evalue": "Cannot interpret '2' as a data type",
     "output_type": "error",
     "traceback": [
      "\u001b[0;31m---------------------------------------------------------------------------\u001b[0m",
      "\u001b[0;31mTypeError\u001b[0m                                 Traceback (most recent call last)",
      "Cell \u001b[0;32mIn[3], line 1\u001b[0m\n\u001b[0;32m----> 1\u001b[0m a \u001b[38;5;241m=\u001b[39m \u001b[43mnp\u001b[49m\u001b[38;5;241;43m.\u001b[39;49m\u001b[43marray\u001b[49m\u001b[43m(\u001b[49m\u001b[38;5;241;43m1\u001b[39;49m\u001b[43m,\u001b[49m\u001b[38;5;241;43m2\u001b[39;49m\u001b[43m)\u001b[49m\n",
      "\u001b[0;31mTypeError\u001b[0m: Cannot interpret '2' as a data type"
     ]
    }
   ],
   "source": [
    "a = np.array(1,2)"
   ]
  },
  {
   "cell_type": "code",
   "execution_count": 8,
   "id": "70395236",
   "metadata": {},
   "outputs": [
    {
     "name": "stdout",
     "output_type": "stream",
     "text": [
      "Failed to create a HDF5 file from the ORCA output file or acces the exsiting one.\n"
     ]
    },
    {
     "ename": "Exception",
     "evalue": "Error encountered while trying to create Compound: ValueError: Unable to create group (name already exists)",
     "output_type": "error",
     "traceback": [
      "\u001b[0;31mValueError\u001b[0m\u001b[0;31m:\u001b[0m Unable to create group (name already exists)\n",
      "\nDuring handling of the above exception, another exception occurred:\n",
      "\u001b[0;31mException\u001b[0m\u001b[0;31m:\u001b[0m Error encountered while trying to create Compound: ValueError: Unable to create group (name already exists)\n"
     ]
    }
   ],
   "source": [
    "DyCo = slt.compound_from_orca(\".\", \"Lorenzo_Co\", \"rot_orca\", \".\", \"geom_rot.out\")"
   ]
  },
  {
   "cell_type": "code",
   "execution_count": 4,
   "id": "5029b106",
   "metadata": {},
   "outputs": [],
   "source": [
    "DyCo = slt.compound_from_orca(\".\", \"Lorenzo_Co\", \"no_rot_orca\", \".\", \"geom_no_rot.out\")"
   ]
  },
  {
   "cell_type": "code",
   "execution_count": 5,
   "id": "dd6aac1f",
   "metadata": {},
   "outputs": [],
   "source": [
    "DyCo = slt.compound_from_molcas(\".\", \"Lorenzo_Co\", \"no_rot\", \".\", \"no_rot_lorenzo_bas0\")"
   ]
  },
  {
   "cell_type": "code",
   "execution_count": 6,
   "id": "a55edda6",
   "metadata": {},
   "outputs": [],
   "source": [
    "DyCo = slt.compound_from_molcas(\".\", \"Lorenzo_Co\", \"rot\", \".\", \"rot_lorenzo_bas0_corr\")"
   ]
  },
  {
   "cell_type": "markdown",
   "id": "6503e5e7",
   "metadata": {},
   "source": [
    "To obtain energies of spin-orbit states you can run:"
   ]
  },
  {
   "cell_type": "code",
   "execution_count": 5,
   "id": "06016777",
   "metadata": {},
   "outputs": [],
   "source": [
    "DyCo = slt.compound_from_slt(\".\", \"Lorenzo_Co\")"
   ]
  },
  {
   "cell_type": "code",
   "execution_count": 7,
   "id": "2c78a7cd",
   "metadata": {},
   "outputs": [
    {
     "name": "stdout",
     "output_type": "stream",
     "text": [
      "Exception reporting mode: Plain\n"
     ]
    },
    {
     "ename": "SltFileError",
     "evalue": "\u001b[31m\nSlothFileError\u001b[0m, \u001b[32mFile \u001b[0m\"./Lorenzo_Co.slt\", \u001b[33mKeyError\u001b[0m: \"Couldn't delete link (callback link pointer is NULL (specified link may be '.' or not exist))\" \nFailed to delete  \"bangi\" from the .slt file",
     "output_type": "error",
     "traceback": [
      "\u001b[0;31mSltFileError\u001b[0m\u001b[0;31m:\u001b[0m \u001b[31m\nSlothFileError\u001b[0m, \u001b[32mFile \u001b[0m\"./Lorenzo_Co.slt\", \u001b[33mKeyError\u001b[0m: \"Couldn't delete link (callback link pointer is NULL (specified link may be '.' or not exist))\" \nFailed to delete  \"bangi\" from the .slt file\n"
     ]
    }
   ],
   "source": [
    "DyCo.delete_group(\"bangi\")"
   ]
  },
  {
   "cell_type": "code",
   "execution_count": 6,
   "id": "1e66acf0",
   "metadata": {},
   "outputs": [
    {
     "data": {
      "text/plain": [
       "array([0.00000000e+00, 5.98832958e-07, 2.81951501e+02, 2.81951502e+02,\n",
       "       6.38418135e+02, 6.38418137e+02])"
      ]
     },
     "execution_count": 6,
     "metadata": {},
     "output_type": "execute_result"
    }
   ],
   "source": [
    "DyCo.soc_energies_cm_1(\"no_rot_orca\", 6)"
   ]
  },
  {
   "cell_type": "code",
   "execution_count": 7,
   "id": "8cd469e7",
   "metadata": {},
   "outputs": [
    {
     "data": {
      "text/plain": [
       "array([0.00000000e+00, 5.98832958e-07, 2.80524770e+02, 2.80524771e+02,\n",
       "       6.35996686e+02, 6.35996686e+02])"
      ]
     },
     "execution_count": 7,
     "metadata": {},
     "output_type": "execute_result"
    }
   ],
   "source": [
    "DyCo.soc_energies_cm_1(\"rot_orca\", 6)"
   ]
  },
  {
   "cell_type": "code",
   "execution_count": 9,
   "id": "486925a8",
   "metadata": {},
   "outputs": [],
   "source": [
    "g_tensor, axes = DyCo.calculate_g_tensor_and_axes_doublet(\"no_rot\", [0,1])"
   ]
  },
  {
   "cell_type": "code",
   "execution_count": 10,
   "id": "c8f6d687",
   "metadata": {},
   "outputs": [
    {
     "data": {
      "text/plain": [
       "array([[0.        , 0.04038119, 0.04124371, 9.60611473],\n",
       "       [1.        , 3.235436  , 3.25472584, 4.59184894]])"
      ]
     },
     "execution_count": 10,
     "metadata": {},
     "output_type": "execute_result"
    }
   ],
   "source": [
    "g_tensor"
   ]
  },
  {
   "cell_type": "code",
   "execution_count": 11,
   "id": "a7cb7aee",
   "metadata": {
    "scrolled": false
   },
   "outputs": [
    {
     "data": {
      "text/plain": [
       "array([[[-1.46441413e-03, -9.99998804e-01, -4.97897718e-04],\n",
       "        [-9.99998547e-01,  1.46484782e-03, -8.71785683e-04],\n",
       "        [ 8.72513985e-04,  4.96620339e-04, -9.99999496e-01]],\n",
       "\n",
       "       [[ 9.99986584e-01,  5.15451356e-03,  5.11678170e-04],\n",
       "        [-5.15261737e-03,  9.99980099e-01, -3.64044545e-03],\n",
       "        [-5.30432713e-04,  3.63776013e-03,  9.99993243e-01]]])"
      ]
     },
     "execution_count": 11,
     "metadata": {},
     "output_type": "execute_result"
    }
   ],
   "source": [
    "axes"
   ]
  },
  {
   "cell_type": "code",
   "execution_count": 19,
   "id": "02e2dce9",
   "metadata": {},
   "outputs": [],
   "source": [
    "g_tensor, axes = DyCo.calculate_g_tensor_and_axes_doublet(\"no_rot_orca\", [0,1])"
   ]
  },
  {
   "cell_type": "code",
   "execution_count": 20,
   "id": "648baca6",
   "metadata": {},
   "outputs": [
    {
     "data": {
      "text/plain": [
       "array([[0.        , 0.01423292, 0.01447811, 9.83174038],\n",
       "       [1.        , 1.73168107, 1.73300319, 5.57022942]])"
      ]
     },
     "execution_count": 20,
     "metadata": {},
     "output_type": "execute_result"
    }
   ],
   "source": [
    "g_tensor"
   ]
  },
  {
   "cell_type": "code",
   "execution_count": 21,
   "id": "60fb35b0",
   "metadata": {},
   "outputs": [
    {
     "data": {
      "text/plain": [
       "array([[[-0.37224021, -0.88033786,  0.29401102],\n",
       "        [-0.81125841,  0.1547205 , -0.56384516],\n",
       "        [ 0.4508847 , -0.44840475, -0.77177468]],\n",
       "\n",
       "       [[-0.05773299,  0.95441606, -0.29284278],\n",
       "        [-0.81457543,  0.12455323,  0.56652747],\n",
       "        [ 0.57717742,  0.27124985,  0.77025304]]])"
      ]
     },
     "execution_count": 21,
     "metadata": {},
     "output_type": "execute_result"
    }
   ],
   "source": [
    "axes"
   ]
  },
  {
   "cell_type": "code",
   "execution_count": 18,
   "id": "d00afd08",
   "metadata": {
    "scrolled": true
   },
   "outputs": [
    {
     "data": {
      "text/plain": [
       "array([[ 0.00000000e+00,  0.00000000e+00,  1.21649818e+02],\n",
       "       [ 2.00000000e+00, -2.00000000e+00,  1.20181834e-02],\n",
       "       [ 2.00000000e+00, -1.00000000e+00, -1.33251285e-02],\n",
       "       [ 2.00000000e+00,  0.00000000e+00, -9.93195554e+01],\n",
       "       [ 2.00000000e+00,  1.00000000e+00, -1.86953589e-01],\n",
       "       [ 2.00000000e+00,  2.00000000e+00,  1.66954110e+00]])"
      ]
     },
     "execution_count": 18,
     "metadata": {},
     "output_type": "execute_result"
    }
   ],
   "source": [
    "rot_trans = np.array([[-1.46441413e-03, -9.99998804e-01, -4.97897718e-04],\n",
    "        [-9.99998547e-01,  1.46484782e-03, -8.71785683e-04],\n",
    "        [ 8.72513985e-04,  4.96620339e-04, -9.99999496e-01]])\n",
    "\n",
    "rot_trans = rot_trans.T\n",
    "\n",
    "cfp_rot = DyCo.soc_crystal_field_parameters(\"rot\", 0, 3, 2, rotation=rot_trans)\n",
    "\n",
    "cfp_rot_cm_1 = np.array(cfp_rot)\n",
    "\n",
    "for i in range(cfp_rot_cm_1.shape[0]):\n",
    "    cfp_rot_cm_1 [i,2] = cfp_rot_cm_1 [i,2] * 219474.6\n",
    "    \n",
    "cfp_rot_cm_1\n",
    "\n"
   ]
  },
  {
   "cell_type": "code",
   "execution_count": 22,
   "id": "ac705e90",
   "metadata": {
    "scrolled": true
   },
   "outputs": [
    {
     "data": {
      "text/plain": [
       "array([[ 0.00000000e+00,  0.00000000e+00,  1.40975751e+02],\n",
       "       [ 2.00000000e+00, -2.00000000e+00,  9.62983959e-03],\n",
       "       [ 2.00000000e+00, -1.00000000e+00,  7.24948022e-02],\n",
       "       [ 2.00000000e+00,  0.00000000e+00, -1.15104507e+02],\n",
       "       [ 2.00000000e+00,  1.00000000e+00,  5.64505494e-01],\n",
       "       [ 2.00000000e+00,  2.00000000e+00,  6.81034331e-01]])"
      ]
     },
     "execution_count": 22,
     "metadata": {},
     "output_type": "execute_result"
    }
   ],
   "source": [
    "rot_trans = np.array([[-0.37224021, -0.88033786,  0.29401102],\n",
    "        [-0.81125841,  0.1547205 , -0.56384516],\n",
    "        [ 0.4508847 , -0.44840475, -0.77177468]])\n",
    "\n",
    "rot_trans = rot_trans.T\n",
    "\n",
    "cfp = DyCo.soc_crystal_field_parameters(\"no_rot_orca\", 0, 3, 2, rotation=rot_trans)\n",
    "\n",
    "cfp_cm_1 = np.array(cfp)\n",
    "\n",
    "for i in range(cfp_cm_1 .shape[0]):\n",
    "    cfp_cm_1 [i,2] = cfp_cm_1 [i,2] * 219474.6\n",
    "    \n",
    "cfp_cm_1"
   ]
  },
  {
   "cell_type": "code",
   "execution_count": 17,
   "id": "201f332f",
   "metadata": {},
   "outputs": [
    {
     "data": {
      "text/plain": [
       "array([[  0.        ,   0.        , 121.65143446],\n",
       "       [  2.        ,  -2.        ,  -8.33556005],\n",
       "       [  2.        ,  -1.        , -93.81283247],\n",
       "       [  2.        ,   0.        , -63.93488953],\n",
       "       [  2.        ,   1.        , -51.60519097],\n",
       "       [  2.        ,   2.        ,   4.83014611]])"
      ]
     },
     "execution_count": 17,
     "metadata": {},
     "output_type": "execute_result"
    }
   ],
   "source": [
    "cfp = DyCo.soc_crystal_field_parameters(\"no_rot\", 0, 3, 2)\n",
    "\n",
    "cfp_cm_1 = np.array(cfp)\n",
    "\n",
    "for i in range(cfp_cm_1 .shape[0]):\n",
    "    cfp_cm_1 [i,2] = cfp_cm_1 [i,2] * 219474.6\n",
    "    \n",
    "cfp_cm_1"
   ]
  },
  {
   "cell_type": "code",
   "execution_count": 60,
   "id": "7408bda7",
   "metadata": {
    "scrolled": true
   },
   "outputs": [
    {
     "name": "stdout",
     "output_type": "stream",
     "text": [
      "0 0 140.09167750067513\n",
      "2 -2 -0.015022349505134178\n",
      "2 -1 25.119260814974528\n",
      "2 0 -94.1132191367354\n",
      "2 1 59.96045646559236\n",
      "2 2 -0.5034712790262911\n"
     ]
    }
   ],
   "source": [
    "for i in cfp:\n",
    "    print(f\"{i[0]} {i[1]} {i[2]* 219474.6}\")"
   ]
  },
  {
   "cell_type": "code",
   "execution_count": 17,
   "id": "a4b29768",
   "metadata": {},
   "outputs": [
    {
     "name": "stdout",
     "output_type": "stream",
     "text": [
      "0 0 139.99685848977649\n",
      "2 -2 0.012002881468232581\n",
      "2 -1 0.5185473915488832\n",
      "2 0 -114.30381360695529\n",
      "2 1 -0.13089081363393285\n",
      "2 2 -0.6574555341124702\n"
     ]
    }
   ],
   "source": [
    "for k in cfp_rot:\n",
    "    print(f\"{k[0]} {k[1]} {k[2]* 219474.6}\")"
   ]
  },
  {
   "cell_type": "code",
   "execution_count": 62,
   "id": "3520bcfd",
   "metadata": {},
   "outputs": [],
   "source": [
    "ito_soc_matrix_rot = DyCo.matrix_from_ito(\"kur\")"
   ]
  },
  {
   "cell_type": "code",
   "execution_count": 10,
   "id": "c071dc5c",
   "metadata": {},
   "outputs": [],
   "source": [
    "ito_soc_matrix_no_rot = DyCo.matrix_from_ito(\"no_rot\")"
   ]
  },
  {
   "cell_type": "code",
   "execution_count": 63,
   "id": "8d930429",
   "metadata": {},
   "outputs": [
    {
     "data": {
      "text/plain": [
       "array([ 11.8114666,  11.8114666, 268.3718884, 268.3718884])"
      ]
     },
     "execution_count": 63,
     "metadata": {},
     "output_type": "execute_result"
    }
   ],
   "source": [
    "energies, eigenvectors = np.linalg.eigh(ito_soc_matrix_rot)\n",
    "energies * 219474.6"
   ]
  },
  {
   "cell_type": "code",
   "execution_count": 12,
   "id": "27d948c5",
   "metadata": {
    "scrolled": true
   },
   "outputs": [
    {
     "data": {
      "text/plain": [
       "array([3.99221912e-07, 3.99221972e-07, 2.80183355e+02, 2.80183355e+02])"
      ]
     },
     "execution_count": 12,
     "metadata": {},
     "output_type": "execute_result"
    }
   ],
   "source": [
    "energies, eigenvectors = np.linalg.eigh(ito_soc_matrix_no_rot)\n",
    "energies * 219474.6"
   ]
  },
  {
   "cell_type": "code",
   "execution_count": 58,
   "id": "f934b5b9",
   "metadata": {},
   "outputs": [
    {
     "data": {
      "text/plain": [
       "-1.0000000038630528"
      ]
     },
     "execution_count": 58,
     "metadata": {},
     "output_type": "execute_result"
    }
   ],
   "source": [
    "a = np.array([[ 5.78371953e-03,  9.99983087e-01, -6.12403982e-04],\n",
    "        [ 9.99982768e-01, -5.78309945e-03,  1.00951341e-03],\n",
    "        [ 1.00595475e-03, -6.18232171e-04, -9.99999303e-01]])\n",
    "a = np.array([[ 0.2843829, -0.82284046, 0.49199588], [-0.41815955, -0.56825696, -0.70867949], [-0.86271024, 0.00419645, 0.50568116]])\n",
    "\n",
    "np.linalg.det(a)"
   ]
  },
  {
   "cell_type": "code",
   "execution_count": 65,
   "id": "3a545554",
   "metadata": {
    "scrolled": true
   },
   "outputs": [
    {
     "data": {
      "text/plain": [
       "array([[ 7.36708067e+00,  0.00000000e+00,  0.00000000e+00],\n",
       "       [-3.61000385e+00,  6.42197397e+00,  0.00000000e+00],\n",
       "       [-2.27735404e-07, -3.89268283e-07,  1.30482777e+01]])"
      ]
     },
     "execution_count": 65,
     "metadata": {},
     "output_type": "execute_result"
    }
   ],
   "source": [
    "a = np.array(   [[22.101241999999999,        0.0000000000000000,        0.0000000000000000],     \n",
    "  [-10.830011557286578,        19.265921924777000,        0.0000000000000000],     \n",
    "  [-6.8320621260590041E-007,  -1.1678048477038437E-006,   39.144832999999970]])\n",
    "b = a/3\n",
    "b"
   ]
  },
  {
   "cell_type": "code",
   "execution_count": 66,
   "id": "f8a72d8a",
   "metadata": {},
   "outputs": [
    {
     "name": "stdout",
     "output_type": "stream",
     "text": [
      "7.3670806666666664 0.0000000000000000 0.0000000000000000\n",
      "-3.6100038524288593 6.4219739749256668 0.0000000000000000\n",
      "-0.0000002277354042 -0.0000003892682826 13.0482776666666567\n"
     ]
    }
   ],
   "source": [
    "for i in range(3):\n",
    "    print(f'{b[i][0]:1.16f} {b[i][1]:1.16f} {b[i][2]:1.16f}')"
   ]
  },
  {
   "cell_type": "code",
   "execution_count": 4,
   "id": "3c1d4d66",
   "metadata": {
    "scrolled": true
   },
   "outputs": [
    {
     "name": "stdout",
     "output_type": "stream",
     "text": [
      "[-1.91754977+2.25726549e-17j  1.91754977+2.45479487e-20j\n",
      "  0.75328146+2.88337546e-17j -0.75328146+1.96870919e-16j\n",
      "  1.54760317+3.30548204e-17j -1.54760317+8.10487732e-18j\n",
      "  1.90604117-4.61216146e-17j -1.90604117-2.80921760e-21j\n",
      " -0.59915833+2.55038394e-19j  0.59915833-1.52188008e-16j\n",
      "  0.56693268-9.72850204e-19j -0.56693268+3.49834636e-17j\n",
      " -0.0221493 -5.58686728e-19j  0.0221493 +1.43279956e-17j\n",
      " -0.24777712-7.21556807e-19j  0.24777712+4.57262167e-18j\n",
      "  0.32969314-5.56850279e-17j -0.32969314-5.08104492e-17j\n",
      "  2.04425199+1.20663594e-17j -2.044252  +1.07491788e-16j\n",
      " -2.3000098 -1.37636123e-17j  2.3000098 +7.78416218e-17j\n",
      "  2.37382046+1.13753219e-18j -2.37382046-3.57004793e-17j\n",
      "  0.00339845+3.64445224e-18j -0.00339845-3.96392387e-19j\n",
      " -0.00241055-2.50543102e-18j  0.00241055+3.51150431e-19j\n",
      "  0.02258653+1.33789789e-19j -0.02258653+3.31120936e-19j\n",
      "  0.05704445-9.75880805e-19j -0.05704445-2.00378601e-19j\n",
      " -0.14182832+1.12491054e-18j  0.14182832-1.57865176e-17j\n",
      "  0.17664667-2.77666468e-19j -0.17664667-4.18545813e-19j\n",
      "  0.1346568 -3.01141597e-19j -0.1346568 -2.67997974e-19j\n",
      " -0.3211159 -1.26458922e-18j  0.3211159 +1.04401433e-17j]\n"
     ]
    },
    {
     "data": {
      "text/plain": [
       "array([[ 4.29137544e-03, -4.29137780e-03,  7.50504201e-01,\n",
       "        -7.50504195e-01,  9.87834558e-02, -9.87834599e-02,\n",
       "         3.29647741e-05, -3.29648274e-05,  3.60985909e-02,\n",
       "        -3.60985928e-02, -5.72934712e-02,  5.72934735e-02,\n",
       "         1.80539665e-01, -1.80539665e-01,  5.01224806e-02,\n",
       "        -5.01224802e-02, -3.87013527e-03,  3.87013128e-03,\n",
       "         3.54796307e-02, -3.54796283e-02,  6.62599172e-02,\n",
       "        -6.62599162e-02, -3.73130551e-02,  3.73130543e-02,\n",
       "         4.41094528e-02, -4.41094524e-02,  4.13278696e-01,\n",
       "        -4.13278697e-01, -6.80151601e-02,  6.80151631e-02,\n",
       "         5.65225773e-01, -5.65225775e-01, -3.17480302e-01,\n",
       "         3.17480302e-01,  2.55182889e-01, -2.55182890e-01,\n",
       "        -2.54533010e-02,  2.54533030e-02, -9.37655127e-02,\n",
       "         9.37655106e-02],\n",
       "       [-3.84874288e-03,  3.84874341e-03, -2.59728593e-01,\n",
       "         2.59728591e-01, -4.20926277e-01,  4.20926280e-01,\n",
       "        -4.73498319e-03,  4.73498197e-03, -1.61383371e-01,\n",
       "         1.61383366e-01,  1.68890708e-01, -1.68890704e-01,\n",
       "         6.04650382e-02, -6.04650444e-02, -5.80932098e-01,\n",
       "         5.80932106e-01, -4.49788667e-02,  4.49788676e-02,\n",
       "         1.14287544e-01, -1.14287545e-01, -1.20728632e-01,\n",
       "         1.20728632e-01,  7.84869562e-02, -7.84869562e-02,\n",
       "        -3.52242642e-01,  3.52242644e-01,  4.15104308e-01,\n",
       "        -4.15104310e-01,  1.49972803e+00, -1.49972803e+00,\n",
       "         4.59769647e-01, -4.59769652e-01,  2.41664091e-01,\n",
       "        -2.41664091e-01,  5.38045378e-01, -5.38045378e-01,\n",
       "         4.53064865e-01, -4.53064857e-01, -8.03266263e-01,\n",
       "         8.03266256e-01],\n",
       "       [ 4.91437363e+00, -4.91437363e+00, -1.18143826e+00,\n",
       "         1.18143826e+00, -6.87655727e-01,  6.87655726e-01,\n",
       "         1.08014244e+00, -1.08014245e+00,  1.77791111e+00,\n",
       "        -1.77791111e+00, -1.49872302e+00,  1.49872302e+00,\n",
       "         3.82525357e-01, -3.82525362e-01,  1.64065056e+00,\n",
       "        -1.64065056e+00, -1.24862610e+00,  1.24862610e+00,\n",
       "        -3.08132369e+00,  3.08132369e+00,  1.38351710e+00,\n",
       "        -1.38351710e+00,  4.99001144e-01, -4.99001144e-01,\n",
       "         1.80380258e+00, -1.80380258e+00, -8.37390461e-01,\n",
       "         8.37390461e-01,  1.81615633e-01, -1.81615627e-01,\n",
       "        -1.68843033e+00,  1.68843032e+00,  7.82764272e-01,\n",
       "        -7.82764270e-01, -1.16052412e+00,  1.16052412e+00,\n",
       "         3.34534321e-01, -3.34534316e-01, -1.25350119e+00,\n",
       "         1.25350119e+00]])"
      ]
     },
     "execution_count": 4,
     "metadata": {},
     "output_type": "execute_result"
    }
   ],
   "source": [
    "DyCo.states_magnetic_momenta(\"rot_orca\", 0)"
   ]
  },
  {
   "cell_type": "code",
   "execution_count": 21,
   "id": "e2ade87c",
   "metadata": {},
   "outputs": [
    {
     "data": {
      "text/plain": [
       "array([1.8, 2.5])"
      ]
     },
     "execution_count": 21,
     "metadata": {},
     "output_type": "execute_result"
    }
   ],
   "source": [
    "fields_mag = np.linspace(0.1, 7, 70)\n",
    "temperatures_mag = np.linspace(1.8, 2.5, 2)\n",
    "temperatures_mag"
   ]
  },
  {
   "cell_type": "code",
   "execution_count": 22,
   "id": "eb415191",
   "metadata": {},
   "outputs": [
    {
     "name": "stdout",
     "output_type": "stream",
     "text": [
      "CPU times: user 250 ms, sys: 929 ms, total: 1.18 s\n",
      "Wall time: 527 ms\n"
     ]
    }
   ],
   "source": [
    "%%time\n",
    "magnetisation = DyCo.calculate_mth(\"rot_orca\", 16, fields_mag, 5, temperatures_mag, 4, 2)"
   ]
  },
  {
   "cell_type": "code",
   "execution_count": 24,
   "id": "a141fef6",
   "metadata": {},
   "outputs": [
    {
     "data": {
      "text/plain": [
       "array([0.1, 0.2, 0.3, 0.4, 0.5, 0.6, 0.7, 0.8, 0.9, 1. , 1.1, 1.2, 1.3,\n",
       "       1.4, 1.5, 1.6, 1.7, 1.8, 1.9, 2. , 2.1, 2.2, 2.3, 2.4, 2.5, 2.6,\n",
       "       2.7, 2.8, 2.9, 3. , 3.1, 3.2, 3.3, 3.4, 3.5, 3.6, 3.7, 3.8, 3.9,\n",
       "       4. , 4.1, 4.2, 4.3, 4.4, 4.5, 4.6, 4.7, 4.8, 4.9, 5. , 5.1, 5.2,\n",
       "       5.3, 5.4, 5.5, 5.6, 5.7, 5.8, 5.9, 6. , 6.1, 6.2, 6.3, 6.4, 6.5,\n",
       "       6.6, 6.7, 6.8, 6.9, 7. ])"
      ]
     },
     "execution_count": 24,
     "metadata": {},
     "output_type": "execute_result"
    }
   ],
   "source": [
    "fields_mag"
   ]
  },
  {
   "cell_type": "code",
   "execution_count": 23,
   "id": "af0cd90a",
   "metadata": {},
   "outputs": [
    {
     "data": {
      "text/plain": [
       "array([[0.29925057, 0.5869341 , 0.85350476, 1.09270093, 1.30176066,\n",
       "        1.48082448, 1.63198725, 1.75838309, 1.86349277, 1.95070542,\n",
       "        2.02308683, 2.08328788, 2.13353566, 2.17566687, 2.21117877,\n",
       "        2.2412834 , 2.26695838, 2.28899126, 2.30801683, 2.32454758,\n",
       "        2.33899847, 2.35170658, 2.36294681, 2.37294432, 2.38188437,\n",
       "        2.38992009, 2.39717866, 2.4037662 , 2.40977172, 2.41527018,\n",
       "        2.42032505, 2.42499027, 2.42931193, 2.43332953, 2.43707709,\n",
       "        2.44058404, 2.4438759 , 2.44697491, 2.44990052, 2.45266976,\n",
       "        2.45529764, 2.4577974 , 2.46018076, 2.46245813, 2.46463876,\n",
       "        2.46673092, 2.468742  , 2.47067863, 2.47254678, 2.47435182,\n",
       "        2.47609858, 2.47779145, 2.47943441, 2.48103106, 2.48258468,\n",
       "        2.48409827, 2.48557456, 2.48701604, 2.488425  , 2.48980353,\n",
       "        2.49115357, 2.49247688, 2.49377511, 2.49504974, 2.49630219,\n",
       "        2.49753373, 2.49874557, 2.4999388 , 2.50111445, 2.50227349],\n",
       "       [0.21638392, 0.42835242, 0.63190829, 0.82380285, 1.00172198,\n",
       "        1.16431823, 1.31111845, 1.44235633, 1.5587787 , 1.66146153,\n",
       "        1.75165624, 1.83067305, 1.8998001 , 1.96025227, 2.01314275,\n",
       "        2.05947077, 2.10011992, 2.1358631 , 2.16737109, 2.19522281,\n",
       "        2.21991593, 2.24187726, 2.26147227, 2.27901373, 2.29476933,\n",
       "        2.30896831, 2.32180719, 2.33345465, 2.34405576, 2.35373545,\n",
       "        2.36260158, 2.37074747, 2.37825401, 2.38519152, 2.39162126,\n",
       "        2.39759672, 2.40316476, 2.40836649, 2.41323808, 2.41781144,\n",
       "        2.42211479, 2.42617313, 2.43000867, 2.4336412 , 2.43708837,\n",
       "        2.44036598, 2.44348818, 2.4464677 , 2.44931598, 2.45204334,\n",
       "        2.45465912, 2.45717177, 2.45958895, 2.46191762, 2.46416413,\n",
       "        2.46633425, 2.46843326, 2.470466  , 2.47243688, 2.47434996,\n",
       "        2.47620897, 2.47801734, 2.47977822, 2.48149454, 2.48316899,\n",
       "        2.48480405, 2.48640202, 2.48796505, 2.48949511, 2.49099405]])"
      ]
     },
     "execution_count": 23,
     "metadata": {},
     "output_type": "execute_result"
    }
   ],
   "source": [
    "magnetisation"
   ]
  }
 ],
 "metadata": {
  "kernelspec": {
   "display_name": "Python 3 (ipykernel)",
   "language": "python",
   "name": "python3"
  },
  "language_info": {
   "codemirror_mode": {
    "name": "ipython",
    "version": 3
   },
   "file_extension": ".py",
   "mimetype": "text/x-python",
   "name": "python",
   "nbconvert_exporter": "python",
   "pygments_lexer": "ipython3",
   "version": "3.11.3"
  }
 },
 "nbformat": 4,
 "nbformat_minor": 5
}
