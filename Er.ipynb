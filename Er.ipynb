{
 "cells": [
  {
   "cell_type": "code",
   "execution_count": 8,
   "id": "35e5d5d3-5a7f-4f15-83a3-4280328ddd82",
   "metadata": {},
   "outputs": [],
   "source": [
    "import slothpy as slt\n",
    "import os\n",
    "os.remove(\"./lukasz.slt\")\n",
    "Dy = slt.compound_from_molcas(\".\", \"lukasz\", \"1\", \".\", \"DP_PDP067_ErRe3_bas2\")"
   ]
  },
  {
   "cell_type": "code",
   "execution_count": 9,
   "id": "d51c3811-b9f3-4494-9958-19ebb36206d0",
   "metadata": {},
   "outputs": [],
   "source": [
    "import numpy as np"
   ]
  },
  {
   "cell_type": "code",
   "execution_count": 10,
   "id": "e2fc2f03-c6e6-4be5-922d-fd34b815ff62",
   "metadata": {},
   "outputs": [],
   "source": [
    "g, axes = Dy.calculate_g_tensor_and_axes_doublet(\"1\", [0,1,2])"
   ]
  },
  {
   "cell_type": "code",
   "execution_count": null,
   "id": "06b03552-d793-4bb2-94ad-ff4617220678",
   "metadata": {},
   "outputs": [],
   "source": [
    "Dy.calculate_zeeman_splitting(\"1\", 16, np.linspace(0,12,100), [axes[0][:,1], axes[0][:,2]], 0, 1, 1, slt=\"1\")"
   ]
  },
  {
   "cell_type": "code",
   "execution_count": null,
   "id": "7dd68f91-9181-44b8-b453-729731845c0b",
   "metadata": {},
   "outputs": [],
   "source": [
    "Dy.plot_zeeman(\"1\")"
   ]
  }
 ],
 "metadata": {
  "kernelspec": {
   "display_name": "Python 3 (ipykernel)",
   "language": "python",
   "name": "python3"
  },
  "language_info": {
   "codemirror_mode": {
    "name": "ipython",
    "version": 3
   },
   "file_extension": ".py",
   "mimetype": "text/x-python",
   "name": "python",
   "nbconvert_exporter": "python",
   "pygments_lexer": "ipython3",
   "version": "3.11.9"
  }
 },
 "nbformat": 4,
 "nbformat_minor": 5
}
