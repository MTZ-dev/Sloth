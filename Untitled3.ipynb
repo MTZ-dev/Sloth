{
 "cells": [
  {
   "cell_type": "code",
   "execution_count": 1,
   "id": "481b2af0-ac85-4483-ab98-940894da6ae7",
   "metadata": {},
   "outputs": [
    {
     "name": "stdout",
     "output_type": "stream",
     "text": [
      "Cannot switch Qt versions for this session; you must use qt6.\n",
      "\u001b[34m                  ____  _       _   _     \u001b[33m____\n",
      "\u001b[34m                 / ___|| | ___ | |_| |__ \u001b[33m|  _ \\ _   _\n",
      "\u001b[34m                 \\___ \\| |/ _ \\| __| '_ \\\u001b[33m| |_) | | | |\n",
      "\u001b[34m                  ___) | | (_) | |_| | | \u001b[33m|  __/| |_| |\n",
      "\u001b[34m                 |____/|_|\\___/ \\__|_| |_\u001b[33m|_|    \\__, |\n",
      "                                                |___/\u001b[32m  by MTZ \n",
      "\u001b[0m\n",
      "SlothPy Copyright (C) 2023 Mikolaj Tadeusz Zychowicz (MTZ).\n",
      "This program comes with ABSOLUTELY NO WARRANTY.\n",
      "This is free software, and you are welcome to redistribute it.\n",
      "The default is chosen to omit the tracebacks completely. To change it use slt.set_default_error_reporting_mode() method for the printing of tracebacks.\n",
      "Turn on the SlothPy Monitor utility using slt.turn_on_monitor().\n"
     ]
    }
   ],
   "source": [
    "import slothpy as slt\n"
   ]
  },
  {
   "cell_type": "code",
   "execution_count": null,
   "id": "393bc08b-66b2-4d4c-92db-ddbfa009907f",
   "metadata": {},
   "outputs": [],
   "source": [
    "os.r"
   ]
  },
  {
   "cell_type": "code",
   "execution_count": 3,
   "id": "56eb45fb-d95f-4ba3-9e14-180ac9a8da00",
   "metadata": {},
   "outputs": [
    {
     "name": "stdout",
     "output_type": "stream",
     "text": [
      "Exception reporting mode: Context\n",
      "\u001b[34mProcesses\u001b[0m: 1, \u001b[35mThreads\u001b[0m: 4. Estimated execution time of the main loop: \u001b[32m153.70\u001b[0m s. The best time: \u001b[32m153.70\u001b[0m s.\n",
      "\u001b[34mProcesses\u001b[0m: 2, \u001b[35mThreads\u001b[0m: 2. Estimated execution time of the main loop: \u001b[31m153.93\u001b[0m s. The best time: \u001b[32m153.70\u001b[0m s.\n",
      "\u001b[34mProcesses\u001b[0m: 4, \u001b[35mThreads\u001b[0m: 1. Estimated execution time of the main loop: \u001b[32m94.53\u001b[0m s. The best time: \u001b[32m94.53\u001b[0m s.\n",
      "Job will run using\u001b[33m 4\u001b[0m logical\u001b[33m CPU(s)\u001b[0m with\u001b[34m 4\u001b[0m parallel\u001b[34m Processe(s)\u001b[0m each utilizing\u001b[35m 1 Thread(s)\u001b[0m.\n",
      "The calculation time (starting from now - [2024-10-20 20:16:39]) is estimated to take at least: \u001b[32m1 minute, 34.53 seconds\u001b[0m.\n",
      "\n",
      "SltProcessPool interrupted. Clearing and terminating...\n"
     ]
    },
    {
     "ename": "SystemExit",
     "evalue": "1",
     "output_type": "error",
     "traceback": [
      "An exception has occurred, use %tb to see the full traceback.\n",
      "\u001b[0;31mSystemExit\u001b[0m\u001b[0;31m:\u001b[0m 1\n"
     ]
    },
    {
     "name": "stderr",
     "output_type": "stream",
     "text": [
      "/home/beekeeper/Virtual/ENV3.12/lib/python3.12/site-packages/IPython/core/interactiveshell.py:3585: UserWarning: To exit: use 'exit', 'quit', or Ctrl-D.\n",
      "  warn(\"To exit: use 'exit', 'quit', or Ctrl-D.\", stacklevel=1)\n"
     ]
    }
   ],
   "source": [
    "import os\n",
    "import numpy as np\n",
    "if __name__ == \"__main__\":\n",
    "    os.remove(\"./Yb.slt\")\n",
    "    slt.set_default_error_reporting_mode()\n",
    "    Yb = slt.hamiltonian_from_orca(\"./Yb_test.out\", \"./Yb\", \"demo\", electric_dipole_momenta=True)\n",
    "    Yb.hamiltonian({0:[\"demo\", [14,12,6], None, [0,0,0], None], 1:[\"demo\", [14,12,6], None, [3,3,3], None], 2:[\"demo\", [14,12,6], None, [6,6,6], None]}, {(0,1):[[1,2,3],[1,2,3],[1,2,3]], (0,2):[[1,2,3],[1,2,3],[1,2,3]], (1,2):[[1,2,3],[1,2,3],[1,2,3]]}, \"demo_ex\", True)\n",
    "    zeeman = Yb.zeeman_splitting(\"demo_ex\", np.linspace(0,12,100), [[1,1,1], [2,2,2]], states_cutoff=[0, \"auto\"], number_of_states=14*14, number_cpu=4, number_threads=2, autotune=True)\n",
    "    #zeeman = Yb.zeeman_splitting(\"demo\", np.linspace(0,12,100), [[1,1,1], [2,2,2]], states_cutoff=[8, \"auto\"], number_of_states=8, number_cpu=6, number_threads=2)\n",
    "    slt.turn_on_monitor()\n",
    "    zeeman = zeeman.eval()\n",
    "\n",
    "    import matplotlib.pyplot as plt\n",
    "    plt.plot(np.linspace(0,12,100), zeeman[0])\n",
    "    plt.show()"
   ]
  }
 ],
 "metadata": {
  "kernelspec": {
   "display_name": "Python 3 (ipykernel)",
   "language": "python",
   "name": "python3"
  },
  "language_info": {
   "codemirror_mode": {
    "name": "ipython",
    "version": 3
   },
   "file_extension": ".py",
   "mimetype": "text/x-python",
   "name": "python",
   "nbconvert_exporter": "python",
   "pygments_lexer": "ipython3",
   "version": "3.12.0"
  }
 },
 "nbformat": 4,
 "nbformat_minor": 5
}
