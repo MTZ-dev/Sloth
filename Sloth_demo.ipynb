{
 "cells": [
  {
   "cell_type": "markdown",
   "id": "688d377a",
   "metadata": {},
   "source": [
    "Load Sloth"
   ]
  },
  {
   "cell_type": "code",
   "execution_count": 1,
   "id": "56f4bc51",
   "metadata": {},
   "outputs": [
    {
     "name": "stdout",
     "output_type": "stream",
     "text": [
      "Exception reporting mode: Plain\n"
     ]
    }
   ],
   "source": [
    "import slothpy as slt"
   ]
  },
  {
   "cell_type": "markdown",
   "id": "6788c6a0",
   "metadata": {},
   "source": [
    "Import additional packages"
   ]
  },
  {
   "cell_type": "code",
   "execution_count": 2,
   "id": "fdf11145",
   "metadata": {},
   "outputs": [],
   "source": [
    "import numpy as np\n",
    "import matplotlib.pyplot as plt"
   ]
  },
  {
   "cell_type": "markdown",
   "id": "1bc9c2bc",
   "metadata": {},
   "source": [
    "Create Compound from Orca output file"
   ]
  },
  {
   "cell_type": "code",
   "execution_count": 3,
   "id": "8efa9956",
   "metadata": {},
   "outputs": [],
   "source": [
    "DyCo = slt.compound_from_orca(\".\", \"DyCo_demo\", \"QZVPP\", \".\", \"DyCo_cif_cas_nevpt2_QZVPP.out\")"
   ]
  },
  {
   "cell_type": "markdown",
   "id": "693957b8",
   "metadata": {},
   "source": [
    "You can add different calculations"
   ]
  },
  {
   "cell_type": "code",
   "execution_count": 4,
   "id": "68a3ac2f",
   "metadata": {},
   "outputs": [],
   "source": [
    "DyCo = slt.compound_from_orca(\".\", \"DyCo_demo\", \"QZVPP_NEVPT2\", \".\", \"DyCo_cif_cas_nevpt2_QZVPP.out\", pt2 = True)"
   ]
  },
  {
   "cell_type": "markdown",
   "id": "d50ee98a",
   "metadata": {},
   "source": [
    "or add computations from different softwares etc."
   ]
  },
  {
   "cell_type": "code",
   "execution_count": 3,
   "id": "751d23ef",
   "metadata": {},
   "outputs": [
    {
     "name": "stdout",
     "output_type": "stream",
     "text": [
      "Failed to create a HDF5 file from the MOLCAS files or acces the exsiting one.\n"
     ]
    },
    {
     "ename": "Exception",
     "evalue": "Error encountered while trying to create Compound: ValueError: Unable to create group (name already exists)",
     "output_type": "error",
     "traceback": [
      "Traceback \u001b[0;36m(most recent call last)\u001b[0m:\n",
      "\u001b[0m  File \u001b[1;32m~/Sloth/Sloth/slothpy/core/creation_functions.py:50\u001b[0m in \u001b[1;35mcompound_from_molcas\u001b[0m\n    molcas_spin_orbit_to_slt(\u001b[0m\n",
      "\u001b[0m  File \u001b[1;32m~/Sloth/Sloth/slothpy/general_utilities/io.py:351\u001b[0m in \u001b[1;35mmolcas_spin_orbit_to_slt\u001b[0m\n    molcas = output.create_group(str(name))\u001b[0m\n",
      "\u001b[0m  File \u001b[1;32m~/VIRTUAL/ENV1/lib/python3.11/site-packages/h5py/_hl/group.py:64\u001b[0m in \u001b[1;35mcreate_group\u001b[0m\n    gid = h5g.create(self.id, name, lcpl=lcpl, gcpl=gcpl)\u001b[0m\n",
      "\u001b[0m  File \u001b[1;32mh5py/_objects.pyx:54\u001b[0m in \u001b[1;35mh5py._objects.with_phil.wrapper\u001b[0m\n",
      "\u001b[0m  File \u001b[1;32mh5py/_objects.pyx:55\u001b[0m in \u001b[1;35mh5py._objects.with_phil.wrapper\u001b[0m\n",
      "\u001b[0;36m  File \u001b[0;32mh5py/h5g.pyx:166\u001b[0;36m in \u001b[0;35mh5py.h5g.create\u001b[0;36m\n",
      "\u001b[0;31mValueError\u001b[0m\u001b[0;31m:\u001b[0m Unable to create group (name already exists)\n",
      "\nDuring handling of the above exception, another exception occurred:\n",
      "Traceback \u001b[0;36m(most recent call last)\u001b[0m:\n",
      "\u001b[0m  Cell \u001b[1;32mIn[3], line 1\u001b[0m\n    DyCo = slt.compound_from_molcas(\".\", \"DyCo_demo\", \"TVZP_MOLCAS\", \".\", \"DyCo_benchmark_aniso\")\u001b[0m\n",
      "\u001b[0;36m  File \u001b[0;32m~/Sloth/Sloth/slothpy/core/creation_functions.py:64\u001b[0;36m in \u001b[0;35mcompound_from_molcas\u001b[0;36m\n\u001b[0;31m    raise Exception(\u001b[0;36m\n",
      "\u001b[0;31mException\u001b[0m\u001b[0;31m:\u001b[0m Error encountered while trying to create Compound: ValueError: Unable to create group (name already exists)\n"
     ]
    }
   ],
   "source": [
    "DyCo = slt.compound_from_molcas(\".\", \"DyCo_demo\", \"TVZP_MOLCAS\", \".\", \"DyCo_benchmark_aniso\")"
   ]
  },
  {
   "cell_type": "markdown",
   "id": "a8d23539",
   "metadata": {},
   "source": [
    "The last option is to load from the existing .slt file to resume the work"
   ]
  },
  {
   "cell_type": "code",
   "execution_count": 4,
   "id": "05315194",
   "metadata": {},
   "outputs": [],
   "source": [
    "DyCo = slt.compound_from_slt(\".\", \"DyCo_demo\")"
   ]
  },
  {
   "cell_type": "markdown",
   "id": "a2bbdd5a",
   "metadata": {},
   "source": [
    "You can see what is inside the current file"
   ]
  },
  {
   "cell_type": "code",
   "execution_count": 5,
   "id": "940cbc77",
   "metadata": {},
   "outputs": [
    {
     "data": {
      "text/plain": [
       "\u001b[31mCompound \u001b[0mfrom \u001b[32mFile \u001b[0m\"./DyCo_demo.slt\" with the following \u001b[34mGroups \u001b[0mof data:\n",
       "\u001b[34mQZVPP\u001b[0m: {'Description': 'Group(QZVPP) containing results of relativistic SOC ORCA calculations - angular momenta and SOC matrix in CI basis'}\n",
       "\u001b[34mQZVPPPP_magnetisation\u001b[0m: {'Description': 'Group(QZVPPPP) containing M(T,H) magnetisation calculated from group: QZVPP.'}\n",
       "\u001b[34mQZVPPP_magnetisation\u001b[0m: {'Description': 'Group(QZVPPP) containing M(T,H) magnetisation calculated from group: QZVPP.'}\n",
       "\u001b[34mQZVPP_NEVPT2\u001b[0m: {'Description': 'Group(QZVPP_NEVPT2) containing results of relativistic SOC ORCA calculations - angular momenta and SOC matrix in CI basis'}\n",
       "\u001b[34mQZVPP_magnetisation\u001b[0m: {'Description': 'Group(QZVPP) containing M(T,H) magnetisation calculated from group: QZVPP.'}\n",
       "\u001b[34mTVZP_MOLCAS\u001b[0m: {'Description': 'Group(TVZP_MOLCAS) containing results of relativistic SOC MOLCAS calculations - angular momenta, spin in SOC basis and SOC energies'}\n",
       "and \u001b[35mDatasets\u001b[0m:\n",
       "\u001b[35mQZVPP/SF_LX\n",
       "\u001b[0m\u001b[35mQZVPP/SF_LY\n",
       "\u001b[0m\u001b[35mQZVPP/SF_LZ\n",
       "\u001b[0m\u001b[35mQZVPP/SF_SX\n",
       "\u001b[0m\u001b[35mQZVPP/SF_SY\n",
       "\u001b[0m\u001b[35mQZVPP/SF_SZ\n",
       "\u001b[0m\u001b[35mQZVPP/SOC\n",
       "\u001b[0m\u001b[35mQZVPPPP_magnetisation/QZVPPPP_fields\n",
       "\u001b[0m\u001b[35mQZVPPPP_magnetisation/QZVPPPP_mth\n",
       "\u001b[0m\u001b[35mQZVPPPP_magnetisation/QZVPPPP_temperatures\n",
       "\u001b[0m\u001b[35mQZVPPP_magnetisation/QZVPPP_fields\n",
       "\u001b[0m\u001b[35mQZVPPP_magnetisation/QZVPPP_mth\n",
       "\u001b[0m\u001b[35mQZVPPP_magnetisation/QZVPPP_temperatures\n",
       "\u001b[0m\u001b[35mQZVPP_NEVPT2/SF_LX\n",
       "\u001b[0m\u001b[35mQZVPP_NEVPT2/SF_LY\n",
       "\u001b[0m\u001b[35mQZVPP_NEVPT2/SF_LZ\n",
       "\u001b[0m\u001b[35mQZVPP_NEVPT2/SF_SX\n",
       "\u001b[0m\u001b[35mQZVPP_NEVPT2/SF_SY\n",
       "\u001b[0m\u001b[35mQZVPP_NEVPT2/SF_SZ\n",
       "\u001b[0m\u001b[35mQZVPP_NEVPT2/SOC\n",
       "\u001b[0m\u001b[35mQZVPP_magnetisation/QZVPP_fields\n",
       "\u001b[0m\u001b[35mQZVPP_magnetisation/QZVPP_mth\n",
       "\u001b[0m\u001b[35mQZVPP_magnetisation/QZVPP_temperatures\n",
       "\u001b[0m\u001b[35mTVZP_MOLCAS/SOC_LX\n",
       "\u001b[0m\u001b[35mTVZP_MOLCAS/SOC_LY\n",
       "\u001b[0m\u001b[35mTVZP_MOLCAS/SOC_LZ\n",
       "\u001b[0m\u001b[35mTVZP_MOLCAS/SOC_SX\n",
       "\u001b[0m\u001b[35mTVZP_MOLCAS/SOC_SY\n",
       "\u001b[0m\u001b[35mTVZP_MOLCAS/SOC_SZ\n",
       "\u001b[0m\u001b[35mTVZP_MOLCAS/SOC_energies\n",
       "\u001b[0m"
      ]
     },
     "execution_count": 5,
     "metadata": {},
     "output_type": "execute_result"
    }
   ],
   "source": [
    "DyCo"
   ]
  },
  {
   "cell_type": "markdown",
   "id": "98fd53fa",
   "metadata": {},
   "source": [
    "Now we can calculate the first properties. Lets start with molar magnetisation from a chosen group of data"
   ]
  },
  {
   "cell_type": "code",
   "execution_count": 6,
   "id": "3b08bcbd",
   "metadata": {},
   "outputs": [],
   "source": [
    "fields_mag = np.linspace(0.0001, 7, 64)\n",
    "temperatures_mag = np.linspace(1, 5, 5)"
   ]
  },
  {
   "cell_type": "code",
   "execution_count": 12,
   "id": "e20ed981",
   "metadata": {
    "scrolled": true
   },
   "outputs": [
    {
     "name": "stdout",
     "output_type": "stream",
     "text": [
      "CPU times: user 53 s, sys: 52.4 s, total: 1min 45s\n",
      "Wall time: 1min 10s\n"
     ]
    }
   ],
   "source": [
    "%%time\n",
    "magnetisation = DyCo.calculate_mth(\"QZVPP\", fields_mag, 5, temperatures_mag, 512, 124, 2, slt = \"QZVPPPPPPP\")"
   ]
  },
  {
   "cell_type": "code",
   "execution_count": 24,
   "id": "b7532f7c",
   "metadata": {},
   "outputs": [
    {
     "data": {
      "text/plain": [
       "array([[1.68363086e-03, 1.74611348e+00, 2.92383277e+00, 3.57678250e+00,\n",
       "        3.93256486e+00, 4.14062369e+00, 4.27498385e+00, 4.37068303e+00,\n",
       "        4.44477927e+00, 4.50602419e+00, 4.55917587e+00, 4.60696891e+00,\n",
       "        4.65105513e+00, 4.69247620e+00, 4.73191352e+00, 4.76982695e+00,\n",
       "        4.80653511e+00, 4.84226387e+00, 4.87717651e+00, 4.91139314e+00,\n",
       "        4.94500347e+00, 4.97807543e+00, 5.01066106e+00, 5.04280069e+00,\n",
       "        5.07452586e+00, 5.10586147e+00, 5.13682731e+00, 5.16743923e+00,\n",
       "        5.19771003e+00, 5.22765006e+00, 5.25726777e+00, 5.28657010e+00,\n",
       "        5.31556277e+00, 5.34425054e+00, 5.37263739e+00, 5.40072669e+00,\n",
       "        5.42852131e+00, 5.45602373e+00, 5.48323615e+00, 5.51016050e+00,\n",
       "        5.53679855e+00, 5.56315195e+00, 5.58922223e+00, 5.61501088e+00,\n",
       "        5.64051934e+00, 5.66574905e+00, 5.69070144e+00, 5.71537796e+00,\n",
       "        5.73978009e+00, 5.76390936e+00, 5.78776732e+00, 5.81135560e+00,\n",
       "        5.83467586e+00, 5.85772982e+00, 5.88051926e+00, 5.90304602e+00,\n",
       "        5.92531200e+00, 5.94731915e+00, 5.96906948e+00, 5.99056505e+00,\n",
       "        6.01180798e+00, 6.03280043e+00, 6.05354462e+00, 6.07404280e+00],\n",
       "       [8.57107357e-04, 9.40057349e-01, 1.77939404e+00, 2.46430115e+00,\n",
       "        2.99110775e+00, 3.38485907e+00, 3.67763620e+00, 3.89769137e+00,\n",
       "        4.06654354e+00, 4.19953086e+00, 4.30726894e+00, 4.39703233e+00,\n",
       "        4.47381106e+00, 4.54105328e+00, 4.60116797e+00, 4.65586023e+00,\n",
       "        4.70635394e+00, 4.75354024e+00, 4.79807723e+00, 4.84045759e+00,\n",
       "        4.88105497e+00, 4.92015623e+00, 4.95798410e+00, 4.99471336e+00,\n",
       "        5.03048247e+00, 5.06540215e+00, 5.09956164e+00, 5.13303344e+00,\n",
       "        5.16587687e+00, 5.19814081e+00, 5.22986578e+00, 5.26108560e+00,\n",
       "        5.29182865e+00, 5.32211892e+00, 5.35197679e+00, 5.38141966e+00,\n",
       "        5.41046255e+00, 5.43911842e+00, 5.46739860e+00, 5.49531304e+00,\n",
       "        5.52287053e+00, 5.55007890e+00, 5.57694521e+00, 5.60347583e+00,\n",
       "        5.62967658e+00, 5.65555282e+00, 5.68110952e+00, 5.70635132e+00,\n",
       "        5.73128259e+00, 5.75590748e+00, 5.78022996e+00, 5.80425382e+00,\n",
       "        5.82798273e+00, 5.85142025e+00, 5.87456986e+00, 5.89743496e+00,\n",
       "        5.92001887e+00, 5.94232489e+00, 5.96435625e+00, 5.98611616e+00,\n",
       "        6.00760779e+00, 6.02883429e+00, 6.04979880e+00, 6.07050442e+00],\n",
       "       [5.81599466e-04, 6.44845076e-01, 1.25718171e+00, 1.81307028e+00,\n",
       "        2.29915710e+00, 2.71268712e+00, 3.05833908e+00, 3.34466382e+00,\n",
       "        3.58137295e+00, 3.77773299e+00, 3.94182729e+00, 4.08035235e+00,\n",
       "        4.19868765e+00, 4.30107684e+00, 4.39083374e+00, 4.47053369e+00,\n",
       "        4.54217572e+00, 4.60731352e+00, 4.66715837e+00, 4.72265860e+00,\n",
       "        4.77456043e+00, 4.82345444e+00, 4.86981075e+00, 4.91400599e+00,\n",
       "        4.95634378e+00, 4.99707038e+00, 5.03638684e+00, 5.07445826e+00,\n",
       "        5.11142104e+00, 5.14738856e+00, 5.18245555e+00, 5.21670162e+00,\n",
       "        5.25019406e+00, 5.28298998e+00, 5.31513816e+00, 5.34668045e+00,\n",
       "        5.37765293e+00, 5.40808687e+00, 5.43800950e+00, 5.46744464e+00,\n",
       "        5.49641324e+00, 5.52493384e+00, 5.55302287e+00, 5.58069502e+00,\n",
       "        5.60796348e+00, 5.63484013e+00, 5.66133577e+00, 5.68746021e+00,\n",
       "        5.71322247e+00, 5.73863085e+00, 5.76369304e+00, 5.78841619e+00,\n",
       "        5.81280701e+00, 5.83687178e+00, 5.86061646e+00, 5.88404667e+00,\n",
       "        5.90716779e+00, 5.92998496e+00, 5.95250312e+00, 5.97472700e+00,\n",
       "        5.99666121e+00, 6.01831018e+00, 6.03967824e+00, 6.06076959e+00],\n",
       "       [4.43844267e-04, 4.93959889e-01, 9.73617403e-01, 1.42747008e+00,\n",
       "        1.84680067e+00, 2.22659984e+00, 2.56527412e+00, 2.86388674e+00,\n",
       "        3.12526064e+00, 3.35317201e+00, 3.55173805e+00, 3.72501036e+00,\n",
       "        3.87673970e+00, 4.01026410e+00, 4.12847689e+00, 4.23384133e+00,\n",
       "        4.32842927e+00, 4.41396931e+00, 4.49189637e+00, 4.56339813e+00,\n",
       "        4.62945639e+00, 4.69088270e+00, 4.74834852e+00, 4.80241032e+00,\n",
       "        4.85353024e+00, 4.90209313e+00, 4.94842040e+00, 4.99278132e+00,\n",
       "        5.03540228e+00, 5.07647427e+00, 5.11615898e+00, 5.15459385e+00,\n",
       "        5.19189612e+00, 5.22816618e+00, 5.26349032e+00, 5.29794301e+00,\n",
       "        5.33158875e+00, 5.36448364e+00, 5.39667664e+00, 5.42821068e+00,\n",
       "        5.45912350e+00, 5.48944847e+00, 5.51921516e+00, 5.54844991e+00,\n",
       "        5.57717624e+00, 5.60541529e+00, 5.63318608e+00, 5.66050585e+00,\n",
       "        5.68739023e+00, 5.71385349e+00, 5.73990870e+00, 5.76556787e+00,\n",
       "        5.79084209e+00, 5.81574164e+00, 5.84027608e+00, 5.86445433e+00,\n",
       "        5.88828477e+00, 5.91177527e+00, 5.93493324e+00, 5.95776573e+00,\n",
       "        5.98027942e+00, 6.00248067e+00, 6.02437556e+00, 6.04596993e+00],\n",
       "       [3.61181581e-04, 4.02639367e-01, 7.97720036e-01, 1.17905972e+00,\n",
       "        1.54127956e+00, 1.88046772e+00, 2.19424845e+00, 2.48165750e+00,\n",
       "        2.74289481e+00, 2.97902755e+00, 3.19170022e+00, 3.38288596e+00,\n",
       "        3.55469267e+00, 3.70922431e+00, 3.84848964e+00, 3.97434850e+00,\n",
       "        4.08848532e+00, 4.19240138e+00, 4.28741905e+00, 4.37469309e+00,\n",
       "        4.45522554e+00, 4.52988212e+00, 4.59940842e+00, 4.66444540e+00,\n",
       "        4.72554341e+00, 4.78317491e+00, 4.83774554e+00, 4.88960381e+00,\n",
       "        4.93904949e+00, 4.98634076e+00, 5.03170035e+00, 5.07532078e+00,\n",
       "        5.11736877e+00, 5.15798904e+00, 5.19730749e+00, 5.23543392e+00,\n",
       "        5.27246434e+00, 5.30848292e+00, 5.34356363e+00, 5.37777168e+00,\n",
       "        5.41116474e+00, 5.44379389e+00, 5.47570460e+00, 5.50693739e+00,\n",
       "        5.53752852e+00, 5.56751052e+00, 5.59691269e+00, 5.62576148e+00,\n",
       "        5.65408086e+00, 5.68189258e+00, 5.70921652e+00, 5.73607084e+00,\n",
       "        5.76247221e+00, 5.78843596e+00, 5.81397628e+00, 5.83910629e+00,\n",
       "        5.86383820e+00, 5.88818339e+00, 5.91215249e+00, 5.93575549e+00,\n",
       "        5.95900176e+00, 5.98190016e+00, 6.00445906e+00, 6.02668639e+00]])"
      ]
     },
     "execution_count": 24,
     "metadata": {},
     "output_type": "execute_result"
    }
   ],
   "source": [
    "magnetisation"
   ]
  },
  {
   "cell_type": "markdown",
   "id": "edde8007",
   "metadata": {},
   "source": [
    "You can delete a chosen group if you know its suffix in order to be able to use the same name again"
   ]
  },
  {
   "cell_type": "code",
   "execution_count": 14,
   "id": "7c759748",
   "metadata": {},
   "outputs": [
    {
     "data": {
      "text/plain": [
       "\u001b[31mCompound \u001b[0mfrom \u001b[32mFile \u001b[0m\"./DyCo_demo.slt\" with the following \u001b[34mGroups \u001b[0mof data:\n",
       "\u001b[34mQZVPP\u001b[0m: {'Description': 'Group(QZVPP) containing results of relativistic SOC ORCA calculations - angular momenta and SOC matrix in CI basis'}\n",
       "\u001b[34mQZVPPPP_magnetisation\u001b[0m: {'Description': 'Group(QZVPPPP) containing M(T,H) magnetisation calculated from group: QZVPP.'}\n",
       "\u001b[34mQZVPP_NEVPT2\u001b[0m: {'Description': 'Group(QZVPP_NEVPT2) containing results of relativistic SOC ORCA calculations - angular momenta and SOC matrix in CI basis'}\n",
       "\u001b[34mTVZP_MOLCAS\u001b[0m: {'Description': 'Group(TVZP_MOLCAS) containing results of relativistic SOC MOLCAS calculations - angular momenta, spin in SOC basis and SOC energies'}\n",
       "and \u001b[35mDatasets\u001b[0m:\n",
       "\u001b[35mQZVPP/SF_LX\n",
       "\u001b[0m\u001b[35mQZVPP/SF_LY\n",
       "\u001b[0m\u001b[35mQZVPP/SF_LZ\n",
       "\u001b[0m\u001b[35mQZVPP/SF_SX\n",
       "\u001b[0m\u001b[35mQZVPP/SF_SY\n",
       "\u001b[0m\u001b[35mQZVPP/SF_SZ\n",
       "\u001b[0m\u001b[35mQZVPP/SOC\n",
       "\u001b[0m\u001b[35mQZVPPPP_magnetisation/QZVPPPP_fields\n",
       "\u001b[0m\u001b[35mQZVPPPP_magnetisation/QZVPPPP_mth\n",
       "\u001b[0m\u001b[35mQZVPPPP_magnetisation/QZVPPPP_temperatures\n",
       "\u001b[0m\u001b[35mQZVPP_NEVPT2/SF_LX\n",
       "\u001b[0m\u001b[35mQZVPP_NEVPT2/SF_LY\n",
       "\u001b[0m\u001b[35mQZVPP_NEVPT2/SF_LZ\n",
       "\u001b[0m\u001b[35mQZVPP_NEVPT2/SF_SX\n",
       "\u001b[0m\u001b[35mQZVPP_NEVPT2/SF_SY\n",
       "\u001b[0m\u001b[35mQZVPP_NEVPT2/SF_SZ\n",
       "\u001b[0m\u001b[35mQZVPP_NEVPT2/SOC\n",
       "\u001b[0m\u001b[35mTVZP_MOLCAS/SOC_LX\n",
       "\u001b[0m\u001b[35mTVZP_MOLCAS/SOC_LY\n",
       "\u001b[0m\u001b[35mTVZP_MOLCAS/SOC_LZ\n",
       "\u001b[0m\u001b[35mTVZP_MOLCAS/SOC_SX\n",
       "\u001b[0m\u001b[35mTVZP_MOLCAS/SOC_SY\n",
       "\u001b[0m\u001b[35mTVZP_MOLCAS/SOC_SZ\n",
       "\u001b[0m\u001b[35mTVZP_MOLCAS/SOC_energies\n",
       "\u001b[0m"
      ]
     },
     "execution_count": 14,
     "metadata": {},
     "output_type": "execute_result"
    }
   ],
   "source": [
    "DyCo"
   ]
  },
  {
   "cell_type": "code",
   "execution_count": 20,
   "id": "f6d807a0",
   "metadata": {},
   "outputs": [],
   "source": [
    "DyCo.delete_group_dataset(\"QZVPP_magnetisation\")"
   ]
  },
  {
   "cell_type": "code",
   "execution_count": 16,
   "id": "f45c6b1d",
   "metadata": {
    "scrolled": true
   },
   "outputs": [
    {
     "data": {
      "text/plain": [
       "\u001b[31mCompound \u001b[0mfrom \u001b[32mFile \u001b[0m\"./DyCo_demo.slt\" with the following \u001b[34mGroups \u001b[0mof data:\n",
       "\u001b[34mQZVPP\u001b[0m: {'Description': 'Group(QZVPP) containing results of relativistic SOC ORCA calculations - angular momenta and SOC matrix in CI basis'}\n",
       "\u001b[34mQZVPP_NEVPT2\u001b[0m: {'Description': 'Group(QZVPP_NEVPT2) containing results of relativistic SOC ORCA calculations - angular momenta and SOC matrix in CI basis'}\n",
       "\u001b[34mTVZP_MOLCAS\u001b[0m: {'Description': 'Group(TVZP_MOLCAS) containing results of relativistic SOC MOLCAS calculations - angular momenta, spin in SOC basis and SOC energies'}\n",
       "and \u001b[35mDatasets\u001b[0m:\n",
       "\u001b[35mQZVPP/SF_LX\n",
       "\u001b[0m\u001b[35mQZVPP/SF_LY\n",
       "\u001b[0m\u001b[35mQZVPP/SF_LZ\n",
       "\u001b[0m\u001b[35mQZVPP/SF_SX\n",
       "\u001b[0m\u001b[35mQZVPP/SF_SY\n",
       "\u001b[0m\u001b[35mQZVPP/SF_SZ\n",
       "\u001b[0m\u001b[35mQZVPP/SOC\n",
       "\u001b[0m\u001b[35mQZVPP_NEVPT2/SF_LX\n",
       "\u001b[0m\u001b[35mQZVPP_NEVPT2/SF_LY\n",
       "\u001b[0m\u001b[35mQZVPP_NEVPT2/SF_LZ\n",
       "\u001b[0m\u001b[35mQZVPP_NEVPT2/SF_SX\n",
       "\u001b[0m\u001b[35mQZVPP_NEVPT2/SF_SY\n",
       "\u001b[0m\u001b[35mQZVPP_NEVPT2/SF_SZ\n",
       "\u001b[0m\u001b[35mQZVPP_NEVPT2/SOC\n",
       "\u001b[0m\u001b[35mTVZP_MOLCAS/SOC_LX\n",
       "\u001b[0m\u001b[35mTVZP_MOLCAS/SOC_LY\n",
       "\u001b[0m\u001b[35mTVZP_MOLCAS/SOC_LZ\n",
       "\u001b[0m\u001b[35mTVZP_MOLCAS/SOC_SX\n",
       "\u001b[0m\u001b[35mTVZP_MOLCAS/SOC_SY\n",
       "\u001b[0m\u001b[35mTVZP_MOLCAS/SOC_SZ\n",
       "\u001b[0m\u001b[35mTVZP_MOLCAS/SOC_energies\n",
       "\u001b[0m"
      ]
     },
     "execution_count": 16,
     "metadata": {},
     "output_type": "execute_result"
    }
   ],
   "source": [
    "DyCo"
   ]
  },
  {
   "cell_type": "markdown",
   "id": "1d4032d7",
   "metadata": {},
   "source": [
    "You can access data sets directly using custom interface similar to that for arrays"
   ]
  },
  {
   "cell_type": "code",
   "execution_count": 26,
   "id": "b2c25c74",
   "metadata": {},
   "outputs": [],
   "source": [
    "mth = DyCo[\"QZVPP_magnetisation\", \"QZVPP_mth\"]\n",
    "fields = DyCo[\"QZVPP_magnetisation\", \"QZVPP_fields\"]\n",
    "temperatures = DyCo[\"QZVPP_magnetisation\", \"QZVPP_temperatures\"]  "
   ]
  },
  {
   "cell_type": "markdown",
   "id": "0cf6f493",
   "metadata": {},
   "source": [
    "Now we can work using the data. Lets plot it!"
   ]
  },
  {
   "cell_type": "code",
   "execution_count": 28,
   "id": "5e82f201",
   "metadata": {
    "scrolled": false
   },
   "outputs": [
    {
     "ename": "KeyboardInterrupt",
     "evalue": "",
     "output_type": "error",
     "traceback": [
      "Traceback \u001b[0;36m(most recent call last)\u001b[0m:\n",
      "\u001b[0m  Cell \u001b[1;32mIn[28], line 3\u001b[0m\n    plt.show()\u001b[0m\n",
      "\u001b[0m  File \u001b[1;32m~/VIRTUAL/ENV1/lib/python3.11/site-packages/matplotlib/pyplot.py:446\u001b[0m in \u001b[1;35mshow\u001b[0m\n    return _get_backend_mod().show(*args, **kwargs)\u001b[0m\n",
      "\u001b[0m  File \u001b[1;32m~/VIRTUAL/ENV1/lib/python3.11/site-packages/matplotlib/backend_bases.py:3620\u001b[0m in \u001b[1;35mshow\u001b[0m\n    cls.mainloop()\u001b[0m\n",
      "\u001b[0m  File \u001b[1;32m~/VIRTUAL/ENV1/lib/python3.11/site-packages/matplotlib/backends/backend_qt.py:604\u001b[0m in \u001b[1;35mstart_main_loop\u001b[0m\n    with _maybe_allow_interrupt(qapp):\u001b[0m\n",
      "\u001b[0m  File \u001b[1;32m/usr/lib/python3.11/contextlib.py:144\u001b[0m in \u001b[1;35m__exit__\u001b[0m\n    next(self.gen)\u001b[0m\n",
      "\u001b[0;36m  File \u001b[0;32m~/VIRTUAL/ENV1/lib/python3.11/site-packages/matplotlib/backends/qt_compat.py:245\u001b[0;36m in \u001b[0;35m_maybe_allow_interrupt\u001b[0;36m\n\u001b[0;31m    old_sigint_handler(*handler_args)\u001b[0;36m\n",
      "\u001b[0;31mKeyboardInterrupt\u001b[0m\n"
     ]
    }
   ],
   "source": [
    "for mt in mth:\n",
    "    plt.plot(fields, mt)\n",
    "plt.show()"
   ]
  },
  {
   "cell_type": "markdown",
   "id": "d867b8a9",
   "metadata": {},
   "source": [
    "Or just use the prepared methods for plotting"
   ]
  },
  {
   "cell_type": "code",
   "execution_count": 29,
   "id": "8a2e2da6",
   "metadata": {
    "scrolled": false
   },
   "outputs": [
    {
     "ename": "KeyboardInterrupt",
     "evalue": "",
     "output_type": "error",
     "traceback": [
      "Traceback \u001b[0;36m(most recent call last)\u001b[0m:\n",
      "\u001b[0m  Cell \u001b[1;32mIn[29], line 1\u001b[0m\n    DyCo.plot_mth(\"QZVPP\")\u001b[0m\n",
      "\u001b[0m  File \u001b[1;32m~/Sloth/Sloth/slothpy/core/compound_object.py:4175\u001b[0m in \u001b[1;35mplot_mth\u001b[0m\n    plt.show()\u001b[0m\n",
      "\u001b[0m  File \u001b[1;32m~/VIRTUAL/ENV1/lib/python3.11/site-packages/matplotlib/pyplot.py:446\u001b[0m in \u001b[1;35mshow\u001b[0m\n    return _get_backend_mod().show(*args, **kwargs)\u001b[0m\n",
      "\u001b[0m  File \u001b[1;32m~/VIRTUAL/ENV1/lib/python3.11/site-packages/matplotlib/backend_bases.py:3620\u001b[0m in \u001b[1;35mshow\u001b[0m\n    cls.mainloop()\u001b[0m\n",
      "\u001b[0m  File \u001b[1;32m~/VIRTUAL/ENV1/lib/python3.11/site-packages/matplotlib/backends/backend_qt.py:604\u001b[0m in \u001b[1;35mstart_main_loop\u001b[0m\n    with _maybe_allow_interrupt(qapp):\u001b[0m\n",
      "\u001b[0m  File \u001b[1;32m/usr/lib/python3.11/contextlib.py:144\u001b[0m in \u001b[1;35m__exit__\u001b[0m\n    next(self.gen)\u001b[0m\n",
      "\u001b[0;36m  File \u001b[0;32m~/VIRTUAL/ENV1/lib/python3.11/site-packages/matplotlib/backends/qt_compat.py:245\u001b[0;36m in \u001b[0;35m_maybe_allow_interrupt\u001b[0;36m\n\u001b[0;31m    old_sigint_handler(*handler_args)\u001b[0;36m\n",
      "\u001b[0;31mKeyboardInterrupt\u001b[0m\n"
     ]
    }
   ],
   "source": [
    "DyCo.plot_mth(\"QZVPP\")"
   ]
  },
  {
   "cell_type": "markdown",
   "id": "3b718195",
   "metadata": {},
   "source": [
    "We can now do the same for susceptibility"
   ]
  },
  {
   "cell_type": "code",
   "execution_count": 30,
   "id": "4b08fef0",
   "metadata": {},
   "outputs": [],
   "source": [
    "fields_chi = np.linspace(0.1, 3.1, 3)\n",
    "temperatures_chi = np.linspace(1, 300, 300)"
   ]
  },
  {
   "cell_type": "code",
   "execution_count": 31,
   "id": "128c2170",
   "metadata": {},
   "outputs": [
    {
     "ename": "SltInputError",
     "evalue": "\u001b[31m\nSlothInputError\u001b[0m, \u001b[33mValueError\u001b[0m: The list of temperatures has to be a 1D array. \n",
     "output_type": "error",
     "traceback": [
      "Traceback \u001b[0;36m(most recent call last)\u001b[0m:\n",
      "\u001b[0m  File \u001b[1;32m<timed exec>:1\u001b[0m\n",
      "\u001b[0;36m  File \u001b[0;32m~/Sloth/Sloth/slothpy/core/compound_object.py:1167\u001b[0;36m in \u001b[0;35mcalculate_chitht\u001b[0;36m\n\u001b[0;31m    raise SltInputError(\u001b[0;36m\n",
      "\u001b[0;31mSltInputError\u001b[0m\u001b[0;31m:\u001b[0m \u001b[31m\nSlothInputError\u001b[0m, \u001b[33mValueError\u001b[0m: The list of temperatures has to be a 1D array. \n\n"
     ]
    }
   ],
   "source": [
    "%%time\n",
    "chitht = DyCo.calculate_chitht(\"QZVPP\", 1024, temperatures_chi, fields_chi, 3, 0.0001, 64, 2, slt = \"QZVPP\")"
   ]
  },
  {
   "cell_type": "code",
   "execution_count": null,
   "id": "18d35596",
   "metadata": {},
   "outputs": [],
   "source": [
    "for chith in chitht:\n",
    "    plt.plot(temperatures_chi, chith)"
   ]
  },
  {
   "cell_type": "code",
   "execution_count": null,
   "id": "a277ea8b",
   "metadata": {
    "scrolled": true
   },
   "outputs": [],
   "source": [
    "DyCo.plot_chitht(\"QZVPP\")"
   ]
  },
  {
   "cell_type": "markdown",
   "id": "6503e5e7",
   "metadata": {},
   "source": [
    "To obtain energies of spin-orbit states you can run:"
   ]
  },
  {
   "cell_type": "code",
   "execution_count": null,
   "id": "1e66acf0",
   "metadata": {},
   "outputs": [],
   "source": [
    "DyCo.soc_energies_cm_1(\"QZVPP\", 16)"
   ]
  },
  {
   "cell_type": "markdown",
   "id": "0a279f7b",
   "metadata": {},
   "source": [
    "You can look at the Zeeman splitting for various directions of the applied magnetic field or powder-average"
   ]
  },
  {
   "cell_type": "code",
   "execution_count": null,
   "id": "fb5569c5",
   "metadata": {},
   "outputs": [],
   "source": [
    "fields_zeem = np.linspace(0, 7, 64)"
   ]
  },
  {
   "cell_type": "code",
   "execution_count": null,
   "id": "c2071939",
   "metadata": {},
   "outputs": [],
   "source": [
    "zeeman = DyCo.calculate_zeeman_splitting(\"QZVPP\", 256, 8, fields_zeem, [[0.,0.,1.], [0., 1., 0.], [1.,0.,1.]], 64, 2, slt = \"QZVPP\")"
   ]
  },
  {
   "cell_type": "code",
   "execution_count": null,
   "id": "19db82bb",
   "metadata": {},
   "outputs": [],
   "source": [
    "DyCo.plot_zeeman(\"QZVPP\")"
   ]
  },
  {
   "cell_type": "markdown",
   "id": "e6c9d1b3",
   "metadata": {},
   "source": [
    "There is an option to calculate pseudo-g-tensors for doublet states together with rotation matrices to the framework of main magnetic axes that can be used in many functions to rotate magnetic and angular momenta."
   ]
  },
  {
   "cell_type": "code",
   "execution_count": null,
   "id": "486925a8",
   "metadata": {},
   "outputs": [],
   "source": [
    "g_tensor, axes = DyCo.calculate_g_tensor_and_axes_doublet(\"QZVPP_NEVPT2\", [0,1,2,3], slt = \"QZVPPP\")"
   ]
  },
  {
   "cell_type": "code",
   "execution_count": null,
   "id": "c8f6d687",
   "metadata": {},
   "outputs": [],
   "source": [
    "g_tensor"
   ]
  },
  {
   "cell_type": "code",
   "execution_count": null,
   "id": "a7cb7aee",
   "metadata": {},
   "outputs": [],
   "source": [
    "axes"
   ]
  },
  {
   "cell_type": "markdown",
   "id": "28d0dae9",
   "metadata": {},
   "source": [
    "New features include various properties (magnetisation, susceptibility, Hemholtz energy) calculated for their angular dependence and visualised in 3D plots"
   ]
  },
  {
   "cell_type": "code",
   "execution_count": null,
   "id": "82bbd2f1",
   "metadata": {},
   "outputs": [],
   "source": [
    "%%time\n",
    "mag_3d = DyCo.calculate_mag_3d(\"QZVPP\", 256, [1.], 100, [2.], 64, 2, slt = \"QZVPP\")"
   ]
  },
  {
   "cell_type": "code",
   "execution_count": null,
   "id": "2c3487df",
   "metadata": {
    "scrolled": true
   },
   "outputs": [],
   "source": [
    "%matplotlib widget\n",
    "DyCo.plot_mag_3d(\"QZVPP\", colour_map_name=\"dark_rainbow\", r_density = 45, c_density = 45,  ticks=2)"
   ]
  },
  {
   "cell_type": "code",
   "execution_count": null,
   "id": "52840aba",
   "metadata": {},
   "outputs": [],
   "source": [
    "%%time\n",
    "DyCo.animate_energy_3d(\"QZVPP\", 64, [0.1], 100, 1, 30, 180, 64, 2, ticks = 10, r_density = 90, c_density = 90, fps = 20, filename = \"DyCo_energy_3d\")"
   ]
  },
  {
   "cell_type": "code",
   "execution_count": null,
   "id": "6abe1c34",
   "metadata": {
    "scrolled": true
   },
   "outputs": [],
   "source": [
    "%%time\n",
    "DyCo.animate_mag_3d(\"QZVPP\", 64, [0.1], 100, 1, 30, 180, 64, 2, ticks = 10, r_density = 90, c_density = 90, fps = 20, filename = \"DyCo_mag_3d\")"
   ]
  },
  {
   "cell_type": "markdown",
   "id": "31f6640e",
   "metadata": {},
   "source": [
    "We can get a decomposition of SO-states in pseudo-spin basis of total angular or magnetic momenta with the frame rotation to the main magnetic axis of the ground doublet"
   ]
  },
  {
   "cell_type": "code",
   "execution_count": null,
   "id": "0560aa99",
   "metadata": {
    "scrolled": true
   },
   "outputs": [],
   "source": [
    "DyCo.decomposition_in_z_total_angular_momentum_basis(\"TVZP_MOLCAS\", 0, 15, rotation = np.array([[ 9.99993456e-01, -3.20017155e-03, -1.68724195e-03],\n",
    "        [ 3.20053868e-03,  9.99994855e-01,  2.14937173e-04],\n",
    "        [ 1.68654543e-03, -2.20335849e-04,  9.99998554e-01]]), slt = \"QZVPPP\")"
   ]
  },
  {
   "cell_type": "code",
   "execution_count": null,
   "id": "58ae5b40",
   "metadata": {},
   "outputs": [],
   "source": [
    "DyCo.decomposition_in_z_magnetic_momentum_basis(\"QZVPP\", 0, 15, rotation = np.array([[ 9.99993456e-01, -3.20017155e-03, -1.68724195e-03],\n",
    "        [ 3.20053868e-03,  9.99994855e-01,  2.14937173e-04],\n",
    "        [ 1.68654543e-03, -2.20335849e-04,  9.99998554e-01]]), slt = \"QZVPP\")"
   ]
  },
  {
   "cell_type": "markdown",
   "id": "a6849cd9",
   "metadata": {},
   "source": [
    "Lets get now SOC and Zeeman matrices in pseudo-spin basis"
   ]
  },
  {
   "cell_type": "code",
   "execution_count": null,
   "id": "bb4f427f",
   "metadata": {},
   "outputs": [],
   "source": [
    "soc_matrix = DyCo.soc_zeem_in_angular_magnetic_momentum_basis(\"QZVPP\", 0, 15, \"soc\", \"angular\", rotation = np.array([[ 9.99993456e-01, -3.20017155e-03, -1.68724195e-03],\n",
    "        [ 3.20053868e-03,  9.99994855e-01,  2.14937173e-04],\n",
    "        [ 1.68654543e-03, -2.20335849e-04,  9.99998554e-01]]))"
   ]
  },
  {
   "cell_type": "code",
   "execution_count": null,
   "id": "14fdeca5",
   "metadata": {},
   "outputs": [],
   "source": [
    "zeeman_matrix = DyCo.soc_zeem_in_angular_magnetic_momentum_basis(\"QZVPP\", 0, 15, \"zeeman\", \"angular\", field=1, orientation=np.array([0.,0.,1.]), rotation = np.array([[ 9.99993456e-01, -3.20017155e-03, -1.68724195e-03],\n",
    "        [ 3.20053868e-03,  9.99994855e-01,  2.14937173e-04],\n",
    "        [ 1.68654543e-03, -2.20335849e-04,  9.99998554e-01]]))"
   ]
  },
  {
   "cell_type": "markdown",
   "id": "9baa9a07",
   "metadata": {},
   "source": [
    "and ITO-decompose them (show both even and odd order)"
   ]
  },
  {
   "cell_type": "code",
   "execution_count": null,
   "id": "d00afd08",
   "metadata": {
    "scrolled": true
   },
   "outputs": [],
   "source": [
    "cfp = DyCo.soc_crystal_field_parameters(\"QZVPP\", 0, 15, 14, slt = \"QZVPPPPPP\")\n",
    "\n",
    "cfp_cm_1 = np.array(cfp)\n",
    "\n",
    "for i in range(cfp_cm_1 .shape[0]):\n",
    "    cfp_cm_1 [i,2] = cfp_cm_1 [i,2] * 219474.6\n",
    "    \n",
    "cfp_cm_1"
   ]
  },
  {
   "cell_type": "code",
   "execution_count": null,
   "id": "ac705e90",
   "metadata": {},
   "outputs": [],
   "source": [
    "cfp = DyCo.soc_crystal_field_parameters(\"QZVPP\", 0, 15, 14, slt = \"QZVPPPPPPP\", rotation = np.array([[ 0., 1., 0.],\n",
    "        [ 1.,  0.,  0.],\n",
    "        [ 0., 0.,  1.]]))\n",
    "\n",
    "cfp_cm_1 = np.array(cfp)\n",
    "\n",
    "for i in range(cfp_cm_1 .shape[0]):\n",
    "    cfp_cm_1 [i,2] = cfp_cm_1 [i,2] * 219474.6\n",
    "    \n",
    "cfp_cm_1"
   ]
  },
  {
   "cell_type": "code",
   "execution_count": null,
   "id": "3520bcfd",
   "metadata": {},
   "outputs": [],
   "source": [
    "ito_soc_matrix = DyCo.matrix_from_ito(\"QZVPPP\")"
   ]
  },
  {
   "cell_type": "code",
   "execution_count": null,
   "id": "c071dc5c",
   "metadata": {},
   "outputs": [],
   "source": [
    "DyCo.soc_energies_cm_1(\"QZVPP\", 16)"
   ]
  },
  {
   "cell_type": "code",
   "execution_count": null,
   "id": "27d948c5",
   "metadata": {
    "scrolled": false
   },
   "outputs": [],
   "source": [
    "energies, eigenvectors = np.linalg.eigh(ito_soc_matrix)\n",
    "energies * 219474.6"
   ]
  },
  {
   "cell_type": "markdown",
   "id": "578b3950",
   "metadata": {},
   "source": [
    "Note: without fixing the phase convention of pseudo-spin eigenstates even order was failing!"
   ]
  },
  {
   "cell_type": "code",
   "execution_count": 11,
   "id": "957b7638",
   "metadata": {},
   "outputs": [],
   "source": [
    "ito = DyCo.zeeman_matrix_ito_decpomosition(\"QZVPP\", 0, 15, 1, np.array([0.,1.,0.]), 15)"
   ]
  },
  {
   "cell_type": "code",
   "execution_count": 12,
   "id": "5398102e",
   "metadata": {},
   "outputs": [
    {
     "data": {
      "text/plain": [
       "array([[ 0.00000000e+00,  0.00000000e+00,  2.57855615e+02],\n",
       "       [ 1.00000000e+00, -1.00000000e+00,  8.75411658e-01],\n",
       "       [ 1.00000000e+00,  0.00000000e+00, -5.22707456e-07],\n",
       "       [ 1.00000000e+00,  1.00000000e+00, -2.76993390e-06],\n",
       "       [ 2.00000000e+00, -2.00000000e+00, -6.86808399e-04],\n",
       "       [ 2.00000000e+00, -1.00000000e+00, -1.74166084e-03],\n",
       "       [ 2.00000000e+00,  0.00000000e+00, -8.19783796e+00],\n",
       "       [ 2.00000000e+00,  1.00000000e+00,  2.86822953e-03],\n",
       "       [ 2.00000000e+00,  2.00000000e+00, -8.32356305e-03],\n",
       "       [ 3.00000000e+00, -3.00000000e+00, -1.07288619e-05],\n",
       "       [ 3.00000000e+00, -2.00000000e+00,  6.17710702e-08],\n",
       "       [ 3.00000000e+00, -1.00000000e+00,  4.57246508e-05],\n",
       "       [ 3.00000000e+00,  0.00000000e+00,  2.57471927e-08],\n",
       "       [ 3.00000000e+00,  1.00000000e+00, -1.02017931e-08],\n",
       "       [ 3.00000000e+00,  2.00000000e+00,  3.01031037e-08],\n",
       "       [ 3.00000000e+00,  3.00000000e+00,  1.48089310e-08],\n",
       "       [ 4.00000000e+00, -4.00000000e+00,  3.92418392e-05],\n",
       "       [ 4.00000000e+00, -3.00000000e+00, -2.71094326e-05],\n",
       "       [ 4.00000000e+00, -2.00000000e+00, -2.04303959e-05],\n",
       "       [ 4.00000000e+00, -1.00000000e+00,  6.80227946e-05],\n",
       "       [ 4.00000000e+00,  0.00000000e+00,  1.52732298e-01],\n",
       "       [ 4.00000000e+00,  1.00000000e+00, -4.60295864e-05],\n",
       "       [ 4.00000000e+00,  2.00000000e+00, -2.15949949e-04],\n",
       "       [ 4.00000000e+00,  3.00000000e+00, -1.12972443e-04],\n",
       "       [ 4.00000000e+00,  4.00000000e+00,  2.18044226e-02],\n",
       "       [ 5.00000000e+00, -5.00000000e+00, -9.49393020e-08],\n",
       "       [ 5.00000000e+00, -4.00000000e+00,  3.95649731e-09],\n",
       "       [ 5.00000000e+00, -3.00000000e+00, -9.60887798e-08],\n",
       "       [ 5.00000000e+00, -2.00000000e+00,  4.32938294e-10],\n",
       "       [ 5.00000000e+00, -1.00000000e+00, -4.18864620e-06],\n",
       "       [ 5.00000000e+00,  0.00000000e+00,  6.73144179e-10],\n",
       "       [ 5.00000000e+00,  1.00000000e+00,  1.14085518e-09],\n",
       "       [ 5.00000000e+00,  2.00000000e+00,  2.71502156e-09],\n",
       "       [ 5.00000000e+00,  3.00000000e+00, -8.08028811e-10],\n",
       "       [ 5.00000000e+00,  4.00000000e+00, -3.21381270e-10],\n",
       "       [ 5.00000000e+00,  5.00000000e+00,  1.39415913e-09],\n",
       "       [ 6.00000000e+00, -6.00000000e+00, -2.45692714e-07],\n",
       "       [ 6.00000000e+00, -5.00000000e+00,  2.76704828e-06],\n",
       "       [ 6.00000000e+00, -4.00000000e+00,  9.31069604e-08],\n",
       "       [ 6.00000000e+00, -3.00000000e+00,  4.00522279e-06],\n",
       "       [ 6.00000000e+00, -2.00000000e+00,  1.44288668e-06],\n",
       "       [ 6.00000000e+00, -1.00000000e+00,  1.50444896e-07],\n",
       "       [ 6.00000000e+00,  0.00000000e+00,  3.40288122e-04],\n",
       "       [ 6.00000000e+00,  1.00000000e+00, -3.02681340e-06],\n",
       "       [ 6.00000000e+00,  2.00000000e+00, -5.44363451e-06],\n",
       "       [ 6.00000000e+00,  3.00000000e+00,  3.51251546e-06],\n",
       "       [ 6.00000000e+00,  4.00000000e+00, -2.94625670e-06],\n",
       "       [ 6.00000000e+00,  5.00000000e+00,  2.08920503e-06],\n",
       "       [ 6.00000000e+00,  6.00000000e+00, -6.49281711e-04],\n",
       "       [ 7.00000000e+00, -7.00000000e+00,  4.51608190e-08],\n",
       "       [ 7.00000000e+00, -6.00000000e+00, -1.36683816e-11],\n",
       "       [ 7.00000000e+00, -5.00000000e+00,  3.41495014e-09],\n",
       "       [ 7.00000000e+00, -4.00000000e+00, -8.26512984e-11],\n",
       "       [ 7.00000000e+00, -3.00000000e+00,  8.55379214e-09],\n",
       "       [ 7.00000000e+00, -2.00000000e+00, -3.25980324e-11],\n",
       "       [ 7.00000000e+00, -1.00000000e+00, -9.60776739e-09],\n",
       "       [ 7.00000000e+00,  0.00000000e+00,  6.99408955e-11],\n",
       "       [ 7.00000000e+00,  1.00000000e+00, -2.74333586e-11],\n",
       "       [ 7.00000000e+00,  2.00000000e+00,  4.58179949e-11],\n",
       "       [ 7.00000000e+00,  3.00000000e+00, -4.57653757e-11],\n",
       "       [ 7.00000000e+00,  4.00000000e+00,  7.06839077e-11],\n",
       "       [ 7.00000000e+00,  5.00000000e+00, -8.36246361e-11],\n",
       "       [ 7.00000000e+00,  6.00000000e+00,  6.49717487e-11],\n",
       "       [ 7.00000000e+00,  7.00000000e+00, -9.85858877e-12],\n",
       "       [ 8.00000000e+00, -8.00000000e+00,  7.65486541e-08],\n",
       "       [ 8.00000000e+00, -7.00000000e+00,  5.35055300e-08],\n",
       "       [ 8.00000000e+00, -6.00000000e+00, -1.93937134e-08],\n",
       "       [ 8.00000000e+00, -5.00000000e+00,  8.20380240e-09],\n",
       "       [ 8.00000000e+00, -4.00000000e+00, -4.39901716e-08],\n",
       "       [ 8.00000000e+00, -3.00000000e+00,  1.71300648e-08],\n",
       "       [ 8.00000000e+00, -2.00000000e+00, -2.84199107e-08],\n",
       "       [ 8.00000000e+00, -1.00000000e+00, -3.30873347e-08],\n",
       "       [ 8.00000000e+00,  0.00000000e+00, -2.30717123e-05],\n",
       "       [ 8.00000000e+00,  1.00000000e+00,  1.01954016e-07],\n",
       "       [ 8.00000000e+00,  2.00000000e+00, -5.37139232e-08],\n",
       "       [ 8.00000000e+00,  3.00000000e+00,  2.84532516e-09],\n",
       "       [ 8.00000000e+00,  4.00000000e+00, -1.91168630e-05],\n",
       "       [ 8.00000000e+00,  5.00000000e+00, -2.09401673e-08],\n",
       "       [ 8.00000000e+00,  6.00000000e+00,  1.95023708e-06],\n",
       "       [ 8.00000000e+00,  7.00000000e+00,  4.53758147e-08],\n",
       "       [ 8.00000000e+00,  8.00000000e+00, -3.47630431e-05],\n",
       "       [ 9.00000000e+00, -9.00000000e+00,  2.13726098e-09],\n",
       "       [ 9.00000000e+00, -8.00000000e+00, -1.27576972e-12],\n",
       "       [ 9.00000000e+00, -7.00000000e+00,  2.40664882e-10],\n",
       "       [ 9.00000000e+00, -6.00000000e+00,  3.71481805e-12],\n",
       "       [ 9.00000000e+00, -5.00000000e+00,  1.15468162e-09],\n",
       "       [ 9.00000000e+00, -4.00000000e+00,  4.63099570e-12],\n",
       "       [ 9.00000000e+00, -3.00000000e+00,  4.19888419e-10],\n",
       "       [ 9.00000000e+00, -2.00000000e+00,  8.32952943e-13],\n",
       "       [ 9.00000000e+00, -1.00000000e+00,  1.92353393e-09],\n",
       "       [ 9.00000000e+00,  0.00000000e+00,  1.66644057e-12],\n",
       "       [ 9.00000000e+00,  1.00000000e+00,  5.41089285e-13],\n",
       "       [ 9.00000000e+00,  2.00000000e+00, -1.68542115e-12],\n",
       "       [ 9.00000000e+00,  3.00000000e+00, -1.36972973e-12],\n",
       "       [ 9.00000000e+00,  4.00000000e+00, -2.70293570e-12],\n",
       "       [ 9.00000000e+00,  5.00000000e+00,  1.08299848e-12],\n",
       "       [ 9.00000000e+00,  6.00000000e+00,  1.58574203e-12],\n",
       "       [ 9.00000000e+00,  7.00000000e+00, -8.18833486e-13],\n",
       "       [ 9.00000000e+00,  8.00000000e+00,  7.97198785e-13],\n",
       "       [ 9.00000000e+00,  9.00000000e+00,  3.52443887e-12],\n",
       "       [ 1.00000000e+01, -1.00000000e+01, -9.34705904e-11],\n",
       "       [ 1.00000000e+01, -9.00000000e+00,  1.86836712e-09],\n",
       "       [ 1.00000000e+01, -8.00000000e+00,  2.79628780e-09],\n",
       "       [ 1.00000000e+01, -7.00000000e+00, -1.74132305e-09],\n",
       "       [ 1.00000000e+01, -6.00000000e+00,  1.69277582e-09],\n",
       "       [ 1.00000000e+01, -5.00000000e+00, -2.00478217e-10],\n",
       "       [ 1.00000000e+01, -4.00000000e+00, -7.99489566e-10],\n",
       "       [ 1.00000000e+01, -3.00000000e+00, -1.33343570e-09],\n",
       "       [ 1.00000000e+01, -2.00000000e+00, -1.58676892e-09],\n",
       "       [ 1.00000000e+01, -1.00000000e+00,  2.77920256e-09],\n",
       "       [ 1.00000000e+01,  0.00000000e+00,  1.06024608e-07],\n",
       "       [ 1.00000000e+01,  1.00000000e+00, -9.05979642e-09],\n",
       "       [ 1.00000000e+01,  2.00000000e+00, -5.88110908e-09],\n",
       "       [ 1.00000000e+01,  3.00000000e+00, -1.04745980e-08],\n",
       "       [ 1.00000000e+01,  4.00000000e+00,  4.12111333e-08],\n",
       "       [ 1.00000000e+01,  5.00000000e+00, -2.08562411e-09],\n",
       "       [ 1.00000000e+01,  6.00000000e+00, -2.53459386e-08],\n",
       "       [ 1.00000000e+01,  7.00000000e+00, -1.27526458e-09],\n",
       "       [ 1.00000000e+01,  8.00000000e+00,  2.50511497e-08],\n",
       "       [ 1.00000000e+01,  9.00000000e+00, -2.25220885e-09],\n",
       "       [ 1.00000000e+01,  1.00000000e+01, -6.33576540e-09],\n",
       "       [ 1.10000000e+01, -1.10000000e+01, -1.19214368e-13],\n",
       "       [ 1.10000000e+01, -1.00000000e+01,  8.19246487e-14],\n",
       "       [ 1.10000000e+01, -9.00000000e+00,  1.33123726e-11],\n",
       "       [ 1.10000000e+01, -8.00000000e+00,  9.43258918e-14],\n",
       "       [ 1.10000000e+01, -7.00000000e+00, -1.71954618e-12],\n",
       "       [ 1.10000000e+01, -6.00000000e+00,  5.21383704e-14],\n",
       "       [ 1.10000000e+01, -5.00000000e+00,  5.76667288e-12],\n",
       "       [ 1.10000000e+01, -4.00000000e+00, -6.41147152e-14],\n",
       "       [ 1.10000000e+01, -3.00000000e+00, -5.35973463e-12],\n",
       "       [ 1.10000000e+01, -2.00000000e+00, -8.16942552e-15],\n",
       "       [ 1.10000000e+01, -1.00000000e+00, -1.95718352e-11],\n",
       "       [ 1.10000000e+01,  0.00000000e+00,  1.98641220e-13],\n",
       "       [ 1.10000000e+01,  1.00000000e+00, -3.43856972e-14],\n",
       "       [ 1.10000000e+01,  2.00000000e+00, -8.28973311e-14],\n",
       "       [ 1.10000000e+01,  3.00000000e+00, -2.96697539e-14],\n",
       "       [ 1.10000000e+01,  4.00000000e+00,  1.46533381e-14],\n",
       "       [ 1.10000000e+01,  5.00000000e+00, -1.62816128e-13],\n",
       "       [ 1.10000000e+01,  6.00000000e+00, -1.28898024e-13],\n",
       "       [ 1.10000000e+01,  7.00000000e+00, -5.77011961e-14],\n",
       "       [ 1.10000000e+01,  8.00000000e+00, -2.08965628e-13],\n",
       "       [ 1.10000000e+01,  9.00000000e+00,  2.44516251e-13],\n",
       "       [ 1.10000000e+01,  1.00000000e+01,  2.23086227e-13],\n",
       "       [ 1.10000000e+01,  1.10000000e+01, -1.34603368e-14],\n",
       "       [ 1.20000000e+01, -1.20000000e+01, -1.90046010e-12],\n",
       "       [ 1.20000000e+01, -1.10000000e+01,  2.84112429e-11],\n",
       "       [ 1.20000000e+01, -1.00000000e+01,  1.48604651e-11],\n",
       "       [ 1.20000000e+01, -9.00000000e+00,  8.56063303e-11],\n",
       "       [ 1.20000000e+01, -8.00000000e+00, -1.54244502e-11],\n",
       "       [ 1.20000000e+01, -7.00000000e+00, -1.66019196e-10],\n",
       "       [ 1.20000000e+01, -6.00000000e+00, -7.21970074e-11],\n",
       "       [ 1.20000000e+01, -5.00000000e+00,  1.62352488e-10],\n",
       "       [ 1.20000000e+01, -4.00000000e+00,  8.79437046e-11],\n",
       "       [ 1.20000000e+01, -3.00000000e+00,  1.53437877e-10],\n",
       "       [ 1.20000000e+01, -2.00000000e+00,  6.72868685e-11],\n",
       "       [ 1.20000000e+01, -1.00000000e+00,  1.58778651e-10],\n",
       "       [ 1.20000000e+01,  0.00000000e+00, -2.78633724e-09],\n",
       "       [ 1.20000000e+01,  1.00000000e+00, -5.85358560e-10],\n",
       "       [ 1.20000000e+01,  2.00000000e+00, -1.09203806e-10],\n",
       "       [ 1.20000000e+01,  3.00000000e+00, -1.53972642e-10],\n",
       "       [ 1.20000000e+01,  4.00000000e+00, -7.56586768e-10],\n",
       "       [ 1.20000000e+01,  5.00000000e+00,  7.78985408e-10],\n",
       "       [ 1.20000000e+01,  6.00000000e+00,  5.14264024e-10],\n",
       "       [ 1.20000000e+01,  7.00000000e+00,  2.34411997e-11],\n",
       "       [ 1.20000000e+01,  8.00000000e+00, -8.37180572e-10],\n",
       "       [ 1.20000000e+01,  9.00000000e+00, -2.24735837e-10],\n",
       "       [ 1.20000000e+01,  1.00000000e+01,  1.74456358e-10],\n",
       "       [ 1.20000000e+01,  1.10000000e+01,  7.50598254e-11],\n",
       "       [ 1.20000000e+01,  1.20000000e+01, -2.49569437e-10],\n",
       "       [ 1.30000000e+01, -1.30000000e+01, -7.80916199e-15],\n",
       "       [ 1.30000000e+01, -1.20000000e+01, -4.86766004e-15],\n",
       "       [ 1.30000000e+01, -1.10000000e+01, -2.07091599e-14],\n",
       "       [ 1.30000000e+01, -1.00000000e+01,  7.85131605e-15],\n",
       "       [ 1.30000000e+01, -9.00000000e+00, -2.06209364e-13],\n",
       "       [ 1.30000000e+01, -8.00000000e+00, -4.47964527e-16],\n",
       "       [ 1.30000000e+01, -7.00000000e+00, -3.31119595e-15],\n",
       "       [ 1.30000000e+01, -6.00000000e+00, -5.99660012e-15],\n",
       "       [ 1.30000000e+01, -5.00000000e+00,  1.92549185e-13],\n",
       "       [ 1.30000000e+01, -4.00000000e+00, -3.54621562e-16],\n",
       "       [ 1.30000000e+01, -3.00000000e+00,  3.82446532e-14],\n",
       "       [ 1.30000000e+01, -2.00000000e+00, -3.72668515e-15],\n",
       "       [ 1.30000000e+01, -1.00000000e+00,  1.63964745e-13],\n",
       "       [ 1.30000000e+01,  0.00000000e+00, -1.12086664e-15],\n",
       "       [ 1.30000000e+01,  1.00000000e+00, -1.92966719e-15],\n",
       "       [ 1.30000000e+01,  2.00000000e+00,  1.12487940e-16],\n",
       "       [ 1.30000000e+01,  3.00000000e+00,  2.40018506e-15],\n",
       "       [ 1.30000000e+01,  4.00000000e+00, -8.97593686e-16],\n",
       "       [ 1.30000000e+01,  5.00000000e+00, -1.13325341e-14],\n",
       "       [ 1.30000000e+01,  6.00000000e+00,  7.90596296e-15],\n",
       "       [ 1.30000000e+01,  7.00000000e+00, -6.06233592e-15],\n",
       "       [ 1.30000000e+01,  8.00000000e+00, -1.22326877e-14],\n",
       "       [ 1.30000000e+01,  9.00000000e+00,  3.43847516e-15],\n",
       "       [ 1.30000000e+01,  1.00000000e+01,  9.36516672e-15],\n",
       "       [ 1.30000000e+01,  1.10000000e+01,  1.84589162e-15],\n",
       "       [ 1.30000000e+01,  1.20000000e+01,  1.78339955e-15],\n",
       "       [ 1.30000000e+01,  1.30000000e+01,  2.55467851e-15],\n",
       "       [ 1.40000000e+01, -1.40000000e+01, -2.07808203e-13],\n",
       "       [ 1.40000000e+01, -1.30000000e+01,  8.09592329e-14],\n",
       "       [ 1.40000000e+01, -1.20000000e+01,  1.13324009e-12],\n",
       "       [ 1.40000000e+01, -1.10000000e+01, -6.43077177e-13],\n",
       "       [ 1.40000000e+01, -1.00000000e+01, -5.10990056e-12],\n",
       "       [ 1.40000000e+01, -9.00000000e+00, -3.88522845e-12],\n",
       "       [ 1.40000000e+01, -8.00000000e+00, -2.64439011e-13],\n",
       "       [ 1.40000000e+01, -7.00000000e+00,  1.28909373e-11],\n",
       "       [ 1.40000000e+01, -6.00000000e+00, -2.05703959e-11],\n",
       "       [ 1.40000000e+01, -5.00000000e+00, -6.06604180e-13],\n",
       "       [ 1.40000000e+01, -4.00000000e+00, -1.22582829e-12],\n",
       "       [ 1.40000000e+01, -3.00000000e+00, -2.99118770e-11],\n",
       "       [ 1.40000000e+01, -2.00000000e+00, -1.55219343e-11],\n",
       "       [ 1.40000000e+01, -1.00000000e+00, -1.12439945e-11],\n",
       "       [ 1.40000000e+01,  0.00000000e+00, -1.03812854e-11],\n",
       "       [ 1.40000000e+01,  1.00000000e+00, -5.76396561e-11],\n",
       "       [ 1.40000000e+01,  2.00000000e+00, -2.18956151e-11],\n",
       "       [ 1.40000000e+01,  3.00000000e+00, -4.51401209e-11],\n",
       "       [ 1.40000000e+01,  4.00000000e+00,  6.89367614e-11],\n",
       "       [ 1.40000000e+01,  5.00000000e+00,  2.12315025e-11],\n",
       "       [ 1.40000000e+01,  6.00000000e+00, -4.53853321e-11],\n",
       "       [ 1.40000000e+01,  7.00000000e+00, -1.26879248e-11],\n",
       "       [ 1.40000000e+01,  8.00000000e+00,  1.66769670e-11],\n",
       "       [ 1.40000000e+01,  9.00000000e+00,  1.38729562e-11],\n",
       "       [ 1.40000000e+01,  1.00000000e+01, -1.21525746e-11],\n",
       "       [ 1.40000000e+01,  1.10000000e+01,  3.40694240e-13],\n",
       "       [ 1.40000000e+01,  1.20000000e+01,  2.81486294e-11],\n",
       "       [ 1.40000000e+01,  1.30000000e+01, -8.36915556e-13],\n",
       "       [ 1.40000000e+01,  1.40000000e+01,  8.83904285e-12],\n",
       "       [ 1.50000000e+01, -1.50000000e+01, -4.02853215e-16],\n",
       "       [ 1.50000000e+01, -1.40000000e+01,  1.32761383e-16],\n",
       "       [ 1.50000000e+01, -1.30000000e+01, -6.60937577e-15],\n",
       "       [ 1.50000000e+01, -1.20000000e+01, -5.85307289e-16],\n",
       "       [ 1.50000000e+01, -1.10000000e+01, -3.25573802e-16],\n",
       "       [ 1.50000000e+01, -1.00000000e+01, -3.17261144e-16],\n",
       "       [ 1.50000000e+01, -9.00000000e+00, -5.56090426e-15],\n",
       "       [ 1.50000000e+01, -8.00000000e+00, -6.22266135e-16],\n",
       "       [ 1.50000000e+01, -7.00000000e+00,  1.34608936e-15],\n",
       "       [ 1.50000000e+01, -6.00000000e+00,  1.22043768e-15],\n",
       "       [ 1.50000000e+01, -5.00000000e+00, -1.23209340e-14],\n",
       "       [ 1.50000000e+01, -4.00000000e+00, -6.20410118e-16],\n",
       "       [ 1.50000000e+01, -3.00000000e+00,  3.10579171e-15],\n",
       "       [ 1.50000000e+01, -2.00000000e+00, -1.33857159e-15],\n",
       "       [ 1.50000000e+01, -1.00000000e+00,  9.24273363e-15],\n",
       "       [ 1.50000000e+01,  0.00000000e+00, -1.09023415e-15],\n",
       "       [ 1.50000000e+01,  1.00000000e+00,  6.75155039e-16],\n",
       "       [ 1.50000000e+01,  2.00000000e+00,  2.15166115e-17],\n",
       "       [ 1.50000000e+01,  3.00000000e+00,  4.62846392e-16],\n",
       "       [ 1.50000000e+01,  4.00000000e+00,  2.46637875e-16],\n",
       "       [ 1.50000000e+01,  5.00000000e+00, -5.80361942e-17],\n",
       "       [ 1.50000000e+01,  6.00000000e+00, -5.82769707e-16],\n",
       "       [ 1.50000000e+01,  7.00000000e+00,  8.30890650e-16],\n",
       "       [ 1.50000000e+01,  8.00000000e+00,  2.32372911e-16],\n",
       "       [ 1.50000000e+01,  9.00000000e+00,  1.27460047e-16],\n",
       "       [ 1.50000000e+01,  1.00000000e+01,  9.78837925e-16],\n",
       "       [ 1.50000000e+01,  1.10000000e+01, -6.49689196e-16],\n",
       "       [ 1.50000000e+01,  1.20000000e+01,  1.68404306e-17],\n",
       "       [ 1.50000000e+01,  1.30000000e+01,  5.74390790e-16],\n",
       "       [ 1.50000000e+01,  1.40000000e+01,  1.64008998e-17],\n",
       "       [ 1.50000000e+01,  1.50000000e+01,  5.91885748e-16]])"
      ]
     },
     "execution_count": 12,
     "metadata": {},
     "output_type": "execute_result"
    }
   ],
   "source": [
    "ito_cm_1 = np.array(ito)\n",
    "\n",
    "for i in range(ito_cm_1 .shape[0]):\n",
    "    ito_cm_1 [i,2] = ito_cm_1 [i,2] * 219474.6\n",
    "    \n",
    "ito_cm_1"
   ]
  },
  {
   "cell_type": "code",
   "execution_count": null,
   "id": "427a6109",
   "metadata": {},
   "outputs": [],
   "source": [
    "ito_zeeman_matrix = DyCo.matrix_from_ito(\"QZVPP_zeem\")"
   ]
  },
  {
   "cell_type": "code",
   "execution_count": null,
   "id": "86879249",
   "metadata": {},
   "outputs": [],
   "source": [
    "energies, eigenvectors = np.linalg.eigh(zeeman_matrix)\n",
    "energies * 219474.6"
   ]
  },
  {
   "cell_type": "code",
   "execution_count": null,
   "id": "e4d72d86",
   "metadata": {},
   "outputs": [],
   "source": [
    "energies, eigenvectors = np.linalg.eigh(ito_zeeman_matrix)\n",
    "energies * 219474.6"
   ]
  },
  {
   "cell_type": "code",
   "execution_count": null,
   "id": "ad13c421",
   "metadata": {
    "scrolled": false
   },
   "outputs": [],
   "source": [
    "ito_zeeman_matrix - zeeman_matrix"
   ]
  },
  {
   "cell_type": "markdown",
   "id": "33ee2e33",
   "metadata": {},
   "source": [
    "Show it without rotation (here it is almost negligible)"
   ]
  },
  {
   "cell_type": "markdown",
   "id": "1354e6c3",
   "metadata": {},
   "source": [
    "Lets jump to the Spiral and check my parameters"
   ]
  },
  {
   "cell_type": "code",
   "execution_count": null,
   "id": "7f9c77d3",
   "metadata": {},
   "outputs": [],
   "source": [
    "index = 0\n",
    "\n",
    "for k in range(0, 16, 2):\n",
    "    print(f\"&END\")\n",
    "    print(f\"&DEF_O 1 {k}\")\n",
    "    for q in range(-k, k+1):\n",
    "        print(f\"{q} {cfp_cm_1[index][2]}\")\n",
    "        index += 1"
   ]
  }
 ],
 "metadata": {
  "kernelspec": {
   "display_name": "Python 3 (ipykernel)",
   "language": "python",
   "name": "python3"
  },
  "language_info": {
   "codemirror_mode": {
    "name": "ipython",
    "version": 3
   },
   "file_extension": ".py",
   "mimetype": "text/x-python",
   "name": "python",
   "nbconvert_exporter": "python",
   "pygments_lexer": "ipython3",
   "version": "3.11.3"
  }
 },
 "nbformat": 4,
 "nbformat_minor": 5
}
