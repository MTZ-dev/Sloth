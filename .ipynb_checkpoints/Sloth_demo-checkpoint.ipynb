{
 "cells": [
  {
   "cell_type": "markdown",
   "id": "688d377a",
   "metadata": {},
   "source": [
    "Load Sloth"
   ]
  },
  {
   "cell_type": "code",
   "execution_count": null,
   "id": "56f4bc51",
   "metadata": {},
   "outputs": [],
   "source": [
    "import slothpy as slt"
   ]
  },
  {
   "cell_type": "markdown",
   "id": "6788c6a0",
   "metadata": {},
   "source": [
    "Import additional packages"
   ]
  },
  {
   "cell_type": "code",
   "execution_count": null,
   "id": "fdf11145",
   "metadata": {},
   "outputs": [],
   "source": [
    "import numpy as np\n",
    "import matplotlib.pyplot as plt"
   ]
  },
  {
   "cell_type": "markdown",
   "id": "1bc9c2bc",
   "metadata": {},
   "source": [
    "Create Compound from Orca output file"
   ]
  },
  {
   "cell_type": "code",
   "execution_count": null,
   "id": "8efa9956",
   "metadata": {},
   "outputs": [],
   "source": [
    "DyCo = slt.compound_from_orca(\".\", \"DyCo_demo\", \"QZVPP\", \".\", \"DyCo_cif_cas_nevpt2_QZVPP.out\")"
   ]
  },
  {
   "cell_type": "markdown",
   "id": "693957b8",
   "metadata": {},
   "source": [
    "You can add different calculations"
   ]
  },
  {
   "cell_type": "code",
   "execution_count": null,
   "id": "68a3ac2f",
   "metadata": {},
   "outputs": [],
   "source": [
    "DyCo = slt.compound_from_orca(\".\", \"DyCo_demo\", \"QZVPP_NEVPT2\", \".\", \"DyCo_cif_cas_nevpt2_QZVPP.out\", pt2 = True)"
   ]
  },
  {
   "cell_type": "markdown",
   "id": "d50ee98a",
   "metadata": {},
   "source": [
    "or add computations from different softwares etc."
   ]
  },
  {
   "cell_type": "code",
   "execution_count": null,
   "id": "751d23ef",
   "metadata": {},
   "outputs": [],
   "source": [
    "DyCo = slt.compound_from_molcas(\".\", \"DyCo_demo\", \"TVZP_MOLCAS\", \".\", \"DyCo_benchmark_aniso\")"
   ]
  },
  {
   "cell_type": "markdown",
   "id": "a8d23539",
   "metadata": {},
   "source": [
    "The last option is to load from the existing .slt file to resume the work"
   ]
  },
  {
   "cell_type": "code",
   "execution_count": null,
   "id": "05315194",
   "metadata": {},
   "outputs": [],
   "source": [
    "DyCo = slt.compound_from_slt(\".\", \"DyCo_demo\")"
   ]
  },
  {
   "cell_type": "markdown",
   "id": "a2bbdd5a",
   "metadata": {},
   "source": [
    "You can see what is inside the current file"
   ]
  },
  {
   "cell_type": "code",
   "execution_count": null,
   "id": "940cbc77",
   "metadata": {},
   "outputs": [],
   "source": [
    "DyCo"
   ]
  },
  {
   "cell_type": "markdown",
   "id": "98fd53fa",
   "metadata": {},
   "source": [
    "Now we can calculate the first properties. Lets start with molar magnetisation from a chosen group of data"
   ]
  },
  {
   "cell_type": "code",
   "execution_count": null,
   "id": "3b08bcbd",
   "metadata": {},
   "outputs": [],
   "source": [
    "fields_mag = np.linspace(0.0001, 7, 64)\n",
    "temperatures_mag = np.linspace(1, 5, 5)"
   ]
  },
  {
   "cell_type": "code",
   "execution_count": null,
   "id": "e20ed981",
   "metadata": {
    "scrolled": true
   },
   "outputs": [],
   "source": [
    "%%time\n",
    "magnetisation = DyCo.calculate_mth(\"QZVPP\", 256, fields_mag, 5, temperatures_mag, 64, 2, slt = \"QZVPP\")"
   ]
  },
  {
   "cell_type": "code",
   "execution_count": null,
   "id": "b7532f7c",
   "metadata": {},
   "outputs": [],
   "source": [
    "magnetisation"
   ]
  },
  {
   "cell_type": "markdown",
   "id": "edde8007",
   "metadata": {},
   "source": [
    "You can delete a chosen group if you know its suffix in order to be able to use the same name again"
   ]
  },
  {
   "cell_type": "code",
   "execution_count": null,
   "id": "7c759748",
   "metadata": {},
   "outputs": [],
   "source": [
    "DyCo"
   ]
  },
  {
   "cell_type": "code",
   "execution_count": null,
   "id": "f6d807a0",
   "metadata": {},
   "outputs": [],
   "source": [
    "DyCo.delete_group(\"QZVPP_magnetisation\")"
   ]
  },
  {
   "cell_type": "code",
   "execution_count": null,
   "id": "f45c6b1d",
   "metadata": {
    "scrolled": true
   },
   "outputs": [],
   "source": [
    "DyCo"
   ]
  },
  {
   "cell_type": "markdown",
   "id": "1d4032d7",
   "metadata": {},
   "source": [
    "You can access data sets directly using custom interface similar to that for arrays"
   ]
  },
  {
   "cell_type": "code",
   "execution_count": null,
   "id": "b2c25c74",
   "metadata": {},
   "outputs": [],
   "source": [
    "mth = DyCo[\"QZVPP_magnetisation\", \"QZVPP_mth\"]\n",
    "fields = DyCo[\"QZVPP_magnetisation\", \"QZVPP_fields\"]\n",
    "temperatures = DyCo[\"QZVPP_magnetisation\", \"QZVPP_temperatures\"]  "
   ]
  },
  {
   "cell_type": "markdown",
   "id": "0cf6f493",
   "metadata": {},
   "source": [
    "Now we can work using the data. Lets plot it!"
   ]
  },
  {
   "cell_type": "code",
   "execution_count": null,
   "id": "5e82f201",
   "metadata": {
    "scrolled": false
   },
   "outputs": [],
   "source": [
    "for mt in mth:\n",
    "    plt.plot(fields, mt)"
   ]
  },
  {
   "cell_type": "markdown",
   "id": "d867b8a9",
   "metadata": {},
   "source": [
    "Or just use the prepared methods for plotting"
   ]
  },
  {
   "cell_type": "code",
   "execution_count": null,
   "id": "8a2e2da6",
   "metadata": {
    "scrolled": false
   },
   "outputs": [],
   "source": [
    "DyCo.plot_mth(\"QZVPP\")"
   ]
  },
  {
   "cell_type": "markdown",
   "id": "3b718195",
   "metadata": {},
   "source": [
    "We can now do the same for susceptibility"
   ]
  },
  {
   "cell_type": "code",
   "execution_count": null,
   "id": "4b08fef0",
   "metadata": {},
   "outputs": [],
   "source": [
    "fields_chi = np.linspace(0.1, 3.1, 3)\n",
    "temperatures_chi = np.linspace(1, 300, 300)"
   ]
  },
  {
   "cell_type": "code",
   "execution_count": null,
   "id": "128c2170",
   "metadata": {},
   "outputs": [],
   "source": [
    "%%time\n",
    "chitht = DyCo.calculate_chitht(\"QZVPP\", 1024, temperatures_chi, fields_chi, 3, 0.0001, 64, 2, slt = \"QZVPP\")"
   ]
  },
  {
   "cell_type": "code",
   "execution_count": null,
   "id": "18d35596",
   "metadata": {},
   "outputs": [],
   "source": [
    "for chith in chitht:\n",
    "    plt.plot(temperatures, chith)"
   ]
  },
  {
   "cell_type": "code",
   "execution_count": null,
   "id": "a277ea8b",
   "metadata": {
    "scrolled": true
   },
   "outputs": [],
   "source": [
    "DyCo.plot_chitht(\"QZVPPP\")"
   ]
  },
  {
   "cell_type": "markdown",
   "id": "6503e5e7",
   "metadata": {},
   "source": [
    "To obtain energies of spin-orbit states you can run:"
   ]
  },
  {
   "cell_type": "code",
   "execution_count": null,
   "id": "1e66acf0",
   "metadata": {},
   "outputs": [],
   "source": [
    "DyCo.soc_energies_cm_1(\"QZVPP\", 16)"
   ]
  },
  {
   "cell_type": "markdown",
   "id": "0a279f7b",
   "metadata": {},
   "source": [
    "You can look at the Zeeman splitting for various directions of the applied magnetic field or powder-average"
   ]
  },
  {
   "cell_type": "code",
   "execution_count": null,
   "id": "fb5569c5",
   "metadata": {},
   "outputs": [],
   "source": [
    "fields_zeem = np.linspace(0, 7, 64)"
   ]
  },
  {
   "cell_type": "code",
   "execution_count": null,
   "id": "c2071939",
   "metadata": {},
   "outputs": [],
   "source": [
    "zeeman = DyCo.calculate_zeeman_splitting(\"QZVPP\", 256, 8, fields_zeem, [[0.,0.,1.], [0., 1., 0.], [1.,0.,1.]], 64, 2, slt = \"QZVPP\")"
   ]
  },
  {
   "cell_type": "code",
   "execution_count": null,
   "id": "19db82bb",
   "metadata": {},
   "outputs": [],
   "source": [
    "DyCo.plot_zeeman(\"QZVPP\")"
   ]
  },
  {
   "cell_type": "markdown",
   "id": "e6c9d1b3",
   "metadata": {},
   "source": [
    "There is an option to calculate pseudo-g-tensors for doublet states together with rotation matrices to the framework of main magnetic axes that can be used in many functions to rotate magnetic and angular momenta."
   ]
  },
  {
   "cell_type": "code",
   "execution_count": null,
   "id": "486925a8",
   "metadata": {},
   "outputs": [],
   "source": [
    "g_tensor, axes = DyCo.calculate_g_tensor_and_axes_doublet(\"QZVPP\", [0,1,2,3], slt = \"QZVPP\")"
   ]
  },
  {
   "cell_type": "code",
   "execution_count": null,
   "id": "c8f6d687",
   "metadata": {},
   "outputs": [],
   "source": [
    "g_tensor"
   ]
  },
  {
   "cell_type": "code",
   "execution_count": null,
   "id": "a7cb7aee",
   "metadata": {},
   "outputs": [],
   "source": [
    "axes"
   ]
  },
  {
   "cell_type": "markdown",
   "id": "28d0dae9",
   "metadata": {},
   "source": [
    "New features include various properties (magnetisation, susceptibility, Hemholtz energy) calculated for their angular dependence and visualised in 3D plots"
   ]
  },
  {
   "cell_type": "code",
   "execution_count": null,
   "id": "82bbd2f1",
   "metadata": {},
   "outputs": [],
   "source": [
    "%%time\n",
    "mag_3d = DyCo.calculate_mag_3d(\"QZVPP\", 256, [1.], 100, [2.], 64, 2, slt = \"QZVPP\")"
   ]
  },
  {
   "cell_type": "code",
   "execution_count": null,
   "id": "2c3487df",
   "metadata": {
    "scrolled": true
   },
   "outputs": [],
   "source": [
    "%matplotlib widget\n",
    "DyCo.plot_mag_3d(\"QZVPP\", colour_map_name=\"dark_rainbow\", r_density = 45, c_density = 45,  ticks=2)"
   ]
  },
  {
   "cell_type": "code",
   "execution_count": null,
   "id": "52840aba",
   "metadata": {},
   "outputs": [],
   "source": [
    "%%time\n",
    "DyCo.animate_energy_3d(\"QZVPP\", 64, [0.1], 100, 1, 30, 180, 64, 2, ticks = 10, r_density = 90, c_density = 90, fps = 20, filename = \"DyCo_energy_3d\")"
   ]
  },
  {
   "cell_type": "code",
   "execution_count": null,
   "id": "6abe1c34",
   "metadata": {
    "scrolled": true
   },
   "outputs": [],
   "source": [
    "%%time\n",
    "DyCo.animate_mag_3d(\"QZVPP\", 64, [0.1], 100, 1, 30, 180, 64, 2, ticks = 10, r_density = 90, c_density = 90, fps = 20, filename = \"DyCo_mag_3d\")"
   ]
  },
  {
   "cell_type": "markdown",
   "id": "31f6640e",
   "metadata": {},
   "source": [
    "We can get a decomposition of SO-states in pseudo-spin basis of total angular or magnetic momenta with the frame rotation to the main magnetic axis of the ground doublet"
   ]
  },
  {
   "cell_type": "code",
   "execution_count": null,
   "id": "0560aa99",
   "metadata": {
    "scrolled": true
   },
   "outputs": [],
   "source": [
    "DyCo.decomposition_in_z_total_angular_momentum_basis(\"QZVPP\", 0, 15, rotation = np.array([[ 9.99993456e-01, -3.20017155e-03, -1.68724195e-03],\n",
    "        [ 3.20053868e-03,  9.99994855e-01,  2.14937173e-04],\n",
    "        [ 1.68654543e-03, -2.20335849e-04,  9.99998554e-01]]), slt = \"QZVPP\")"
   ]
  },
  {
   "cell_type": "code",
   "execution_count": null,
   "id": "58ae5b40",
   "metadata": {},
   "outputs": [],
   "source": [
    "DyCo.decomposition_in_z_magnetic_momentum_basis(\"QZVPP\", 0, 15, rotation = np.array([[ 9.99993456e-01, -3.20017155e-03, -1.68724195e-03],\n",
    "        [ 3.20053868e-03,  9.99994855e-01,  2.14937173e-04],\n",
    "        [ 1.68654543e-03, -2.20335849e-04,  9.99998554e-01]]), slt = \"QZVPP\")"
   ]
  },
  {
   "cell_type": "markdown",
   "id": "a6849cd9",
   "metadata": {},
   "source": [
    "Lets get now SOC and Zeeman matrices in pseudo-spin basis"
   ]
  },
  {
   "cell_type": "code",
   "execution_count": null,
   "id": "bb4f427f",
   "metadata": {},
   "outputs": [],
   "source": [
    "soc_matrix = DyCo.soc_zeem_in_angular_magnetic_momentum_basis(\"QZVPP\", 0, 15, \"soc\", \"angular\", rotation = np.array([[ 9.99993456e-01, -3.20017155e-03, -1.68724195e-03],\n",
    "        [ 3.20053868e-03,  9.99994855e-01,  2.14937173e-04],\n",
    "        [ 1.68654543e-03, -2.20335849e-04,  9.99998554e-01]]))"
   ]
  },
  {
   "cell_type": "code",
   "execution_count": null,
   "id": "14fdeca5",
   "metadata": {},
   "outputs": [],
   "source": [
    "zeeman_matrix = DyCo.soc_zeem_in_angular_magnetic_momentum_basis(\"QZVPP\", 0, 15, \"zeeman\", \"angular\", field=1, orientation=np.array([0.,0.,1.]), rotation = np.array([[ 9.99993456e-01, -3.20017155e-03, -1.68724195e-03],\n",
    "        [ 3.20053868e-03,  9.99994855e-01,  2.14937173e-04],\n",
    "        [ 1.68654543e-03, -2.20335849e-04,  9.99998554e-01]]))"
   ]
  },
  {
   "cell_type": "markdown",
   "id": "9baa9a07",
   "metadata": {},
   "source": [
    "and ITO-decompose them (show both even and odd order)"
   ]
  },
  {
   "cell_type": "code",
   "execution_count": null,
   "id": "d00afd08",
   "metadata": {
    "scrolled": false
   },
   "outputs": [],
   "source": [
    "cfp = DyCo.soc_crystal_field_parameters(\"QZVPP\", 0, 15, 14, rotation = np.array([[ 9.99993456e-01, -3.20017155e-03, -1.68724195e-03],\n",
    "        [ 3.20053868e-03,  9.99994855e-01,  2.14937173e-04],\n",
    "        [ 1.68654543e-03, -2.20335849e-04,  9.99998554e-01]]), slt = \"QZVPP\")\n",
    "\n",
    "cfp_cm_1 = np.array(cfp)\n",
    "\n",
    "for i in range(cfp_cm_1 .shape[0]):\n",
    "    cfp_cm_1 [i,2] = cfp_cm_1 [i,2] * 219474.6\n",
    "    \n",
    "cfp_cm_1"
   ]
  },
  {
   "cell_type": "code",
   "execution_count": null,
   "id": "3520bcfd",
   "metadata": {},
   "outputs": [],
   "source": [
    "ito_soc_matrix = DyCo.matrix_from_ito(\"QZVPP\")"
   ]
  },
  {
   "cell_type": "code",
   "execution_count": null,
   "id": "c071dc5c",
   "metadata": {},
   "outputs": [],
   "source": [
    "DyCo.soc_energies_cm_1(\"QZVPP\", 16)"
   ]
  },
  {
   "cell_type": "code",
   "execution_count": null,
   "id": "27d948c5",
   "metadata": {
    "scrolled": false
   },
   "outputs": [],
   "source": [
    "energies, eigenvectors = np.linalg.eigh(ito_soc_matrix)\n",
    "energies * 219474.6"
   ]
  },
  {
   "cell_type": "markdown",
   "id": "578b3950",
   "metadata": {},
   "source": [
    "Note: without fixing the phase convention of pseudo-spin eigenstates even order was failing!"
   ]
  },
  {
   "cell_type": "code",
   "execution_count": null,
   "id": "957b7638",
   "metadata": {},
   "outputs": [],
   "source": [
    "ito = DyCo.zeeman_matrix_ito_decpomosition(\"QZVPP\", 0, 15, 1, np.array([0.,0.,1.]), 15, slt = \"QZVPP_zeem\", rotation = np.array([[ 9.99993456e-01, -3.20017155e-03, -1.68724195e-03],\n",
    "        [ 3.20053868e-03,  9.99994855e-01,  2.14937173e-04],\n",
    "        [ 1.68654543e-03, -2.20335849e-04,  9.99998554e-01]]))"
   ]
  },
  {
   "cell_type": "code",
   "execution_count": null,
   "id": "5398102e",
   "metadata": {},
   "outputs": [],
   "source": [
    "ito_cm_1 = np.array(ito)\n",
    "\n",
    "for i in range(ito_cm_1 .shape[0]):\n",
    "    ito_cm_1 [i,2] = ito_cm_1 [i,2] * 219474.6\n",
    "    \n",
    "ito_cm_1"
   ]
  },
  {
   "cell_type": "code",
   "execution_count": null,
   "id": "427a6109",
   "metadata": {},
   "outputs": [],
   "source": [
    "ito_zeeman_matrix = DyCo.matrix_from_ito(\"QZVPP_zeem\")"
   ]
  },
  {
   "cell_type": "code",
   "execution_count": null,
   "id": "86879249",
   "metadata": {},
   "outputs": [],
   "source": [
    "energies, eigenvectors = np.linalg.eigh(zeeman_matrix)\n",
    "energies * 219474.6"
   ]
  },
  {
   "cell_type": "code",
   "execution_count": null,
   "id": "e4d72d86",
   "metadata": {},
   "outputs": [],
   "source": [
    "energies, eigenvectors = np.linalg.eigh(ito_zeeman_matrix)\n",
    "energies * 219474.6"
   ]
  },
  {
   "cell_type": "code",
   "execution_count": null,
   "id": "ad13c421",
   "metadata": {
    "scrolled": false
   },
   "outputs": [],
   "source": [
    "ito_zeeman_matrix - zeeman_matrix"
   ]
  },
  {
   "cell_type": "markdown",
   "id": "33ee2e33",
   "metadata": {},
   "source": [
    "Show it without rotation (here it is almost negligible)"
   ]
  },
  {
   "cell_type": "markdown",
   "id": "fae757fa",
   "metadata": {},
   "source": [
    "Lets jump to Spiral and check my parameters"
   ]
  },
  {
   "cell_type": "code",
   "execution_count": null,
   "id": "7f9c77d3",
   "metadata": {},
   "outputs": [],
   "source": [
    "for i in range ......\n",
    "cfp_cm_1\n",
    "print"
   ]
  }
 ],
 "metadata": {
  "kernelspec": {
   "display_name": "Python 3 (ipykernel)",
   "language": "python",
   "name": "python3"
  },
  "language_info": {
   "codemirror_mode": {
    "name": "ipython",
    "version": 3
   },
   "file_extension": ".py",
   "mimetype": "text/x-python",
   "name": "python",
   "nbconvert_exporter": "python",
   "pygments_lexer": "ipython3",
   "version": "3.11.3"
  }
 },
 "nbformat": 4,
 "nbformat_minor": 5
}
