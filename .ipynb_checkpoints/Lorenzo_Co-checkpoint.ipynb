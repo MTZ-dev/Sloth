{
 "cells": [
  {
   "cell_type": "markdown",
   "id": "688d377a",
   "metadata": {},
   "source": [
    "Load Sloth"
   ]
  },
  {
   "cell_type": "code",
   "execution_count": 1,
   "id": "56f4bc51",
   "metadata": {},
   "outputs": [],
   "source": [
    "import slothpy as slt"
   ]
  },
  {
   "cell_type": "markdown",
   "id": "6788c6a0",
   "metadata": {},
   "source": [
    "Import additional packages"
   ]
  },
  {
   "cell_type": "code",
   "execution_count": 2,
   "id": "fdf11145",
   "metadata": {},
   "outputs": [],
   "source": [
    "import numpy as np\n",
    "import matplotlib.pyplot as plt"
   ]
  },
  {
   "cell_type": "code",
   "execution_count": 3,
   "id": "70395236",
   "metadata": {},
   "outputs": [],
   "source": [
    "DyCo = slt.compound_from_orca(\".\", \"Lorenzo_Co\", \"rot_orca\", \".\", \"geom_rot.out\")"
   ]
  },
  {
   "cell_type": "code",
   "execution_count": 4,
   "id": "5029b106",
   "metadata": {},
   "outputs": [],
   "source": [
    "DyCo = slt.compound_from_orca(\".\", \"Lorenzo_Co\", \"no_rot_orca\", \".\", \"geom_no_rot.out\")"
   ]
  },
  {
   "cell_type": "code",
   "execution_count": 4,
   "id": "dd6aac1f",
   "metadata": {},
   "outputs": [],
   "source": [
    "DyCo = slt.compound_from_molcas(\".\", \"Lorenzo_Co\", \"no_rot\", \".\", \"no_rot_lorenzo_bas0\")"
   ]
  },
  {
   "cell_type": "code",
   "execution_count": 3,
   "id": "a55edda6",
   "metadata": {},
   "outputs": [],
   "source": [
    "DyCo = slt.compound_from_molcas(\".\", \"Lorenzo_Co\", \"rot\", \".\", \"rot_lorenzo_bas0_corr\")"
   ]
  },
  {
   "cell_type": "markdown",
   "id": "6503e5e7",
   "metadata": {},
   "source": [
    "To obtain energies of spin-orbit states you can run:"
   ]
  },
  {
   "cell_type": "code",
   "execution_count": 5,
   "id": "1e66acf0",
   "metadata": {},
   "outputs": [
    {
     "data": {
      "text/plain": [
       "array([0.00000000e+00, 3.99221972e-07, 2.80599892e+02, 2.80599893e+02,\n",
       "       6.35386206e+02, 6.35386207e+02])"
      ]
     },
     "execution_count": 5,
     "metadata": {},
     "output_type": "execute_result"
    }
   ],
   "source": [
    "DyCo.soc_energies_cm_1(\"no_rot_orca\", 6)"
   ]
  },
  {
   "cell_type": "code",
   "execution_count": 6,
   "id": "8cd469e7",
   "metadata": {},
   "outputs": [
    {
     "data": {
      "text/plain": [
       "array([0.00000000e+00, 3.99221972e-07, 2.80553126e+02, 2.80553128e+02,\n",
       "       6.35939317e+02, 6.35939318e+02])"
      ]
     },
     "execution_count": 6,
     "metadata": {},
     "output_type": "execute_result"
    }
   ],
   "source": [
    "DyCo.soc_energies_cm_1(\"rot_orca\", 6)"
   ]
  },
  {
   "cell_type": "code",
   "execution_count": 7,
   "id": "486925a8",
   "metadata": {},
   "outputs": [],
   "source": [
    "g_tensor, axes = DyCo.calculate_g_tensor_and_axes_doublet(\"rot_orca\", [0,1])"
   ]
  },
  {
   "cell_type": "code",
   "execution_count": 8,
   "id": "c8f6d687",
   "metadata": {},
   "outputs": [
    {
     "data": {
      "text/plain": [
       "array([[0.        , 0.01448297, 0.01478088, 9.82887441],\n",
       "       [1.        , 1.75517684, 1.75596341, 5.55934685]])"
      ]
     },
     "execution_count": 8,
     "metadata": {},
     "output_type": "execute_result"
    }
   ],
   "source": [
    "g_tensor"
   ]
  },
  {
   "cell_type": "code",
   "execution_count": 9,
   "id": "a7cb7aee",
   "metadata": {
    "scrolled": false
   },
   "outputs": [
    {
     "data": {
      "text/plain": [
       "array([[[ 9.45982910e-04,  9.99999171e-01, -8.73135861e-04],\n",
       "        [ 9.99999247e-01, -9.45299405e-04,  7.82896855e-04],\n",
       "        [ 7.82070831e-04, -8.73875810e-04, -9.99999312e-01]],\n",
       "\n",
       "       [[ 3.01756471e-02, -9.99544518e-01, -4.31151041e-04],\n",
       "        [-9.99539824e-01, -3.01768347e-02,  3.08192995e-03],\n",
       "        [-3.09353696e-03,  3.37953406e-04, -9.99995158e-01]]])"
      ]
     },
     "execution_count": 9,
     "metadata": {},
     "output_type": "execute_result"
    }
   ],
   "source": [
    "axes"
   ]
  },
  {
   "cell_type": "code",
   "execution_count": 10,
   "id": "02e2dce9",
   "metadata": {},
   "outputs": [],
   "source": [
    "g_tensor, axes = DyCo.calculate_g_tensor_and_axes_doublet(\"no_rot_orca\", [0,1])"
   ]
  },
  {
   "cell_type": "code",
   "execution_count": 11,
   "id": "648baca6",
   "metadata": {},
   "outputs": [
    {
     "data": {
      "text/plain": [
       "array([[0.        , 0.01423021, 0.01455916, 9.82974791],\n",
       "       [1.        , 1.73887017, 1.7398262 , 5.56564271]])"
      ]
     },
     "execution_count": 11,
     "metadata": {},
     "output_type": "execute_result"
    }
   ],
   "source": [
    "g_tensor"
   ]
  },
  {
   "cell_type": "code",
   "execution_count": 12,
   "id": "60fb35b0",
   "metadata": {},
   "outputs": [
    {
     "data": {
      "text/plain": [
       "array([[[-0.30488417, -0.90583252,  0.29413106],\n",
       "        [-0.8205829 ,  0.0930896 , -0.5638954 ],\n",
       "        [ 0.48341425, -0.4132817 , -0.77169223]],\n",
       "\n",
       "       [[-0.10157974,  0.95070964, -0.29297223],\n",
       "        [-0.81961579,  0.08693281,  0.56627965],\n",
       "        [ 0.56383642,  0.29764721,  0.77038602]]])"
      ]
     },
     "execution_count": 12,
     "metadata": {},
     "output_type": "execute_result"
    }
   ],
   "source": [
    "axes"
   ]
  },
  {
   "cell_type": "code",
   "execution_count": 33,
   "id": "d00afd08",
   "metadata": {
    "scrolled": true
   },
   "outputs": [
    {
     "name": "stdout",
     "output_type": "stream",
     "text": [
      "[-0.00204293-2.34296748e-19j  0.00204293-3.91258556e-19j\n",
      "  0.08013839+2.97481908e-18j -0.08013839-1.66381734e-18j\n",
      " -0.00640567+7.55584538e-18j  0.00640567+5.36105637e-18j\n",
      " -0.0013621 -3.13029035e-19j  0.0013621 -5.41288208e-19j\n",
      " -0.00989595+1.68977153e-19j  0.00989595-7.24695843e-19j\n",
      "  0.01377823+1.41228117e-18j -0.01377823+4.72018780e-20j\n",
      "  0.02886837+2.64069731e-18j -0.02886837+7.58912995e-18j\n",
      "  0.00213943-1.32360976e-18j -0.00213943-4.79631712e-18j\n",
      "  0.01715714+4.63239314e-18j -0.01715714+1.23322536e-18j\n",
      " -0.01185447+1.72123802e-18j  0.01185447+6.63087593e-19j\n",
      "  0.03768324-8.31473003e-19j -0.03768324+2.93182390e-18j\n",
      "  0.03737402+2.35014051e-17j -0.03737402+5.00358463e-18j\n",
      "  0.04963343+3.47135089e-18j -0.04963343+4.43386168e-18j\n",
      " -0.0148693 +2.45369746e-18j  0.0148693 +1.02731625e-17j\n",
      " -0.00519809-1.81796158e-18j  0.00519809+7.45951968e-19j\n",
      " -0.06008467+1.24803538e-18j  0.06008467-1.31469115e-19j\n",
      "  0.03386754+9.33937245e-19j -0.03386754-4.80625083e-19j\n",
      "  0.01320579-5.33896929e-19j -0.01320579+1.18931149e-20j\n",
      " -0.00259821-3.88022910e-18j  0.00259821+2.03398542e-18j\n",
      "  0.01738787+2.18817012e-18j -0.01738787-7.40259344e-18j]\n"
     ]
    },
    {
     "data": {
      "text/plain": [
       "array([[ 0.00000000e+00,  0.00000000e+00,  1.40262210e+02],\n",
       "       [ 2.00000000e+00, -2.00000000e+00,  5.71061374e-03],\n",
       "       [ 2.00000000e+00, -1.00000000e+00,  2.74998623e-02],\n",
       "       [ 2.00000000e+00,  0.00000000e+00, -1.14521985e+02],\n",
       "       [ 2.00000000e+00,  1.00000000e+00, -5.15173807e-01],\n",
       "       [ 2.00000000e+00,  2.00000000e+00,  6.93057007e-01]])"
      ]
     },
     "execution_count": 33,
     "metadata": {},
     "output_type": "execute_result"
    }
   ],
   "source": [
    "rot_trans = np.array([[ 9.45982910e-04,  9.99999171e-01, -8.73135861e-04],\n",
    "        [ 9.99999247e-01, -9.45299405e-04,  7.82896855e-04],\n",
    "        [ 7.82070831e-04, -8.73875810e-04, -9.99999312e-01]])\n",
    "\n",
    "rot_trans = rot_trans.T\n",
    "\n",
    "cfp_rot = DyCo.soc_crystal_field_parameters(\"rot_orca\", 0, 3, 2, rotation = rot_trans)\n",
    "\n",
    "cfp_rot_cm_1 = np.array(cfp_rot)\n",
    "\n",
    "for i in range(cfp_rot_cm_1.shape[0]):\n",
    "    cfp_rot_cm_1 [i,2] = cfp_rot_cm_1 [i,2] * 219474.6\n",
    "    \n",
    "cfp_rot_cm_1\n",
    "\n"
   ]
  },
  {
   "cell_type": "code",
   "execution_count": 32,
   "id": "ac705e90",
   "metadata": {
    "scrolled": true
   },
   "outputs": [
    {
     "name": "stdout",
     "output_type": "stream",
     "text": [
      "[ 0.44327699+5.53788687e-18j -0.44327699-5.64819967e-18j\n",
      "  0.16992534-6.12518390e-18j -0.16992534+5.83850531e-18j\n",
      " -0.16945088-2.47739675e-18j  0.16945088+7.85100279e-18j\n",
      " -0.44259479-2.57464183e-17j  0.44259479-3.83666281e-18j\n",
      "  0.01066391-1.36667138e-18j -0.01066391+6.79014343e-19j\n",
      " -0.01644537-5.81993697e-19j  0.01644537-2.65518752e-18j\n",
      " -0.00396274+1.94935516e-19j  0.00396274-6.84639959e-19j\n",
      " -0.01882137+1.21762349e-19j  0.01882137-5.60575094e-19j\n",
      "  0.02273246-1.64192598e-18j -0.02273246+5.83658948e-19j\n",
      "  0.07389909+2.50379344e-18j -0.07389909+2.97085287e-18j\n",
      " -0.71168373+1.12611135e-17j  0.71168373+1.02322052e-17j\n",
      "  0.11570097+1.36212218e-17j -0.11570097-2.63801291e-17j\n",
      " -0.05174003+2.49391368e-18j  0.05174003+1.69712802e-18j\n",
      "  0.73178311-5.17440624e-17j -0.73178311-3.85030710e-17j\n",
      " -0.03893145+1.34707685e-18j  0.03893145+1.65224362e-19j\n",
      " -0.0814533 +2.68502426e-18j  0.0814533 +4.34400667e-18j\n",
      " -0.00615706+1.34512698e-19j  0.00615706+3.05207411e-19j\n",
      "  0.04796765+3.29289261e-19j -0.04796765+9.94574944e-20j\n",
      " -0.0014974 +2.54583024e-19j  0.00149741-5.80103307e-19j\n",
      " -0.00523566-2.25101125e-20j  0.00523565+2.83662972e-19j]\n"
     ]
    },
    {
     "data": {
      "text/plain": [
       "array([[ 0.00000000e+00,  0.00000000e+00,  1.00588961e+02],\n",
       "       [ 2.00000000e+00, -2.00000000e+00,  1.10033840e-02],\n",
       "       [ 2.00000000e+00, -1.00000000e+00, -4.61701455e-02],\n",
       "       [ 2.00000000e+00,  0.00000000e+00, -8.21297498e+01],\n",
       "       [ 2.00000000e+00,  1.00000000e+00,  3.08155728e-02],\n",
       "       [ 2.00000000e+00,  2.00000000e+00,  5.07290469e-01]])"
      ]
     },
     "execution_count": 32,
     "metadata": {},
     "output_type": "execute_result"
    }
   ],
   "source": [
    "rot_trans = np.array([[[-0.30488417, -0.90583252,  0.29413106],\n",
    "        [-0.8205829 ,  0.0930896 , -0.5638954 ],\n",
    "        [ 0.48341425, -0.4132817 , -0.77169223]])\n",
    "\n",
    "rot_trans = rot_trans.T\n",
    "\n",
    "cfp = DyCo.soc_crystal_field_parameters(\"no_rot_orca\", 0, 3, 2, rotation= rot_trans)\n",
    "\n",
    "cfp_cm_1 = np.array(cfp)\n",
    "\n",
    "for i in range(cfp_cm_1 .shape[0]):\n",
    "    cfp_cm_1 [i,2] = cfp_cm_1 [i,2] * 219474.6\n",
    "    \n",
    "cfp_cm_1"
   ]
  },
  {
   "cell_type": "code",
   "execution_count": 17,
   "id": "201f332f",
   "metadata": {},
   "outputs": [
    {
     "data": {
      "text/plain": [
       "array([[  0.        ,   0.        , 121.65143446],\n",
       "       [  2.        ,  -2.        ,  -8.33556005],\n",
       "       [  2.        ,  -1.        , -93.81283247],\n",
       "       [  2.        ,   0.        , -63.93488953],\n",
       "       [  2.        ,   1.        , -51.60519097],\n",
       "       [  2.        ,   2.        ,   4.83014611]])"
      ]
     },
     "execution_count": 17,
     "metadata": {},
     "output_type": "execute_result"
    }
   ],
   "source": [
    "cfp = DyCo.soc_crystal_field_parameters(\"no_rot\", 0, 3, 2)\n",
    "\n",
    "cfp_cm_1 = np.array(cfp)\n",
    "\n",
    "for i in range(cfp_cm_1 .shape[0]):\n",
    "    cfp_cm_1 [i,2] = cfp_cm_1 [i,2] * 219474.6\n",
    "    \n",
    "cfp_cm_1"
   ]
  },
  {
   "cell_type": "code",
   "execution_count": 60,
   "id": "7408bda7",
   "metadata": {
    "scrolled": true
   },
   "outputs": [
    {
     "name": "stdout",
     "output_type": "stream",
     "text": [
      "0 0 140.09167750067513\n",
      "2 -2 -0.015022349505134178\n",
      "2 -1 25.119260814974528\n",
      "2 0 -94.1132191367354\n",
      "2 1 59.96045646559236\n",
      "2 2 -0.5034712790262911\n"
     ]
    }
   ],
   "source": [
    "for i in cfp:\n",
    "    print(f\"{i[0]} {i[1]} {i[2]* 219474.6}\")"
   ]
  },
  {
   "cell_type": "code",
   "execution_count": 17,
   "id": "a4b29768",
   "metadata": {},
   "outputs": [
    {
     "name": "stdout",
     "output_type": "stream",
     "text": [
      "0 0 139.99685848977649\n",
      "2 -2 0.012002881468232581\n",
      "2 -1 0.5185473915488832\n",
      "2 0 -114.30381360695529\n",
      "2 1 -0.13089081363393285\n",
      "2 2 -0.6574555341124702\n"
     ]
    }
   ],
   "source": [
    "for k in cfp_rot:\n",
    "    print(f\"{k[0]} {k[1]} {k[2]* 219474.6}\")"
   ]
  },
  {
   "cell_type": "code",
   "execution_count": 62,
   "id": "3520bcfd",
   "metadata": {},
   "outputs": [],
   "source": [
    "ito_soc_matrix_rot = DyCo.matrix_from_ito(\"kur\")"
   ]
  },
  {
   "cell_type": "code",
   "execution_count": 10,
   "id": "c071dc5c",
   "metadata": {},
   "outputs": [],
   "source": [
    "ito_soc_matrix_no_rot = DyCo.matrix_from_ito(\"no_rot\")"
   ]
  },
  {
   "cell_type": "code",
   "execution_count": 63,
   "id": "8d930429",
   "metadata": {},
   "outputs": [
    {
     "data": {
      "text/plain": [
       "array([ 11.8114666,  11.8114666, 268.3718884, 268.3718884])"
      ]
     },
     "execution_count": 63,
     "metadata": {},
     "output_type": "execute_result"
    }
   ],
   "source": [
    "energies, eigenvectors = np.linalg.eigh(ito_soc_matrix_rot)\n",
    "energies * 219474.6"
   ]
  },
  {
   "cell_type": "code",
   "execution_count": 12,
   "id": "27d948c5",
   "metadata": {
    "scrolled": true
   },
   "outputs": [
    {
     "data": {
      "text/plain": [
       "array([3.99221912e-07, 3.99221972e-07, 2.80183355e+02, 2.80183355e+02])"
      ]
     },
     "execution_count": 12,
     "metadata": {},
     "output_type": "execute_result"
    }
   ],
   "source": [
    "energies, eigenvectors = np.linalg.eigh(ito_soc_matrix_no_rot)\n",
    "energies * 219474.6"
   ]
  },
  {
   "cell_type": "code",
   "execution_count": 58,
   "id": "f934b5b9",
   "metadata": {},
   "outputs": [
    {
     "data": {
      "text/plain": [
       "-1.0000000038630528"
      ]
     },
     "execution_count": 58,
     "metadata": {},
     "output_type": "execute_result"
    }
   ],
   "source": [
    "a = np.array([[ 5.78371953e-03,  9.99983087e-01, -6.12403982e-04],\n",
    "        [ 9.99982768e-01, -5.78309945e-03,  1.00951341e-03],\n",
    "        [ 1.00595475e-03, -6.18232171e-04, -9.99999303e-01]])\n",
    "a = np.array([[ 0.2843829, -0.82284046, 0.49199588], [-0.41815955, -0.56825696, -0.70867949], [-0.86271024, 0.00419645, 0.50568116]])\n",
    "\n",
    "np.linalg.det(a)"
   ]
  },
  {
   "cell_type": "code",
   "execution_count": 65,
   "id": "3a545554",
   "metadata": {
    "scrolled": true
   },
   "outputs": [
    {
     "data": {
      "text/plain": [
       "array([[ 7.36708067e+00,  0.00000000e+00,  0.00000000e+00],\n",
       "       [-3.61000385e+00,  6.42197397e+00,  0.00000000e+00],\n",
       "       [-2.27735404e-07, -3.89268283e-07,  1.30482777e+01]])"
      ]
     },
     "execution_count": 65,
     "metadata": {},
     "output_type": "execute_result"
    }
   ],
   "source": [
    "a = np.array(   [[22.101241999999999,        0.0000000000000000,        0.0000000000000000],     \n",
    "  [-10.830011557286578,        19.265921924777000,        0.0000000000000000],     \n",
    "  [-6.8320621260590041E-007,  -1.1678048477038437E-006,   39.144832999999970]])\n",
    "b = a/3\n",
    "b"
   ]
  },
  {
   "cell_type": "code",
   "execution_count": 66,
   "id": "f8a72d8a",
   "metadata": {},
   "outputs": [
    {
     "name": "stdout",
     "output_type": "stream",
     "text": [
      "7.3670806666666664 0.0000000000000000 0.0000000000000000\n",
      "-3.6100038524288593 6.4219739749256668 0.0000000000000000\n",
      "-0.0000002277354042 -0.0000003892682826 13.0482776666666567\n"
     ]
    }
   ],
   "source": [
    "for i in range(3):\n",
    "    print(f'{b[i][0]:1.16f} {b[i][1]:1.16f} {b[i][2]:1.16f}')"
   ]
  }
 ],
 "metadata": {
  "kernelspec": {
   "display_name": "Python 3 (ipykernel)",
   "language": "python",
   "name": "python3"
  },
  "language_info": {
   "codemirror_mode": {
    "name": "ipython",
    "version": 3
   },
   "file_extension": ".py",
   "mimetype": "text/x-python",
   "name": "python",
   "nbconvert_exporter": "python",
   "pygments_lexer": "ipython3",
   "version": "3.11.3"
  }
 },
 "nbformat": 4,
 "nbformat_minor": 5
}
