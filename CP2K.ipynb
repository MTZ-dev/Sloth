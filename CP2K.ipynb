{
 "cells": [
  {
   "cell_type": "code",
   "execution_count": 1,
   "id": "a737cabc-da66-4391-ac00-57203c225c8f",
   "metadata": {},
   "outputs": [
    {
     "name": "stdout",
     "output_type": "stream",
     "text": [
      "Cannot switch Qt versions for this session; you must use qt6.\n",
      "\u001b[34m                  ____  _       _   _     \u001b[33m____\n",
      "\u001b[34m                 / ___|| | ___ | |_| |__ \u001b[33m|  _ \\ _   _\n",
      "\u001b[34m                 \\___ \\| |/ _ \\| __| '_ \\\u001b[33m| |_) | | | |\n",
      "\u001b[34m                  ___) | | (_) | |_| | | \u001b[33m|  __/| |_| |\n",
      "\u001b[34m                 |____/|_|\\___/ \\__|_| |_\u001b[33m|_|    \\__, |\n",
      "                                                |___/\u001b[32m  by MTZ \n",
      "\u001b[0m\n",
      "SlothPy Copyright (C) 2023 Mikolaj Tadeusz Zychowicz (MTZ).\n",
      "This program comes with ABSOLUTELY NO WARRANTY.\n",
      "This is free software, and you are welcome to redistribute it.\n",
      "The default is chosen to omit the tracebacks completely. To change it use slt.set_default_error_reporting_mode() method for the printing of tracebacks.\n",
      "Turn on the SlothPy Monitor utility using slt.turn_on_monitor().\n"
     ]
    }
   ],
   "source": [
    "import slothpy as slt"
   ]
  },
  {
   "cell_type": "code",
   "execution_count": 22,
   "id": "57585e59-8d30-4231-8b75-71ae52258deb",
   "metadata": {},
   "outputs": [
    {
     "data": {
      "text/plain": [
       "<\u001b[31mSltFile\u001b[0m object for \u001b[32mFile\u001b[0m 'Eu_cp2k.slt'.>"
      ]
     },
     "execution_count": 22,
     "metadata": {},
     "output_type": "execute_result"
    }
   ],
   "source": [
    "slt.xyz('Eu_bpdo_test.cif','Eu_cp2k','xyz')"
   ]
  },
  {
   "cell_type": "code",
   "execution_count": 25,
   "id": "913a7695-652b-4934-bec5-5e02c8e71f8f",
   "metadata": {},
   "outputs": [
    {
     "data": {
      "text/plain": [
       "<\u001b[31mSltFile\u001b[0m object for \u001b[32mFile\u001b[0m 'Eu_cp2k.slt'.>"
      ]
     },
     "execution_count": 25,
     "metadata": {},
     "output_type": "execute_result"
    }
   ],
   "source": [
    "slt.unit_cell('Eu_bpdo_test.cif','Eu_cp2k','unit_cell')"
   ]
  },
  {
   "cell_type": "code",
   "execution_count": 26,
   "id": "6d6c883f-122e-46d7-9789-1d3b265a1963",
   "metadata": {},
   "outputs": [],
   "source": [
    "Eu=slt.slt_file('Eu_cp2k.slt')"
   ]
  },
  {
   "cell_type": "code",
   "execution_count": 37,
   "id": "b387397f-5c66-41c3-9707-56216338bfd7",
   "metadata": {},
   "outputs": [
    {
     "ename": "AttributeError",
     "evalue": "'SltGroup' object has no attribute 'get_chemical_symbols'",
     "output_type": "error",
     "traceback": [
      "\u001b[0;31m---------------------------------------------------------------------------\u001b[0m",
      "\u001b[0;31mAttributeError\u001b[0m                            Traceback (most recent call last)",
      "Cell \u001b[0;32mIn[37], line 1\u001b[0m\n\u001b[0;32m----> 1\u001b[0m \u001b[43mEu\u001b[49m\u001b[43m[\u001b[49m\u001b[38;5;124;43m'\u001b[39;49m\u001b[38;5;124;43mxyz\u001b[39;49m\u001b[38;5;124;43m'\u001b[39;49m\u001b[43m]\u001b[49m\u001b[38;5;241;43m.\u001b[39;49m\u001b[43mget_chemical_symbols\u001b[49m()\n",
      "\u001b[0;31mAttributeError\u001b[0m: 'SltGroup' object has no attribute 'get_chemical_symbols'"
     ]
    }
   ],
   "source": [
    "Eu['xyz'].get_chemical_symbols()"
   ]
  },
  {
   "cell_type": "code",
   "execution_count": 44,
   "id": "b5e3ec97-3447-45e3-be5b-40d6cf9a7c56",
   "metadata": {},
   "outputs": [
    {
     "name": "stdout",
     "output_type": "stream",
     "text": [
      "unit_cell\n",
      "    Description: Unit cell group containing xyz coordinates and unit cell vectors.\n",
      "    Number_of_atoms: 992\n",
      "    Precision: DOUBLE\n",
      "    Type: UNIT_CELL\n",
      "unit_cell/CELL\n",
      "    Description: Unit cell vectors as 3x3 matrix (with vectors in rows).\n",
      "unit_cell/COORDINATES\n",
      "    Description: List of elements coordinates from the XYZ file.\n",
      "unit_cell/ELEMENTS\n",
      "    Description: List of elements from the XYZ file.\n",
      "xyz\n",
      "    Description: XYZ file.\n",
      "    Number_of_atoms: 992\n",
      "    Precision: DOUBLE\n",
      "    Type: XYZ\n",
      "xyz/COORDINATES\n",
      "    Description: List of elements coordinates from the XYZ file.\n",
      "xyz/ELEMENTS\n",
      "    Description: List of elements from the XYZ file.\n"
     ]
    }
   ],
   "source": [
    "from h5py import File \n",
    "with File('Eu_cp2k.slt', 'r') as file:\n",
    "\n",
    "    def print_attrs(name, obj):\n",
    "        print(name)\n",
    "        for key, val in obj.attrs.items():\n",
    "            print(\"    %s: %s\" % (key, val))\n",
    "\n",
    "    file.visititems(print_attrs)\n"
   ]
  },
  {
   "cell_type": "code",
   "execution_count": 46,
   "id": "2ab6b896-277d-4cad-882a-6b7b0f3e9fcc",
   "metadata": {},
   "outputs": [],
   "source": [
    "Eu['unit_cell'].to_xyz('Eu_bpdo.xyz')"
   ]
  },
  {
   "cell_type": "code",
   "execution_count": 43,
   "id": "5f974d01-eb1a-4f6e-a103-7f3556aa94ff",
   "metadata": {},
   "outputs": [
    {
     "data": {
      "text/plain": [
       "<\u001b[31mSltFile\u001b[0m object for \u001b[32mFile\u001b[0m 'Eu_cp2k.slt'.>"
      ]
     },
     "execution_count": 43,
     "metadata": {},
     "output_type": "execute_result"
    }
   ],
   "source": [
    "\n"
   ]
  },
  {
   "cell_type": "code",
   "execution_count": null,
   "id": "ce54e483-9eb5-4182-a4e1-9be4719bedc8",
   "metadata": {},
   "outputs": [],
   "source": []
  }
 ],
 "metadata": {
  "kernelspec": {
   "display_name": "Python 3 (ipykernel)",
   "language": "python",
   "name": "python3"
  },
  "language_info": {
   "codemirror_mode": {
    "name": "ipython",
    "version": 3
   },
   "file_extension": ".py",
   "mimetype": "text/x-python",
   "name": "python",
   "nbconvert_exporter": "python",
   "pygments_lexer": "ipython3",
   "version": "3.12.0"
  }
 },
 "nbformat": 4,
 "nbformat_minor": 5
}
