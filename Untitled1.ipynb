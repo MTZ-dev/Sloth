{
 "cells": [
  {
   "cell_type": "code",
   "execution_count": 11,
   "id": "a6be9522-7484-4248-a394-90bddc33a8e7",
   "metadata": {},
   "outputs": [],
   "source": [
    "import numpy as np\n",
    "import numba as nb\n",
    "from threadpoolctl import threadpool_limits\n",
    "from time import perf_counter"
   ]
  },
  {
   "cell_type": "code",
   "execution_count": 12,
   "id": "585850d1-4d48-479f-b876-ae003d9837d4",
   "metadata": {},
   "outputs": [],
   "source": [
    "a_np = np.random.rand(36000000*3).astype(np.complex128).reshape((6000,6000,3))\n",
    "a_nb = a_np.reshape((-1,3))\n",
    "b = np.array([1,2,3], dtype=np.float64)\n",
    "c = np.array([1,2,3], dtype=np.complex128)"
   ]
  },
  {
   "cell_type": "code",
   "execution_count": 15,
   "id": "05597c8a-0644-496b-ad91-fa16518f8bc1",
   "metadata": {},
   "outputs": [
    {
     "name": "stdout",
     "output_type": "stream",
     "text": [
      "(6000, 6000)\n",
      "0.49781352281570435\n"
     ]
    }
   ],
   "source": [
    "# with threadpool_limits(limits=12, user_api=\"blas\"):\n",
    "#             with threadpool_limits(limits=12, user_api=\"openmp\"):\n",
    "start = perf_counter()\n",
    "res = np.dot(a_np, b)\n",
    "exe_time = perf_counter() - start\n",
    "print(res.shape)\n",
    "print(exe_time)"
   ]
  },
  {
   "cell_type": "code",
   "execution_count": 16,
   "id": "3c198555-84e2-42f2-b66c-e2d7cf89038d",
   "metadata": {},
   "outputs": [],
   "source": [
    "@nb.jit(\n",
    "    \"complex128[:](complex128[:,:], complex128[:])\",\n",
    "    nopython=True,\n",
    "    nogil=True,\n",
    "    cache=True,\n",
    "    fastmath=True,\n",
    ")\n",
    "def numbas(a,b):\n",
    "    return np.dot(a, b)\n"
   ]
  },
  {
   "cell_type": "code",
   "execution_count": 18,
   "id": "310379da-9c8f-4c9c-a917-096b4c6e202c",
   "metadata": {},
   "outputs": [],
   "source": [
    "@nb.jit(\n",
    "    \"complex128[:,:](complex128[:,:,:], complex128[:])\",\n",
    "    nopython=True,\n",
    "    nogil=True,\n",
    "    cache=True,\n",
    "    fastmath=True,\n",
    "    parallel=True,\n",
    ")\n",
    "def numbass(a,b):\n",
    "    return b[0] * a[:,:,0] + b[1] * a[:,:,1] + b[2] * a[:,:,2]"
   ]
  },
  {
   "cell_type": "code",
   "execution_count": 17,
   "id": "45a1b248-8634-4b12-b1dd-f1fe8c3eeb4b",
   "metadata": {},
   "outputs": [
    {
     "ename": "KeyError",
     "evalue": "\"Unrecognized options: {'nogil', 'parallel'}. Known options are dict_keys(['boundscheck', 'fastmath', 'forceobj', 'nopython', 'target_backend', 'writable_args'])\"",
     "output_type": "error",
     "traceback": [
      "\u001b[0;31m---------------------------------------------------------------------------\u001b[0m",
      "\u001b[0;31mKeyError\u001b[0m                                  Traceback (most recent call last)",
      "Cell \u001b[0;32mIn[17], line 1\u001b[0m\n\u001b[0;32m----> 1\u001b[0m \u001b[38;5;129;43m@nb\u001b[39;49m\u001b[38;5;241;43m.\u001b[39;49m\u001b[43mvectorize\u001b[49m\u001b[43m(\u001b[49m\n\u001b[1;32m      2\u001b[0m \u001b[43m    \u001b[49m\u001b[38;5;124;43m\"\u001b[39;49m\u001b[38;5;124;43mcomplex128[:,:](complex128[:,:,:], complex128[:])\u001b[39;49m\u001b[38;5;124;43m\"\u001b[39;49m\u001b[43m,\u001b[49m\n\u001b[1;32m      3\u001b[0m \u001b[43m    \u001b[49m\u001b[43mnopython\u001b[49m\u001b[38;5;241;43m=\u001b[39;49m\u001b[38;5;28;43;01mTrue\u001b[39;49;00m\u001b[43m,\u001b[49m\n\u001b[1;32m      4\u001b[0m \u001b[43m    \u001b[49m\u001b[43mnogil\u001b[49m\u001b[38;5;241;43m=\u001b[39;49m\u001b[38;5;28;43;01mTrue\u001b[39;49;00m\u001b[43m,\u001b[49m\n\u001b[1;32m      5\u001b[0m \u001b[43m    \u001b[49m\u001b[43mcache\u001b[49m\u001b[38;5;241;43m=\u001b[39;49m\u001b[38;5;28;43;01mTrue\u001b[39;49;00m\u001b[43m,\u001b[49m\n\u001b[1;32m      6\u001b[0m \u001b[43m    \u001b[49m\u001b[43mfastmath\u001b[49m\u001b[38;5;241;43m=\u001b[39;49m\u001b[38;5;28;43;01mTrue\u001b[39;49;00m\u001b[43m,\u001b[49m\n\u001b[1;32m      7\u001b[0m \u001b[43m    \u001b[49m\u001b[43mparallel\u001b[49m\u001b[38;5;241;43m=\u001b[39;49m\u001b[38;5;28;43;01mTrue\u001b[39;49;00m\u001b[43m,\u001b[49m\n\u001b[1;32m      8\u001b[0m \u001b[43m)\u001b[49m\n\u001b[1;32m      9\u001b[0m \u001b[38;5;28;43;01mdef\u001b[39;49;00m\u001b[43m \u001b[49m\u001b[38;5;21;43mnumbasss\u001b[39;49m\u001b[43m(\u001b[49m\u001b[43ma\u001b[49m\u001b[43m,\u001b[49m\u001b[43mb\u001b[49m\u001b[43m)\u001b[49m\u001b[43m:\u001b[49m\n\u001b[1;32m     10\u001b[0m \u001b[43m    \u001b[49m\u001b[38;5;28;43;01mreturn\u001b[39;49;00m\u001b[43m \u001b[49m\u001b[43mb\u001b[49m\u001b[43m[\u001b[49m\u001b[38;5;241;43m0\u001b[39;49m\u001b[43m]\u001b[49m\u001b[43m \u001b[49m\u001b[38;5;241;43m*\u001b[39;49m\u001b[43m \u001b[49m\u001b[43ma\u001b[49m\u001b[43m[\u001b[49m\u001b[43m:\u001b[49m\u001b[43m,\u001b[49m\u001b[43m:\u001b[49m\u001b[43m,\u001b[49m\u001b[38;5;241;43m0\u001b[39;49m\u001b[43m]\u001b[49m\u001b[43m \u001b[49m\u001b[38;5;241;43m+\u001b[39;49m\u001b[43m \u001b[49m\u001b[43mb\u001b[49m\u001b[43m[\u001b[49m\u001b[38;5;241;43m1\u001b[39;49m\u001b[43m]\u001b[49m\u001b[43m \u001b[49m\u001b[38;5;241;43m*\u001b[39;49m\u001b[43m \u001b[49m\u001b[43ma\u001b[49m\u001b[43m[\u001b[49m\u001b[43m:\u001b[49m\u001b[43m,\u001b[49m\u001b[43m:\u001b[49m\u001b[43m,\u001b[49m\u001b[38;5;241;43m1\u001b[39;49m\u001b[43m]\u001b[49m\u001b[43m \u001b[49m\u001b[38;5;241;43m+\u001b[39;49m\u001b[43m \u001b[49m\u001b[43mb\u001b[49m\u001b[43m[\u001b[49m\u001b[38;5;241;43m2\u001b[39;49m\u001b[43m]\u001b[49m\u001b[43m \u001b[49m\u001b[38;5;241;43m*\u001b[39;49m\u001b[43m \u001b[49m\u001b[43ma\u001b[49m\u001b[43m[\u001b[49m\u001b[43m:\u001b[49m\u001b[43m,\u001b[49m\u001b[43m:\u001b[49m\u001b[43m,\u001b[49m\u001b[38;5;241;43m2\u001b[39;49m\u001b[43m]\u001b[49m\n",
      "File \u001b[0;32m~/VIRTUAL/ENV1/lib/python3.11/site-packages/numba/np/ufunc/decorators.py:131\u001b[0m, in \u001b[0;36mvectorize.<locals>.wrap\u001b[0;34m(func)\u001b[0m\n\u001b[1;32m    129\u001b[0m vec \u001b[38;5;241m=\u001b[39m Vectorize(func, \u001b[38;5;241m*\u001b[39m\u001b[38;5;241m*\u001b[39mkws)\n\u001b[1;32m    130\u001b[0m \u001b[38;5;28;01mfor\u001b[39;00m sig \u001b[38;5;129;01min\u001b[39;00m ftylist:\n\u001b[0;32m--> 131\u001b[0m     \u001b[43mvec\u001b[49m\u001b[38;5;241;43m.\u001b[39;49m\u001b[43madd\u001b[49m\u001b[43m(\u001b[49m\u001b[43msig\u001b[49m\u001b[43m)\u001b[49m\n\u001b[1;32m    132\u001b[0m \u001b[38;5;28;01mif\u001b[39;00m \u001b[38;5;28mlen\u001b[39m(ftylist) \u001b[38;5;241m>\u001b[39m \u001b[38;5;241m0\u001b[39m:\n\u001b[1;32m    133\u001b[0m     vec\u001b[38;5;241m.\u001b[39mdisable_compile()\n",
      "File \u001b[0;32m~/VIRTUAL/ENV1/lib/python3.11/site-packages/numba/np/ufunc/dufunc.py:175\u001b[0m, in \u001b[0;36mDUFunc.add\u001b[0;34m(self, sig)\u001b[0m\n\u001b[1;32m    171\u001b[0m \u001b[38;5;250m\u001b[39m\u001b[38;5;124;03m\"\"\"\u001b[39;00m\n\u001b[1;32m    172\u001b[0m \u001b[38;5;124;03mCompile the DUFunc for the given signature.\u001b[39;00m\n\u001b[1;32m    173\u001b[0m \u001b[38;5;124;03m\"\"\"\u001b[39;00m\n\u001b[1;32m    174\u001b[0m args, return_type \u001b[38;5;241m=\u001b[39m sigutils\u001b[38;5;241m.\u001b[39mnormalize_signature(sig)\n\u001b[0;32m--> 175\u001b[0m \u001b[38;5;28;01mreturn\u001b[39;00m \u001b[38;5;28;43mself\u001b[39;49m\u001b[38;5;241;43m.\u001b[39;49m\u001b[43m_compile_for_argtys\u001b[49m\u001b[43m(\u001b[49m\u001b[43margs\u001b[49m\u001b[43m,\u001b[49m\u001b[43m \u001b[49m\u001b[43mreturn_type\u001b[49m\u001b[43m)\u001b[49m\n",
      "File \u001b[0;32m~/VIRTUAL/ENV1/lib/python3.11/site-packages/numba/np/ufunc/dufunc.py:238\u001b[0m, in \u001b[0;36mDUFunc._compile_for_argtys\u001b[0;34m(self, argtys, return_type)\u001b[0m\n\u001b[1;32m    236\u001b[0m \u001b[38;5;28;01melse\u001b[39;00m:\n\u001b[1;32m    237\u001b[0m     sig \u001b[38;5;241m=\u001b[39m return_type(\u001b[38;5;241m*\u001b[39margtys)\n\u001b[0;32m--> 238\u001b[0m cres, argtys, return_type \u001b[38;5;241m=\u001b[39m \u001b[43mufuncbuilder\u001b[49m\u001b[38;5;241;43m.\u001b[39;49m\u001b[43m_compile_element_wise_function\u001b[49m\u001b[43m(\u001b[49m\n\u001b[1;32m    239\u001b[0m \u001b[43m    \u001b[49m\u001b[38;5;28;43mself\u001b[39;49m\u001b[38;5;241;43m.\u001b[39;49m\u001b[43m_dispatcher\u001b[49m\u001b[43m,\u001b[49m\u001b[43m \u001b[49m\u001b[38;5;28;43mself\u001b[39;49m\u001b[38;5;241;43m.\u001b[39;49m\u001b[43mtargetoptions\u001b[49m\u001b[43m,\u001b[49m\u001b[43m \u001b[49m\u001b[43msig\u001b[49m\u001b[43m)\u001b[49m\n\u001b[1;32m    240\u001b[0m actual_sig \u001b[38;5;241m=\u001b[39m ufuncbuilder\u001b[38;5;241m.\u001b[39m_finalize_ufunc_signature(\n\u001b[1;32m    241\u001b[0m     cres, argtys, return_type)\n\u001b[1;32m    242\u001b[0m dtypenums, ptr, env \u001b[38;5;241m=\u001b[39m ufuncbuilder\u001b[38;5;241m.\u001b[39m_build_element_wise_ufunc_wrapper(\n\u001b[1;32m    243\u001b[0m     cres, actual_sig)\n",
      "File \u001b[0;32m~/VIRTUAL/ENV1/lib/python3.11/site-packages/numba/np/ufunc/ufuncbuilder.py:176\u001b[0m, in \u001b[0;36m_compile_element_wise_function\u001b[0;34m(nb_func, targetoptions, sig)\u001b[0m\n\u001b[1;32m    173\u001b[0m \u001b[38;5;28;01mdef\u001b[39;00m \u001b[38;5;21m_compile_element_wise_function\u001b[39m(nb_func, targetoptions, sig):\n\u001b[1;32m    174\u001b[0m     \u001b[38;5;66;03m# Do compilation\u001b[39;00m\n\u001b[1;32m    175\u001b[0m     \u001b[38;5;66;03m# Return CompileResult to test\u001b[39;00m\n\u001b[0;32m--> 176\u001b[0m     cres \u001b[38;5;241m=\u001b[39m \u001b[43mnb_func\u001b[49m\u001b[38;5;241;43m.\u001b[39;49m\u001b[43mcompile\u001b[49m\u001b[43m(\u001b[49m\u001b[43msig\u001b[49m\u001b[43m,\u001b[49m\u001b[43m \u001b[49m\u001b[38;5;241;43m*\u001b[39;49m\u001b[38;5;241;43m*\u001b[39;49m\u001b[43mtargetoptions\u001b[49m\u001b[43m)\u001b[49m\n\u001b[1;32m    177\u001b[0m     args, return_type \u001b[38;5;241m=\u001b[39m sigutils\u001b[38;5;241m.\u001b[39mnormalize_signature(sig)\n\u001b[1;32m    178\u001b[0m     \u001b[38;5;28;01mreturn\u001b[39;00m cres, args, return_type\n",
      "File \u001b[0;32m~/VIRTUAL/ENV1/lib/python3.11/site-packages/numba/np/ufunc/ufuncbuilder.py:115\u001b[0m, in \u001b[0;36mUFuncDispatcher.compile\u001b[0;34m(self, sig, locals, **targetoptions)\u001b[0m\n\u001b[1;32m    112\u001b[0m topt\u001b[38;5;241m.\u001b[39mupdate(targetoptions)\n\u001b[1;32m    114\u001b[0m flags \u001b[38;5;241m=\u001b[39m compiler\u001b[38;5;241m.\u001b[39mFlags()\n\u001b[0;32m--> 115\u001b[0m \u001b[38;5;28;43mself\u001b[39;49m\u001b[38;5;241;43m.\u001b[39;49m\u001b[43mtargetdescr\u001b[49m\u001b[38;5;241;43m.\u001b[39;49m\u001b[43moptions\u001b[49m\u001b[38;5;241;43m.\u001b[39;49m\u001b[43mparse_as_flags\u001b[49m\u001b[43m(\u001b[49m\u001b[43mflags\u001b[49m\u001b[43m,\u001b[49m\u001b[43m \u001b[49m\u001b[43mtopt\u001b[49m\u001b[43m)\u001b[49m\n\u001b[1;32m    117\u001b[0m flags\u001b[38;5;241m.\u001b[39mno_cpython_wrapper \u001b[38;5;241m=\u001b[39m \u001b[38;5;28;01mTrue\u001b[39;00m\n\u001b[1;32m    118\u001b[0m flags\u001b[38;5;241m.\u001b[39merror_model \u001b[38;5;241m=\u001b[39m \u001b[38;5;124m\"\u001b[39m\u001b[38;5;124mnumpy\u001b[39m\u001b[38;5;124m\"\u001b[39m\n",
      "File \u001b[0;32m~/VIRTUAL/ENV1/lib/python3.11/site-packages/numba/core/options.py:41\u001b[0m, in \u001b[0;36mTargetOptions.parse_as_flags\u001b[0;34m(cls, flags, options)\u001b[0m\n\u001b[1;32m     32\u001b[0m \u001b[38;5;250m\u001b[39m\u001b[38;5;124;03m\"\"\"Parse target options defined in ``options`` and set ``flags``\u001b[39;00m\n\u001b[1;32m     33\u001b[0m \u001b[38;5;124;03maccordingly.\u001b[39;00m\n\u001b[1;32m     34\u001b[0m \n\u001b[0;32m   (...)\u001b[0m\n\u001b[1;32m     38\u001b[0m \u001b[38;5;124;03moptions : dict\u001b[39;00m\n\u001b[1;32m     39\u001b[0m \u001b[38;5;124;03m\"\"\"\u001b[39;00m\n\u001b[1;32m     40\u001b[0m opt \u001b[38;5;241m=\u001b[39m \u001b[38;5;28mcls\u001b[39m()\n\u001b[0;32m---> 41\u001b[0m \u001b[43mopt\u001b[49m\u001b[38;5;241;43m.\u001b[39;49m\u001b[43m_apply\u001b[49m\u001b[43m(\u001b[49m\u001b[43mflags\u001b[49m\u001b[43m,\u001b[49m\u001b[43m \u001b[49m\u001b[43moptions\u001b[49m\u001b[43m)\u001b[49m\n\u001b[1;32m     42\u001b[0m opt\u001b[38;5;241m.\u001b[39mfinalize(flags, options)\n\u001b[1;32m     43\u001b[0m \u001b[38;5;28;01mreturn\u001b[39;00m flags\n",
      "File \u001b[0;32m~/VIRTUAL/ENV1/lib/python3.11/site-packages/numba/core/options.py:66\u001b[0m, in \u001b[0;36mTargetOptions._apply\u001b[0;34m(self, flags, options)\u001b[0m\n\u001b[1;32m     62\u001b[0m \u001b[38;5;28;01mif\u001b[39;00m unused:\n\u001b[1;32m     63\u001b[0m     \u001b[38;5;66;03m# Unread options?\u001b[39;00m\n\u001b[1;32m     64\u001b[0m     m \u001b[38;5;241m=\u001b[39m (\u001b[38;5;124mf\u001b[39m\u001b[38;5;124m\"\u001b[39m\u001b[38;5;124mUnrecognized options: \u001b[39m\u001b[38;5;132;01m{\u001b[39;00munused\u001b[38;5;132;01m}\u001b[39;00m\u001b[38;5;124m. \u001b[39m\u001b[38;5;124m\"\u001b[39m\n\u001b[1;32m     65\u001b[0m          \u001b[38;5;124mf\u001b[39m\u001b[38;5;124m\"\u001b[39m\u001b[38;5;124mKnown options are \u001b[39m\u001b[38;5;132;01m{\u001b[39;00mmappings\u001b[38;5;241m.\u001b[39mkeys()\u001b[38;5;132;01m}\u001b[39;00m\u001b[38;5;124m\"\u001b[39m)\n\u001b[0;32m---> 66\u001b[0m     \u001b[38;5;28;01mraise\u001b[39;00m \u001b[38;5;167;01mKeyError\u001b[39;00m(m)\n",
      "\u001b[0;31mKeyError\u001b[0m: \"Unrecognized options: {'nogil', 'parallel'}. Known options are dict_keys(['boundscheck', 'fastmath', 'forceobj', 'nopython', 'target_backend', 'writable_args'])\""
     ]
    }
   ],
   "source": [
    "@nb.vectorize(\n",
    "    \"complex128[:,:](complex128[:,:,:], complex128[:])\",\n",
    "    nopython=True,\n",
    "    nogil=True,\n",
    "    cache=True,\n",
    "    fastmath=True,\n",
    "    parallel=True,\n",
    ")\n",
    "def numbasss(a,b):\n",
    "    return b[0] * a[:,:,0] + b[1] * a[:,:,1] + b[2] * a[:,:,2]"
   ]
  },
  {
   "cell_type": "code",
   "execution_count": 21,
   "id": "c778296c-1925-466e-8664-e15cb19606d1",
   "metadata": {},
   "outputs": [
    {
     "name": "stdout",
     "output_type": "stream",
     "text": [
      "(6000, 6000)\n",
      "0.08348806388676167\n"
     ]
    }
   ],
   "source": [
    "with threadpool_limits(limits=64, user_api=\"blas\"):\n",
    "            with threadpool_limits(limits=64, user_api=\"openmp\"):\n",
    "                nb.set_num_threads(64)\n",
    "                start = perf_counter()\n",
    "                res = numbass(a_np, c)\n",
    "                exe_time = perf_counter() - start\n",
    "print(res.shape)\n",
    "print(exe_time)    "
   ]
  },
  {
   "cell_type": "code",
   "execution_count": 6,
   "id": "d52b5967-3ad7-4bd7-8695-4a80aec6da62",
   "metadata": {},
   "outputs": [],
   "source": [
    "import numpy as np\n",
    "from numba import vectorize, float64\n",
    "import timeit\n",
    "\n",
    "# Constants\n",
    "N = 1000000  # Number of energy values\n",
    "energies = np.random.random(N) * 100  # Random energies between 0 and 100\n",
    "constant = 10.0  # Example constant\n",
    "\n",
    "# Baseline NumPy Implementation\n",
    "def numpy_exp_sum(energies):\n",
    "    return np.exp(-energies / constant)\n",
    "\n",
    "# Numba Vectorized without Optimization\n",
    "@vectorize\n",
    "def exp_energy_numba_basic(energy):\n",
    "    return np.exp(-energy / constant)\n",
    "\n",
    "# Numba Vectorized with Signature\n",
    "@vectorize([float64(float64)])\n",
    "def exp_energy_numba_sig(energy):\n",
    "    return np.exp(-energy / constant)\n",
    "\n",
    "# Numba Vectorized with Parallelization\n",
    "@vectorize([float64(float64)], target='parallel')\n",
    "def exp_energy_numba_parallel(energy):\n",
    "    return np.exp(-energy / constant)\n",
    "\n",
    "# Numba Vectorized with Parallelization and Fast Math\n",
    "@vectorize([float64(float64)], target='parallel', fastmath=True)\n",
    "def exp_energy_numba_parallel_fastmath(energy):\n",
    "    return np.exp(-energy / constant)\n",
    "\n",
    "# Function to run the benchmark\n",
    "def run_benchmark(function, label):\n",
    "    time = timeit.timeit(lambda: function(energies), number=10) / 10\n",
    "    print(f\"{label}: {time:.5f} seconds\")\n"
   ]
  },
  {
   "cell_type": "code",
   "execution_count": 120,
   "id": "5d6c83f0-f914-43e7-9da9-a3b4bacb16f7",
   "metadata": {},
   "outputs": [],
   "source": []
  },
  {
   "cell_type": "code",
   "execution_count": 123,
   "id": "eb6e2efd-1ee8-47fe-8c85-fb249f9311b2",
   "metadata": {},
   "outputs": [
    {
     "name": "stdout",
     "output_type": "stream",
     "text": [
      "Baseline NumPy: 0.00794 seconds\n",
      "Numba Basic: 0.00840 seconds\n"
     ]
    },
    {
     "ename": "TypeError",
     "evalue": "function() takes 0 positional arguments but 1 was given",
     "output_type": "error",
     "traceback": [
      "\u001b[0;31m---------------------------------------------------------------------------\u001b[0m",
      "\u001b[0;31mTypeError\u001b[0m                                 Traceback (most recent call last)",
      "Cell \u001b[0;32mIn[123], line 3\u001b[0m\n\u001b[1;32m      1\u001b[0m run_benchmark(numpy_exp_sum, \u001b[38;5;124m\"\u001b[39m\u001b[38;5;124mBaseline NumPy\u001b[39m\u001b[38;5;124m\"\u001b[39m)\n\u001b[1;32m      2\u001b[0m run_benchmark(\u001b[38;5;28;01mlambda\u001b[39;00m e: exp_energy_numba_basic(e), \u001b[38;5;124m\"\u001b[39m\u001b[38;5;124mNumba Basic\u001b[39m\u001b[38;5;124m\"\u001b[39m)\n\u001b[0;32m----> 3\u001b[0m \u001b[43mrun_benchmark\u001b[49m\u001b[43m(\u001b[49m\u001b[43mfunction\u001b[49m\u001b[43m,\u001b[49m\u001b[43m \u001b[49m\u001b[38;5;124;43m\"\u001b[39;49m\u001b[38;5;124;43mNumba with Signature\u001b[39;49m\u001b[38;5;124;43m\"\u001b[39;49m\u001b[43m)\u001b[49m\n\u001b[1;32m      4\u001b[0m run_benchmark(\u001b[38;5;28;01mlambda\u001b[39;00m e: exp_energy_numba_parallel(e)\u001b[38;5;241m.\u001b[39msum(), \u001b[38;5;124m\"\u001b[39m\u001b[38;5;124mNumba Parallel\u001b[39m\u001b[38;5;124m\"\u001b[39m)\n\u001b[1;32m      5\u001b[0m run_benchmark(\u001b[38;5;28;01mlambda\u001b[39;00m e: exp_energy_numba_parallel_fastmath(e), \u001b[38;5;124m\"\u001b[39m\u001b[38;5;124mNumba Parallel + Fast Math\u001b[39m\u001b[38;5;124m\"\u001b[39m)\n",
      "Cell \u001b[0;32mIn[122], line 36\u001b[0m, in \u001b[0;36mrun_benchmark\u001b[0;34m(function, label)\u001b[0m\n\u001b[1;32m     35\u001b[0m \u001b[38;5;28;01mdef\u001b[39;00m \u001b[38;5;21mrun_benchmark\u001b[39m(function, label):\n\u001b[0;32m---> 36\u001b[0m     time \u001b[38;5;241m=\u001b[39m \u001b[43mtimeit\u001b[49m\u001b[38;5;241;43m.\u001b[39;49m\u001b[43mtimeit\u001b[49m\u001b[43m(\u001b[49m\u001b[38;5;28;43;01mlambda\u001b[39;49;00m\u001b[43m:\u001b[49m\u001b[43m \u001b[49m\u001b[43mfunction\u001b[49m\u001b[43m(\u001b[49m\u001b[43menergies\u001b[49m\u001b[43m)\u001b[49m\u001b[43m,\u001b[49m\u001b[43m \u001b[49m\u001b[43mnumber\u001b[49m\u001b[38;5;241;43m=\u001b[39;49m\u001b[38;5;241;43m10\u001b[39;49m\u001b[43m)\u001b[49m \u001b[38;5;241m/\u001b[39m \u001b[38;5;241m10\u001b[39m\n\u001b[1;32m     37\u001b[0m     \u001b[38;5;28mprint\u001b[39m(\u001b[38;5;124mf\u001b[39m\u001b[38;5;124m\"\u001b[39m\u001b[38;5;132;01m{\u001b[39;00mlabel\u001b[38;5;132;01m}\u001b[39;00m\u001b[38;5;124m: \u001b[39m\u001b[38;5;132;01m{\u001b[39;00mtime\u001b[38;5;132;01m:\u001b[39;00m\u001b[38;5;124m.5f\u001b[39m\u001b[38;5;132;01m}\u001b[39;00m\u001b[38;5;124m seconds\u001b[39m\u001b[38;5;124m\"\u001b[39m)\n",
      "File \u001b[0;32m/usr/lib/python3.11/timeit.py:234\u001b[0m, in \u001b[0;36mtimeit\u001b[0;34m(stmt, setup, timer, number, globals)\u001b[0m\n\u001b[1;32m    231\u001b[0m \u001b[38;5;28;01mdef\u001b[39;00m \u001b[38;5;21mtimeit\u001b[39m(stmt\u001b[38;5;241m=\u001b[39m\u001b[38;5;124m\"\u001b[39m\u001b[38;5;124mpass\u001b[39m\u001b[38;5;124m\"\u001b[39m, setup\u001b[38;5;241m=\u001b[39m\u001b[38;5;124m\"\u001b[39m\u001b[38;5;124mpass\u001b[39m\u001b[38;5;124m\"\u001b[39m, timer\u001b[38;5;241m=\u001b[39mdefault_timer,\n\u001b[1;32m    232\u001b[0m            number\u001b[38;5;241m=\u001b[39mdefault_number, \u001b[38;5;28mglobals\u001b[39m\u001b[38;5;241m=\u001b[39m\u001b[38;5;28;01mNone\u001b[39;00m):\n\u001b[1;32m    233\u001b[0m \u001b[38;5;250m    \u001b[39m\u001b[38;5;124;03m\"\"\"Convenience function to create Timer object and call timeit method.\"\"\"\u001b[39;00m\n\u001b[0;32m--> 234\u001b[0m     \u001b[38;5;28;01mreturn\u001b[39;00m \u001b[43mTimer\u001b[49m\u001b[43m(\u001b[49m\u001b[43mstmt\u001b[49m\u001b[43m,\u001b[49m\u001b[43m \u001b[49m\u001b[43msetup\u001b[49m\u001b[43m,\u001b[49m\u001b[43m \u001b[49m\u001b[43mtimer\u001b[49m\u001b[43m,\u001b[49m\u001b[43m \u001b[49m\u001b[38;5;28;43mglobals\u001b[39;49m\u001b[43m)\u001b[49m\u001b[38;5;241;43m.\u001b[39;49m\u001b[43mtimeit\u001b[49m\u001b[43m(\u001b[49m\u001b[43mnumber\u001b[49m\u001b[43m)\u001b[49m\n",
      "File \u001b[0;32m/usr/lib/python3.11/timeit.py:178\u001b[0m, in \u001b[0;36mTimer.timeit\u001b[0;34m(self, number)\u001b[0m\n\u001b[1;32m    176\u001b[0m gc\u001b[38;5;241m.\u001b[39mdisable()\n\u001b[1;32m    177\u001b[0m \u001b[38;5;28;01mtry\u001b[39;00m:\n\u001b[0;32m--> 178\u001b[0m     timing \u001b[38;5;241m=\u001b[39m \u001b[38;5;28;43mself\u001b[39;49m\u001b[38;5;241;43m.\u001b[39;49m\u001b[43minner\u001b[49m\u001b[43m(\u001b[49m\u001b[43mit\u001b[49m\u001b[43m,\u001b[49m\u001b[43m \u001b[49m\u001b[38;5;28;43mself\u001b[39;49m\u001b[38;5;241;43m.\u001b[39;49m\u001b[43mtimer\u001b[49m\u001b[43m)\u001b[49m\n\u001b[1;32m    179\u001b[0m \u001b[38;5;28;01mfinally\u001b[39;00m:\n\u001b[1;32m    180\u001b[0m     \u001b[38;5;28;01mif\u001b[39;00m gcold:\n",
      "File \u001b[0;32m<timeit-src>:6\u001b[0m, in \u001b[0;36minner\u001b[0;34m(_it, _timer, _stmt)\u001b[0m\n",
      "Cell \u001b[0;32mIn[122], line 36\u001b[0m, in \u001b[0;36mrun_benchmark.<locals>.<lambda>\u001b[0;34m()\u001b[0m\n\u001b[1;32m     35\u001b[0m \u001b[38;5;28;01mdef\u001b[39;00m \u001b[38;5;21mrun_benchmark\u001b[39m(function, label):\n\u001b[0;32m---> 36\u001b[0m     time \u001b[38;5;241m=\u001b[39m timeit\u001b[38;5;241m.\u001b[39mtimeit(\u001b[38;5;28;01mlambda\u001b[39;00m: \u001b[43mfunction\u001b[49m\u001b[43m(\u001b[49m\u001b[43menergies\u001b[49m\u001b[43m)\u001b[49m, number\u001b[38;5;241m=\u001b[39m\u001b[38;5;241m10\u001b[39m) \u001b[38;5;241m/\u001b[39m \u001b[38;5;241m10\u001b[39m\n\u001b[1;32m     37\u001b[0m     \u001b[38;5;28mprint\u001b[39m(\u001b[38;5;124mf\u001b[39m\u001b[38;5;124m\"\u001b[39m\u001b[38;5;132;01m{\u001b[39;00mlabel\u001b[38;5;132;01m}\u001b[39;00m\u001b[38;5;124m: \u001b[39m\u001b[38;5;132;01m{\u001b[39;00mtime\u001b[38;5;132;01m:\u001b[39;00m\u001b[38;5;124m.5f\u001b[39m\u001b[38;5;132;01m}\u001b[39;00m\u001b[38;5;124m seconds\u001b[39m\u001b[38;5;124m\"\u001b[39m)\n",
      "\u001b[0;31mTypeError\u001b[0m: function() takes 0 positional arguments but 1 was given"
     ]
    }
   ],
   "source": [
    "run_benchmark(numpy_exp_sum, \"Baseline NumPy\")\n",
    "run_benchmark(lambda e: exp_energy_numba_basic(e).sum(), \"Numba Basic\")\n",
    "run_benchmark(lambda e: exp_energy_numba_parallel(e).sum(), \"Numba Parallel\")\n",
    "run_benchmark(lambda e: exp_energy_numba_parallel_fastmath(e).sum(), \"Numba Parallel + Fast Math\")"
   ]
  },
  {
   "cell_type": "code",
   "execution_count": 5,
   "id": "37334bf2-b0e8-4474-adc7-f00ba50696c4",
   "metadata": {},
   "outputs": [
    {
     "ename": "NameError",
     "evalue": "name 'jit' is not defined",
     "output_type": "error",
     "traceback": [
      "\u001b[0;31m---------------------------------------------------------------------------\u001b[0m",
      "\u001b[0;31mNameError\u001b[0m                                 Traceback (most recent call last)",
      "Cell \u001b[0;32mIn[5], line 4\u001b[0m\n\u001b[1;32m      1\u001b[0m \u001b[38;5;28;01mfrom\u001b[39;00m \u001b[38;5;21;01mnumpy\u001b[39;00m \u001b[38;5;28;01mimport\u001b[39;00m ascontiguousarray, exp, \u001b[38;5;28msum\u001b[39m, vdot, ndarray\n\u001b[1;32m      2\u001b[0m \u001b[38;5;28;01mfrom\u001b[39;00m \u001b[38;5;21;01mnumba\u001b[39;00m \u001b[38;5;28;01mimport\u001b[39;00m prange\n\u001b[0;32m----> 4\u001b[0m \u001b[38;5;129m@jit\u001b[39m(\n\u001b[1;32m      5\u001b[0m     \u001b[38;5;124m\"\u001b[39m\u001b[38;5;124mfloat64(float64[:], float64[:], float64)\u001b[39m\u001b[38;5;124m\"\u001b[39m,\n\u001b[1;32m      6\u001b[0m     nopython\u001b[38;5;241m=\u001b[39m\u001b[38;5;28;01mTrue\u001b[39;00m,\n\u001b[1;32m      7\u001b[0m     nogil\u001b[38;5;241m=\u001b[39m\u001b[38;5;28;01mTrue\u001b[39;00m,\n\u001b[1;32m      8\u001b[0m     cache\u001b[38;5;241m=\u001b[39m\u001b[38;5;28;01mTrue\u001b[39;00m,\n\u001b[1;32m      9\u001b[0m     inline\u001b[38;5;241m=\u001b[39m\u001b[38;5;124m\"\u001b[39m\u001b[38;5;124malways\u001b[39m\u001b[38;5;124m\"\u001b[39m,\n\u001b[1;32m     10\u001b[0m )\n\u001b[1;32m     11\u001b[0m \u001b[38;5;28;01mdef\u001b[39;00m \u001b[38;5;21m_calculate_magnetization\u001b[39m(\n\u001b[1;32m     12\u001b[0m     energies: ndarray, states_momenta: ndarray, temperature: float64\n\u001b[1;32m     13\u001b[0m ) \u001b[38;5;241m-\u001b[39m\u001b[38;5;241m>\u001b[39m float64:\n\u001b[1;32m     14\u001b[0m     energies \u001b[38;5;241m=\u001b[39m ascontiguousarray(energies)\n\u001b[1;32m     15\u001b[0m     states_momenta \u001b[38;5;241m=\u001b[39m ascontiguousarray(states_momenta)\n",
      "\u001b[0;31mNameError\u001b[0m: name 'jit' is not defined"
     ]
    }
   ],
   "source": [
    "from numpy import ascontiguousarray, exp, sum, vdot, ndarray\n",
    "from numba import prange\n",
    "\n",
    "@jit(\n",
    "    \"float64(float64[:], float64[:], float64)\",\n",
    "    nopython=True,\n",
    "    nogil=True,\n",
    "    cache=True,\n",
    "    inline=\"always\",\n",
    ")\n",
    "def _calculate_magnetization(\n",
    "    energies: ndarray, states_momenta: ndarray, temperature: float64\n",
    ") -> float64:\n",
    "    energies = ascontiguousarray(energies)\n",
    "    states_momenta = ascontiguousarray(states_momenta)\n",
    "    # Boltzman weights\n",
    "    energies = exp(-(energies - energies[0]) / (0.69))\n",
    "\n",
    "    # Partition function\n",
    "    z = sum(energies)\n",
    "\n",
    "    # Weighted magnetic moments of microstates\n",
    "    m = vdot(states_momenta, energies)\n",
    "\n",
    "    return m / z\n",
    "\n",
    "\n",
    "@jit(\n",
    "    \"float64(float64[:], float64[:], float64)\",\n",
    "    nopython=True,\n",
    "    nogil=True,\n",
    "    cache=True,\n",
    "    inline=\"always\",\n",
    "    parallel=True,\n",
    ")\n",
    "def _calculate_magnetization_numba(\n",
    "    energies: ndarray, states_momenta: ndarray, temperature: float64\n",
    ") -> float64:\n",
    "    z = 0\n",
    "    m = 0\n",
    "    for i in prange(energies.shape[0]):\n",
    "        e = np.exp(energies[0]-energies[i]/0.69)\n",
    "        z += e\n",
    "        m += e * states_momenta[i]\n",
    "\n",
    "    return m / z"
   ]
  },
  {
   "cell_type": "code",
   "execution_count": null,
   "id": "b473ebc4-2875-4299-9d0f-65b966a4629c",
   "metadata": {},
   "outputs": [
    {
     "name": "stdout",
     "output_type": "stream",
     "text": [
      "Exec time: 1290.9742815252393 s\n"
     ]
    }
   ],
   "source": [
    "from time import perf_counter\n",
    "N = 50000\n",
    "u = np.random.random(N**2)  # Random energies between 0 and 100\n",
    "u = u.reshape((N,N))\n",
    "u = (u + 1j*u).T.conj() + u + 1j*u\n",
    "m = u.copy()\n",
    "u = np.ascontiguousarray(u)\n",
    "m = np.ascontiguousarray(m)\n",
    "start = perf_counter()\n",
    "res1 = diag_utmu(u, m)\n",
    "stop = perf_counter()\n",
    "exe_time = stop - start\n",
    "print(f\"Exec time: {exe_time} s\")\n",
    "start = perf_counter()\n",
    "res2 = diag_utmu_numba(u,m)\n",
    "stop = perf_counter()\n",
    "exe_time = stop - start\n",
    "print(f\"Exec time: {exe_time} s\")\n",
    "with threadpool_limits(limits=128, user_api=\"blas\"):\n",
    "            with threadpool_limits(limits=128, user_api=\"openmp\"):\n",
    "                nb.set_num_threads(128)\n",
    "                start = perf_counter()\n",
    "                res3 = diag_utmu_numba_raw(u,m)\n",
    "                stop = perf_counter()\n",
    "                exe_time = stop - start\n",
    "                print(f\"Exec time: {exe_time} s\")\n",
    "               \n",
    "\n",
    "print(np.max(res1-res2))\n",
    "print(np.max(res1-res3))\n",
    "\n",
    "# precise = diag_utmu_precision(u, m)\n",
    "# u = u.astype(np.float128)\n",
    "# m = m.astype(np.float128)\n",
    "\n",
    "# print(np.max(precise-res1))\n",
    "# print(np.max(precise-res2))\n",
    "# print(np.max(precise-res3))"
   ]
  },
  {
   "cell_type": "code",
   "execution_count": 11,
   "id": "df8e422e-6138-4511-bea9-eecb1d67c7ef",
   "metadata": {},
   "outputs": [],
   "source": [
    "from numba import jit, prange\n",
    "import numpy as np\n",
    "import numba as nb\n",
    "from threadpoolctl import threadpool_limits\n",
    "from time import perf_counter\n",
    "\n",
    "def diag_utmu_precision(u, m):\n",
    "    u = u.astype(np.complex256)\n",
    "    m = m.astype(np.complex256)\n",
    "    return np.diag(u.T.conj() @ m @ u).real\n",
    "\n",
    "def diag_utmu(u, m):\n",
    "    return np.diag(u.T.conj() @ m @ u).real\n",
    "\n",
    "@jit(\n",
    "    \"float64[:](complex128[:,:], complex128[:,:])\",\n",
    "    nopython=True,\n",
    "    nogil=True,\n",
    "    cache=True,\n",
    "    fastmath=True,\n",
    "    inline=\"always\",\n",
    ")\n",
    "def diag_utmu_numba(u, m):\n",
    "    u = np.ascontiguousarray(u)\n",
    "    m = np.ascontiguousarray(m)\n",
    "    return np.diag(u.T.conj() @ m @ u).real\n",
    "\n",
    "@jit(\n",
    "    \"float64[:](complex128[:,:], complex128[:,:])\",\n",
    "    nopython=True,\n",
    "    nogil=True,\n",
    "    cache=True,\n",
    "    fastmath=True,\n",
    "    inline=\"always\",\n",
    "    parallel=True,\n",
    ")\n",
    "def diag_utmu_numba_raw(u, m):\n",
    "    u = np.ascontiguousarray(u)\n",
    "    m = np.ascontiguousarray(m)\n",
    "    res = np.zeros((u.shape[0],), dtype=np.complex128)\n",
    "    m = u.T.conjugate() @ m\n",
    "    for i in prange(u.shape[0]):\n",
    "        for k in range(u.shape[0]):\n",
    "                res[i] += m[i,k] * u[k,i]\n",
    "                \n",
    "    return res.real"
   ]
  },
  {
   "cell_type": "code",
   "execution_count": null,
   "id": "2065de1a-dd78-4385-8a39-6d4110027cef",
   "metadata": {},
   "outputs": [],
   "source": [
    "from time import perf_counter\n",
    "N = 10000  # Number of energy values\n",
    "temperatures = 10.3\n",
    "energies = np.random.random(N) * 100  # Random energies between 0 and 100\n",
    "momenta = np.random.random(N) * 100  # Random energies between 0 and 100\n",
    "start = perf_counter()\n",
    "res2 = _calculate_magnetization(energies, momenta, temperatures)\n",
    "stop = perf_counter()\n",
    "exe_time = stop - start\n",
    "print(f\"Exec time: {exe_time} s\")\n",
    "start = perf_counter()\n",
    "res1 = _calculate_magnetization_numba(energies, momenta, temperatures)\n",
    "stop = perf_counter()\n",
    "exe_time = stop - start\n",
    "print(f\"Exec time: {exe_time} s\")\n",
    "\n",
    "print(res1-res2)"
   ]
  }
 ],
 "metadata": {
  "kernelspec": {
   "display_name": "Python 3 (ipykernel)",
   "language": "python",
   "name": "python3"
  },
  "language_info": {
   "codemirror_mode": {
    "name": "ipython",
    "version": 3
   },
   "file_extension": ".py",
   "mimetype": "text/x-python",
   "name": "python",
   "nbconvert_exporter": "python",
   "pygments_lexer": "ipython3",
   "version": "3.11.3"
  }
 },
 "nbformat": 4,
 "nbformat_minor": 5
}
