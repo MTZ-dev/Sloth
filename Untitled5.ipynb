{
 "cells": [
  {
   "cell_type": "code",
   "execution_count": 1,
   "id": "8b6935fa-6591-4d24-9a4e-bcc7c7576546",
   "metadata": {},
   "outputs": [
    {
     "name": "stdout",
     "output_type": "stream",
     "text": [
      "Cannot switch Qt versions for this session; you must use qt6.\n",
      "\u001b[34m                  ____  _       _   _     \u001b[33m____\n",
      "\u001b[34m                 / ___|| | ___ | |_| |__ \u001b[33m|  _ \\ _   _\n",
      "\u001b[34m                 \\___ \\| |/ _ \\| __| '_ \\\u001b[33m| |_) | | | |\n",
      "\u001b[34m                  ___) | | (_) | |_| | | \u001b[33m|  __/| |_| |\n",
      "\u001b[34m                 |____/|_|\\___/ \\__|_| |_\u001b[33m|_|    \\__, |\n",
      "                                                |___/\u001b[32m  by MTZ \n",
      "\u001b[0m\n",
      "SlothPy Copyright (C) 2023 Mikolaj Tadeusz Zychowicz (MTZ).\n",
      "This program comes with ABSOLUTELY NO WARRANTY.\n",
      "This is free software, and you are welcome to redistribute it.\n",
      "The default is chosen to omit the tracebacks completely. To change it use slt.set_default_error_reporting_mode() method for the printing of tracebacks.\n",
      "Turn on the SlothPy Monitor utility using slt.turn_on_monitor().\n",
      "Exception reporting mode: Plain\n",
      "[ 0.00474905+1.40260074e-17j -0.00474905+2.86117718e-18j\n",
      "  0.04350346-2.14287351e-18j -0.04350345-5.97954049e-18j\n",
      " -0.08004185-3.88837607e-20j  0.08004185+1.03767827e-19j\n",
      " -2.63676966+1.21008270e-18j  2.63676965+3.85010820e-20j\n",
      " -0.30949375-5.41390877e-19j  0.30949375+2.23061398e-18j\n",
      "  0.0136084 -1.32681060e-17j -0.0136084 +2.88129598e-17j\n",
      "  1.92471605+2.75612842e-19j -1.92471605-1.46778351e-18j]\n",
      "[-0.48837739+2.77555756e-17j -0.40422127-7.15573434e-17j\n",
      " -0.01034574-5.55111512e-17j  0.07180699+2.77555756e-17j\n",
      " -1.01174946-1.11022302e-16j  0.15303619+1.12757026e-17j\n",
      " -0.89105165+5.55111512e-17j  2.59098844+5.55111512e-17j\n",
      " -0.41723636-1.41379963e-16j  0.0390522 +1.38777878e-16j\n",
      "  0.06614919-7.97972799e-17j  0.13149019+2.77555756e-17j\n",
      " -1.53532375-3.15460297e-18j  1.70578241-8.48534275e-17j]\n",
      "[-0.00010756+1.64553136e-21j  0.00010756-2.69190388e-22j\n",
      "  0.00201337-1.82271291e-21j  0.0015577 -2.99616445e-21j\n",
      "  0.00206065-4.88664433e-22j  0.0017626 +6.95004395e-22j\n",
      "  0.00217182+1.31374987e-21j  0.00283441+8.35511420e-21j\n",
      "  0.05160325+5.23393784e-21j  0.05163124+9.11672363e-21j\n",
      "  0.05244417-8.31409053e-21j  0.05259474+9.79718536e-21j\n",
      "  0.05356503+9.63655794e-21j  0.05338198-3.52585661e-21j]\n"
     ]
    }
   ],
   "source": [
    "import slothpy as slt\n",
    "from slothpy._general_utilities._constants import B_AU_T\n",
    "import numpy as np\n",
    "from threadpoolctl import threadpool_limits\n",
    "import os\n",
    "from scipy.spatial.transform import Rotation\n",
    "os.remove('Nd_lumi.slt')\n",
    "with threadpool_limits(4):\n",
    "    Yb=slt.hamiltonian_from_orca('Yb_bpdo_casscf_nevpt2_dipmom_x2c.out','Nd_lumi','test',True, True, False)\n",
    "    # Yb = slt.slt_file(\"Nd_lumi.slt\")\n",
    "    # Yb[\"test\"].s[:]\n",
    "    #print(Yb)\n",
    "    with threadpool_limits(4):\n",
    "        from scipy.spatial.transform import Rotation\n",
    "        magnetic_field = - np.asarray([36,36,36]) / B_AU_T\n",
    "        M = Yb[\"test\"].magnetic_dipole_momentum_matrices(\"xyz\").eval()\n",
    "        ham_zeeman = M[0] * magnetic_field[0] + M[1] * magnetic_field[1] + M[2] * magnetic_field[2]\n",
    "        # magnetic_field[:,np.newaxis, np.newaxis] * M\n",
    "        energies = Yb[\"test\"].states_energies_au().eval()\n",
    "        for i in range(ham_zeeman.shape[0]):\n",
    "            ham_zeeman[i,i] += energies[i] #tu musi byc rzeczywiste, poprawic mnozenie l i s, -07=0\n",
    "        energies2, eigenvectors = np.linalg.eigh(ham_zeeman)\n",
    "        dipole_momenta = Yb[\"test\"].electric_dipole_momentum_matrices(\"xyz\").eval()\n",
    "        print(np.diag(dipole_momenta[0]))\n",
    "        transformed_dip_mom = eigenvectors.conj().T[np.newaxis, :, :] @ dipole_momenta @ eigenvectors #rzeczywiste, czemu taka duza energia\n",
    "        #To chyba działało tez bez tego newaxis ale trzeba sprawdzic\n",
    "    \n",
    "        print(np.diag(transformed_dip_mom[0]))\n",
    "        print(np.diag(ham_zeeman) )\n",
    "        #print(1e7/(energies2*219474.6))\n"
   ]
  },
  {
   "cell_type": "code",
   "execution_count": 4,
   "id": "726defdd-eb93-4bcc-b336-448a3a98653f",
   "metadata": {},
   "outputs": [],
   "source": [
    "#os.remove('Nd_lumi.slt')\n",
    "with threadpool_limits(4):\n",
    "    Sm=slt.hamiltonian_from_orca('Sm_tcm_pt2.out','Sm','test',True, True, False)"
   ]
  },
  {
   "cell_type": "code",
   "execution_count": 20,
   "id": "0f658fb3-126f-4bf6-bfbf-323f50a370f3",
   "metadata": {},
   "outputs": [
    {
     "ename": "AttributeError",
     "evalue": "'SltHamiltonian' object has no attribute '_hdf5'",
     "output_type": "error",
     "traceback": [
      "Traceback \u001b[0;36m(most recent call last)\u001b[0m:\n",
      "\u001b[0m  Cell \u001b[1;32mIn[20], line 2\u001b[0m\n    mth=Sm[\"test\"].magnetisation(magnetic_fields=pola,orientations=5,temperatures=[1.8],states_cutoff=[0,\"auto\"],slt_save='mag')\u001b[0m\n",
      "\u001b[0m  File \u001b[1;32m~/slothpy/slothpy/slothpy/core/_input_parser.py:340\u001b[0m in \u001b[1;35mwrapper\u001b[0m\n    return func(**bound_args.arguments)\u001b[0m\n",
      "\u001b[0m  File \u001b[1;32m~/slothpy/slothpy/slothpy/core/_registry.py:66\u001b[0m in \u001b[1;35mwrapper\u001b[0m\n    return delegated_method(*pos_args, **new_kwargs)\u001b[0m\n",
      "\u001b[0m  File \u001b[1;32m~/slothpy/slothpy/slothpy/core/_slt_file.py:850\u001b[0m in \u001b[1;35mmagnetisation\u001b[0m\n    return SltMagnetisation(self, magnetic_fields, orientations, temperatures, states_cutoff, rotation, electric_field_vector, hyperfine, number_cpu, number_threads, autotune, slt_save)\u001b[0m\n",
      "\u001b[0m  File \u001b[1;32m~/slothpy/slothpy/slothpy/core/_delayed_methods.py:866\u001b[0m in \u001b[1;35m__init__\u001b[0m\n    super().__init__(slt_group, magnetic_fields.shape[0] * orientations.shape[0] , number_cpu, number_threads, autotune, smm, terminate_event, slt_save)\u001b[0m\n",
      "\u001b[0m  File \u001b[1;32m~/slothpy/slothpy/slothpy/core/_drivers.py:171\u001b[0m in \u001b[1;35m__init__\u001b[0m\n    super().__init__(slt_group, slt_save)\u001b[0m\n",
      "\u001b[0;36m  File \u001b[0;32m~/slothpy/slothpy/slothpy/core/_drivers.py:60\u001b[0;36m in \u001b[0;35m__init__\u001b[0;36m\n\u001b[0;31m    self._hdf5 = slt_group._hdf5\u001b[0;36m\n",
      "\u001b[0;31mAttributeError\u001b[0m\u001b[0;31m:\u001b[0m 'SltHamiltonian' object has no attribute '_hdf5'\n"
     ]
    }
   ],
   "source": [
    "pola=np.linspace(0,12,240)\n",
    "mth=Sm[\"test\"].magnetisation(magnetic_fields=pola,orientations=5,temperatures=[1.8],states_cutoff=[0,\"auto\"],slt_save='mag')"
   ]
  },
  {
   "cell_type": "code",
   "execution_count": 25,
   "id": "2ed3f4dd-e707-4aaf-8068-cb08708915c0",
   "metadata": {},
   "outputs": [
    {
     "ename": "AttributeError",
     "evalue": "'SltGroup' object has no attribute 'eval'",
     "output_type": "error",
     "traceback": [
      "Traceback \u001b[0;36m(most recent call last)\u001b[0m:\n",
      "\u001b[0;36m  Cell \u001b[0;32mIn[25], line 1\u001b[0;36m\n\u001b[0;31m    Sm[\"test\"].eval()\u001b[0;36m\n",
      "\u001b[0;31mAttributeError\u001b[0m\u001b[0;31m:\u001b[0m 'SltGroup' object has no attribute 'eval'\n"
     ]
    }
   ],
   "source": []
  },
  {
   "cell_type": "code",
   "execution_count": null,
   "id": "8d30eca2-e607-4801-991e-2a8090d84f50",
   "metadata": {},
   "outputs": [],
   "source": []
  }
 ],
 "metadata": {
  "kernelspec": {
   "display_name": "Python 3 (ipykernel)",
   "language": "python",
   "name": "python3"
  },
  "language_info": {
   "codemirror_mode": {
    "name": "ipython",
    "version": 3
   },
   "file_extension": ".py",
   "mimetype": "text/x-python",
   "name": "python",
   "nbconvert_exporter": "python",
   "pygments_lexer": "ipython3",
   "version": "3.12.0"
  }
 },
 "nbformat": 4,
 "nbformat_minor": 5
}
