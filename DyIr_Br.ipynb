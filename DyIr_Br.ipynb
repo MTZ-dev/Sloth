{
 "cells": [
  {
   "cell_type": "code",
   "execution_count": 1,
   "id": "31566bec-726d-4201-9831-fb6a5440bd31",
   "metadata": {},
   "outputs": [
    {
     "name": "stdout",
     "output_type": "stream",
     "text": [
      "Cannot switch Qt versions for this session; you must use qt6.\n",
      "\u001b[34m                  ____  _       _   _     \u001b[33m____\n",
      "\u001b[34m                 / ___|| | ___ | |_| |__ \u001b[33m|  _ \\ _   _\n",
      "\u001b[34m                 \\___ \\| |/ _ \\| __| '_ \\\u001b[33m| |_) | | | |\n",
      "\u001b[34m                  ___) | | (_) | |_| | | \u001b[33m|  __/| |_| |\n",
      "\u001b[34m                 |____/|_|\\___/ \\__|_| |_\u001b[33m|_|    \\__, |\n",
      "                                                |___/\u001b[32m  by MTZ \n",
      "\u001b[0m\n",
      "SlothPy Copyright (C) 2023 Mikolaj Tadeusz Zychowicz (MTZ).\n",
      "This program comes with ABSOLUTELY NO WARRANTY.\n",
      "This is free software, and you are welcome to redistribute it.\n",
      "The default is chosen to omit the tracebacks completely. To change it use slt.set_default_error_reporting_mode() method for the printing of tracebacks.\n",
      "Turn on the SlothPy Monitor utility using slt.turn_on_monitor().\n"
     ]
    }
   ],
   "source": [
    "import slothpy as slt"
   ]
  },
  {
   "cell_type": "code",
   "execution_count": 4,
   "id": "f1cf9395-c0b3-4c5f-9a03-3d5901b9fa56",
   "metadata": {},
   "outputs": [
    {
     "ename": "SltFileError",
     "evalue": "\u001b[31m\nSlothFileError\u001b[0m, \u001b[32mFile \u001b[0m\"./DyIr_Br\", \u001b[33mValueError\u001b[0m: Unable to synchronously create group (name already exists) \nFailed to create a .slt file from the MOLCAS rassi.h5 file",
     "output_type": "error",
     "traceback": [
      "\u001b[0;31m---------------------------------------------------------------------------\u001b[0m",
      "\u001b[0;31mSltFileError\u001b[0m                              Traceback (most recent call last)",
      "Cell \u001b[0;32mIn[4], line 1\u001b[0m\n\u001b[0;32m----> 1\u001b[0m \u001b[43mslt\u001b[49m\u001b[38;5;241;43m.\u001b[39;49m\u001b[43mcompound_from_molcas\u001b[49m\u001b[43m(\u001b[49m\u001b[38;5;124;43m'\u001b[39;49m\u001b[38;5;124;43m.\u001b[39;49m\u001b[38;5;124;43m'\u001b[39;49m\u001b[43m,\u001b[49m\u001b[38;5;124;43m'\u001b[39;49m\u001b[38;5;124;43mDyIr_Br\u001b[39;49m\u001b[38;5;124;43m'\u001b[39;49m\u001b[43m,\u001b[49m\u001b[38;5;124;43m'\u001b[39;49m\u001b[38;5;124;43mbas2\u001b[39;49m\u001b[38;5;124;43m'\u001b[39;49m\u001b[43m,\u001b[49m\u001b[38;5;124;43m'\u001b[39;49m\u001b[38;5;124;43m.\u001b[39;49m\u001b[38;5;124;43m'\u001b[39;49m\u001b[43m,\u001b[49m\u001b[38;5;124;43m'\u001b[39;49m\u001b[38;5;124;43mDyIrCN_Cl_bas2\u001b[39;49m\u001b[38;5;124;43m'\u001b[39;49m\u001b[43m)\u001b[49m\n",
      "File \u001b[0;32m~/Virtual/Maja/lib/python3.11/site-packages/slothpy/core/creation_functions.py:145\u001b[0m, in \u001b[0;36mcompound_from_molcas\u001b[0;34m(slt_filepath, slt_filename, name, molcas_filepath, molcas_filename)\u001b[0m\n\u001b[1;32m    143\u001b[0m \u001b[38;5;28;01mexcept\u001b[39;00m \u001b[38;5;167;01mException\u001b[39;00m \u001b[38;5;28;01mas\u001b[39;00m exc:\n\u001b[1;32m    144\u001b[0m     file \u001b[38;5;241m=\u001b[39m join(slt_filepath, slt_filename)\n\u001b[0;32m--> 145\u001b[0m     \u001b[38;5;28;01mraise\u001b[39;00m SltFileError(\n\u001b[1;32m    146\u001b[0m         file,\n\u001b[1;32m    147\u001b[0m         exc,\n\u001b[1;32m    148\u001b[0m         message\u001b[38;5;241m=\u001b[39m(\n\u001b[1;32m    149\u001b[0m             \u001b[38;5;124m\"\u001b[39m\u001b[38;5;124mFailed to create a .slt file from the MOLCAS rassi.h5 file\u001b[39m\u001b[38;5;124m\"\u001b[39m\n\u001b[1;32m    150\u001b[0m         ),\n\u001b[1;32m    151\u001b[0m     ) \u001b[38;5;28;01mfrom\u001b[39;00m \u001b[38;5;28;01mNone\u001b[39;00m\n\u001b[1;32m    153\u001b[0m obj \u001b[38;5;241m=\u001b[39m Compound\u001b[38;5;241m.\u001b[39m_new(slt_filepath, slt_filename)\n\u001b[1;32m    155\u001b[0m \u001b[38;5;28;01mreturn\u001b[39;00m obj\n",
      "\u001b[0;31mSltFileError\u001b[0m: \u001b[31m\nSlothFileError\u001b[0m, \u001b[32mFile \u001b[0m\"./DyIr_Br\", \u001b[33mValueError\u001b[0m: Unable to synchronously create group (name already exists) \nFailed to create a .slt file from the MOLCAS rassi.h5 file"
     ]
    }
   ],
   "source": [
    "slt.compound_from_molcas('.','DyIr_Br','bas2','.','DyIrCN_Cl_bas2')"
   ]
  },
  {
   "cell_type": "code",
   "execution_count": 6,
   "id": "2219fd95-6c46-4c4c-9724-d8323a70ef75",
   "metadata": {},
   "outputs": [],
   "source": [
    "Dy=slt.slt_file('DyIr_Cl.slt')"
   ]
  },
  {
   "cell_type": "code",
   "execution_count": 9,
   "id": "a76b521e-406f-44fd-ab7a-09d210539b6f",
   "metadata": {},
   "outputs": [
    {
     "name": "stdout",
     "output_type": "stream",
     "text": [
      "Processes: 3, threads: 21. Estimated maximal execution time: \u001b[32m7.6689199973125 s\u001b[0m. The best time: \u001b[32m7.6689199973125 s\u001b[0m.\n",
      "Processes: 2, threads: 32. Estimated maximal execution time: \u001b[31m11.24696109309375 s\u001b[0m. The best time: \u001b[32m7.6689199973125 s\u001b[0m.\n",
      "Processes: 1, threads: 64. Estimated maximal execution time: \u001b[31m21.850505134875 s\u001b[0m. The best time: \u001b[32m7.6689199973125 s\u001b[0m.\n",
      "Job will run using\u001b[33m 63\u001b[0m logical\u001b[33m Processors\u001b[0m with\u001b[34m 3\u001b[0m parallel\u001b[34m Processes\u001b[0m each utilizing\u001b[35m 21 threads\u001b[0m.\n",
      "The calculation time (starting from now) is estimated to be at most: \u001b[32m7.6689199973125 s\u001b[0m.\n"
     ]
    }
   ],
   "source": [
    "import numpy as np\n",
    "field=np.linspace(0.99959546,0.99959546,1)\n",
    "temperatures=np.linspace(0.0001,300,878)\n",
    "chitht=Dy.calculate_susceptibility('bas2',temperatures,field,autotune=True,states_cutoff=2002)\n",
    "Dy.plot_susceptibility('bas5')"
   ]
  },
  {
   "cell_type": "code",
   "execution_count": 7,
   "id": "f99ae4f3-e84c-48fe-808a-3364df2db45e",
   "metadata": {},
   "outputs": [],
   "source": [
    "import pandas as pd\n",
    "susc=pd.DataFrame()\n",
    "susc['Temperatures']=Dy['bas3_susceptibility','bas3_temperatures']\n",
    "susc['Susceptibility']=Dy['bas3_susceptibility','bas3_chitht'][0]\n",
    "susc.to_csv('Results_Dy_Cl_chit')"
   ]
  },
  {
   "cell_type": "code",
   "execution_count": 11,
   "id": "37e042d7-04ca-42da-a6ad-e630c90fd405",
   "metadata": {},
   "outputs": [
    {
     "name": "stdout",
     "output_type": "stream",
     "text": [
      "Processes: 5, threads: 3. Estimated maximal execution time: \u001b[32m8.864348952 s\u001b[0m. The best time: \u001b[32m8.864348952 s\u001b[0m.\n",
      "Processes: 4, threads: 4. Estimated maximal execution time: \u001b[32m8.7300011185 s\u001b[0m. The best time: \u001b[32m8.7300011185 s\u001b[0m.\n",
      "Processes: 3, threads: 5. Estimated maximal execution time: \u001b[31m13.456594687 s\u001b[0m. The best time: \u001b[32m8.7300011185 s\u001b[0m.\n",
      "Processes: 2, threads: 8. Estimated maximal execution time: \u001b[31m14.2229775225 s\u001b[0m. The best time: \u001b[32m8.7300011185 s\u001b[0m.\n",
      "Processes: 1, threads: 16. Estimated maximal execution time: \u001b[31m27.470271213 s\u001b[0m. The best time: \u001b[32m8.7300011185 s\u001b[0m.\n",
      "Job will run using\u001b[33m 16\u001b[0m logical\u001b[33m Processors\u001b[0m with\u001b[34m 4\u001b[0m parallel\u001b[34m Processes\u001b[0m each utilizing\u001b[35m 4 threads\u001b[0m.\n",
      "The calculation time (starting from now) is estimated to be at most: \u001b[32m8.7300011185 s\u001b[0m.\n"
     ]
    }
   ],
   "source": [
    "import numpy as np\n",
    "pola=np.linspace(0,12,240)\n",
    "temperatures=np.linspace(1,50,240)\n",
    "mth=Dy.calculate_magnetisation_3d('bas2',pola,'fibonacci',5,temperatures, number_cpu=16, slt='bas4',autotune=True)\n"
   ]
  },
  {
   "cell_type": "code",
   "execution_count": 10,
   "id": "bd990f6d-5c4a-48a1-8f68-fde74cd4f846",
   "metadata": {},
   "outputs": [
    {
     "data": {
      "text/plain": [
       "\u001b[31mCompound \u001b[0mfrom \u001b[32mFile \u001b[0m\"./DyIr_Cl.slt\" with the following \u001b[34mGroups \u001b[0mof data:\n",
       "\u001b[34mbas10_magnetisation_3d\u001b[0m: {'Description': 'Group(bas10) containing 3D magnetisation calculated from group: bas2.'}\n",
       "\u001b[34mbas10_susceptibility_3d\u001b[0m: {'Description': 'Group(bas10) containing 3D magnetic susceptibility calculated from group: bas2.'}\n",
       "\u001b[34mbas11_helmholtz_energy_3d\u001b[0m: {'Description': 'Group(bas11) containing 3D Helmholtz_energy calculated from group: bas2.'}\n",
       "\u001b[34mbas2\u001b[0m: {'Description': 'Group(bas2) containing results of relativistic SOC MOLCAS calculations - angular momenta, spin in SOC basis and SOC energies'}\n",
       "\u001b[34mbas2_g_tensors_axes\u001b[0m: {'Description': 'Group(bas2) containing g-tensors of doublets and their magnetic axes calculated from Group: bas2.'}\n",
       "\u001b[34mbas2_magnetic_decomposition\u001b[0m: {'Description': 'Group(bas2) containing decomposition in \"z\" magnetic basis of soc matrix calculated from group: bas2.'}\n",
       "\u001b[34mbas2_magnetisation\u001b[0m: {'Description': 'Group(bas2) containing M(T,H) magnetisation calculated from group: bas2.'}\n",
       "\u001b[34mbas2_soc_energies\u001b[0m: {'Description': 'Group(bas2) containing SOC (Spin-Orbit Coupling) energies calculated from group: bas2.'}\n",
       "\u001b[34mbas2_susceptibility\u001b[0m: {'Description': 'Group(bas2) containing chiT(H,T) magnetic susceptibility calculated from group: bas2.'}\n",
       "\u001b[34mbas2_total_angular_decomposition\u001b[0m: {'Description': 'Group(bas2) containing decomposition in \"z\" total_angular basis of soc matrix calculated from group: bas2.'}\n",
       "\u001b[34mbas3_magnetisation\u001b[0m: {'Description': 'Group(bas3) containing M(T,H) magnetisation calculated from group: bas2.'}\n",
       "\u001b[34mbas3_susceptibility\u001b[0m: {'Description': 'Group(bas3) containing chiT(H,T) magnetic susceptibility calculated from group: bas2.'}\n",
       "\u001b[34mbas6_magnetisation_3d\u001b[0m: {'Description': 'Group(bas6) containing 3D magnetisation calculated from group: bas2.'}\n",
       "\u001b[34mbas7_g_tensors_axes\u001b[0m: {'Description': 'Group(bas7) containing g-tensors of doublets and their magnetic axes calculated from Group: bas2.'}\n",
       "\u001b[34mbas7_magnetic_decomposition\u001b[0m: {'Description': 'Group(bas7) containing decomposition in \"z\" magnetic basis of soc matrix calculated from group: bas2.'}\n",
       "\u001b[34mbas7_soc_energies\u001b[0m: {'Description': 'Group(bas7) containing SOC (Spin-Orbit Coupling) energies calculated from group: bas2.'}\n",
       "\u001b[34mbas7_total_angular_decomposition\u001b[0m: {'Description': 'Group(bas7) containing decomposition in \"z\" total_angular basis of soc matrix calculated from group: bas2.'}\n",
       "\u001b[34mbas8_g_tensors_axes\u001b[0m: {'Description': 'Group(bas8) containing g-tensors of doublets and their magnetic axes calculated from Group: bas2.'}\n",
       "\u001b[34mbas9_zeeman_splitting\u001b[0m: {'Description': 'Group(bas9) containing Zeeman splitting calculated from group: bas2.'}\n",
       "and \u001b[35mDatasets\u001b[0m:\n",
       "\u001b[35mbas10_magnetisation_3d/bas10_fields\n",
       "\u001b[0m\u001b[35mbas10_magnetisation_3d/bas10_mag_3d\n",
       "\u001b[0m\u001b[35mbas10_magnetisation_3d/bas10_temperatures\n",
       "\u001b[0m\u001b[35mbas10_susceptibility_3d/bas10_chit_3d\n",
       "\u001b[0m\u001b[35mbas10_susceptibility_3d/bas10_fields\n",
       "\u001b[0m\u001b[35mbas10_susceptibility_3d/bas10_temperatures\n",
       "\u001b[0m\u001b[35mbas11_helmholtz_energy_3d/bas11_energy_3d\n",
       "\u001b[0m\u001b[35mbas11_helmholtz_energy_3d/bas11_fields\n",
       "\u001b[0m\u001b[35mbas11_helmholtz_energy_3d/bas11_temperatures\n",
       "\u001b[0m\u001b[35mbas2/SOC_LX\n",
       "\u001b[0m\u001b[35mbas2/SOC_LY\n",
       "\u001b[0m\u001b[35mbas2/SOC_LZ\n",
       "\u001b[0m\u001b[35mbas2/SOC_SX\n",
       "\u001b[0m\u001b[35mbas2/SOC_SY\n",
       "\u001b[0m\u001b[35mbas2/SOC_SZ\n",
       "\u001b[0m\u001b[35mbas2/SOC_energies\n",
       "\u001b[0m\u001b[35mbas2_g_tensors_axes/bas2_axes\n",
       "\u001b[0m\u001b[35mbas2_g_tensors_axes/bas2_g_tensors\n",
       "\u001b[0m\u001b[35mbas2_magnetic_decomposition/bas2_magnetic_decomposition\n",
       "\u001b[0m\u001b[35mbas2_magnetic_decomposition/bas2_pseudo_spin_states\n",
       "\u001b[0m\u001b[35mbas2_magnetisation/bas2_fields\n",
       "\u001b[0m\u001b[35mbas2_magnetisation/bas2_mth\n",
       "\u001b[0m\u001b[35mbas2_magnetisation/bas2_temperatures\n",
       "\u001b[0m\u001b[35mbas2_soc_energies/bas2_energies\n",
       "\u001b[0m\u001b[35mbas2_susceptibility/bas2_chitht\n",
       "\u001b[0m\u001b[35mbas2_susceptibility/bas2_fields\n",
       "\u001b[0m\u001b[35mbas2_susceptibility/bas2_temperatures\n",
       "\u001b[0m\u001b[35mbas2_total_angular_decomposition/bas2_pseudo_spin_states\n",
       "\u001b[0m\u001b[35mbas2_total_angular_decomposition/bas2_total_angular_decomposition\n",
       "\u001b[0m\u001b[35mbas3_magnetisation/bas3_fields\n",
       "\u001b[0m\u001b[35mbas3_magnetisation/bas3_mth\n",
       "\u001b[0m\u001b[35mbas3_magnetisation/bas3_temperatures\n",
       "\u001b[0m\u001b[35mbas3_susceptibility/bas3_chitht\n",
       "\u001b[0m\u001b[35mbas3_susceptibility/bas3_fields\n",
       "\u001b[0m\u001b[35mbas3_susceptibility/bas3_temperatures\n",
       "\u001b[0m\u001b[35mbas6_magnetisation_3d/bas6_fields\n",
       "\u001b[0m\u001b[35mbas6_magnetisation_3d/bas6_mag_3d\n",
       "\u001b[0m\u001b[35mbas6_magnetisation_3d/bas6_temperatures\n",
       "\u001b[0m\u001b[35mbas7_g_tensors_axes/bas7_axes\n",
       "\u001b[0m\u001b[35mbas7_g_tensors_axes/bas7_g_tensors\n",
       "\u001b[0m\u001b[35mbas7_magnetic_decomposition/bas7_magnetic_decomposition\n",
       "\u001b[0m\u001b[35mbas7_magnetic_decomposition/bas7_pseudo_spin_states\n",
       "\u001b[0m\u001b[35mbas7_soc_energies/bas7_energies\n",
       "\u001b[0m\u001b[35mbas7_total_angular_decomposition/bas7_pseudo_spin_states\n",
       "\u001b[0m\u001b[35mbas7_total_angular_decomposition/bas7_total_angular_decomposition\n",
       "\u001b[0m\u001b[35mbas8_g_tensors_axes/bas8_axes\n",
       "\u001b[0m\u001b[35mbas8_g_tensors_axes/bas8_g_tensors\n",
       "\u001b[0m\u001b[35mbas9_zeeman_splitting/bas9_fields\n",
       "\u001b[0m\u001b[35mbas9_zeeman_splitting/bas9_orientations\n",
       "\u001b[0m\u001b[35mbas9_zeeman_splitting/bas9_zeeman\n",
       "\u001b[0m"
      ]
     },
     "execution_count": 10,
     "metadata": {},
     "output_type": "execute_result"
    }
   ],
   "source": [
    "Dy"
   ]
  },
  {
   "cell_type": "code",
   "execution_count": null,
   "id": "863c7386-ba1e-4e3d-a334-f615ab0ffd5c",
   "metadata": {},
   "outputs": [],
   "source": [
    "import numpy as np\n",
    "import time\n",
    "pola=np.linspace(0,7,70)\n",
    "temperatures=np.linspace(1.8,1.8,1)\n",
    "start = time.perf_counter()\n",
    "mth=Dy.calculate_magnetisation('bas2',pola,4,temperatures, 2002,autotune=True)\n",
    "#stop = time.perf_counter()\n",
    "#print(f\"Exe. time: {stop - start} s.\")"
   ]
  },
  {
   "cell_type": "code",
   "execution_count": 9,
   "id": "4d01acc6-36cb-4a6b-a2f9-2347d40baf5f",
   "metadata": {},
   "outputs": [],
   "source": [
    "import pandas as pd\n",
    "magn=pd.DataFrame()\n",
    "magn['Fields']=Dy['bas2_magnetisation','bas2_fields']\n",
    "magn['Magnetisation']=Dy['bas2_magnetisation','bas2_mth'][0]\n",
    "magn.to_csv('Results_Dy_Cl_M')"
   ]
  },
  {
   "cell_type": "code",
   "execution_count": 10,
   "id": "09ce6847-fc01-41b7-a676-b5db3af58f26",
   "metadata": {},
   "outputs": [
    {
     "data": {
      "text/plain": [
       "\u001b[31mCompound \u001b[0mfrom \u001b[32mFile \u001b[0m\"./DyIr_Cl.slt\" with the following \u001b[34mGroups \u001b[0mof data:\n",
       "\u001b[34mbas2\u001b[0m: {'Description': 'Group(bas2) containing results of relativistic SOC MOLCAS calculations - angular momenta, spin in SOC basis and SOC energies'}\n",
       "\u001b[34mbas2_magnetisation\u001b[0m: {'Description': 'Group(bas2) containing M(T,H) magnetisation calculated from group: bas2.'}\n",
       "\u001b[34mbas2_susceptibility\u001b[0m: {'Description': 'Group(bas2) containing chiT(H,T) magnetic susceptibility calculated from group: bas2.'}\n",
       "\u001b[34mbas3_susceptibility\u001b[0m: {'Description': 'Group(bas3) containing chiT(H,T) magnetic susceptibility calculated from group: bas2.'}\n",
       "and \u001b[35mDatasets\u001b[0m:\n",
       "\u001b[35mbas2/SOC_LX\n",
       "\u001b[0m\u001b[35mbas2/SOC_LY\n",
       "\u001b[0m\u001b[35mbas2/SOC_LZ\n",
       "\u001b[0m\u001b[35mbas2/SOC_SX\n",
       "\u001b[0m\u001b[35mbas2/SOC_SY\n",
       "\u001b[0m\u001b[35mbas2/SOC_SZ\n",
       "\u001b[0m\u001b[35mbas2/SOC_energies\n",
       "\u001b[0m\u001b[35mbas2_magnetisation/bas2_fields\n",
       "\u001b[0m\u001b[35mbas2_magnetisation/bas2_mth\n",
       "\u001b[0m\u001b[35mbas2_magnetisation/bas2_temperatures\n",
       "\u001b[0m\u001b[35mbas2_susceptibility/bas2_chitht\n",
       "\u001b[0m\u001b[35mbas2_susceptibility/bas2_fields\n",
       "\u001b[0m\u001b[35mbas2_susceptibility/bas2_temperatures\n",
       "\u001b[0m\u001b[35mbas3_susceptibility/bas3_chitht\n",
       "\u001b[0m\u001b[35mbas3_susceptibility/bas3_fields\n",
       "\u001b[0m\u001b[35mbas3_susceptibility/bas3_temperatures\n",
       "\u001b[0m"
      ]
     },
     "execution_count": 10,
     "metadata": {},
     "output_type": "execute_result"
    }
   ],
   "source": [
    "Dy"
   ]
  },
  {
   "cell_type": "code",
   "execution_count": 9,
   "id": "2a866731-9662-41de-ade2-d3e7fe863c25",
   "metadata": {},
   "outputs": [],
   "source": [
    "g,axes=Dy.calculate_g_tensor_and_axes_doublet('bas2',[0,1,2,3,4,5,6,7],'bas7')"
   ]
  },
  {
   "cell_type": "code",
   "execution_count": 11,
   "id": "b3039678-97f6-4091-aa98-8f707be218a6",
   "metadata": {},
   "outputs": [],
   "source": [
    "Dy.delete_group_dataset('bas2_magnetic_decomposition')\n"
   ]
  },
  {
   "cell_type": "code",
   "execution_count": 12,
   "id": "3da22a2c-2b2d-4efb-82a8-1d47e73e7872",
   "metadata": {},
   "outputs": [
    {
     "data": {
      "text/plain": [
       "array([[1.13149229e+01, 5.79766706e-06, 3.48966220e-01, 6.89938381e-04,\n",
       "        1.80588897e-02, 2.66678437e-05, 1.10573572e-03, 6.80256597e-03,\n",
       "        2.05620286e-03, 8.54824522e-03, 5.36172254e-03, 1.30950309e-01,\n",
       "        4.28995445e-03, 2.63201014e+00, 1.84685546e-04, 8.55260200e+01],\n",
       "       [8.55260200e+01, 1.84685551e-04, 2.63201013e+00, 4.28995449e-03,\n",
       "        1.30950308e-01, 5.36172257e-03, 8.54824547e-03, 2.05620279e-03,\n",
       "        6.80256627e-03, 1.10573584e-03, 2.66678523e-05, 1.80588896e-02,\n",
       "        6.89938380e-04, 3.48966219e-01, 5.79769034e-06, 1.13149229e+01],\n",
       "       [2.36098793e-02, 9.29092910e+01, 7.46692210e-01, 4.31466706e+00,\n",
       "        5.83828299e-02, 1.10206285e+00, 2.12512649e-02, 3.71019518e-01,\n",
       "        3.20550705e-02, 7.31724350e-02, 2.29088985e-03, 2.07053116e-02,\n",
       "        1.43447675e-02, 3.95817204e-03, 3.05926289e-01, 5.70481754e-04],\n",
       "       [5.70481898e-04, 3.05926289e-01, 3.95817202e-03, 1.43447677e-02,\n",
       "        2.07053118e-02, 2.29088991e-03, 7.31724342e-02, 3.20550682e-02,\n",
       "        3.71019511e-01, 2.12512644e-02, 1.10206285e+00, 5.83828301e-02,\n",
       "        4.31466706e+00, 7.46692210e-01, 9.29092910e+01, 2.36098804e-02],\n",
       "       [7.73519900e-02, 3.34663523e-02, 1.27988800e+00, 9.67184376e-02,\n",
       "        1.05317152e-01, 6.45986829e-01, 4.12792290e+00, 1.88975950e+01,\n",
       "        4.31986630e+01, 1.88921359e+01, 6.85935101e+00, 2.74121287e+00,\n",
       "        1.62784686e+00, 1.12855546e+00, 2.41687940e-01, 4.63003018e-02],\n",
       "       [4.63003017e-02, 2.41687944e-01, 1.12855545e+00, 1.62784687e+00,\n",
       "        2.74121287e+00, 6.85935102e+00, 1.88921359e+01, 4.31986630e+01,\n",
       "        1.88975950e+01, 4.12792289e+00, 6.45986833e-01, 1.05317153e-01,\n",
       "        9.67184392e-02, 1.27988802e+00, 3.34663503e-02, 7.73519893e-02],\n",
       "       [1.02774711e+00, 1.25790333e+00, 3.25913994e+01, 3.90955039e+00,\n",
       "        5.38278950e+00, 1.53925908e+00, 1.01217572e+01, 6.90503970e-02,\n",
       "        1.61996851e+01, 1.45343660e+01, 9.75050625e-03, 1.82946913e+00,\n",
       "        2.27887624e-01, 1.08034716e+01, 1.39211335e-01, 3.56702292e-01],\n",
       "       [3.56702289e-01, 1.39211335e-01, 1.08034716e+01, 2.27887627e-01,\n",
       "        1.82946913e+00, 9.75050801e-03, 1.45343661e+01, 1.61996851e+01,\n",
       "        6.90503969e-02, 1.01217572e+01, 1.53925908e+00, 5.38278947e+00,\n",
       "        3.90955039e+00, 3.25913994e+01, 1.25790333e+00, 1.02774711e+00],\n",
       "       [4.44549104e-02, 7.60615839e-03, 8.80201992e-01, 4.74098539e+00,\n",
       "        6.99372907e-02, 1.34250996e+01, 5.69415540e+00, 1.23068093e+01,\n",
       "        9.77051253e-01, 2.92710806e+01, 7.23779353e-02, 9.30731637e+00,\n",
       "        1.06934851e+00, 2.07762935e+01, 6.15935338e-01, 7.41346523e-01],\n",
       "       [7.41346520e-01, 6.15935336e-01, 2.07762934e+01, 1.06934850e+00,\n",
       "        9.30731634e+00, 7.23779307e-02, 2.92710806e+01, 9.77051252e-01,\n",
       "        1.23068094e+01, 5.69415541e+00, 1.34250996e+01, 6.99372924e-02,\n",
       "        4.74098538e+00, 8.80201993e-01, 7.60615843e-03, 4.44549103e-02],\n",
       "       [2.32098085e-02, 1.33343745e+00, 4.51781413e-01, 5.71325978e+00,\n",
       "        2.69249135e-01, 3.00397605e+01, 4.02536065e+00, 1.42997128e-01,\n",
       "        2.34998875e+00, 3.56649044e+00, 1.65251053e+01, 1.05601026e+01,\n",
       "        4.91419111e+00, 1.90299853e+01, 5.10998730e-01, 5.44081922e-01],\n",
       "       [5.44081922e-01, 5.10998729e-01, 1.90299853e+01, 4.91419111e+00,\n",
       "        1.05601025e+01, 1.65251054e+01, 3.56649042e+00, 2.34998876e+00,\n",
       "        1.42997129e-01, 4.02536063e+00, 3.00397605e+01, 2.69249136e-01,\n",
       "        5.71325976e+00, 4.51781401e-01, 1.33343745e+00, 2.32098080e-02],\n",
       "       [1.08653541e-01, 1.15237473e+00, 3.94437168e+00, 2.05387677e+01,\n",
       "        4.28137113e+00, 7.06830510e+00, 4.60658620e+00, 1.18767056e+00,\n",
       "        2.40184253e+00, 1.94320290e+00, 8.09880602e+00, 9.02922049e+00,\n",
       "        3.14917841e+01, 3.49831023e+00, 6.17419996e-01, 3.13131600e-02],\n",
       "       [3.13131597e-02, 6.17420000e-01, 3.49831022e+00, 3.14917841e+01,\n",
       "        9.02922041e+00, 8.09880599e+00, 1.94320290e+00, 2.40184253e+00,\n",
       "        1.18767056e+00, 4.60658620e+00, 7.06830507e+00, 4.28137109e+00,\n",
       "        2.05387678e+01, 3.94437168e+00, 1.15237473e+00, 1.08653540e-01],\n",
       "       [5.92217970e-02, 5.05222212e-01, 1.35581792e+00, 6.57632089e+00,\n",
       "        2.50182096e+01, 9.75033772e+00, 1.08899539e+00, 8.95269369e-01,\n",
       "        9.61444219e-01, 2.02386874e+00, 4.85611833e+00, 3.11777076e+01,\n",
       "        1.47593474e+01, 5.28296830e-01, 3.69328673e-01, 7.44933567e-02],\n",
       "       [7.44933573e-02, 3.69328676e-01, 5.28296833e-01, 1.47593475e+01,\n",
       "        3.11777076e+01, 4.85611829e+00, 2.02386875e+00, 9.61444218e-01,\n",
       "        8.95269365e-01, 1.08899540e+00, 9.75033767e+00, 2.50182095e+01,\n",
       "        6.57632098e+00, 1.35581790e+00, 5.05222216e-01, 5.92217969e-02]])"
      ]
     },
     "execution_count": 12,
     "metadata": {},
     "output_type": "execute_result"
    }
   ],
   "source": [
    "Dy.matrix_decomposition_in_z_pseudo_spin_basis(\"bas2\", \"soc\", \"total_angular\", stop_state=15, rotation=axes[0].T,slt='bas7')"
   ]
  },
  {
   "cell_type": "code",
   "execution_count": 9,
   "id": "ad831202-dfad-4509-88dc-57bb104e35f0",
   "metadata": {},
   "outputs": [
    {
     "data": {
      "text/plain": [
       "\u001b[31mCompound \u001b[0mfrom \u001b[32mFile \u001b[0m\"./DyIr_Br.slt\" with the following \u001b[34mGroups \u001b[0mof data:\n",
       "\u001b[34mbas2\u001b[0m: {'Description': 'Group(bas2) containing results of relativistic SOC MOLCAS calculations - angular momenta, spin in SOC basis and SOC energies'}\n",
       "\u001b[34mbas2_g_tensors_axes\u001b[0m: {'Description': 'Group(bas2) containing g-tensors of doublets and their magnetic axes calculated from Group: bas2.'}\n",
       "\u001b[34mbas2_magnetic_decomposition\u001b[0m: {'Description': 'Group(bas2) containing decomposition in \"z\" magnetic basis of soc matrix calculated from group: bas2.'}\n",
       "\u001b[34mbas2_magnetisation\u001b[0m: {'Description': 'Group(bas2) containing M(T,H) magnetisation calculated from group: bas2.'}\n",
       "\u001b[34mbas2_soc_energies\u001b[0m: {'Description': 'Group(bas2) containing SOC (Spin-Orbit Coupling) energies calculated from group: bas2.'}\n",
       "\u001b[34mbas2_susceptibility\u001b[0m: {'Description': 'Group(bas2) containing chiT(H,T) magnetic susceptibility calculated from group: bas2.'}\n",
       "\u001b[34mbas2_total_angular_decomposition\u001b[0m: {'Description': 'Group(bas2) containing decomposition in \"z\" total_angular basis of soc matrix calculated from group: bas2.'}\n",
       "\u001b[34mbas3_magnetisation\u001b[0m: {'Description': 'Group(bas3) containing M(T,H) magnetisation calculated from group: bas2.'}\n",
       "\u001b[34mbas4_magnetisation\u001b[0m: {'Description': 'Group(bas4) containing M(T,H) magnetisation calculated from group: bas2.'}\n",
       "\u001b[34mbas6_magnetisation\u001b[0m: {'Description': 'Group(bas6) containing M(T,H) magnetisation calculated from group: bas2.'}\n",
       "\u001b[34mbas7_magnetisation\u001b[0m: {'Description': 'Group(bas7) containing M(T,H) magnetisation calculated from group: bas2.'}\n",
       "and \u001b[35mDatasets\u001b[0m:\n",
       "\u001b[35mbas2/SOC_LX\n",
       "\u001b[0m\u001b[35mbas2/SOC_LY\n",
       "\u001b[0m\u001b[35mbas2/SOC_LZ\n",
       "\u001b[0m\u001b[35mbas2/SOC_SX\n",
       "\u001b[0m\u001b[35mbas2/SOC_SY\n",
       "\u001b[0m\u001b[35mbas2/SOC_SZ\n",
       "\u001b[0m\u001b[35mbas2/SOC_energies\n",
       "\u001b[0m\u001b[35mbas2_g_tensors_axes/bas2_axes\n",
       "\u001b[0m\u001b[35mbas2_g_tensors_axes/bas2_g_tensors\n",
       "\u001b[0m\u001b[35mbas2_magnetic_decomposition/bas2_magnetic_decomposition\n",
       "\u001b[0m\u001b[35mbas2_magnetic_decomposition/bas2_pseudo_spin_states\n",
       "\u001b[0m\u001b[35mbas2_magnetisation/bas2_fields\n",
       "\u001b[0m\u001b[35mbas2_magnetisation/bas2_mth\n",
       "\u001b[0m\u001b[35mbas2_magnetisation/bas2_temperatures\n",
       "\u001b[0m\u001b[35mbas2_soc_energies/bas2_energies\n",
       "\u001b[0m\u001b[35mbas2_susceptibility/bas2_chitht\n",
       "\u001b[0m\u001b[35mbas2_susceptibility/bas2_fields\n",
       "\u001b[0m\u001b[35mbas2_susceptibility/bas2_temperatures\n",
       "\u001b[0m\u001b[35mbas2_total_angular_decomposition/bas2_pseudo_spin_states\n",
       "\u001b[0m\u001b[35mbas2_total_angular_decomposition/bas2_total_angular_decomposition\n",
       "\u001b[0m\u001b[35mbas3_magnetisation/bas3_fields\n",
       "\u001b[0m\u001b[35mbas3_magnetisation/bas3_mth\n",
       "\u001b[0m\u001b[35mbas3_magnetisation/bas3_temperatures\n",
       "\u001b[0m\u001b[35mbas4_magnetisation/bas4_fields\n",
       "\u001b[0m\u001b[35mbas4_magnetisation/bas4_mth\n",
       "\u001b[0m\u001b[35mbas4_magnetisation/bas4_temperatures\n",
       "\u001b[0m\u001b[35mbas6_magnetisation/bas6_fields\n",
       "\u001b[0m\u001b[35mbas6_magnetisation/bas6_mth\n",
       "\u001b[0m\u001b[35mbas6_magnetisation/bas6_temperatures\n",
       "\u001b[0m\u001b[35mbas7_magnetisation/bas7_fields\n",
       "\u001b[0m\u001b[35mbas7_magnetisation/bas7_mth\n",
       "\u001b[0m\u001b[35mbas7_magnetisation/bas7_temperatures\n",
       "\u001b[0m"
      ]
     },
     "execution_count": 9,
     "metadata": {},
     "output_type": "execute_result"
    }
   ],
   "source": [
    "Dy"
   ]
  },
  {
   "cell_type": "code",
   "execution_count": 13,
   "id": "a4c8f808-66c0-4019-92a3-a637964da53d",
   "metadata": {},
   "outputs": [
    {
     "data": {
      "text/plain": [
       "array([ 0.00000000e+00, -3.65498631e-11,  1.94729779e+02, ...,\n",
       "        1.89096995e+05,  1.89166661e+05,  1.89166661e+05])"
      ]
     },
     "execution_count": 13,
     "metadata": {},
     "output_type": "execute_result"
    }
   ],
   "source": [
    "Dy.soc_energies_cm_1('bas2',slt='bas7')"
   ]
  },
  {
   "cell_type": "code",
   "execution_count": 35,
   "id": "f1a2913d-f384-4d5f-acf7-abc2256291b9",
   "metadata": {},
   "outputs": [
    {
     "data": {
      "text/plain": [
       "\u001b[31mCompound \u001b[0mfrom \u001b[32mFile \u001b[0m\"./DyIr_Br.slt\" with the following \u001b[34mGroups \u001b[0mof data:\n",
       "\u001b[34mbas2\u001b[0m: {'Description': 'Group(bas2) containing results of relativistic SOC MOLCAS calculations - angular momenta, spin in SOC basis and SOC energies'}\n",
       "\u001b[34mbas2_g_tensors_axes\u001b[0m: {'Description': 'Group(bas2) containing g-tensors of doublets and their magnetic axes calculated from Group: bas2.'}\n",
       "\u001b[34mbas2_magnetic_decomposition\u001b[0m: {'Description': 'Group(bas2) containing decomposition in \"z\" magnetic basis of soc matrix calculated from group: bas2.'}\n",
       "\u001b[34mbas2_magnetisation\u001b[0m: {'Description': 'Group(bas2) containing M(T,H) magnetisation calculated from group: bas2.'}\n",
       "\u001b[34mbas2_soc_energies\u001b[0m: {'Description': 'Group(bas2) containing SOC (Spin-Orbit Coupling) energies calculated from group: bas2.'}\n",
       "\u001b[34mbas2_susceptibility\u001b[0m: {'Description': 'Group(bas2) containing chiT(H,T) magnetic susceptibility calculated from group: bas2.'}\n",
       "\u001b[34mbas2_total_angular_decomposition\u001b[0m: {'Description': 'Group(bas2) containing decomposition in \"z\" total_angular basis of soc matrix calculated from group: bas2.'}\n",
       "\u001b[34mbas3_magnetisation\u001b[0m: {'Description': 'Group(bas3) containing M(T,H) magnetisation calculated from group: bas2.'}\n",
       "\u001b[34mbas4_magnetisation\u001b[0m: {'Description': 'Group(bas4) containing M(T,H) magnetisation calculated from group: bas2.'}\n",
       "\u001b[34mbas6_magnetisation\u001b[0m: {'Description': 'Group(bas6) containing M(T,H) magnetisation calculated from group: bas2.'}\n",
       "\u001b[34mbas7_magnetisation\u001b[0m: {'Description': 'Group(bas7) containing M(T,H) magnetisation calculated from group: bas2.'}\n",
       "and \u001b[35mDatasets\u001b[0m:\n",
       "\u001b[35mbas2/SOC_LX\n",
       "\u001b[0m\u001b[35mbas2/SOC_LY\n",
       "\u001b[0m\u001b[35mbas2/SOC_LZ\n",
       "\u001b[0m\u001b[35mbas2/SOC_SX\n",
       "\u001b[0m\u001b[35mbas2/SOC_SY\n",
       "\u001b[0m\u001b[35mbas2/SOC_SZ\n",
       "\u001b[0m\u001b[35mbas2/SOC_energies\n",
       "\u001b[0m\u001b[35mbas2_g_tensors_axes/bas2_axes\n",
       "\u001b[0m\u001b[35mbas2_g_tensors_axes/bas2_g_tensors\n",
       "\u001b[0m\u001b[35mbas2_magnetic_decomposition/bas2_magnetic_decomposition\n",
       "\u001b[0m\u001b[35mbas2_magnetic_decomposition/bas2_pseudo_spin_states\n",
       "\u001b[0m\u001b[35mbas2_magnetisation/bas2_fields\n",
       "\u001b[0m\u001b[35mbas2_magnetisation/bas2_mth\n",
       "\u001b[0m\u001b[35mbas2_magnetisation/bas2_temperatures\n",
       "\u001b[0m\u001b[35mbas2_soc_energies/bas2_energies\n",
       "\u001b[0m\u001b[35mbas2_susceptibility/bas2_chitht\n",
       "\u001b[0m\u001b[35mbas2_susceptibility/bas2_fields\n",
       "\u001b[0m\u001b[35mbas2_susceptibility/bas2_temperatures\n",
       "\u001b[0m\u001b[35mbas2_total_angular_decomposition/bas2_pseudo_spin_states\n",
       "\u001b[0m\u001b[35mbas2_total_angular_decomposition/bas2_total_angular_decomposition\n",
       "\u001b[0m\u001b[35mbas3_magnetisation/bas3_fields\n",
       "\u001b[0m\u001b[35mbas3_magnetisation/bas3_mth\n",
       "\u001b[0m\u001b[35mbas3_magnetisation/bas3_temperatures\n",
       "\u001b[0m\u001b[35mbas4_magnetisation/bas4_fields\n",
       "\u001b[0m\u001b[35mbas4_magnetisation/bas4_mth\n",
       "\u001b[0m\u001b[35mbas4_magnetisation/bas4_temperatures\n",
       "\u001b[0m\u001b[35mbas6_magnetisation/bas6_fields\n",
       "\u001b[0m\u001b[35mbas6_magnetisation/bas6_mth\n",
       "\u001b[0m\u001b[35mbas6_magnetisation/bas6_temperatures\n",
       "\u001b[0m\u001b[35mbas7_magnetisation/bas7_fields\n",
       "\u001b[0m\u001b[35mbas7_magnetisation/bas7_mth\n",
       "\u001b[0m\u001b[35mbas7_magnetisation/bas7_temperatures\n",
       "\u001b[0m"
      ]
     },
     "execution_count": 35,
     "metadata": {},
     "output_type": "execute_result"
    }
   ],
   "source": [
    "Dy"
   ]
  },
  {
   "cell_type": "code",
   "execution_count": 8,
   "id": "69613a12-8951-42de-99a3-0403aec6b05b",
   "metadata": {},
   "outputs": [
    {
     "ename": "TypeError",
     "evalue": "SltFile.matrix_decomposition_in_z_pseudo_spin_basis() got an unexpected keyword argument 'krames'",
     "output_type": "error",
     "traceback": [
      "\u001b[0;31m---------------------------------------------------------------------------\u001b[0m",
      "\u001b[0;31mTypeError\u001b[0m                                 Traceback (most recent call last)",
      "Cell \u001b[0;32mIn[8], line 3\u001b[0m\n\u001b[1;32m      1\u001b[0m \u001b[38;5;66;03m#slt_file=slt.compound_from_slt('.','DyIr_Cl')\u001b[39;00m\n\u001b[0;32m----> 3\u001b[0m \u001b[43mDy\u001b[49m\u001b[38;5;241;43m.\u001b[39;49m\u001b[43mmatrix_decomposition_in_z_pseudo_spin_basis\u001b[49m\u001b[43m(\u001b[49m\u001b[38;5;124;43m'\u001b[39;49m\u001b[38;5;124;43mbas7\u001b[39;49m\u001b[38;5;124;43m'\u001b[39;49m\u001b[43m,\u001b[49m\u001b[38;5;241;43m7\u001b[39;49m\u001b[43m,\u001b[49m\u001b[43m \u001b[49m\u001b[43mkrames\u001b[49m\u001b[38;5;241;43m=\u001b[39;49m\u001b[38;5;28;43;01mTrue\u001b[39;49;00m\u001b[43m,\u001b[49m\u001b[43m \u001b[49m\u001b[43moutput_name\u001b[49m\u001b[38;5;241;43m=\u001b[39;49m\u001b[38;5;124;43m\"\u001b[39;49m\u001b[38;5;124;43mtabelka_Dy_Cl4\u001b[39;49m\u001b[38;5;124;43m\"\u001b[39;49m\u001b[43m)\u001b[49m\n",
      "\u001b[0;31mTypeError\u001b[0m: SltFile.matrix_decomposition_in_z_pseudo_spin_basis() got an unexpected keyword argument 'krames'"
     ]
    }
   ],
   "source": [
    "#slt_file=slt.compound_from_slt('.','DyIr_Cl')\n",
    "\n",
    "Dy.matrix_decomposition_in_z_pseudo_spin_basis('bas7',7,'ze output_name=\"tabelka_Dy_Cl4\")\n"
   ]
  },
  {
   "cell_type": "code",
   "execution_count": 36,
   "id": "a0d064b9-945b-44bc-a69c-758f13700aae",
   "metadata": {},
   "outputs": [
    {
     "name": "stdout",
     "output_type": "stream",
     "text": [
      "\u001b[33mSlothPy message: \u001b[0mUpdated .xyz file was saved as DyIr_Br_axes.xyz in ./.\n"
     ]
    }
   ],
   "source": [
    "slt_file=slt.compound_from_slt('.','DyIr_Br')\n",
    "slt.exporting.axes_in_xyz(slt_file,'bas2',xyz_path='.',xyz_file_name='DyIr_Br.xyz',central_atom='Dy')"
   ]
  },
  {
   "cell_type": "code",
   "execution_count": 15,
   "id": "b5141652-f543-4969-b6a2-f4bc8573dc2c",
   "metadata": {},
   "outputs": [
    {
     "name": "stdout",
     "output_type": "stream",
     "text": [
      "\u001b[33mSlothPy message: \u001b[0mUpdated .mol2 file was saved as Dy_Cl_axes.mol2 in ..\n"
     ]
    }
   ],
   "source": [
    "slt_file=slt.compound_from_slt('.','DyIr_Cl')\n",
    "slt.exporting.axes_in_mol2(slt_file,'bas7',mol2_file_path='.',mol2_file_name='Dy_Cl.mol2',atom_name='Dy')"
   ]
  },
  {
   "cell_type": "code",
   "execution_count": 5,
   "id": "f6cc5432-dc56-45ea-8d22-63758ce828eb",
   "metadata": {},
   "outputs": [],
   "source": [
    "Dy.plot_magnetisation('bas3')"
   ]
  },
  {
   "cell_type": "code",
   "execution_count": null,
   "id": "89318e2b-920d-4820-92fd-6fd0e9ce7751",
   "metadata": {},
   "outputs": [],
   "source": []
  }
 ],
 "metadata": {
  "kernelspec": {
   "display_name": "Python 3 (ipykernel)",
   "language": "python",
   "name": "python3"
  },
  "language_info": {
   "codemirror_mode": {
    "name": "ipython",
    "version": 3
   },
   "file_extension": ".py",
   "mimetype": "text/x-python",
   "name": "python",
   "nbconvert_exporter": "python",
   "pygments_lexer": "ipython3",
   "version": "3.12.0"
  }
 },
 "nbformat": 4,
 "nbformat_minor": 5
}
