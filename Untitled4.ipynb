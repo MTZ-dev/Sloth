{
 "cells": [
  {
   "cell_type": "code",
   "execution_count": 1,
   "id": "6285473e-fbe0-4442-b3ed-01d298a5bc34",
   "metadata": {},
   "outputs": [
    {
     "name": "stdout",
     "output_type": "stream",
     "text": [
      "Cannot switch Qt versions for this session; you must use qt6.\n",
      "\u001b[34m                  ____  _       _   _     \u001b[33m____\n",
      "\u001b[34m                 / ___|| | ___ | |_| |__ \u001b[33m|  _ \\ _   _\n",
      "\u001b[34m                 \\___ \\| |/ _ \\| __| '_ \\\u001b[33m| |_) | | | |\n",
      "\u001b[34m                  ___) | | (_) | |_| | | \u001b[33m|  __/| |_| |\n",
      "\u001b[34m                 |____/|_|\\___/ \\__|_| |_\u001b[33m|_|    \\__, |\n",
      "                                                |___/\u001b[32m  by MTZ \n",
      "\u001b[0m\n",
      "SlothPy Copyright (C) 2023 Mikolaj Tadeusz Zychowicz (MTZ).\n",
      "This program comes with ABSOLUTELY NO WARRANTY.\n",
      "This is free software, and you are welcome to redistribute it.\n",
      "The default is chosen to omit the tracebacks completely. To change it use slt.set_default_error_reporting_mode() method for the printing of tracebacks.\n",
      "Turn on the SlothPy Monitor utility using slt.turn_on_monitor().\n",
      "Exception reporting mode: Plain\n"
     ]
    }
   ],
   "source": [
    "import slothpy as slt\n"
   ]
  },
  {
   "cell_type": "code",
   "execution_count": 2,
   "id": "4486ff1b-fbd8-4b0a-b504-9279552f5c3f",
   "metadata": {},
   "outputs": [],
   "source": [
    "import pandas as pd\n",
    "import matplotlib.pyplot as plt\n",
    "import matplotlib.cm as cm\n",
    "import numpy as np\n",
    "import h5py\n",
    "import numpy as np\n",
    "import matplotlib.pyplot as plt\n",
    "import pandas as pd\n",
    "def gaussian(x, mu, sigma, area):\n",
    "    normalization = area / (sigma * np.sqrt(2 * np.pi))\n",
    "    return normalization * np.exp(-0.5 * ((x - mu) / sigma) ** 2)\n",
    "\n",
    "def lorentzian(x, mu, gamma, area):\n",
    "    \n",
    "    return area / (np.pi) * (gamma) / ((x - mu)**2 + gamma**2)\n",
    "def convolute_spectral_lines_l(energies, intensities, fwhm, resolution=1000):\n",
    "    sigma = fwhm / (2 * np.sqrt(2 * np.log(2)))\n",
    "    x_min, x_max = min(energies) - 5 * fwhm, max(energies) + 5 * fwhm\n",
    "    x_values = np.linspace(x_min, x_max, resolution)\n",
    "    conv_spectrum = np.zeros_like(x_values)\n",
    "\n",
    "    for energy, intensity in zip(energies, intensities):\n",
    "        area = intensity  # Assuming intensity is proportional to the desired area\n",
    "        conv_spectrum += lorentzian(x_values, energy, sigma, area)\n",
    "\n",
    "    return x_values, conv_spectrum\n",
    "\n",
    "def convolute_spectral_lines_g(energies, intensities, fwhm, resolution=1000):\n",
    "    sigma = fwhm / (2 * np.sqrt(2 * np.log(2)))\n",
    "    x_min, x_max = min(energies) - 5 * fwhm, max(energies) + 5 * fwhm\n",
    "    x_values = np.linspace(x_min, x_max, resolution)\n",
    "    conv_spectrum = np.zeros_like(x_values)\n",
    "\n",
    "    for energy, intensity in zip(energies, intensities):\n",
    "        area = intensity  # Assuming intensity is proportional to the desired area\n",
    "        conv_spectrum += gaussian(x_values, energy, sigma, area)\n",
    "\n",
    "    return x_values, conv_spectrum\n",
    "def relative_boltzmann_distribution(x, y, T):\n",
    "\n",
    "    k = 3.166811563e-6  # Boltzmann constant in a.u./K\n",
    "    delta_E = y - x   # Energy difference\n",
    "\n",
    "    return np.exp(-delta_E / (k * T)) "
   ]
  },
  {
   "cell_type": "code",
   "execution_count": 14,
   "id": "d2ea9ee5-c40b-4057-9035-0f8e813bede9",
   "metadata": {},
   "outputs": [
    {
     "name": "stdout",
     "output_type": "stream",
     "text": [
      "[           inf 6.26218038e+12 2.86945267e+04 2.86945265e+04\n",
      " 2.00614707e+04 2.00614706e+04 1.81938948e+04 1.81938947e+04\n",
      " 9.78423880e+02 9.78423880e+02 9.53009451e+02 9.53009451e+02\n",
      " 9.42500869e+02 9.42500868e+02]\n",
      "[-133218.71543362  191753.6393284    37117.17790976   24451.96376157\n",
      "   22732.8380503    21067.9164553    17182.90150657   15616.68060004\n",
      "     980.11887313     977.05426526     954.61762657     951.33145818\n",
      "     944.20890985     940.49908795]\n"
     ]
    },
    {
     "name": "stderr",
     "output_type": "stream",
     "text": [
      "/tmp/ipykernel_3388554/1802029945.py:26: RuntimeWarning: divide by zero encountered in divide\n",
      "  print(1e7/(energies*219474.6))\n"
     ]
    }
   ],
   "source": [
    "from slothpy._general_utilities._constants import B_AU_T\n",
    "import numpy as np\n",
    "from threadpoolctl import threadpool_limits\n",
    "import os\n",
    "os.remove('Nd_lumi.slt')\n",
    "Yb=slt.hamiltonian_from_orca('Yb_bpdo_casscf_nevpt2_dipmom_opt.out','Nd_lumi','test',True, True, False)\n",
    "# Yb = slt.slt_file(\"Nd_lumi.slt\")\n",
    "# Yb[\"test\"].s[:]\n",
    "#print(Yb)\n",
    "with threadpool_limits(4):\n",
    "    from scipy.spatial.transform import Rotation\n",
    "    magnetic_field = - np.asarray([36,36,36]) / B_AU_T\n",
    "    M = Yb[\"test\"].magnetic_dipole_momentum_matrices(\"xyz\").eval()\n",
    "    ham_zeeman = M[0] * magnetic_field[0] + M[1] * magnetic_field[1] + M[2] * magnetic_field[2]\n",
    "    # magnetic_field[:,np.newaxis, np.newaxis] * M\n",
    "    energies = Yb[\"test\"].states_energies_au().eval()\n",
    "    for i in range(ham_zeeman.shape[0]):\n",
    "        ham_zeeman[i,i] += energies[i] #tu musi byc rzeczywiste, poprawic mnozenie l i s, -07=0\n",
    "    energies2, eigenvectors = np.linalg.eigh(ham_zeeman)\n",
    "    dipole_momenta = Yb[\"test\"].electric_dipole_momentum_matrices(\"xyz\").eval()\n",
    "    # print(np.diagonal(dipole_momenta[0]))\n",
    "    transformed_dip_mom = eigenvectors.conj().T[np.newaxis, :, :] @ dipole_momenta @ eigenvectors #rzeczywiste, czemu taka duza energia\n",
    "    #To chyba działało tez bez tego newaxis ale trzeba sprawdzic\n",
    "\n",
    "    #print(np.diag(transformed_dip_mom[0]))\n",
    "    print(1e7/(energies*219474.6)) \n",
    "    print(1e7/(energies2*219474.6))\n"
   ]
  },
  {
   "cell_type": "code",
   "execution_count": 39,
   "id": "7b31a670-189d-4e4b-902e-cf747323563f",
   "metadata": {},
   "outputs": [
    {
     "data": {
      "text/plain": [
       "array([ 0., 12., 24., 36.])"
      ]
     },
     "execution_count": 39,
     "metadata": {},
     "output_type": "execute_result"
    }
   ],
   "source": [
    "fields"
   ]
  },
  {
   "cell_type": "code",
   "execution_count": 53,
   "id": "e8d07dd0-6fbf-42cc-941a-5ddffa5b78e9",
   "metadata": {},
   "outputs": [
    {
     "name": "stdout",
     "output_type": "stream",
     "text": [
      "[ 978.42387964  978.4238798  1012.96384711 1012.96384736 1028.58952131\n",
      " 1028.58952147 1034.03161138 1034.03161163]\n",
      "[ 977.21577825  980.28731746 1011.27219293 1015.5243434  1026.89160903\n",
      " 1031.13817966 1032.34290958 1036.76157662]\n",
      "[ 976.53073455  981.58892989 1009.0864255  1019.02224337 1025.6809722\n",
      " 1032.50755393 1033.90602071 1038.1732441 ]\n",
      "[ 975.46073875  982.98434265 1006.51865233 1022.66871132 1024.83491596\n",
      " 1032.28062121 1036.32158039 1042.36103502]\n",
      "[ 974.11401634  984.06872834 1003.6906442  1021.6029404  1028.43907016\n",
      " 1034.38743997 1038.37299803 1047.68134517]\n"
     ]
    }
   ],
   "source": [
    "import numpy as np\n",
    "from scipy.spatial.transform import Rotation\n",
    "fields = np.linspace(0,36,5)\n",
    "\n",
    "os.remove('Nd_lumi.slt')\n",
    "Yb=slt.hamiltonian_from_orca('Yb_bpdo_casscf_nevpt2_dipmom_opt.out','Nd_lumi','test',True, True, False)\n",
    "dipole_momenta = Yb[\"test\"].electric_dipole_momentum_matrices(\"xyz\").eval()\n",
    "M = Yb[\"test\"].magnetic_dipole_momentum_matrices(\"xyz\").eval()\n",
    "energies = Yb[\"test\"].states_energies_au().eval()\n",
    "\n",
    "\n",
    "F =[[8]]#, 109, 110, 111, 112, 113, 114, 115, 116, 118]]\n",
    "\n",
    "temperatures = np.linspace(10,10, 1)\n",
    "fwhm = 100\n",
    "normalize = 1\n",
    "resolution = 1000\n",
    "sum_spectra = np.zeros((resolution, ), dtype=np.float64)\n",
    "\n",
    "\n",
    "#fig, axs = plt.subplots(1, 1, figsize=(12, 9))\n",
    "\n",
    "\n",
    "df=pd.DataFrame()\n",
    "\n",
    "for b in fields:\n",
    "    magnetic_field = - np.asarray([float(b),float(b),float(b)]) / B_AU_T\n",
    "    ham_zeeman = M[0] * magnetic_field[0] + M[1] * magnetic_field[1] + M[2] * magnetic_field[2]\n",
    "    for i in range(ham_zeeman.shape[0]):\n",
    "        ham_zeeman[i,i] += energies[i] #tu musi byc rzeczywiste, poprawic mnozenie l i s, -07=0\n",
    "    energies, eigenvectors = np.linalg.eigh(ham_zeeman)\n",
    "    dipmom = eigenvectors.conj().T[np.newaxis, :, :] @ dipole_momenta @ eigenvectors\n",
    "\n",
    "\n",
    "    for index, F_emissive in enumerate(F):\n",
    "        for T in temperatures:    \n",
    "            intensities = np.zeros((len(F_emissive),F[0][0]), dtype = np.float64)\n",
    "            emission_energies_cm = np.zeros((len(F_emissive), F[0][0]), dtype = np.float64)\n",
    "            for l, level in enumerate(F_emissive):\n",
    "                for i in range(F[0][0]):\n",
    "                    for k in range(3):\n",
    "                        intensities[l,i] += relative_boltzmann_distribution(energies[F_emissive[0]], energies[level], T) * 2/3 * np.abs(dipmom[k, i, level])**2 * (energies[level] - energies[i])\n",
    "                        emission_energies_cm[l,i] = ((energies[level] - energies[i]) * 219474.6)\n",
    "            intensities = intensities.flatten()\n",
    "            emission_energies_cm = emission_energies_cm.flatten()\n",
    "        \n",
    "            intensities = intensities/max(intensities)\n",
    "            emission_energies_cm=emission_energies_cm\n",
    "            emission_energies_nm = 1e7/emission_energies_cm\n",
    "            print(emission_energies_nm[:])\n",
    "            energy_x_cm, spectrum = convolute_spectral_lines_l(emission_energies_cm, intensities, fwhm, resolution)\n",
    "            spectrum = spectrum/max(spectrum) \n",
    "            sum_spectra += spectrum\n",
    "            energy_x_nm = 1e7/energy_x_cm\n",
    "            \n",
    "            \n",
    "            \n",
    "    dane = pd.DataFrame({'x'f'{b}':energy_x_nm, f'{b}':spectrum})#, 'en':emission_energies_nm, 'int':intensities})\n",
    "    df=pd.concat([df,dane], axis = 1)\n",
    "            \n",
    "    \n",
    "colors = cm.viridis(np.linspace(0, 1, len(df.columns) - 1))        \n",
    "\n",
    "for i,b in enumerate(fields):\n",
    "    column_name = f\"{b}\"  \n",
    "    \n",
    "\n",
    "    \n",
    "    # Rysuj wykres dla aktualnej kolumny 'b'\n",
    "    plt.plot(df['x'f'{b}'], df[column_name], label=f'{b} T', color=colors[i])\n",
    "\n",
    "# Dostosowanie wykresu\n",
    "plt.xlabel('Energy', fontsize=14)\n",
    "plt.ylabel('Intensity', fontsize=14)\n",
    "plt.legend()\n",
    "plt.show()"
   ]
  },
  {
   "cell_type": "code",
   "execution_count": 46,
   "id": "e4c629c0-bac0-4104-8cc6-7e8175eef2f5",
   "metadata": {},
   "outputs": [
    {
     "data": {
      "text/plain": [
       "Index(['x0.0', '0.0', 'x12.0', '12.0', 'x24.0', '24.0', 'x36.0', '36.0'], dtype='object')"
      ]
     },
     "execution_count": 46,
     "metadata": {},
     "output_type": "execute_result"
    }
   ],
   "source": [
    "df.columns"
   ]
  },
  {
   "cell_type": "code",
   "execution_count": 29,
   "id": "2f903933-bf63-418b-88b6-758844046a0f",
   "metadata": {},
   "outputs": [
    {
     "ename": "NameError",
     "evalue": "name 'nowy_zestaw' is not defined",
     "output_type": "error",
     "traceback": [
      "Traceback \u001b[0;36m(most recent call last)\u001b[0m:\n",
      "\u001b[0;36m  Cell \u001b[0;32mIn[29], line 12\u001b[0;36m\n\u001b[0;31m    df = pd.concat([df, nowy_zestaw], axis=1)\u001b[0;36m\n",
      "\u001b[0;31mNameError\u001b[0m\u001b[0;31m:\u001b[0m name 'nowy_zestaw' is not defined\n"
     ]
    }
   ],
   "source": [
    "df=pd.DataFrame({'x':energy_x_nm,'sp':spectrum})\n",
    "df2=pd.DataFrame({'int':intensities,'en':emission_energies_nm})\n",
    "\n",
    "df = pd.DataFrame()\n",
    "\n",
    "# Pętla, w której dodajemy po 4 kolumny na raz\n",
    "for i in range(3):  # W tym przypadku 3 iteracje, czyli dodamy 12 kolumn (3 x 4)\n",
    "    # Tworzenie nowego zestawu danych (4 kolumn)\n",
    "    dane = [{'x':energy_x_nm, 'sp':spectrum, 'en':emission_energies_nm, 'int':intensities},]\n",
    "    \n",
    "    # Dodanie nowych kolumn do głównego DataFrame\n",
    "    df = pd.concat([df, nowy_zestaw], axis=1)\n",
    "\n",
    "print(df)\n",
    "    \n",
    "axs.vlines(x=emission_energies_nm, ymin=0, ymax=intensities, label=\"T\")\n",
    "axs.plot(energy_x_nm, spectrum)\n",
    "\n",
    "\n",
    "\n",
    "\n",
    "axs.set_xlim([900, 1100])\n",
    "axs.set_ylim([0,1])\n",
    "plt.show()"
   ]
  },
  {
   "cell_type": "code",
   "execution_count": null,
   "id": "62c0506f-6a74-450e-af80-a49271a752f6",
   "metadata": {},
   "outputs": [],
   "source": []
  }
 ],
 "metadata": {
  "kernelspec": {
   "display_name": "Python 3 (ipykernel)",
   "language": "python",
   "name": "python3"
  },
  "language_info": {
   "codemirror_mode": {
    "name": "ipython",
    "version": 3
   },
   "file_extension": ".py",
   "mimetype": "text/x-python",
   "name": "python",
   "nbconvert_exporter": "python",
   "pygments_lexer": "ipython3",
   "version": "3.12.0"
  }
 },
 "nbformat": 4,
 "nbformat_minor": 5
}
