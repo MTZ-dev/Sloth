{
 "cells": [
  {
   "cell_type": "code",
   "execution_count": 2,
   "id": "7ac48966",
   "metadata": {},
   "outputs": [
    {
     "name": "stdout",
     "output_type": "stream",
     "text": [
      "[array([[0., 1.],\n",
      "       [0., 1.],\n",
      "       [0., 1.]]), array([[0. , 0. ],\n",
      "       [0.5, 0.5],\n",
      "       [1. , 1. ]])]\n"
     ]
    }
   ],
   "source": [
    "import numpy as np\n",
    "\n",
    "a = np.linspace(0,1,2)\n",
    "b = np.linspace(0,1,2)\n",
    "\n",
    "np.meshgrid(a,b)"
   ]
  }
 ],
 "metadata": {
  "kernelspec": {
   "display_name": "Python 3 (ipykernel)",
   "language": "python",
   "name": "python3"
  },
  "language_info": {
   "codemirror_mode": {
    "name": "ipython",
    "version": 3
   },
   "file_extension": ".py",
   "mimetype": "text/x-python",
   "name": "python",
   "nbconvert_exporter": "python",
   "pygments_lexer": "ipython3",
   "version": "3.9.13"
  }
 },
 "nbformat": 4,
 "nbformat_minor": 5
}
