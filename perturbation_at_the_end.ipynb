{
 "cells": [
  {
   "cell_type": "code",
   "execution_count": 1,
   "id": "c2051630-38bb-4df6-97c2-874f42a849e0",
   "metadata": {
    "scrolled": true
   },
   "outputs": [
    {
     "name": "stdout",
     "output_type": "stream",
     "text": [
      "\u001b[34m                  ____  _       _   _     \u001b[33m____\n",
      "\u001b[34m                 / ___|| | ___ | |_| |__ \u001b[33m|  _ \\ _   _\n",
      "\u001b[34m                 \\___ \\| |/ _ \\| __| '_ \\\u001b[33m| |_) | | | |\n",
      "\u001b[34m                  ___) | | (_) | |_| | | \u001b[33m|  __/| |_| |\n",
      "\u001b[34m                 |____/|_|\\___/ \\__|_| |_\u001b[33m|_|    \\__, |\n",
      "                                                |___/\u001b[32m  by MTZ \n",
      "\u001b[0m\n",
      "SlothPy Copyright (C) 2023 Mikolaj Tadeusz Zychowicz (MTZ).\n",
      "This program comes with ABSOLUTELY NO WARRANTY.\n",
      "This is free software, and you are welcome to redistribute it.\n",
      "The default is chosen to omit the tracebacks completely. To change it use slt.set_default_error_reporting_mode() method for the printing of tracebacks.\n",
      "Turn on the SlothPy Monitor utility using slt.turn_on_monitor().\n",
      "Exception reporting mode: Plain\n"
     ]
    }
   ],
   "source": [
    "import slothpy as slt"
   ]
  },
  {
   "cell_type": "code",
   "execution_count": 2,
   "id": "436b0669-aea7-48b3-9375-2a5f12cc08b0",
   "metadata": {},
   "outputs": [],
   "source": [
    "import numpy as np\n",
    "\n",
    "def generate_random_rotation_matrix():\n",
    "    # Step 1: Generate a random matrix\n",
    "    random_matrix = np.random.randn(3, 3)\n",
    "    \n",
    "    # Step 2: Perform QR decomposition on the random matrix\n",
    "    Q, R = np.linalg.qr(random_matrix)\n",
    "    \n",
    "    # Step 3: Ensure the orthogonality property\n",
    "    # We need to ensure that the determinant is +1 (for a proper rotation matrix)\n",
    "    Q = Q @ np.diag(np.sign(np.diag(R)))\n",
    "    \n",
    "    return Q"
   ]
  },
  {
   "cell_type": "markdown",
   "id": "9c681de3-4b7b-465a-86b1-c1ea4f60758d",
   "metadata": {},
   "source": [
    "$$\n",
    "\\int_a^b f(x)\\,dx = F(b) - F(a)\n",
    "$$"
   ]
  },
  {
   "cell_type": "code",
   "execution_count": 3,
   "id": "ab910d1a-80cd-4e9a-8fe6-6c33e09ceddc",
   "metadata": {},
   "outputs": [],
   "source": [
    "Er = slt.compound_from_molcas(\"./DG_final\", \"CeCoN3_bas2_final\", \".\", \"goles\", \"bas2\")\n",
    "# comp = slt.compound_from_molcas(\"./seminarium\", \"DyIrCN_Cl_bas2\", \"./seminarium\", \"Dy\", \"demo\")"
   ]
  },
  {
   "cell_type": "code",
   "execution_count": 4,
   "id": "9dc5c568-b26c-4d41-84cf-5964d468732c",
   "metadata": {},
   "outputs": [
    {
     "name": "stdout",
     "output_type": "stream",
     "text": [
      "[[ 0.00000000e+00+0.00000000e+00j  0.00000000e+00-2.22044605e-16j\n",
      "   0.00000000e+00+2.77555756e-17j  0.00000000e+00-1.38777878e-16j\n",
      "   0.00000000e+00+0.00000000e+00j -2.77555756e-17-5.55111512e-17j\n",
      "   2.77555756e-17+1.38777878e-17j  5.55111512e-17-1.38777878e-17j\n",
      "   1.38777878e-17-6.93889390e-18j  9.10729825e-18+2.77555756e-17j\n",
      "   1.04083409e-17+3.46944695e-18j  0.00000000e+00+1.38777878e-17j\n",
      "   1.38777878e-17+0.00000000e+00j  0.00000000e+00-1.38777878e-17j]\n",
      " [ 0.00000000e+00+0.00000000e+00j  2.22044605e-16+0.00000000e+00j\n",
      "   0.00000000e+00+2.77555756e-17j -1.11022302e-16-2.77555756e-17j\n",
      "   0.00000000e+00-2.77555756e-17j  1.11022302e-16-2.77555756e-17j\n",
      "  -1.38777878e-17+0.00000000e+00j  0.00000000e+00+0.00000000e+00j\n",
      "   0.00000000e+00-2.77555756e-17j  2.77555756e-17+1.38777878e-17j\n",
      "  -2.77555756e-17-6.93889390e-18j  3.46944695e-18+0.00000000e+00j\n",
      "  -6.93889390e-18+1.38777878e-17j  0.00000000e+00+0.00000000e+00j]\n",
      " [ 0.00000000e+00-5.55111512e-17j  0.00000000e+00+2.77555756e-17j\n",
      "  -5.55111512e-17+0.00000000e+00j -5.55111512e-17+1.38777878e-17j\n",
      "  -2.22044605e-16+4.16333634e-17j -1.38777878e-17+0.00000000e+00j\n",
      "   0.00000000e+00+1.38777878e-17j  0.00000000e+00+0.00000000e+00j\n",
      "   0.00000000e+00-2.77555756e-17j  2.77555756e-17+0.00000000e+00j\n",
      "   0.00000000e+00+0.00000000e+00j  0.00000000e+00+0.00000000e+00j\n",
      "  -8.67361738e-19+0.00000000e+00j  0.00000000e+00+0.00000000e+00j]\n",
      " [-5.55111512e-17-2.77555756e-17j  1.11022302e-16+0.00000000e+00j\n",
      "   3.46944695e-17-2.77555756e-17j -1.11022302e-16+0.00000000e+00j\n",
      "   0.00000000e+00-5.55111512e-17j  0.00000000e+00-1.11022302e-16j\n",
      "  -3.46944695e-18-3.46944695e-18j  0.00000000e+00+0.00000000e+00j\n",
      "   3.46944695e-18+0.00000000e+00j -2.77555756e-17+8.67361738e-19j\n",
      "   0.00000000e+00-5.55111512e-17j  0.00000000e+00+6.93889390e-18j\n",
      "   6.93889390e-18-1.38777878e-17j  0.00000000e+00+0.00000000e+00j]\n",
      " [ 0.00000000e+00+0.00000000e+00j  0.00000000e+00+2.77555756e-17j\n",
      "   2.22044605e-16+1.38777878e-17j -5.55111512e-17+0.00000000e+00j\n",
      "   0.00000000e+00-4.93038066e-32j  0.00000000e+00+0.00000000e+00j\n",
      "   0.00000000e+00-1.38777878e-17j  6.93889390e-18-6.93889390e-18j\n",
      "   0.00000000e+00+6.93889390e-18j -1.38777878e-17+0.00000000e+00j\n",
      "   0.00000000e+00+1.04083409e-17j  0.00000000e+00+0.00000000e+00j\n",
      "   0.00000000e+00+0.00000000e+00j  0.00000000e+00+0.00000000e+00j]\n",
      " [-2.77555756e-17+0.00000000e+00j  1.11022302e-16+0.00000000e+00j\n",
      "   1.04083409e-17-5.55111512e-17j  1.11022302e-16+0.00000000e+00j\n",
      "   0.00000000e+00+0.00000000e+00j  0.00000000e+00-2.46519033e-32j\n",
      "   0.00000000e+00-3.46944695e-18j  0.00000000e+00+0.00000000e+00j\n",
      "   0.00000000e+00-1.38777878e-17j -3.46944695e-18+0.00000000e+00j\n",
      "   5.20417043e-18+0.00000000e+00j  0.00000000e+00+0.00000000e+00j\n",
      "   2.77555756e-17+0.00000000e+00j  0.00000000e+00+0.00000000e+00j]\n",
      " [ 0.00000000e+00-2.77555756e-17j -6.93889390e-18+0.00000000e+00j\n",
      "   2.77555756e-17-1.38777878e-17j -8.67361738e-18+0.00000000e+00j\n",
      "   0.00000000e+00+1.38777878e-17j  6.93889390e-18-6.93889390e-18j\n",
      "   0.00000000e+00+0.00000000e+00j -5.55111512e-17+0.00000000e+00j\n",
      "   5.55111512e-17+2.77555756e-17j  0.00000000e+00-2.77555756e-17j\n",
      "   0.00000000e+00+2.77555756e-17j  0.00000000e+00+0.00000000e+00j\n",
      "   0.00000000e+00+6.93889390e-18j  0.00000000e+00-1.38777878e-17j]\n",
      " [ 0.00000000e+00+1.38777878e-17j -2.77555756e-17+0.00000000e+00j\n",
      "   0.00000000e+00-3.46944695e-18j  0.00000000e+00-6.93889390e-18j\n",
      "   0.00000000e+00+0.00000000e+00j  1.38777878e-17+1.38777878e-17j\n",
      "  -5.55111512e-17-2.22044605e-16j  0.00000000e+00+0.00000000e+00j\n",
      "   5.55111512e-17-1.11022302e-16j -6.93889390e-18-1.11022302e-16j\n",
      "   0.00000000e+00+1.11022302e-16j  0.00000000e+00-5.55111512e-17j\n",
      "   0.00000000e+00-1.38777878e-17j  5.55111512e-17+0.00000000e+00j]\n",
      " [ 0.00000000e+00+6.93889390e-18j  0.00000000e+00+2.77555756e-17j\n",
      "   0.00000000e+00+2.77555756e-17j -6.93889390e-18+0.00000000e+00j\n",
      "   2.77555756e-17-6.93889390e-18j  1.38777878e-17+1.38777878e-17j\n",
      "   0.00000000e+00+0.00000000e+00j  5.55111512e-17+0.00000000e+00j\n",
      "   1.12757026e-17+0.00000000e+00j  1.11022302e-16-1.11022302e-16j\n",
      "  -2.77555756e-17+0.00000000e+00j  5.55111512e-17+5.55111512e-17j\n",
      "   0.00000000e+00+0.00000000e+00j  2.08166817e-17+1.11022302e-16j]\n",
      " [ 9.54097912e-18+0.00000000e+00j  0.00000000e+00+0.00000000e+00j\n",
      "   0.00000000e+00+1.38777878e-17j  0.00000000e+00+3.46944695e-18j\n",
      "   0.00000000e+00+0.00000000e+00j -3.46944695e-18+2.77555756e-17j\n",
      "  -1.11022302e-16-5.55111512e-17j  1.38777878e-17+0.00000000e+00j\n",
      "   1.11022302e-16+0.00000000e+00j  8.76035355e-17-9.86076132e-32j\n",
      "   0.00000000e+00-5.55111512e-17j -5.55111512e-17+0.00000000e+00j\n",
      "  -1.11022302e-16+0.00000000e+00j -5.55111512e-17+0.00000000e+00j]\n",
      " [-3.46944695e-18+1.04083409e-17j  0.00000000e+00+0.00000000e+00j\n",
      "  -5.55111512e-17+3.46944695e-18j  0.00000000e+00+0.00000000e+00j\n",
      "   1.38777878e-17+3.46944695e-18j -1.21430643e-17+0.00000000e+00j\n",
      "   0.00000000e+00-5.55111512e-17j -5.55111512e-17+0.00000000e+00j\n",
      "   0.00000000e+00-6.93889390e-17j  2.77555756e-17-5.55111512e-17j\n",
      "   0.00000000e+00+9.86076132e-32j  1.11022302e-16-2.77555756e-17j\n",
      "   0.00000000e+00-1.11022302e-16j  1.11022302e-16+0.00000000e+00j]\n",
      " [ 2.77555756e-17+0.00000000e+00j -9.54097912e-18+0.00000000e+00j\n",
      "  -5.55111512e-17+0.00000000e+00j -1.38777878e-17-1.38777878e-17j\n",
      "  -6.93889390e-18-2.77555756e-17j  1.38777878e-17+0.00000000e+00j\n",
      "   0.00000000e+00-1.11022302e-16j  0.00000000e+00+2.77555756e-17j\n",
      "   5.55111512e-17-5.55111512e-17j -1.38777878e-17+1.11022302e-16j\n",
      "   0.00000000e+00+0.00000000e+00j -1.11022302e-16+9.86076132e-32j\n",
      "  -1.11022302e-16+0.00000000e+00j  0.00000000e+00-1.11022302e-16j]\n",
      " [ 0.00000000e+00+1.38777878e-17j  6.93889390e-18+0.00000000e+00j\n",
      "  -2.60208521e-18+0.00000000e+00j -3.46944695e-18+1.38777878e-17j\n",
      "  -5.55111512e-17-5.55111512e-17j  0.00000000e+00+2.77555756e-17j\n",
      "   0.00000000e+00+0.00000000e+00j -6.93889390e-18+2.77555756e-17j\n",
      "   0.00000000e+00+0.00000000e+00j  0.00000000e+00+0.00000000e+00j\n",
      "  -2.08166817e-17+0.00000000e+00j  0.00000000e+00+0.00000000e+00j\n",
      "   1.11022302e-16+9.86076132e-32j  0.00000000e+00+0.00000000e+00j]\n",
      " [-1.38777878e-17+1.38777878e-17j  0.00000000e+00+0.00000000e+00j\n",
      "   2.77555756e-17+0.00000000e+00j  2.77555756e-17-3.46944695e-18j\n",
      "   3.46944695e-18+0.00000000e+00j  5.55111512e-17+2.77555756e-17j\n",
      "  -6.93889390e-18+0.00000000e+00j  0.00000000e+00+2.77555756e-17j\n",
      "   6.93889390e-18+0.00000000e+00j  0.00000000e+00+0.00000000e+00j\n",
      "   0.00000000e+00-2.77555756e-17j  0.00000000e+00+0.00000000e+00j\n",
      "   0.00000000e+00-5.55111512e-17j  0.00000000e+00+0.00000000e+00j]]\n"
     ]
    },
    {
     "ename": "ValueError",
     "evalue": "The truth value of an array with more than one element is ambiguous. Use a.any() or a.all()",
     "output_type": "error",
     "traceback": [
      "Traceback \u001b[0;36m(most recent call last)\u001b[0m:\n",
      "\u001b[0m  Cell \u001b[1;32mIn[4], line 1\u001b[0m\n    Er[\"bas2\"].angular_momentum_matrices(xyz=[1.23,6.44,5.4], rotation=generate_random_rotation_matrix())\u001b[0m\n",
      "\u001b[0m  File \u001b[1;32m~/Sloth/Sloth/slothpy/core/_input_parser.py:159\u001b[0m in \u001b[1;35mwrapper\u001b[0m\n    return func(**bound_args.arguments)\u001b[0m\n",
      "\u001b[0m  File \u001b[1;32m~/Sloth/Sloth/slothpy/core/_slt_file.py:305\u001b[0m in \u001b[1;35mangular_momentum_matrices\u001b[0m\n    angular_momentum_matrices = _rotate_and_return_components(xyz, angular_momentum_matrices, rotation)\u001b[0m\n",
      "\u001b[0;36m  File \u001b[0;32m~/Sloth/Sloth/slothpy/_general_utilities/_utils.py:29\u001b[0;36m in \u001b[0;35m_rotate_and_return_components\u001b[0;36m\n\u001b[0;31m    case \"xyz\":\u001b[0;36m\n",
      "\u001b[0;31mValueError\u001b[0m\u001b[0;31m:\u001b[0m The truth value of an array with more than one element is ambiguous. Use a.any() or a.all()\n"
     ]
    }
   ],
   "source": [
    "Er[\"bas2\"].angular_momentum_matrices(xyz=[1.23,6.44,5.4], rotation=generate_random_rotation_matrix())"
   ]
  },
  {
   "cell_type": "code",
   "execution_count": 4,
   "id": "d639366f-b1d2-48db-a541-1b87cdf11c0a",
   "metadata": {},
   "outputs": [],
   "source": [
    "import numpy as np\n",
    "fields = np.linspace(0, 12, 100)\n",
    "zeeman = Er.calculate_zeeman_splitting(\"bas1\", 10, fields, [[0,0,1],[0,1,0],[1,1,1]], 0, slt=\"elo\")"
   ]
  },
  {
   "cell_type": "code",
   "execution_count": 6,
   "id": "ad6a13c7-0219-439f-bee4-44476172119d",
   "metadata": {},
   "outputs": [
    {
     "data": {
      "text/plain": [
       "(3, 100, 10)"
      ]
     },
     "execution_count": 6,
     "metadata": {},
     "output_type": "execute_result"
    }
   ],
   "source": [
    "zeeman.shape"
   ]
  },
  {
   "cell_type": "code",
   "execution_count": null,
   "id": "3e068e0e-2e94-4036-9619-1ecf00b7ddc8",
   "metadata": {},
   "outputs": [],
   "source": [
    "Er.plot_zeeman(\"elo\")"
   ]
  },
  {
   "cell_type": "code",
   "execution_count": 7,
   "id": "26878c3e-7e09-4dc5-962f-1651cc4e5fd3",
   "metadata": {},
   "outputs": [],
   "source": [
    "slt.settings.precision = \"double\""
   ]
  },
  {
   "cell_type": "code",
   "execution_count": 2,
   "id": "b69d0485-d3a9-4461-b190-7f4bc484b64b",
   "metadata": {},
   "outputs": [
    {
     "name": "stdout",
     "output_type": "stream",
     "text": [
      "\u001b[31mCompound\u001b[0m from File: \u001b[32m./seminarium/Dy.slt\u001b[0m with the following \u001b[34mGroups\u001b[0m/\u001b[35mDatasets\u001b[0m.\n",
      "Group: \u001b[34mdemo\u001b[0m | \u001b[33mDescription\u001b[0m: Relativistic SOC MOLCAS results. | \u001b[33mKind\u001b[0m: MOLCAS | \u001b[33mPrecision\u001b[0m: double | \u001b[33mStates\u001b[0m: 2002 | \u001b[33mType\u001b[0m: HAMILTONIAN\n",
      "\t\u001b[35mSOC_ANGULAR_MOMENTA\u001b[0m | \u001b[33mDescription\u001b[0m: Lx, Ly, and, Lz matrices in the SOC basis [(x-0, y-1, z-2), :, :].\n",
      "\t\u001b[35mSOC_ENERGIES\u001b[0m | \u001b[33mDescription\u001b[0m: SOC energies.\n",
      "\t\u001b[35mSOC_SPIN\u001b[0m | \u001b[33mDescription\u001b[0m: Sx, Sy, and Sz matrices in the SOC basis [(x-0, y-1, z-2), :, :].\n",
      "Group: \u001b[34mnonono\u001b[0m | \u001b[33mDescription\u001b[0m: SOC energies in cm-1. | \u001b[33mKind\u001b[0m: CM_1 | \u001b[33mPrecision\u001b[0m: double | \u001b[33mStates\u001b[0m: 9 | \u001b[33mType\u001b[0m: Soc_energies\n",
      "\t\u001b[35mSOC_ENERGIES_CM_1\u001b[0m | \u001b[33mDescription\u001b[0m: SOC energies in cm-1.\n"
     ]
    }
   ],
   "source": [
    "print(comp)"
   ]
  },
  {
   "cell_type": "code",
   "execution_count": 3,
   "id": "1d5cc707-a75d-4080-8286-a8885803c963",
   "metadata": {},
   "outputs": [],
   "source": [
    "del comp[\"nonono\"]\n",
    "del comp[\"frajer\"]"
   ]
  },
  {
   "cell_type": "code",
   "execution_count": 3,
   "id": "40d5d5c4-6539-4683-b52f-b56009f4ed77",
   "metadata": {},
   "outputs": [
    {
     "name": "stdout",
     "output_type": "stream",
     "text": [
      "\u001b[31mCompound\u001b[0m from File: \u001b[32m./seminarium/Dy.slt\u001b[0m with the following \u001b[34mGroups\u001b[0m/\u001b[35mDatasets\u001b[0m.\n",
      "Group: \u001b[34mdemo\u001b[0m | \u001b[33mDescription\u001b[0m: Relativistic SOC MOLCAS results. | \u001b[33mKind\u001b[0m: MOLCAS | \u001b[33mPrecision\u001b[0m: double | \u001b[33mStates\u001b[0m: 2002 | \u001b[33mType\u001b[0m: HAMILTONIAN\n",
      "\t\u001b[35mSOC_ANGULAR_MOMENTA\u001b[0m | \u001b[33mDescription\u001b[0m: Lx, Ly, and, Lz matrices in the SOC basis [(x-0, y-1, z-2), :, :].\n",
      "\t\u001b[35mSOC_ENERGIES\u001b[0m | \u001b[33mDescription\u001b[0m: SOC energies.\n",
      "\t\u001b[35mSOC_SPIN\u001b[0m | \u001b[33mDescription\u001b[0m: Sx, Sy, and Sz matrices in the SOC basis [(x-0, y-1, z-2), :, :].\n",
      "Group: \u001b[34mnonono\u001b[0m | \u001b[33mDescription\u001b[0m: SOC energies in cm-1. | \u001b[33mKind\u001b[0m: CM_1 | \u001b[33mPrecision\u001b[0m: double | \u001b[33mStates\u001b[0m: 9 | \u001b[33mType\u001b[0m: Soc_energies\n",
      "\t\u001b[35mSOC_ENERGIES_CM_1\u001b[0m | \u001b[33mDescription\u001b[0m: SOC energies in cm-1.\n"
     ]
    }
   ],
   "source": [
    "print(comp)"
   ]
  },
  {
   "cell_type": "code",
   "execution_count": 2,
   "id": "94292674-52a9-4b6e-acaf-eca14891db98",
   "metadata": {},
   "outputs": [
    {
     "name": "stdout",
     "output_type": "stream",
     "text": [
      "\u001b[34m                  ____  _       _   _     \u001b[33m____\n",
      "\u001b[34m                 / ___|| | ___ | |_| |__ \u001b[33m|  _ \\ _   _\n",
      "\u001b[34m                 \\___ \\| |/ _ \\| __| '_ \\\u001b[33m| |_) | | | |\n",
      "\u001b[34m                  ___) | | (_) | |_| | | \u001b[33m|  __/| |_| |\n",
      "\u001b[34m                 |____/|_|\\___/ \\__|_| |_\u001b[33m|_|    \\__, |\n",
      "                                                |___/\u001b[32m  by MTZ \n",
      "\u001b[0m\n",
      "SlothPy Copyright (C) 2023 Mikolaj Tadeusz Zychowicz (MTZ).\n",
      "This program comes with ABSOLUTELY NO WARRANTY.\n",
      "This is free software, and you are welcome to redistribute it.\n",
      "The default is chosen to omit the tracebacks completely. To change it use slt.set_default_error_reporting_mode() method for the printing of tracebacks.\n",
      "Turn on the SlothPy Monitor utility using slt.turn_on_monitor().\n",
      "Exception reporting mode: Plain\n",
      "CPU times: user 326 ms, sys: 532 ms, total: 858 ms\n",
      "Wall time: 917 ms\n"
     ]
    }
   ],
   "source": [
    "%%time\n",
    "import slothpy as slt\n",
    "slt.settings.precision = \"single\"\n",
    "comp = slt.compound_from_molcas(\"./seminarium\", \"DyIrCN_Cl_bas2\", \"./seminarium\", \"Dy\", \"demo\")\n",
    "# comp = slt.compound_from_slt(\"./seminarium\", \"Dy\")"
   ]
  },
  {
   "cell_type": "code",
   "execution_count": 3,
   "id": "6fd148e9-067d-4806-aac6-302101ace2ee",
   "metadata": {},
   "outputs": [
    {
     "name": "stdout",
     "output_type": "stream",
     "text": [
      "CPU times: user 11.2 ms, sys: 1.85 ms, total: 13.1 ms\n",
      "Wall time: 11.5 ms\n"
     ]
    }
   ],
   "source": [
    "%%time\n",
    "a = comp[\"demo\"].magnetic_dipole_momentum_matrices('xyz', 1, 17, rotation=[[1,0,0],[0,1,0],[0,0,1]], slt_save=\"p\")"
   ]
  },
  {
   "cell_type": "code",
   "execution_count": 4,
   "id": "ee6d2d54-3bb2-4d01-b454-4497ba4e9604",
   "metadata": {},
   "outputs": [
    {
     "name": "stdout",
     "output_type": "stream",
     "text": [
      "\u001b[31mCompound\u001b[0m from File: \u001b[32m./seminarium/Dy.slt\u001b[0m with the following \u001b[34mGroups\u001b[0m/\u001b[35mDatasets\u001b[0m.\n",
      "Group: \u001b[34mdemo\u001b[0m | \u001b[33mDescription\u001b[0m: Relativistic SOC MOLCAS results. | \u001b[33mKind\u001b[0m: MOLCAS | \u001b[33mPrecision\u001b[0m: SINGLE | \u001b[33mStates\u001b[0m: 2002 | \u001b[33mType\u001b[0m: HAMILTONIAN\n",
      "\t\u001b[35mANGULAR_MOMENTA\u001b[0m | \u001b[33mDescription\u001b[0m: Lx, Ly, and, Lz angular momentum matrices in the SOC basis [(x-0, y-1, z-2), :, :].\n",
      "\t\u001b[35mSPINS\u001b[0m | \u001b[33mDescription\u001b[0m: Sx, Sy, and Sz spin matrices in the SOC basis [(x-0, y-1, z-2), :, :].\n",
      "\t\u001b[35mSTATES_ENERGIES\u001b[0m | \u001b[33mDescription\u001b[0m: SOC energies.\n",
      "Group: \u001b[34mp\u001b[0m | \u001b[33mDescription\u001b[0m: Total magnetic dipole matrices from Group 'demo'. | \u001b[33mKind\u001b[0m: XYZ | \u001b[33mPrecision\u001b[0m: SINGLE | \u001b[33mStates\u001b[0m: 16 | \u001b[33mType\u001b[0m: MAGNETIC_DIPOLE_MOMENTA\n",
      "\t\u001b[35mMAGNETIC_DIPOLE_MOMENTUM_MATRICES\u001b[0m | \u001b[33mDescription\u001b[0m: XYZ [(x-0, y-1, z-2), :, :] components of the magnetic dipole momentum.\n",
      "\t\u001b[35mROTATION\u001b[0m | \u001b[33mDescription\u001b[0m: Rotation used to rotate the magnetic dipole momentum components.\n"
     ]
    }
   ],
   "source": [
    "print(comp)"
   ]
  },
  {
   "cell_type": "code",
   "execution_count": 20,
   "id": "b02752ee-2367-4d0e-91f9-a10392af3acd",
   "metadata": {},
   "outputs": [
    {
     "data": {
      "text/plain": [
       "array([-2.3767736 , -1.9718081 , -1.599664  , -1.2598525 , -1.007165  ,\n",
       "       -0.75759   , -0.47104076, -0.1603619 ,  0.1559723 ,  0.4717689 ,\n",
       "        0.79032326,  1.1017523 ,  1.3618389 ,  1.641145  ,  1.9919925 ,\n",
       "        2.3768814 ], dtype=float32)"
      ]
     },
     "execution_count": 20,
     "metadata": {},
     "output_type": "execute_result"
    }
   ],
   "source": [
    "from numpy.linalg import eigvalsh\n",
    "eigvalsh(a)"
   ]
  },
  {
   "cell_type": "code",
   "execution_count": 6,
   "id": "013e1c87-a570-48bd-8404-df83518aa8ca",
   "metadata": {},
   "outputs": [
    {
     "data": {
      "text/plain": [
       "dtype('complex64')"
      ]
     },
     "execution_count": 6,
     "metadata": {},
     "output_type": "execute_result"
    }
   ],
   "source": [
    "comp[\"p\"][\"MAGNETIC_DIPOLE_MOMENTUM_MATRICES\"][:].dtype"
   ]
  },
  {
   "cell_type": "code",
   "execution_count": null,
   "id": "e1ca89c7-5ea7-4e8a-8720-8c329dcfd543",
   "metadata": {},
   "outputs": [],
   "source": []
  },
  {
   "cell_type": "code",
   "execution_count": 17,
   "id": "13287d33-702e-41c9-8a2d-af000388751c",
   "metadata": {},
   "outputs": [
    {
     "name": "stdout",
     "output_type": "stream",
     "text": [
      "CPU times: user 28.4 ms, sys: 93.1 ms, total: 121 ms\n",
      "Wall time: 120 ms\n"
     ]
    }
   ],
   "source": [
    "%%time\n",
    "with File(\"./seminarium/Dy.slt\", 'r') as file:\n",
    "    dataset = file[\"demo/SOC_ANGULAR_MOMENTA\"][:]"
   ]
  },
  {
   "cell_type": "code",
   "execution_count": null,
   "id": "92e33bf1-a4dd-4228-b970-6c416d207e71",
   "metadata": {},
   "outputs": [],
   "source": [
    "dataset"
   ]
  },
  {
   "cell_type": "code",
   "execution_count": 8,
   "id": "ce305f6e-6bdc-47ed-95be-d299d18065cc",
   "metadata": {},
   "outputs": [
    {
     "data": {
      "text/plain": [
       "array('rollo', dtype='<U5')"
      ]
     },
     "execution_count": 8,
     "metadata": {},
     "output_type": "execute_result"
    }
   ],
   "source": [
    "from numpy import array\n",
    "array(\"rollo\")"
   ]
  },
  {
   "cell_type": "code",
   "execution_count": 5,
   "id": "861810f2-b8a4-455d-a690-f908cb3f80ba",
   "metadata": {},
   "outputs": [],
   "source": [
    "comp[\"frajer\"][\"lolkinz\"] = (1,2)"
   ]
  },
  {
   "cell_type": "code",
   "execution_count": 2,
   "id": "8efdd44b-6da6-43a8-a1ba-b80af548438e",
   "metadata": {},
   "outputs": [
    {
     "name": "stdout",
     "output_type": "stream",
     "text": [
      "CPU times: user 124 ms, sys: 1.02 s, total: 1.15 s\n",
      "Wall time: 2.07 s\n"
     ]
    }
   ],
   "source": [
    "%%time\n",
    "e = comp.zeeman_splitting(\"bas2\", 16, [i for i in range(1000)], [[0,0,1]], slt_save=\"lolz\")"
   ]
  },
  {
   "cell_type": "code",
   "execution_count": 4,
   "id": "fd14ab42-5d7d-4681-a354-a42094413358",
   "metadata": {},
   "outputs": [
    {
     "data": {
      "text/plain": [
       "<\u001b[31mSltCompound\u001b[0m object for \u001b[32mFile\u001b[0m './zeeman.slt'.>"
      ]
     },
     "execution_count": 4,
     "metadata": {},
     "output_type": "execute_result"
    }
   ],
   "source": [
    "comp"
   ]
  },
  {
   "cell_type": "code",
   "execution_count": 2,
   "id": "ff6d5760-01cb-4d1d-b168-e78719e013d2",
   "metadata": {
    "scrolled": true
   },
   "outputs": [
    {
     "name": "stdout",
     "output_type": "stream",
     "text": [
      "\u001b[31mCompound\u001b[0m from File: \u001b[32m./zeeman.slt\u001b[0m with the following \u001b[34mGroups\u001b[0m/\u001b[35mDatasets\u001b[0m.\n",
      "Group: \u001b[34mbas2\u001b[0m | \u001b[33mDescription\u001b[0m: Group containing relativistic SOC MOLCAS results. | \u001b[33mKind\u001b[0m: MOLCAS | \u001b[33mPrecision\u001b[0m: double | \u001b[33mStates\u001b[0m: 364 | \u001b[33mType\u001b[0m: Hamiltonian\n",
      "\t\u001b[35mSOC_ENERGIES\u001b[0m | \u001b[33mDescription\u001b[0m: Dataset containing SOC energies.\n",
      "\t\u001b[35mSOC_LX\u001b[0m | \u001b[33mDescription\u001b[0m: Dataset containing the Lx matrix in the SOC basis.\n",
      "\t\u001b[35mSOC_LY\u001b[0m | \u001b[33mDescription\u001b[0m: Dataset containing the Ly matrix in the SOC basis.\n",
      "\t\u001b[35mSOC_LZ\u001b[0m | \u001b[33mDescription\u001b[0m: Dataset containing the Lz matrix in the SOC basis.\n",
      "\t\u001b[35mSOC_SX\u001b[0m | \u001b[33mDescription\u001b[0m: Dataset containing the Sx matrix in the SOC basis.\n",
      "\t\u001b[35mSOC_SY\u001b[0m | \u001b[33mDescription\u001b[0m: Dataset containing the Sy matrix in the SOC basis.\n",
      "\t\u001b[35mSOC_SZ\u001b[0m | \u001b[33mDescription\u001b[0m: Dataset containing the Sz matrix in the SOC basis.\n",
      "Group: \u001b[34mlolz\u001b[0m | \u001b[33mDescription\u001b[0m: Group containing Zeeman splitting calculated from group: bas2. | \u001b[33mKind\u001b[0m: directional | \u001b[33mPrecision\u001b[0m: double | \u001b[33mType\u001b[0m: Zeeman_splitting\n",
      "\t\u001b[35mmagnetic_fields\u001b[0m | \u001b[33mDescription\u001b[0m: Dataset containing magnetic field (T) values used in the simulation.\n",
      "\t\u001b[35morientations\u001b[0m | \u001b[33mDescription\u001b[0m: Dataset containing magnetic fields' orientation grid used in the simulation.\n",
      "\t\u001b[35mzeeman_splitting\u001b[0m | \u001b[33mDescription\u001b[0m: Dataset containing Zeeman splitting in the form [orientations, fields, energies].\n"
     ]
    }
   ],
   "source": [
    "print(comp)"
   ]
  },
  {
   "cell_type": "code",
   "execution_count": 3,
   "id": "1fd87090-d3b5-43a3-8eba-423b45763175",
   "metadata": {},
   "outputs": [
    {
     "ename": "SltFileError",
     "evalue": "\u001b[31m\nSlothFileError\u001b[0m, \u001b[32mFile\u001b[0m './zeeman.slt', \u001b[33mKeyError\u001b[0m: \"Can't open attribute (can't locate attribute: 'wonsz')\"  ",
     "output_type": "error",
     "traceback": [
      "Traceback \u001b[0;36m(most recent call last)\u001b[0m:\n",
      "\u001b[0m  Cell \u001b[1;32mIn[3], line 1\u001b[0m\n    print(comp[\"lolz\"][\"zeeman_splitting\"].attributes[\"wonsz\"])\u001b[0m\n",
      "\u001b[0;36m  File \u001b[0;32m~/Sloth/Sloth/slothpy/core/_slothpy_exceptions.py:300\u001b[0;36m in \u001b[0;35mwrapper\u001b[0;36m\n\u001b[0;31m    raise exception_mapping[slt_exception](args[0]._hdf5, exc, slt_message) from None\u001b[0;36m\n",
      "\u001b[0;31mSltFileError\u001b[0m\u001b[0;31m:\u001b[0m \u001b[31m\nSlothFileError\u001b[0m, \u001b[32mFile\u001b[0m './zeeman.slt', \u001b[33mKeyError\u001b[0m: \"Can't open attribute (can't locate attribute: 'wonsz')\"  \n"
     ]
    }
   ],
   "source": [
    "print(comp[\"lolz\"][\"zeeman_splitting\"].attributes[\"wonsz\"])"
   ]
  },
  {
   "cell_type": "code",
   "execution_count": null,
   "id": "5f7b64c5-d3f9-4e60-b913-a48a676c53ca",
   "metadata": {},
   "outputs": [],
   "source": []
  },
  {
   "cell_type": "code",
   "execution_count": 3,
   "id": "ee9180b3-1da7-4f42-902d-ed0b63081959",
   "metadata": {},
   "outputs": [
    {
     "data": {
      "text/plain": [
       "numpy.float64"
      ]
     },
     "execution_count": 3,
     "metadata": {},
     "output_type": "execute_result"
    }
   ],
   "source": [
    "slt.settings.float"
   ]
  },
  {
   "cell_type": "code",
   "execution_count": 3,
   "id": "3e89ed49-d5ae-46fd-adf4-7f0292fa9af3",
   "metadata": {},
   "outputs": [
    {
     "data": {
      "text/plain": [
       "array([1, 2, 3])"
      ]
     },
     "execution_count": 3,
     "metadata": {},
     "output_type": "execute_result"
    }
   ],
   "source": [
    "comp[\"wowo\", \"elolo\"][:]"
   ]
  },
  {
   "cell_type": "code",
   "execution_count": 9,
   "id": "69b6a13b-d0ce-477a-b8c1-362dcfd62b23",
   "metadata": {},
   "outputs": [
    {
     "data": {
      "text/plain": [
       "array([1, 2])"
      ]
     },
     "execution_count": 9,
     "metadata": {},
     "output_type": "execute_result"
    }
   ],
   "source": [
    "a = comp[\"donek\"]\n",
    "a[\"elo\"] = [1,2]\n",
    "comp[\"donek\"][\"elo\"][:]"
   ]
  },
  {
   "cell_type": "code",
   "execution_count": 5,
   "id": "b7a1aa9c-1ed5-4e3a-9c38-d10730177769",
   "metadata": {},
   "outputs": [],
   "source": [
    "del comp[\"v\"]"
   ]
  },
  {
   "cell_type": "code",
   "execution_count": 6,
   "id": "bafb1755-2fdc-44bd-a682-d06fa96919dd",
   "metadata": {},
   "outputs": [
    {
     "name": "stdout",
     "output_type": "stream",
     "text": [
      "{\u001b[33mDescription\u001b[0m: Group(single) containing results of relativistic SOC MOLCAS calculations - angular momenta, spin in SOC basis and SOC energies}\n"
     ]
    }
   ],
   "source": [
    "print(comp[\"single\"].attr)"
   ]
  },
  {
   "cell_type": "code",
   "execution_count": 8,
   "id": "6b02aabf-1e1b-4ed8-bbf6-816a7eadb2fc",
   "metadata": {},
   "outputs": [
    {
     "name": "stdout",
     "output_type": "stream",
     "text": [
      "Exception reporting mode: Plain\n"
     ]
    }
   ],
   "source": [
    "slt.settings.traceback = False\n",
    "comp[\"v\"][\"v\"][:2] = [4,2]"
   ]
  },
  {
   "cell_type": "code",
   "execution_count": 6,
   "id": "7eab2b80-835c-4d10-9d97-24be269f5f27",
   "metadata": {},
   "outputs": [
    {
     "ename": "SltFileError",
     "evalue": "\u001b[31m\nSlothFileError\u001b[0m, \u001b[32mFile\u001b[0m './ror.slt', \u001b[33mKeyError\u001b[0m: \"Dataset 'elo' doesn't exist in the group 'test'.\"  ",
     "output_type": "error",
     "traceback": [
      "Traceback \u001b[0;36m(most recent call last)\u001b[0m:\n",
      "\u001b[0m  Cell \u001b[1;32mIn[6], line 1\u001b[0m\n    a = comp[\"test\"][\"elo\"]\u001b[0m\n",
      "\u001b[0;36m  File \u001b[0;32m~/Sloth/Sloth/slothpy/core/_slothpy_exceptions.py:300\u001b[0;36m in \u001b[0;35mwrapper\u001b[0;36m\n\u001b[0;31m    raise exception_mapping[slt_exception](args[0]._hdf5, exc, slt_message) from None\u001b[0;36m\n",
      "\u001b[0;31mSltFileError\u001b[0m\u001b[0;31m:\u001b[0m \u001b[31m\nSlothFileError\u001b[0m, \u001b[32mFile\u001b[0m './ror.slt', \u001b[33mKeyError\u001b[0m: \"Dataset 'elo' doesn't exist in the group 'test'.\"  \n"
     ]
    }
   ],
   "source": [
    "a = comp[\"test\"][\"elo\"]\n",
    "a"
   ]
  },
  {
   "cell_type": "code",
   "execution_count": 17,
   "id": "0b4385c8-9486-4858-8998-c57c5ae0f3ce",
   "metadata": {},
   "outputs": [
    {
     "name": "stdout",
     "output_type": "stream",
     "text": [
      "\u001b[31mCompound \u001b[0mfrom File: \u001b[32m./Hoo.slt\u001b[0m with the following \u001b[34mGroups\u001b[0m/\u001b[35mDatasets\u001b[0m.\n",
      "Group: \u001b[34mbas2\u001b[0m | Description: Group(bas2) containing results of relativistic SOC MOLCAS calculations - angular momenta, spin in SOC basis and SOC energies \n",
      "\u001b[35mSOC_LX\u001b[0m | Description: Dataset containing Lx matrix in SOC basis \n",
      "\u001b[35mSOC_LY\u001b[0m | Description: Dataset containing Ly matrix in SOC basis \n",
      "\u001b[35mSOC_LZ\u001b[0m | Description: Dataset containing Lz matrix in SOC basis \n",
      "\u001b[35mSOC_SX\u001b[0m | Description: Dataset containing Sx matrix in SOC basis \n",
      "\u001b[35mSOC_SY\u001b[0m | Description: Dataset containing Sy matrix in SOC basis \n",
      "\u001b[35mSOC_SZ\u001b[0m | Description: Dataset containing Sz matrix in SOC basis \n",
      "\u001b[35mSOC_energies\u001b[0m | Description: Dataset containing SOC energies from MOLCAS RASSI calculation \n",
      "Group: \u001b[34metosssgssffsssgffvrg_g_tensors_axes\u001b[0m | Description: Group(etosssgssffsssgffvrg) containing g-tensors of doublets and their magnetic axes calculated from Group: bas2. \n",
      "\u001b[35metosssgssffsssgffvrg_axes\u001b[0m | Description: Dataset containing rotation matrices from the initial coordinate system to the magnetic axes of respective g-tensors from Group: bas2. \n",
      "\u001b[35metosssgssffsssgffvrg_g_tensors\u001b[0m | Description: Dataset containing number of doublet and respective g-tensors from Group bas2. \n",
      "Group: \u001b[34mt\u001b[0m\n",
      "\u001b[35mt\u001b[0m\n",
      "Dataset: \u001b[35mek\u001b[0m| mama: lol | mamtuj: lol \n",
      "Dataset: \u001b[35melo\u001b[0m\n"
     ]
    }
   ],
   "source": [
    "print(comp)"
   ]
  },
  {
   "cell_type": "code",
   "execution_count": 7,
   "id": "33e9b825-2a5a-4c31-ade5-1fef7a4d22b2",
   "metadata": {},
   "outputs": [
    {
     "name": "stdout",
     "output_type": "stream",
     "text": [
      "\u001b[34mSloth\u001b[33mPy\u001b[0m Settings:\n",
      "\u001b[32mmonitor\u001b[0m: False\n",
      "\u001b[32mtraceback\u001b[0m: False\n",
      "\u001b[32mlog_level\u001b[0m: 0\n",
      "\u001b[32mprecision\u001b[0m: double\n"
     ]
    }
   ],
   "source": [
    "slt.settings.show()"
   ]
  },
  {
   "cell_type": "code",
   "execution_count": 5,
   "id": "540742bd-635a-4f5e-a313-dd2a1d61dbdd",
   "metadata": {},
   "outputs": [],
   "source": [
    "slt.set_log_level(0, permanent=True)"
   ]
  },
  {
   "cell_type": "code",
   "execution_count": 10,
   "id": "168ef7b1-9773-4b12-a59e-4cee1ca7d159",
   "metadata": {},
   "outputs": [],
   "source": [
    "del comp[\"o\"]"
   ]
  },
  {
   "cell_type": "code",
   "execution_count": 5,
   "id": "1ad4038c-6b61-43ed-a42d-403c7a14f5c5",
   "metadata": {},
   "outputs": [
    {
     "name": "stdout",
     "output_type": "stream",
     "text": [
      "\u001b[31mCompound \u001b[0mfrom File: \u001b[32m./Hoo.slt\u001b[0m with the following \u001b[34mGroups\u001b[0m/\u001b[35mDatasets\u001b[0m.\n",
      "Group: \u001b[34mbas2\u001b[0m | Description: Group(bas2) containing results of relativistic SOC MOLCAS calculations - angular momenta, spin in SOC basis and SOC energies \n",
      "\u001b[35mSOC_LX\u001b[0m | Description: Dataset containing Lx matrix in SOC basis \n",
      "\u001b[35mSOC_LY\u001b[0m | Description: Dataset containing Ly matrix in SOC basis \n",
      "\u001b[35mSOC_LZ\u001b[0m | Description: Dataset containing Lz matrix in SOC basis \n",
      "\u001b[35mSOC_SX\u001b[0m | Description: Dataset containing Sx matrix in SOC basis \n",
      "\u001b[35mSOC_SY\u001b[0m | Description: Dataset containing Sy matrix in SOC basis \n",
      "\u001b[35mSOC_SZ\u001b[0m | Description: Dataset containing Sz matrix in SOC basis \n",
      "\u001b[35mSOC_energies\u001b[0m | Description: Dataset containing SOC energies from MOLCAS RASSI calculation \n",
      "Group: \u001b[34metosssgssffsssgffvrg_g_tensors_axes\u001b[0m | Description: Group(etosssgssffsssgffvrg) containing g-tensors of doublets and their magnetic axes calculated from Group: bas2. \n",
      "\u001b[35metosssgssffsssgffvrg_axes\u001b[0m | Description: Dataset containing rotation matrices from the initial coordinate system to the magnetic axes of respective g-tensors from Group: bas2. \n",
      "\u001b[35metosssgssffsssgffvrg_g_tensors\u001b[0m | Description: Dataset containing number of doublet and respective g-tensors from Group bas2. \n",
      "Group: \u001b[34mt\u001b[0m\n",
      "\u001b[35mt\u001b[0m\n",
      "Dataset: \u001b[35mek\u001b[0m| mama: lol | mamtuj: lol \n",
      "Dataset: \u001b[35melo\u001b[0m\n"
     ]
    }
   ],
   "source": [
    "print(comp)"
   ]
  },
  {
   "cell_type": "code",
   "execution_count": 4,
   "id": "344aec9f-e8db-4edd-af71-962f9aca1ee8",
   "metadata": {},
   "outputs": [
    {
     "name": "stdout",
     "output_type": "stream",
     "text": [
      "Group: \u001b[34mt\u001b[0m from File: \u001b[32m./Hoo.slt\u001b[0m\n",
      "Datasets: \n",
      "\u001b[35mt\u001b[0m\n"
     ]
    }
   ],
   "source": [
    "print(comp[\"t\"])"
   ]
  },
  {
   "cell_type": "code",
   "execution_count": 21,
   "id": "3b3574dc-f01e-4745-bcb8-f060fa287992",
   "metadata": {},
   "outputs": [
    {
     "ename": "KeyError",
     "evalue": "'t/e not found in the .slt file.'",
     "output_type": "error",
     "traceback": [
      "Traceback \u001b[0;36m(most recent call last)\u001b[0m:\n",
      "\u001b[0m  Cell \u001b[1;32mIn[21], line 1\u001b[0m\n    comp[\"t\"][\"e\"][\"guten\"] = 5\u001b[0m\n",
      "\u001b[0;36m  File \u001b[0;32m~/Sloth/Sloth/slothpy/core/_slt_file.py:53\u001b[0;36m in \u001b[0;35m__getitem__\u001b[0;36m\n\u001b[0;31m    raise KeyError(f\"{full_path} not found in the .slt file.\")\u001b[0;36m\n",
      "\u001b[0;31mKeyError\u001b[0m\u001b[0;31m:\u001b[0m 't/e not found in the .slt file.'\n"
     ]
    }
   ],
   "source": [
    "comp[\"t\"][\"e\"][\"guten\"] = 5"
   ]
  },
  {
   "cell_type": "code",
   "execution_count": 22,
   "id": "d7960325-9924-4b0d-851e-4ddfd9f697e7",
   "metadata": {},
   "outputs": [
    {
     "ename": "ValueError",
     "evalue": "Dataset 'ek' already exists. Delete it manually to ensure data safety.",
     "output_type": "error",
     "traceback": [
      "Traceback \u001b[0;36m(most recent call last)\u001b[0m:\n",
      "\u001b[0m  Cell \u001b[1;32mIn[22], line 1\u001b[0m\n    comp[\"ek\"] = 5\u001b[0m\n",
      "\u001b[0;36m  File \u001b[0;32m~/Sloth/Sloth/slothpy/core/compound_object.py:179\u001b[0;36m in \u001b[0;35m__setitem__\u001b[0;36m\n\u001b[0;31m    raise ValueError(f\"Dataset '{key}' already exists. Delete it manually to ensure data safety.\")\u001b[0;36m\n",
      "\u001b[0;31mValueError\u001b[0m\u001b[0;31m:\u001b[0m Dataset 'ek' already exists. Delete it manually to ensure data safety.\n"
     ]
    }
   ],
   "source": [
    "comp[\"ek\"] = 5"
   ]
  },
  {
   "cell_type": "code",
   "execution_count": 16,
   "id": "22bd9f6c-e619-4097-9d56-8d4efd8cf5a0",
   "metadata": {},
   "outputs": [
    {
     "name": "stdout",
     "output_type": "stream",
     "text": [
      "Dataset: \u001b[35mek\u001b[0m from File: \u001b[32m./Hoo.slt\u001b[0m\n",
      "| mama: lol | mamtuj: lol |\n"
     ]
    }
   ],
   "source": [
    "print(comp[\"ek\"])"
   ]
  },
  {
   "cell_type": "code",
   "execution_count": 20,
   "id": "6936e833-1d7e-42e9-b59b-db189070f37c",
   "metadata": {},
   "outputs": [
    {
     "name": "stdout",
     "output_type": "stream",
     "text": [
      "Execution time for eigvalsh on a 1000x1000 Hermitian matrix: 0.08 seconds\n"
     ]
    }
   ],
   "source": [
    "import numpy as np\n",
    "from numba import jit, set_num_threads\n",
    "import time\n",
    "from numpy.linalg import eigvalsh\n",
    "from threadpoolctl import threadpool_limits\n",
    "\n",
    "# Step 1: Generate a Hermitian matrix\n",
    "def create_hermitian_matrix(n):\n",
    "    A = np.random.randn(n, n) + 1j * np.random.randn(n, n)\n",
    "    return (A + A.conj().T).astype(np.complex128)\n",
    "# Step 2: Define a Numba-jitted function to compute eigenvalues\n",
    "@jit(nopython=True, fastmath=True, cache=True)\n",
    "def eigvalsh_numba(A):\n",
    "    return eigvalsh(A)\n",
    "\n",
    "# Helper function to time the execution\n",
    "def benchmark_eigvalsh(A):\n",
    "    start_time = time.perf_counter()\n",
    "    eigvalsh_numba(A)\n",
    "    end_time = time.perf_counter()\n",
    "    return end_time - start_time\n",
    "\n",
    "# Main execution\n",
    "if __name__ == \"__main__\":\n",
    "    n = 1000\n",
    "    A = create_hermitian_matrix(n)\n",
    "    A = np.ascontiguousarray(A)  # Ensure the array is contiguous for optimal performance\n",
    "    with threadpool_limits(limits=10):\n",
    "        set_num_threads(10)\n",
    "        # Warm-up Numba (compilation)\n",
    "        eigvalsh_numba(A[:2, :2])\n",
    "    \n",
    "        # Benchmark\n",
    "        execution_time = benchmark_eigvalsh(A)\n",
    "        print(f\"Execution time for eigvalsh on a {n}x{n} Hermitian matrix: {execution_time:.2f} seconds\")\n"
   ]
  },
  {
   "cell_type": "code",
   "execution_count": 9,
   "id": "a4632a18-a466-4b3b-b50c-7fddab344c5c",
   "metadata": {},
   "outputs": [
    {
     "name": "stdout",
     "output_type": "stream",
     "text": [
      "1.3961532022221945e-10\n"
     ]
    }
   ],
   "source": [
    "from time import perf_counter\n",
    "from numba import njit\n",
    "@njit\n",
    "def loop():\n",
    "        e = 0\n",
    "        c = 256000000\n",
    "        while e < c:\n",
    "            e += 1\n",
    "start = perf_counter()\n",
    "a = loop()\n",
    "print(f\"{(perf_counter()-start)/c}\")"
   ]
  },
  {
   "cell_type": "code",
   "execution_count": 1,
   "id": "9341de2c-ee02-4879-8470-32cebd6e7d8e",
   "metadata": {},
   "outputs": [
    {
     "name": "stdout",
     "output_type": "stream",
     "text": [
      "\u001b[34m                  ____  _       _   _     \u001b[33m____\n",
      "\u001b[34m                 / ___|| | ___ | |_| |__ \u001b[33m|  _ \\ _   _\n",
      "\u001b[34m                 \\___ \\| |/ _ \\| __| '_ \\\u001b[33m| |_) | | | |\n",
      "\u001b[34m                  ___) | | (_) | |_| | | \u001b[33m|  __/| |_| |\n",
      "\u001b[34m                 |____/|_|\\___/ \\__|_| |_\u001b[33m|_|    \\__, |\n",
      "                                                |___/\u001b[32m  by MTZ \n",
      "\u001b[0m\n",
      "SlothPy Copyright (C) 2023 Mikolaj Tadeusz Zychowicz (MTZ).\n",
      "This program comes with ABSOLUTELY NO WARRANTY.\n",
      "This is free software, and you are welcome to redistribute it.\n",
      "The default is chosen to omit the tracebacks completely. To change it use slt.set_default_error_reporting_mode() method for the printing of tracebacks.\n",
      "Turn on the SlothPy Monitor utility using slt.turn_on_monitor().\n",
      "Exception reporting mode: Plain\n"
     ]
    }
   ],
   "source": [
    "import slothpy as slt\n",
    "import os\n",
    "os.remove(\"./seminarium/Dy.slt\")\n",
    "Dy = slt.compound_from_molcas(\"./seminarium\", \"DyIrCN_Cl_bas2\", \"./seminarium\", \"Dy\", \"demo\")"
   ]
  },
  {
   "cell_type": "code",
   "execution_count": 42,
   "id": "6a4955a2-66d9-4d2f-877f-4b26968ee384",
   "metadata": {},
   "outputs": [
    {
     "name": "stdout",
     "output_type": "stream",
     "text": [
      "Corrected Energies: [  1.04893332  -1.04893331 195.31738564 194.14217293 306.48597542\n",
      " 320.49031082 344.55929602 349.19895827 401.92078538 402.44921206\n",
      " 423.98673419 427.59490105 497.81219508 498.34210501 524.04326083\n",
      " 523.06618504]\n",
      "Unperturbed Energies: [ 0.00000000e+00 -3.65498631e-11  1.94729779e+02  1.94729779e+02\n",
      "  3.13488143e+02  3.13488143e+02  3.46879127e+02  3.46879127e+02\n",
      "  4.02184999e+02  4.02184999e+02  4.25790818e+02  4.25790818e+02\n",
      "  4.98077150e+02  4.98077150e+02  5.23554723e+02  5.23554723e+02]\n",
      "Correction: [ 1.04893332 -1.04893331  0.58760635 -0.58760636 -7.0021677   7.0021677\n",
      " -2.31983112  2.31983113 -0.26421334  0.26421334 -1.80408343  1.80408343\n",
      " -0.26495497  0.26495497  0.48853789 -0.48853789]\n"
     ]
    }
   ],
   "source": [
    "import numpy as np\n",
    "\n",
    "def calculate_first_order_energies(unperturbed_energies, perturbation_matrix):\n",
    "    \"\"\"\n",
    "    Calculate the first-order corrected energies using perturbation theory.\n",
    "    \n",
    "    Parameters:\n",
    "    unperturbed_energies (list or np.array): The energies of the unperturbed system.\n",
    "    perturbation_matrix (np.array): The nxn matrix representing the perturbation.\n",
    "    \n",
    "    Returns:\n",
    "    np.array: Corrected energies of the system.\n",
    "    \"\"\"\n",
    "    # Ensure unperturbed energies and perturbation matrix are numpy arrays\n",
    "    unperturbed_energies = np.array(unperturbed_energies)\n",
    "    perturbation_matrix = np.array(perturbation_matrix)\n",
    "    \n",
    "    # Check if perturbation matrix is square\n",
    "    if perturbation_matrix.shape[0] != perturbation_matrix.shape[1]:\n",
    "        raise ValueError(\"Perturbation matrix must be square.\")\n",
    "        \n",
    "    # Check if dimensions match\n",
    "    if len(unperturbed_energies) != perturbation_matrix.shape[0]:\n",
    "        raise ValueError(\"The length of unperturbed energies must match the size of the perturbation matrix.\")\n",
    "    \n",
    "    # Calculate first-order corrected energies\n",
    "    corrected_energies = unperturbed_energies + np.diag(perturbation_matrix).real\n",
    "    \n",
    "    return corrected_energies\n",
    "\n",
    "# Example usage:\n",
    "unperturbed_energies = Dy[\"demo\"].energies[:16]\n",
    "perturbation_matrix = (Dy[\"demo\"].mx[:16,:16] + Dy[\"demo\"].my[:16,:16] + Dy[\"demo\"].mz[:16,:16])*1\n",
    "\n",
    "corrected_energies = calculate_first_order_energies(unperturbed_energies, perturbation_matrix)\n",
    "print(\"Corrected Energies:\", corrected_energies * 219474.6)\n",
    "print(\"Unperturbed Energies:\", unperturbed_energies * 219474.6)\n",
    "print(\"Correction:\", (corrected_energies - unperturbed_energies)* 219474.6)"
   ]
  },
  {
   "cell_type": "code",
   "execution_count": 33,
   "id": "d1bf896a-d6f1-44af-9fdf-4fd9536f70cc",
   "metadata": {},
   "outputs": [
    {
     "name": "stdout",
     "output_type": "stream",
     "text": [
      "Corrected Energies: [  2.42731489+4.94833619e-17j  -2.42731489+1.63432592e-16j\n",
      " 194.72613092-2.00448499e-18j 194.73342766-1.07286545e-17j\n",
      " 313.54100621+7.37233917e-16j 313.43528003+7.03041615e-16j\n",
      " 342.1670924 +6.02867144e-16j 351.5911619 +8.03210057e-16j\n",
      " 402.91169082+8.72934457e-16j 401.45830662+9.80368839e-16j\n",
      " 426.39413457+6.66471474e-16j 425.18750067+6.29903655e-16j\n",
      " 499.12663815+1.18810488e-15j 497.02766194+1.24018702e-15j\n",
      " 527.00245012+1.43172572e-15j 520.10699575+1.31778218e-15j]\n",
      "Unperturbed Energies: [ 0.00000000e+00 -3.65498631e-11  1.94729779e+02  1.94729779e+02\n",
      "  3.13488143e+02  3.13488143e+02  3.46879127e+02  3.46879127e+02\n",
      "  4.02184999e+02  4.02184999e+02  4.25790818e+02  4.25790818e+02\n",
      "  4.98077150e+02  4.98077150e+02  5.23554723e+02  5.23554723e+02]\n",
      "Correction: [ 2.42731489e+00+4.94833619e-17j -2.42731489e+00+1.63432592e-16j\n",
      " -3.64837106e-03-2.00448499e-18j  3.64836748e-03-1.07286545e-17j\n",
      "  5.28630881e-02+7.37233917e-16j -5.28630874e-02+7.03041615e-16j\n",
      " -4.71203475e+00+6.02867144e-16j  4.71203475e+00+8.03210057e-16j\n",
      "  7.26692098e-01+8.72934457e-16j -7.26692100e-01+9.80368839e-16j\n",
      "  6.03316955e-01+6.66471474e-16j -6.03316950e-01+6.29903655e-16j\n",
      "  1.04948810e+00+1.18810488e-15j -1.04948811e+00+1.24018702e-15j\n",
      "  3.44772719e+00+1.43172572e-15j -3.44772719e+00+1.31778218e-15j]\n"
     ]
    }
   ],
   "source": [
    "import numpy as np\n",
    "from scipy.linalg import eigh\n",
    "\n",
    "def calculate_energy_corrections(unperturbed_energies, perturbation_matrix):\n",
    "    \"\"\"\n",
    "    Calculate first and second-order energy corrections, accounting for degeneracies.\n",
    "    \n",
    "    Parameters:\n",
    "    unperturbed_energies (np.array): The unperturbed energies of the system.\n",
    "    perturbation_matrix (np.array): The perturbation matrix H'.\n",
    "    \n",
    "    Returns:\n",
    "    np.array: First and second-order energy corrections combined.\n",
    "    \"\"\"\n",
    "    # Ensure inputs are numpy arrays\n",
    "    unperturbed_energies = np.array(unperturbed_energies)\n",
    "    perturbation_matrix = np.array(perturbation_matrix)\n",
    "\n",
    "    # First-order corrections are the diagonal elements of the perturbation matrix\n",
    "    first_order_corrections = np.diag(perturbation_matrix)\n",
    "    \n",
    "    # Initialize an array to store second-order corrections\n",
    "    second_order_corrections = np.zeros_like(unperturbed_energies)\n",
    "    \n",
    "    # Sort energies and perturbation matrix according to energies\n",
    "    indices = np.argsort(unperturbed_energies)\n",
    "    sorted_energies = unperturbed_energies[indices]\n",
    "    sorted_perturbation_matrix = perturbation_matrix[:, indices][indices]\n",
    "\n",
    "    # Identify and handle degenerate subspaces\n",
    "    start = 0\n",
    "    while start < len(sorted_energies):\n",
    "        end = start\n",
    "        while end + 1 < len(sorted_energies) and np.isclose(sorted_energies[end + 1], sorted_energies[start], atol=1e-8):\n",
    "            end += 1\n",
    "        \n",
    "        # Extract the degenerate subspace perturbation matrix\n",
    "        subspace_matrix = sorted_perturbation_matrix[start:end+1, start:end+1]\n",
    "        \n",
    "        if end > start:  # Handle degenerate subspace\n",
    "            eigenvalues, _ = eigh(subspace_matrix)\n",
    "            second_order_corrections[start:end+1] = eigenvalues - sorted_energies[start:end+1]\n",
    "        else:  # Handle non-degenerate state\n",
    "            for m in range(len(sorted_energies)):\n",
    "                if m != start:\n",
    "                    element = sorted_perturbation_matrix[start, m]\n",
    "                    energy_diff = sorted_energies[start] - sorted_energies[m]\n",
    "                    second_order_corrections[start] += abs(element)**2 / energy_diff\n",
    "        \n",
    "        start = end + 1\n",
    "    \n",
    "    # Re-sort corrections to match original order\n",
    "    second_order_corrections_resorted = np.zeros_like(second_order_corrections)\n",
    "    second_order_corrections_resorted[indices] = second_order_corrections\n",
    "    \n",
    "    # Combine first and second-order corrections\n",
    "    total_corrections = first_order_corrections + second_order_corrections_resorted\n",
    "    \n",
    "    return total_corrections\n",
    "\n",
    "\n",
    "# Example usage:\n",
    "unperturbed_energies = Dy[\"demo\"].energies[:16]\n",
    "perturbation_matrix = (Dy[\"demo\"].mx[:16,:16] + Dy[\"demo\"].my[:16,:16] + Dy[\"demo\"].mz[:16,:16])*1\n",
    "\n",
    "corrected_energies  = calculate_energy_corrections(unperturbed_energies, perturbation_matrix)\n",
    "print(\"Corrected Energies:\", corrected_energies * 219474.6)\n",
    "print(\"Unperturbed Energies:\", unperturbed_energies * 219474.6)\n",
    "print(\"Correction:\", (corrected_energies - unperturbed_energies)* 219474.6)\n"
   ]
  },
  {
   "cell_type": "code",
   "execution_count": 53,
   "id": "6c5f294b-5524-40cd-91dd-a3d76319bff1",
   "metadata": {},
   "outputs": [],
   "source": [
    "import numpy as np\n",
    "import numpy.linalg as linalg\n",
    "def _nearly_degenerate_perturbation(unperturbed_energies, perturbation, atol=1e-6):\n",
    "    perturbed_energies = np.zeros_like(unperturbed_energies)\n",
    "    start = 0\n",
    "    while start < unperturbed_energies.shape[0]:\n",
    "        end = start \n",
    "        while end + 1 < unperturbed_energies.shape[0] and np.isclose(unperturbed_energies[end + 1], unperturbed_energies[start], atol=atol):\n",
    "            end += 1\n",
    "        if end > start:\n",
    "            new_energy = np.mean(unperturbed_energies[start:end])\n",
    "            for i in range(start, end+1):\n",
    "                perturbation[i,i] += unperturbed_energies[i] - new_energy\n",
    "                unperturbed_energies[i] = new_energy\n",
    "            eigenvalues = linalg.eigvalsh(perturbation[start:end+1, start:end+1])\n",
    "            perturbed_energies[start:end+1] = unperturbed_energies[start:end+1] + eigenvalues\n",
    "        else:\n",
    "            perturbed_energies[start] = unperturbed_energies[start] + perturbation[start,start].real\n",
    "        start = end + 1\n",
    "        \n",
    "    return perturbed_energies"
   ]
  },
  {
   "cell_type": "code",
   "execution_count": 62,
   "id": "562374ec-4331-4611-a554-0de4ae9bbe8d",
   "metadata": {},
   "outputs": [
    {
     "name": "stdout",
     "output_type": "stream",
     "text": [
      "Corrected Energies: [ -1.37838158   1.37838158 194.13852456 195.32103401 306.43311233\n",
      " 320.54317391 344.48692352 349.27133077 401.19409328 403.17590416\n",
      " 423.38341724 428.198218   496.76270698 499.39159312 520.59553364\n",
      " 526.51391223]\n",
      "Unperturbed Energies: [  0.           0.         194.72977929 194.72977929 313.48814312\n",
      " 313.48814312 346.87912714 346.87912714 402.18499872 402.18499872\n",
      " 425.79081762 425.79081762 498.07715005 498.07715005 523.55472294\n",
      " 523.55472294]\n",
      "Correction: [-1.37838158  1.37838158 -0.59125472  0.59125472 -7.05503079  7.05503079\n",
      " -2.39220363  2.39220363 -0.99090544  0.99090544 -2.40740038  2.40740038\n",
      " -1.31444307  1.31444307 -2.9591893   2.9591893 ]\n",
      "Slothpy energies: [ -0.80691624   0.78466461 194.37815505 195.06081981 309.39445779\n",
      " 317.53583599 345.47001126 348.23019299 401.59971549 402.7424184\n",
      " 424.42577257 427.20376048 497.26690029 498.76821627 521.97823988\n",
      " 525.37723309]\n",
      "Deviation: [ 0.57146534 -0.59371697  0.23963048 -0.2602142   2.96134546 -3.00733792\n",
      "  0.98308774 -1.04113778  0.40562221 -0.43348576  1.04235533 -0.99445751\n",
      "  0.50419331 -0.62337685  1.38270624 -1.13667914]\n"
     ]
    }
   ],
   "source": [
    "unperturbed_energies = Dy[\"demo\"].energies[:16]\n",
    "perturbation_matrix = (Dy[\"demo\"].mx[:16,:16] + Dy[\"demo\"].my[:16,:16] + Dy[\"demo\"].mz[:16,:16])*1\n",
    "\n",
    "corrected_energies = _nearly_degenerate_perturbation(unperturbed_energies, perturbation_matrix)\n",
    "print(\"Corrected Energies:\", corrected_energies * 219474.6)\n",
    "print(\"Unperturbed Energies:\", unperturbed_energies * 219474.6)\n",
    "print(\"Correction:\", (corrected_energies - unperturbed_energies)* 219474.6)\n",
    "\n",
    "zeeman = Dy.zeeman_splitting(\"demo\", 16, [1], np.array([[1.,1.,1.]]), number_cpu=101, number_threads=10, states_cutoff=16)\n",
    "print(\"Slothpy energies:\", zeeman[0][0])\n",
    "deviation = zeeman[0][0] - corrected_energies * 219474.6\n",
    "print(\"Deviation:\", deviation)"
   ]
  },
  {
   "cell_type": "code",
   "execution_count": 147,
   "id": "27257dab-f362-47ce-9ab6-e39627ad63f2",
   "metadata": {},
   "outputs": [],
   "source": [
    "import numpy as np\n",
    "import numpy.linalg as linalg\n",
    "from numba import njit\n",
    "@njit(\"float64[:](float64[:], complex128[:,:], float64)\")\n",
    "def _nearly_degenerate_perturbation_2(unperturbed_energies, perturbation, atol=1e-6):\n",
    "    perturbed_energies = np.zeros_like(unperturbed_energies)\n",
    "    perturbed_energies_first_order_deg = np.zeros_like(unperturbed_energies)\n",
    "    perturbation_matrix = perturbation.copy()\n",
    "    start = 0\n",
    "    while start < unperturbed_energies.shape[0]:\n",
    "        end = start \n",
    "        while end + 1 < unperturbed_energies.shape[0] and np.isclose(unperturbed_energies[end + 1], unperturbed_energies[start], atol=atol):\n",
    "            end += 1\n",
    "        if end > start:\n",
    "            new_energy = np.mean(unperturbed_energies[start:end])\n",
    "            for i in range(start, end+1):\n",
    "                perturbation[i,i] += unperturbed_energies[i] - new_energy\n",
    "                unperturbed_energies[i] = new_energy\n",
    "            eigenvalues = linalg.eigvalsh(perturbation[start:end+1, start:end+1])\n",
    "            perturbed_energies_first_order_deg[start:end+1] = unperturbed_energies[start:end+1] + eigenvalues\n",
    "            for k in range(start, end+1):\n",
    "                for l in range(start, end+1):\n",
    "                    for i in range(start):\n",
    "                        perturbation_matrix[k,l] += (perturbation[k,i]*perturbation[i,l]).real/(perturbed_energies_first_order_deg[k] - unperturbed_energies[i]) \n",
    "                    for i in range(end+1,unperturbed_energies.shape[0]):\n",
    "                        perturbation_matrix[k,l] += (perturbation[k,i]*perturbation[i,l]).real/(perturbed_energies_first_order_deg[k] - unperturbed_energies[i])\n",
    "            eigenvalues = linalg.eigvalsh(perturbation_matrix[start:end+1, start:end+1])\n",
    "            perturbed_energies[start:end+1] = unperturbed_energies[start:end+1] + eigenvalues\n",
    "        else:\n",
    "            perturbed_energies_first_order = unperturbed_energies[start] + perturbation[start,start].real\n",
    "            perturbed_energies[start] = perturbed_energies_first_order\n",
    "            for i in range(start):\n",
    "                perturbed_energies[start] += (perturbation[start,i]*perturbation[i,start]).real/(perturbed_energies_first_order - unperturbed_energies[i]) \n",
    "            for i in range(start+1,unperturbed_energies.shape[0]):\n",
    "                perturbed_energies[start] += (perturbation[start,i]*perturbation[i,start]).real/(perturbed_energies_first_order - unperturbed_energies[i])\n",
    "        start = end + 1\n",
    "        \n",
    "    return perturbed_energies"
   ]
  },
  {
   "cell_type": "code",
   "execution_count": 149,
   "id": "ca3c8787-39ab-4229-b9ff-ce7bdd0616c2",
   "metadata": {},
   "outputs": [
    {
     "name": "stdout",
     "output_type": "stream",
     "text": [
      "Corrected Energies: [ -1.41194002   1.34518163 194.10731635 195.2905022  306.37651142\n",
      " 320.45824951 344.40955143 349.17280891 401.15295558 403.13338419\n",
      " 423.46326335 428.26282218 496.58792981 499.2095997  520.96101963\n",
      " 526.89264484]\n",
      "Unperturbed Energies: [  0.           0.         194.72977929 194.72977929 313.48814312\n",
      " 313.48814312 346.87912714 346.87912714 402.18499872 402.18499872\n",
      " 425.79081762 425.79081762 498.07715005 498.07715005 523.55472294\n",
      " 523.55472294]\n",
      "Correction: [-1.41194002  1.34518163 -0.62246293  0.56072291 -7.1116317   6.9701064\n",
      " -2.46957572  2.29368177 -1.03204314  0.94838547 -2.32755427  2.47200457\n",
      " -1.48922024  1.13244965 -2.5937033   3.3379219 ]\n",
      "Slothpy energies: [-4.00683628e-01  3.95120710e-01  1.94556530e+02  1.94897884e+02\n",
      "  3.11446156e+02  3.15518755e+02  3.46181368e+02  3.47562251e+02\n",
      "  4.01895560e+02  4.02467472e+02  4.25101968e+02  4.26491652e+02\n",
      "  4.97683911e+02  4.98440742e+02  5.22732278e+02  5.24438514e+02]\n",
      "Deviation: [ 1.01125639 -0.95006092  0.4492134  -0.39261853  5.06964428 -4.9394949\n",
      "  1.77181651 -1.61055755  0.74260415 -0.665912    1.63870515 -1.77116997\n",
      "  1.09598159 -0.76885791  1.77125815 -2.45413081]\n",
      "CPU times: user 115 ms, sys: 440 ms, total: 556 ms\n",
      "Wall time: 169 ms\n"
     ]
    }
   ],
   "source": [
    "%%time\n",
    "unperturbed_energies = Dy[\"demo\"].energies[:16]\n",
    "perturbation_matrix = (Dy[\"demo\"].mx[:16,:16] + Dy[\"demo\"].my[:16,:16] + Dy[\"demo\"].mz[:16,:16])\n",
    "\n",
    "corrected_energies = _nearly_degenerate_perturbation_2(unperturbed_energies, perturbation_matrix, atol=1e-6)\n",
    "print(\"Corrected Energies:\", corrected_energies * 219474.6)\n",
    "print(\"Unperturbed Energies:\", unperturbed_energies * 219474.6)\n",
    "print(\"Correction:\", (corrected_energies - unperturbed_energies)* 219474.6)\n",
    "\n",
    "zeeman = Dy.zeeman_splitting(\"demo\", 16, [0.5], np.array([[1.,1.,1.]]), number_cpu=101, number_threads=10, states_cutoff=16)\n",
    "print(\"Slothpy energies:\", zeeman[0][0])\n",
    "deviation = zeeman[0][0] - corrected_energies * 219474.6\n",
    "print(\"Deviation:\", deviation)"
   ]
  },
  {
   "cell_type": "code",
   "execution_count": 114,
   "id": "7148d1c2-0123-4f83-81ad-47d48ee853a7",
   "metadata": {},
   "outputs": [],
   "source": [
    "result = np.zeros((100,16), dtype=np.float64)\n",
    "unperturbed_energies = Dy[\"demo\"].energies[:16]\n",
    "perturbation_matrix_start = (Dy[\"demo\"].mx[:16,:16] + Dy[\"demo\"].my[:16,:16] + Dy[\"demo\"].mz[:16,:16])\n",
    "for index, i in enumerate(np.linspace(0,5,100)):\n",
    "    perturbation_matrix = perturbation_matrix_start*i\n",
    "    result[index] = _nearly_degenerate_perturbation_2(unperturbed_energies, perturbation_matrix, atol=1e-6)\n",
    "\n",
    "zeeman = Dy.zeeman_splitting(\"demo\", 16, np.linspace(0,5,100), np.array([[1.,1.,1.]]), number_cpu=101, number_threads=10, states_cutoff=16)\n",
    "    \n",
    "import matplotlib.pyplot as plt\n",
    "fig, axs = plt.subplots(1, 2, figsize=(10, 5), sharey=True)\n",
    "axs[0].plot(np.linspace(0,3,100), result * 219474.6)\n",
    "axs[1].plot(np.linspace(0,3,100), zeeman[0])\n",
    "plt.show()"
   ]
  },
  {
   "cell_type": "code",
   "execution_count": 93,
   "id": "6b8f60d5-1648-4f22-a1ad-419f3dc30293",
   "metadata": {},
   "outputs": [],
   "source": [
    "zeeman = Dy.zeeman_splitting(\"demo\", 16, np.linspace(0,7,100), np.array([[1.,1.,1.]]), number_cpu=101, number_threads=10, states_cutoff=16, slt_save=\"no\")\n",
    "Dy.plot_zeeman(\"no\")"
   ]
  },
  {
   "cell_type": "code",
   "execution_count": 150,
   "id": "e8ea35dc-3136-40f5-800e-c47345649e1f",
   "metadata": {},
   "outputs": [
    {
     "name": "stdout",
     "output_type": "stream",
     "text": [
      "Exception reporting mode: Context\n"
     ]
    }
   ],
   "source": [
    "slt.set_default_error_reporting_mode()"
   ]
  },
  {
   "cell_type": "code",
   "execution_count": 1,
   "id": "060f7bd2-eda9-4cba-8122-b9406f05a2ab",
   "metadata": {},
   "outputs": [],
   "source": [
    "import numpy as np\n",
    "import numpy.linalg as linalg\n",
    "from numba import njit, prange, set_num_threads\n",
    "@njit(\"float64[:,:](float64[:], complex128[:,:], float64[:], float64)\", fastmath=True, inline=\"always\", parallel=True)\n",
    "def _nearly_degenerate_perturbation_3(unperturbed_energies, init_perturbation, fields, atol=1e-6):\n",
    "    result = np.zeros((fields.shape[0],unperturbed_energies.shape[0]), dtype=np.float64)\n",
    "    for t in prange(fields.shape[0]):\n",
    "        perturbation = init_perturbation * fields[t]\n",
    "        perturbed_energies = np.zeros_like(unperturbed_energies, dtype=np.float64)\n",
    "        perturbed_energies_first_order_deg = np.zeros_like(unperturbed_energies, dtype=np.float64)\n",
    "        perturbed_energies_second_order_deg = np.zeros_like(unperturbed_energies, dtype=np.float64)\n",
    "        perturbation_matrix = perturbation.copy()\n",
    "        perturbation_matrix_sec = perturbation.copy()\n",
    "        start = 0\n",
    "        while start < unperturbed_energies.shape[0]:\n",
    "            end = start \n",
    "            while end + 1 < unperturbed_energies.shape[0] and np.isclose(unperturbed_energies[end + 1], unperturbed_energies[start], atol=atol):\n",
    "                end += 1\n",
    "            if end > start:\n",
    "                new_energy = np.mean(unperturbed_energies[start:end])\n",
    "                for i in range(start, end+1):\n",
    "                    perturbation[i,i] += unperturbed_energies[i] - new_energy\n",
    "                    unperturbed_energies[i] = new_energy\n",
    "                eigenvalues = linalg.eigvalsh(perturbation[start:end+1, start:end+1])\n",
    "                perturbed_energies_first_order_deg[start:end+1] = unperturbed_energies[start:end+1] + eigenvalues\n",
    "                for k in range(start, end+1):\n",
    "                    for l in range(start, end+1):\n",
    "                        for i in range(start):\n",
    "                            perturbation_matrix[k,l] += (perturbation[k,i]*perturbation[i,l]).real/(perturbed_energies_first_order_deg[k] - unperturbed_energies[i]) \n",
    "                        for i in range(end+1,unperturbed_energies.shape[0]):\n",
    "                            perturbation_matrix[k,l] += (perturbation[k,i]*perturbation[i,l]).real/(perturbed_energies_first_order_deg[k] - unperturbed_energies[i])\n",
    "                eigenvalues = linalg.eigvalsh(perturbation_matrix[start:end+1, start:end+1])\n",
    "                perturbed_energies_second_order_deg[start:end+1] = unperturbed_energies[start:end+1] + eigenvalues\n",
    "                for k in range(start, end+1):\n",
    "                    for l in range(start, end+1):\n",
    "                        for i in range(start):\n",
    "                            perturbation_matrix_sec[k,l] += (perturbation[k,i]*perturbation[i,l]).real/(perturbed_energies_second_order_deg[k] - unperturbed_energies[i]) \n",
    "                        for i in range(end+1,unperturbed_energies.shape[0]):\n",
    "                            perturbation_matrix_sec[k,l] += (perturbation[k,i]*perturbation[i,l]).real/(perturbed_energies_second_order_deg[k] - unperturbed_energies[i])\n",
    "                for k in range(start, end+1):\n",
    "                    for l in range(start, end+1):\n",
    "                        for i in range(start):\n",
    "                            for j in range(start):\n",
    "                                perturbation_matrix_sec[k,l] += (perturbation[k,i]*perturbation[i,j]*perturbation[j,l]).real/(perturbed_energies_second_order_deg[k] - unperturbed_energies[i])/(perturbed_energies_second_order_deg[k] - unperturbed_energies[j])\n",
    "                            for j in range(end+1,unperturbed_energies.shape[0]):\n",
    "                                perturbation_matrix_sec[k,l] += (perturbation[k,i]*perturbation[i,j]*perturbation[j,l]).real/(perturbed_energies_second_order_deg[k] - unperturbed_energies[i])/(perturbed_energies_second_order_deg[k] - unperturbed_energies[j])\n",
    "                        for i in range(end+1,unperturbed_energies.shape[0]):\n",
    "                            for j in range(start):\n",
    "                                perturbation_matrix_sec[k,l] += (perturbation[k,i]*perturbation[i,j]*perturbation[j,l]).real/(perturbed_energies_second_order_deg[k] - unperturbed_energies[i])/(perturbed_energies_second_order_deg[k] - unperturbed_energies[j])\n",
    "                            for j in range(end+1,unperturbed_energies.shape[0]):\n",
    "                                perturbation_matrix_sec[k,l] += (perturbation[k,i]*perturbation[i,j]*perturbation[j,l]).real/(perturbed_energies_second_order_deg[k] - unperturbed_energies[i])/(perturbed_energies_second_order_deg[k] - unperturbed_energies[j])\n",
    "                eigenvalues = linalg.eigvalsh(perturbation_matrix_sec[start:end+1, start:end+1])\n",
    "                perturbed_energies[start:end+1] = unperturbed_energies[start:end+1] + eigenvalues\n",
    "            else:\n",
    "                perturbed_energies_first_order = unperturbed_energies[start] + perturbation[start,start].real\n",
    "                perturbed_energies_second_order = perturbed_energies_first_order\n",
    "                for i in range(start):\n",
    "                    perturbed_energies_second_order += (perturbation[start,i]*perturbation[i,start]).real/(perturbed_energies_first_order - unperturbed_energies[i]) \n",
    "                for i in range(start+1,unperturbed_energies.shape[0]):\n",
    "                    perturbed_energies_second_order += (perturbation[start,i]*perturbation[i,start]).real/(perturbed_energies_first_order - unperturbed_energies[i])\n",
    "                perturbed_energies[start] = perturbed_energies_first_order\n",
    "                for i in range(start):\n",
    "                    perturbed_energies[start] += (perturbation[start,i]*perturbation[i,start]).real/(perturbed_energies_second_order - unperturbed_energies[i]) \n",
    "                for i in range(start+1,unperturbed_energies.shape[0]):\n",
    "                    perturbed_energies_second_order_deg[start] += (perturbation[start,i]*perturbation[i,start]).real/(perturbed_energies_second_order - unperturbed_energies[i])\n",
    "                for i in range(start):\n",
    "                    for k in range(start):\n",
    "                        perturbed_energies[start] += (perturbation[start,i]*perturbation[i,k]*perturbation[k,start]).real/(perturbed_energies_second_order - unperturbed_energies[i])/(perturbed_energies_second_order - unperturbed_energies[k])\n",
    "                    for k in range(start+1,unperturbed_energies.shape[0]):\n",
    "                        perturbed_energies[start] += (perturbation[start,i]*perturbation[i,k]*perturbation[k,start]).real/(perturbed_energies_second_order - unperturbed_energies[i])/(perturbed_energies_second_order - unperturbed_energies[k])\n",
    "                for i in range(start+1,unperturbed_energies.shape[0]):\n",
    "                    for k in range(start):\n",
    "                        perturbed_energies[start] += (perturbation[start,i]*perturbation[i,k]*perturbation[k,start]).real/(perturbed_energies_second_order - unperturbed_energies[i])/(perturbed_energies_second_order - unperturbed_energies[k])\n",
    "                    for k in range(start+1,unperturbed_energies.shape[0]):\n",
    "                        perturbed_energies[start] += (perturbation[start,i]*perturbation[i,k]*perturbation[k,start]).real/(perturbed_energies_second_order - unperturbed_energies[i])/(perturbed_energies_second_order - unperturbed_energies[k])\n",
    "            start = end + 1\n",
    "            result[t] = perturbed_energies\n",
    "    return result"
   ]
  },
  {
   "cell_type": "code",
   "execution_count": 155,
   "id": "32325165-9cd7-4f5a-9f6d-b930ac93198a",
   "metadata": {},
   "outputs": [
    {
     "name": "stdout",
     "output_type": "stream",
     "text": [
      "[[-3.65498631e-11  0.00000000e+00  0.00000000e+00 ...  0.00000000e+00\n",
      "  -9.28821464e-11  0.00000000e+00]\n",
      " [ 2.35747844e-02 -2.35018295e-02  1.01305063e-02 ... -2.22533366e-02\n",
      "   5.01341029e-02 -5.09340553e-02]\n",
      " [ 4.72226432e-02 -4.69308234e-02  2.03287406e-02 ... -4.41222384e-02\n",
      "   9.94726910e-02 -1.02672338e-01]\n",
      " ...\n",
      " [ 2.64403218e+00 -1.95880442e+00  1.32478192e+00 ... -1.41765800e+00\n",
      "   2.68107504e+00 -8.65800840e+00]\n",
      " [ 2.67522714e+00 -1.97582368e+00  1.34228263e+00 ... -1.44344098e+00\n",
      "   2.71175456e+00 -8.77486952e+00]\n",
      " [ 2.70650599e+00 -1.99278250e+00  1.35986593e+00 ... -1.46997502e+00\n",
      "   2.74322209e+00 -8.89174493e+00]]\n",
      "CPU times: user 40.9 s, sys: 5.38 s, total: 46.3 s\n",
      "Wall time: 1min 9s\n"
     ]
    }
   ],
   "source": [
    "%%time\n",
    "result = np.zeros((100,64), dtype=np.float64)\n",
    "unperturbed_energies = Dy[\"demo\"].energies[:64]\n",
    "perturbation_matrix_start = (Dy[\"demo\"].mx[:64,:64] + Dy[\"demo\"].my[:64,:64] + Dy[\"demo\"].mz[:64,:64])\n",
    "for index, i in enumerate(np.linspace(0,4,100)):\n",
    "    perturbation_matrix = perturbation_matrix_start*i\n",
    "    result[index] = _nearly_degenerate_perturbation_3(unperturbed_energies, perturbation_matrix, atol=1e-6)\n",
    "\n",
    "zeeman = Dy.zeeman_splitting(\"demo\", 16, np.linspace(0,4,100), np.array([[1.,1.,1.]]), number_cpu=101, number_threads=10, states_cutoff=16)\n",
    "import matplotlib.pyplot as plt\n",
    "fig, axs = plt.subplots(1, 2, figsize=(10, 5), sharey=True)\n",
    "axs[0].plot(np.linspace(0,4,100), result[:,:16] * 219474.6)\n",
    "axs[1].plot(np.linspace(0,4,100), zeeman[0])\n",
    "plt.show()\n",
    "\n",
    "plt.plot(np.linspace(0,4,100), zeeman[0] - result[:,:16]* 219474.6)\n",
    "plt.show()\n",
    "print(zeeman[0] - result[:,:16]* 219474.6)"
   ]
  },
  {
   "cell_type": "code",
   "execution_count": 1,
   "id": "38e5daf5-b936-4782-a77c-e22497513ddf",
   "metadata": {},
   "outputs": [
    {
     "name": "stdout",
     "output_type": "stream",
     "text": [
      "\u001b[34m                  ____  _       _   _     \u001b[33m____\n",
      "\u001b[34m                 / ___|| | ___ | |_| |__ \u001b[33m|  _ \\ _   _\n",
      "\u001b[34m                 \\___ \\| |/ _ \\| __| '_ \\\u001b[33m| |_) | | | |\n",
      "\u001b[34m                  ___) | | (_) | |_| | | \u001b[33m|  __/| |_| |\n",
      "\u001b[34m                 |____/|_|\\___/ \\__|_| |_\u001b[33m|_|    \\__, |\n",
      "                                                |___/\u001b[32m  by MTZ \n",
      "\u001b[0m\n",
      "SlothPy Copyright (C) 2023 Mikolaj Tadeusz Zychowicz (MTZ).\n",
      "This program comes with ABSOLUTELY NO WARRANTY.\n",
      "This is free software, and you are welcome to redistribute it.\n",
      "The default is chosen to omit the tracebacks completely. To change it use slt.set_default_error_reporting_mode() method for the printing of tracebacks.\n",
      "Turn on the SlothPy Monitor utility using slt.turn_on_monitor().\n",
      "Exception reporting mode: Plain\n"
     ]
    }
   ],
   "source": [
    "import slothpy as slt\n",
    "import os\n",
    "os.remove(\"./seminarium/Dy.slt\")\n",
    "Dy = slt.compound_from_molcas(\"./seminarium\", \"DyIrCN_Cl_bas2\", \"./seminarium\", \"Dy\", \"demo\")"
   ]
  },
  {
   "cell_type": "code",
   "execution_count": 7,
   "id": "b5866f36-10eb-431f-aeac-728c7d66cd06",
   "metadata": {},
   "outputs": [
    {
     "ename": "TypeError",
     "evalue": "missing argument 'fields'",
     "output_type": "error",
     "traceback": [
      "Traceback \u001b[0;36m(most recent call last)\u001b[0m:\n",
      "\u001b[0;36m  File \u001b[0;32m<timed exec>:6\u001b[0;36m\n",
      "\u001b[0;31mTypeError\u001b[0m\u001b[0;31m:\u001b[0m missing argument 'fields'\n"
     ]
    }
   ],
   "source": [
    "%%time\n",
    "result = np.zeros((100,64), dtype=np.float64)\n",
    "unperturbed_energies = Dy[\"demo\"].energies[:64]\n",
    "perturbation_matrix_start = (Dy[\"demo\"].mx[:64,:64] + Dy[\"demo\"].my[:64,:64] + Dy[\"demo\"].mz[:64,:64])\n",
    "for index, i in enumerate(np.linspace(0,4,100)):\n",
    "    perturbation_matrix = perturbation_matrix_start*i\n",
    "    result[index] = _nearly_degenerate_perturbation_3(unperturbed_energies, perturbation_matrix, atol=1e-6)"
   ]
  },
  {
   "cell_type": "code",
   "execution_count": 20,
   "id": "feb9e0a1-ed08-46d2-bb01-25ed8145801d",
   "metadata": {},
   "outputs": [
    {
     "name": "stdout",
     "output_type": "stream",
     "text": [
      "CPU times: user 2h 25min 9s, sys: 35.9 s, total: 2h 25min 45s\n",
      "Wall time: 2min 49s\n"
     ]
    }
   ],
   "source": [
    "%%time\n",
    "unperturbed_energies = Dy[\"demo\"].energies[:]\n",
    "perturbation_matrix = (Dy[\"demo\"].mx[:,:] + Dy[\"demo\"].my[:,:] + Dy[\"demo\"].mz[:,:])\n",
    "set_num_threads(64)\n",
    "result = _nearly_degenerate_perturbation_3(unperturbed_energies, perturbation_matrix, np.linspace(0,4,100), atol=1e-6)"
   ]
  },
  {
   "cell_type": "code",
   "execution_count": 7,
   "id": "b773de52-ef15-4903-85c6-53ff6cbb49e0",
   "metadata": {},
   "outputs": [],
   "source": [
    "zeeman = Dy.zeeman_splitting(\"demo\", 16, np.linspace(0,4,100), np.array([[1.,1.,1.]]), number_cpu=101, number_threads=10, states_cutoff=0)\n",
    "import matplotlib.pyplot as plt\n",
    "fig, axs = plt.subplots(1, 2, figsize=(10, 5), sharey=True)\n",
    "axs[0].plot(np.linspace(0,4,100), result[:,:16] * 219474.6)\n",
    "axs[1].plot(np.linspace(0,4,100), zeeman[0])\n",
    "plt.show()"
   ]
  },
  {
   "cell_type": "code",
   "execution_count": 21,
   "id": "003d538e-8ac6-4e90-8732-0ce685007fd9",
   "metadata": {},
   "outputs": [
    {
     "name": "stdout",
     "output_type": "stream",
     "text": [
      "CPU times: user 0 ns, sys: 4.32 s, total: 4.32 s\n",
      "Wall time: 19 s\n"
     ]
    }
   ],
   "source": [
    "%%time\n",
    "zeeman = Dy.zeeman_splitting(\"demo\", 16, np.linspace(0,4,100), np.array([[1.,1.,1.]]), number_cpu=64, number_threads=1, states_cutoff=0)"
   ]
  },
  {
   "cell_type": "code",
   "execution_count": null,
   "id": "2f7cb0a9-660e-40b0-bdd8-0b2a52e1382c",
   "metadata": {},
   "outputs": [
    {
     "name": "stdout",
     "output_type": "stream",
     "text": [
      "Processes: 1, threads: 128. Estimated maximal execution time: \u001b[32m225.65746374545455\u001b[0m s. The best time: \u001b[32m225.65746374545455\u001b[0m s.\n",
      "Processes: 2, threads: 64. Estimated maximal execution time: \u001b[32m123.75115389090911\u001b[0m s. The best time: \u001b[32m123.75115389090911\u001b[0m s.\n",
      "Processes: 3, threads: 42. Estimated maximal execution time: \u001b[32m77.6179159\u001b[0m s. The best time: \u001b[32m77.6179159\u001b[0m s.\n",
      "Processes: 4, threads: 32. Estimated maximal execution time: \u001b[32m55.44643581538462\u001b[0m s. The best time: \u001b[32m55.44643581538462\u001b[0m s.\n",
      "Processes: 5, threads: 25. Estimated maximal execution time: \u001b[32m45.38857482666667\u001b[0m s. The best time: \u001b[32m45.38857482666667\u001b[0m s.\n",
      "Processes: 6, threads: 21. Estimated maximal execution time: \u001b[32m37.9415124631579\u001b[0m s. The best time: \u001b[32m37.9415124631579\u001b[0m s.\n",
      "Processes: 7, threads: 18. Estimated maximal execution time: \u001b[32m35.595630711111106\u001b[0m s. The best time: \u001b[32m35.595630711111106\u001b[0m s.\n",
      "Processes: 8, threads: 16. Estimated maximal execution time: \u001b[32m31.34570003478261\u001b[0m s. The best time: \u001b[32m31.34570003478261\u001b[0m s.\n",
      "Processes: 9, threads: 14. Estimated maximal execution time: \u001b[32m30.956930090909093\u001b[0m s. The best time: \u001b[32m30.956930090909093\u001b[0m s.\n",
      "Processes: 10, threads: 12. Estimated maximal execution time: \u001b[32m30.442834352\u001b[0m s. The best time: \u001b[32m30.442834352\u001b[0m s.\n",
      "Processes: 11, threads: 11. Estimated maximal execution time: \u001b[32m28.843063328\u001b[0m s. The best time: \u001b[32m28.843063328\u001b[0m s.\n",
      "Processes: 12, threads: 10. Estimated maximal execution time: \u001b[31m31.158080622222222\u001b[0m s. The best time: \u001b[32m28.843063328\u001b[0m s.\n",
      "Processes: 14, threads: 9. Estimated maximal execution time: \u001b[32m26.139756591304348\u001b[0m s. The best time: \u001b[32m26.139756591304348\u001b[0m s.\n",
      "Processes: 16, threads: 8. Estimated maximal execution time: \u001b[32m24.393801721739127\u001b[0m s. The best time: \u001b[32m24.393801721739127\u001b[0m s.\n",
      "Processes: 18, threads: 7. Estimated maximal execution time: \u001b[31m26.721472895238094\u001b[0m s. The best time: \u001b[32m24.393801721739127\u001b[0m s.\n",
      "Processes: 21, threads: 6. Estimated maximal execution time: \u001b[31m24.398672591304347\u001b[0m s. The best time: \u001b[32m24.393801721739127\u001b[0m s.\n",
      "Processes: 25, threads: 5. Estimated maximal execution time: \u001b[31m31.400172956521736\u001b[0m s. The best time: \u001b[32m24.393801721739127\u001b[0m s.\n",
      "Processes: 32, threads: 4. Estimated maximal execution time: \u001b[31m63.38399298947369\u001b[0m s. The best time: \u001b[32m24.393801721739127\u001b[0m s.\n",
      "Processes: 42, threads: 3. Estimated maximal execution time: \u001b[31m68.37599962\u001b[0m s. The best time: \u001b[32m24.393801721739127\u001b[0m s.\n",
      "Processes: 64, threads: 2. Estimated maximal execution time: \u001b[31m136.1808634769231\u001b[0m s. The best time: \u001b[32m24.393801721739127\u001b[0m s.\n"
     ]
    }
   ],
   "source": [
    "%%time\n",
    "zeeman = Dy.zeeman_splitting(\"demo\", 16, np.linspace(0, 12, 100), np.array([[1.,1.,1.], [0.,0.,1.], [0.,1.,0.], [1.,0.,0.]]), autotune=True, number_cpu=128, number_threads=10, states_cutoff=0)"
   ]
  },
  {
   "cell_type": "code",
   "execution_count": 4,
   "id": "09f65028-3c51-4494-8186-6b6b6f0bc4f6",
   "metadata": {},
   "outputs": [
    {
     "name": "stdout",
     "output_type": "stream",
     "text": [
      "Exception reporting mode: Context\n"
     ]
    }
   ],
   "source": [
    "slt.set_default_error_reporting_mode()"
   ]
  },
  {
   "cell_type": "code",
   "execution_count": 3,
   "id": "daf7e8bd-604b-4384-ab4d-34eb26d2a1e3",
   "metadata": {},
   "outputs": [],
   "source": [
    "from numba import jit, prange, set_num_threads\n",
    "from numpy import abs\n",
    "import numpy as np\n",
    "@jit([\"float32(complex64)\", \"float64(complex128)\"], nopython=True, fastmath=True, inline=\"always\", cache=True)\n",
    "def _modulus_squared(c):\n",
    "    return (c*c.conjugate()).real\n",
    "    \n",
    "@jit([\"float32(float32[:], complex64[:,:], int64)\", \"float64(float64[:], complex128[:,:], int64)\"], nopython=True, fastmath=True, inline=\"always\", cache=True)\n",
    "def _first_order_energy(unperturbed_energies, perturbation_matrix, state_index):\n",
    "    return unperturbed_energies[state_index] + perturbation_matrix[state_index, state_index].real\n",
    "\n",
    "@jit([\"float32(float32[:], float32[:], complex64[:,:], int64)\", \"float64(float64[:], float64[:], complex128[:,:], int64)\"], nopython=True, fastmath=True, inline=\"always\", cache=True)\n",
    "def _second_order_energy(unperturbed_energies, first_order_energies, perturbation_matrix, state_index):\n",
    "    pre_second_order_energy = first_order_energies[state_index]\n",
    "    for i in range(state_index):\n",
    "        pre_second_order_energy += _modulus_squared(perturbation_matrix[state_index, i])/(first_order_energies[state_index] - unperturbed_energies[i])\n",
    "    for i in range(state_index+1, perturbation_matrix.shape[0]):\n",
    "        pre_second_order_energy += _modulus_squared(perturbation_matrix[state_index, i])/(first_order_energies[state_index] - unperturbed_energies[i])\n",
    "    second_order_energy = first_order_energies[state_index]\n",
    "    for i in range(state_index):\n",
    "        second_order_energy += _modulus_squared(perturbation_matrix[state_index, i])/(pre_second_order_energy- unperturbed_energies[i])\n",
    "    for i in range(state_index+1, perturbation_matrix.shape[0]):\n",
    "        second_order_energy += _modulus_squared(perturbation_matrix[state_index, i])/(pre_second_order_energy - unperturbed_energies[i])\n",
    "    return second_order_energy\n",
    "\n",
    "@jit([\"float32(float32[:], float32[:], float32[:], complex64[:,:], int64)\", \"float64(float64[:], float64[:], float64[:], complex128[:,:], int64)\"], nopython=True, fastmath=True, inline=\"always\", cache=True)\n",
    "def _third_order_energy(second_order_energies, first_order_energies, unperturbed_energies, perturbation_matrix, state_index):\n",
    "    third_order_energy = second_order_energies[state_index]\n",
    "    for i in range(state_index):\n",
    "        for k in range(state_index):\n",
    "            third_order_energy += perturbation_matrix[state_index, i]*perturbation_matrix[i, k]*perturbation_matrix[k,state_index]/((first_order_energies[state_index] - unperturbed_energies[i])*(first_order_energies[state_index] - unperturbed_energies[k]))\n",
    "        for k in range(state_index+1, perturbation_matrix.shape[0]):\n",
    "            third_order_energy += perturbation_matrix[state_index, i]*perturbation_matrix[i, k]*perturbation_matrix[k,state_index]/((first_order_energies[state_index] - unperturbed_energies[i])*(first_order_energies[state_index] - unperturbed_energies[k]))    \n",
    "    for i in range(state_index+1, perturbation_matrix.shape[0]):\n",
    "        for k in range(state_index):\n",
    "            third_order_energy += perturbation_matrix[state_index, i]*perturbation_matrix[i, k]*perturbation_matrix[k,state_index]/((first_order_energies[state_index] - unperturbed_energies[i])*(first_order_energies[state_index] - unperturbed_energies[k]))\n",
    "        for k in range(state_index+1, perturbation_matrix.shape[0]):\n",
    "            third_order_energy += perturbation_matrix[state_index, i]*perturbation_matrix[i, k]*perturbation_matrix[k,state_index]/((first_order_energies[state_index] - unperturbed_energies[i])*(first_order_energies[state_index] - unperturbed_energies[k]))\n",
    "    return third_order_energy.real\n",
    "    \n",
    "@jit([\"float32(float32[:], float32[:], complex64[:,:], int64)\", \"float64(float64[:], float64[:], complex128[:,:], int64)\"], nopython=True, fastmath=True, inline=\"always\", cache=True)\n",
    "def _fourth_order_energy(third_order_energies, unperturbed_energies, perturbation_matrix, state_index):\n",
    "    fourth_order_energy = third_order_energies[state_index]\n",
    "    for i in range(state_index):\n",
    "        for k in range(state_index):\n",
    "            for l in range(state_index):\n",
    "                fourth_order_energy += perturbation_matrix[state_index, i]*perturbation_matrix[i, k]*perturbation_matrix[k,l]*perturbation_matrix[l, state_index]/((unperturbed_energies[state_index] - unperturbed_energies[i])*(unperturbed_energies[state_index] - unperturbed_energies[k])*(unperturbed_energies[state_index] - unperturbed_energies[l]))\n",
    "            for l in range(state_index+1, perturbation_matrix.shape[0]):\n",
    "                fourth_order_energy += perturbation_matrix[state_index, i]*perturbation_matrix[i, k]*perturbation_matrix[k,l]*perturbation_matrix[l, state_index]/((unperturbed_energies[state_index] - unperturbed_energies[i])*(unperturbed_energies[state_index] - unperturbed_energies[k])*(unperturbed_energies[state_index] - unperturbed_energies[l]))\n",
    "        for k in range(state_index+1, perturbation_matrix.shape[0]):\n",
    "            for l in range(state_index):\n",
    "                fourth_order_energy += perturbation_matrix[state_index, i]*perturbation_matrix[i, k]*perturbation_matrix[k,l]*perturbation_matrix[l, state_index]/((unperturbed_energies[state_index] - unperturbed_energies[i])*(unperturbed_energies[state_index] - unperturbed_energies[k])*(unperturbed_energies[state_index] - unperturbed_energies[l]))\n",
    "            for l in range(state_index+1, perturbation_matrix.shape[0]):\n",
    "                fourth_order_energy += perturbation_matrix[state_index, i]*perturbation_matrix[i, k]*perturbation_matrix[k,l]*perturbation_matrix[l, state_index]/((unperturbed_energies[state_index] - unperturbed_energies[i])*(unperturbed_energies[state_index] - unperturbed_energies[k])*(unperturbed_energies[state_index] - unperturbed_energies[l]))    \n",
    "    for i in range(state_index+1, perturbation_matrix.shape[0]):\n",
    "        for k in range(state_index):\n",
    "            for l in range(state_index):\n",
    "                fourth_order_energy += perturbation_matrix[state_index, i]*perturbation_matrix[i, k]*perturbation_matrix[k,l]*perturbation_matrix[l, state_index]/((unperturbed_energies[state_index] - unperturbed_energies[i])*(unperturbed_energies[state_index] - unperturbed_energies[k])*(unperturbed_energies[state_index] - unperturbed_energies[l]))\n",
    "            for l in range(state_index+1, perturbation_matrix.shape[0]):\n",
    "                fourth_order_energy += perturbation_matrix[state_index, i]*perturbation_matrix[i, k]*perturbation_matrix[k,l]*perturbation_matrix[l, state_index]/((unperturbed_energies[state_index] - unperturbed_energies[i])*(unperturbed_energies[state_index] - unperturbed_energies[k])*(unperturbed_energies[state_index] - unperturbed_energies[l]))\n",
    "        for k in range(state_index+1, perturbation_matrix.shape[0]):\n",
    "            for l in range(state_index):\n",
    "                fourth_order_energy += perturbation_matrix[state_index, i]*perturbation_matrix[i, k]*perturbation_matrix[k,l]*perturbation_matrix[l, state_index]/((unperturbed_energies[state_index] - unperturbed_energies[i])*(unperturbed_energies[state_index] - unperturbed_energies[k])*(unperturbed_energies[state_index] - unperturbed_energies[l]))\n",
    "            for l in range(state_index+1, perturbation_matrix.shape[0]):\n",
    "                fourth_order_energy += perturbation_matrix[state_index, i]*perturbation_matrix[i, k]*perturbation_matrix[k,l]*perturbation_matrix[l, state_index]/((unperturbed_energies[state_index] - unperturbed_energies[i])*(unperturbed_energies[state_index] - unperturbed_energies[k])*(unperturbed_energies[state_index] - unperturbed_energies[l]))    \n",
    "\n",
    "    return fourth_order_energy.real\n",
    "\n",
    "@jit(\"float64[:,:](float64[:], complex128[:,:], float64[:])\", nopython=True, fastmath=True, inline=\"always\")\n",
    "def _nearly_degenerate_perturbation_4(unperturbed_energies, perturbation, fields):\n",
    "    result = np.zeros((fields.shape[0],unperturbed_energies.shape[0]), dtype=np.float64)\n",
    "    for t in range(fields.shape[0]):\n",
    "        perturbation_matrix = -perturbation * (fields[t])\n",
    "        perturbed_energies = np.zeros_like(unperturbed_energies, dtype=np.float64)\n",
    "        energies_first_order = np.zeros_like(unperturbed_energies, dtype=np.float64)\n",
    "        energies_tmp= np.zeros_like(unperturbed_energies, dtype=np.float64)\n",
    "        for state_index in range(unperturbed_energies.shape[0]):\n",
    "            energies_first_order[state_index] = _first_order_energy(unperturbed_energies, perturbation_matrix, state_index)\n",
    "        for state_index in range(unperturbed_energies.shape[0]):\n",
    "            energies_tmp[state_index] = _second_order_energy(unperturbed_energies, energies_first_order, perturbation_matrix, state_index)\n",
    "        for state_index in range(unperturbed_energies.shape[0]):\n",
    "            energies_tmp[state_index] = _third_order_energy(energies_tmp, energies_first_order, unperturbed_energies, perturbation_matrix, state_index)\n",
    "        for state_index in range(unperturbed_energies.shape[0]):\n",
    "            energies_tmp[state_index] = _fourth_order_energy(energies_tmp, unperturbed_energies, perturbation_matrix, state_index)\n",
    "        result[t] = energies_tmp\n",
    "    return result"
   ]
  },
  {
   "cell_type": "code",
   "execution_count": null,
   "id": "84e91aa9-e721-4828-9f15-d30cb9cb2b26",
   "metadata": {},
   "outputs": [],
   "source": [
    "from numba import jit, prange, set_num_threads\n",
    "from numpy import abs\n",
    "import numpy as np\n",
    "@jit([\"float32(complex64)\", \"float64(complex128)\"], nopython=True, fastmath=True, inline=\"always\", cache=True)\n",
    "def _modulus_squared(c):\n",
    "    return (c*c.conjugate()).real\n",
    "    \n",
    "@jit([\"float32(float32[:], complex64[:,:], int64, int64)\", \"float64(float64[:], complex128[:,:], int64, int64)\"], nopython=True, fastmath=True, inline=\"always\", cache=True)\n",
    "def _first_order_energies(unperturbed_energies, perturbation_matrix, start_state, stop_state):\n",
    "    return unperturbed_energies[state_index] + perturbation_matrix[state_index, state_index].real\n",
    "\n",
    "@jit([\"float32(float32[:], float32[:], complex64[:,:], int64)\", \"float64(float64[:], float64[:], complex128[:,:], int64)\"], nopython=True, fastmath=True, inline=\"always\", cache=True)\n",
    "def _second_order_energy(unperturbed_energies, first_order_energies, perturbation_matrix, state_index):\n",
    "    pre_second_order_energy = first_order_energies[state_index]\n",
    "    for i in range(state_index):\n",
    "        pre_second_order_energy += _modulus_squared(perturbation_matrix[state_index, i])/(first_order_energies[state_index] - unperturbed_energies[i])\n",
    "    for i in range(state_index+1, perturbation_matrix.shape[0]):\n",
    "        pre_second_order_energy += _modulus_squared(perturbation_matrix[state_index, i])/(first_order_energies[state_index] - unperturbed_energies[i])\n",
    "    second_order_energy = first_order_energies[state_index]\n",
    "    for i in range(state_index):\n",
    "        second_order_energy += _modulus_squared(perturbation_matrix[state_index, i])/(pre_second_order_energy- unperturbed_energies[i])\n",
    "    for i in range(state_index+1, perturbation_matrix.shape[0]):\n",
    "        second_order_energy += _modulus_squared(perturbation_matrix[state_index, i])/(pre_second_order_energy - unperturbed_energies[i])\n",
    "    return second_order_energy\n",
    "\n",
    "@jit([\"float32(float32[:], float32[:], float32[:], complex64[:,:], int64)\", \"float64(float64[:], float64[:], float64[:], complex128[:,:], int64)\"], nopython=True, fastmath=True, inline=\"always\", cache=True)\n",
    "def _third_order_energy(second_order_energies, first_order_energies, unperturbed_energies, perturbation_matrix, state_index):\n",
    "    third_order_energy = second_order_energies[state_index]\n",
    "    for i in range(state_index):\n",
    "        for k in range(state_index):\n",
    "            third_order_energy += perturbation_matrix[state_index, i]*perturbation_matrix[i, k]*perturbation_matrix[k,state_index]/((first_order_energies[state_index] - unperturbed_energies[i])*(first_order_energies[state_index] - unperturbed_energies[k]))\n",
    "        for k in range(state_index+1, perturbation_matrix.shape[0]):\n",
    "            third_order_energy += perturbation_matrix[state_index, i]*perturbation_matrix[i, k]*perturbation_matrix[k,state_index]/((first_order_energies[state_index] - unperturbed_energies[i])*(first_order_energies[state_index] - unperturbed_energies[k]))    \n",
    "    for i in range(state_index+1, perturbation_matrix.shape[0]):\n",
    "        for k in range(state_index):\n",
    "            third_order_energy += perturbation_matrix[state_index, i]*perturbation_matrix[i, k]*perturbation_matrix[k,state_index]/((first_order_energies[state_index] - unperturbed_energies[i])*(first_order_energies[state_index] - unperturbed_energies[k]))\n",
    "        for k in range(state_index+1, perturbation_matrix.shape[0]):\n",
    "            third_order_energy += perturbation_matrix[state_index, i]*perturbation_matrix[i, k]*perturbation_matrix[k,state_index]/((first_order_energies[state_index] - unperturbed_energies[i])*(first_order_energies[state_index] - unperturbed_energies[k]))\n",
    "    return third_order_energy.real\n",
    "    \n",
    "@jit([\"float32(float32[:], float32[:], complex64[:,:], int64)\", \"float64(float64[:], float64[:], complex128[:,:], int64)\"], nopython=True, fastmath=True, inline=\"always\", cache=True)\n",
    "def _fourth_order_energy(third_order_energies, unperturbed_energies, perturbation_matrix, state_index):\n",
    "    fourth_order_energy = third_order_energies[state_index]\n",
    "    for i in range(state_index):\n",
    "        for k in range(state_index):\n",
    "            for l in range(state_index):\n",
    "                fourth_order_energy += perturbation_matrix[state_index, i]*perturbation_matrix[i, k]*perturbation_matrix[k,l]*perturbation_matrix[l, state_index]/((unperturbed_energies[state_index] - unperturbed_energies[i])*(unperturbed_energies[state_index] - unperturbed_energies[k])*(unperturbed_energies[state_index] - unperturbed_energies[l]))\n",
    "            for l in range(state_index+1, perturbation_matrix.shape[0]):\n",
    "                fourth_order_energy += perturbation_matrix[state_index, i]*perturbation_matrix[i, k]*perturbation_matrix[k,l]*perturbation_matrix[l, state_index]/((unperturbed_energies[state_index] - unperturbed_energies[i])*(unperturbed_energies[state_index] - unperturbed_energies[k])*(unperturbed_energies[state_index] - unperturbed_energies[l]))\n",
    "        for k in range(state_index+1, perturbation_matrix.shape[0]):\n",
    "            for l in range(state_index):\n",
    "                fourth_order_energy += perturbation_matrix[state_index, i]*perturbation_matrix[i, k]*perturbation_matrix[k,l]*perturbation_matrix[l, state_index]/((unperturbed_energies[state_index] - unperturbed_energies[i])*(unperturbed_energies[state_index] - unperturbed_energies[k])*(unperturbed_energies[state_index] - unperturbed_energies[l]))\n",
    "            for l in range(state_index+1, perturbation_matrix.shape[0]):\n",
    "                fourth_order_energy += perturbation_matrix[state_index, i]*perturbation_matrix[i, k]*perturbation_matrix[k,l]*perturbation_matrix[l, state_index]/((unperturbed_energies[state_index] - unperturbed_energies[i])*(unperturbed_energies[state_index] - unperturbed_energies[k])*(unperturbed_energies[state_index] - unperturbed_energies[l]))    \n",
    "    for i in range(state_index+1, perturbation_matrix.shape[0]):\n",
    "        for k in range(state_index):\n",
    "            for l in range(state_index):\n",
    "                fourth_order_energy += perturbation_matrix[state_index, i]*perturbation_matrix[i, k]*perturbation_matrix[k,l]*perturbation_matrix[l, state_index]/((unperturbed_energies[state_index] - unperturbed_energies[i])*(unperturbed_energies[state_index] - unperturbed_energies[k])*(unperturbed_energies[state_index] - unperturbed_energies[l]))\n",
    "            for l in range(state_index+1, perturbation_matrix.shape[0]):\n",
    "                fourth_order_energy += perturbation_matrix[state_index, i]*perturbation_matrix[i, k]*perturbation_matrix[k,l]*perturbation_matrix[l, state_index]/((unperturbed_energies[state_index] - unperturbed_energies[i])*(unperturbed_energies[state_index] - unperturbed_energies[k])*(unperturbed_energies[state_index] - unperturbed_energies[l]))\n",
    "        for k in range(state_index+1, perturbation_matrix.shape[0]):\n",
    "            for l in range(state_index):\n",
    "                fourth_order_energy += perturbation_matrix[state_index, i]*perturbation_matrix[i, k]*perturbation_matrix[k,l]*perturbation_matrix[l, state_index]/((unperturbed_energies[state_index] - unperturbed_energies[i])*(unperturbed_energies[state_index] - unperturbed_energies[k])*(unperturbed_energies[state_index] - unperturbed_energies[l]))\n",
    "            for l in range(state_index+1, perturbation_matrix.shape[0]):\n",
    "                fourth_order_energy += perturbation_matrix[state_index, i]*perturbation_matrix[i, k]*perturbation_matrix[k,l]*perturbation_matrix[l, state_index]/((unperturbed_energies[state_index] - unperturbed_energies[i])*(unperturbed_energies[state_index] - unperturbed_energies[k])*(unperturbed_energies[state_index] - unperturbed_energies[l]))    \n",
    "\n",
    "    return fourth_order_energy.real\n",
    "\n",
    "@jit(\"float64[:,:](float64[:], complex128[:,:], float64[:])\", nopython=True, fastmath=True, inline=\"always\")\n",
    "def _nearly_degenerate_perturbation_4(unperturbed_energies, perturbation, fields):\n",
    "    result = np.zeros((fields.shape[0],unperturbed_energies.shape[0]), dtype=np.float64)\n",
    "    for t in range(fields.shape[0]):\n",
    "        perturbation_matrix = -perturbation * (fields[t])\n",
    "        perturbed_energies = np.zeros_like(unperturbed_energies, dtype=np.float64)\n",
    "        energies_first_order = np.zeros_like(unperturbed_energies, dtype=np.float64)\n",
    "        energies_tmp= np.zeros_like(unperturbed_energies, dtype=np.float64)\n",
    "        for state_index in range(unperturbed_energies.shape[0]):\n",
    "            energies_first_order[state_index] = _first_order_energy(unperturbed_energies, perturbation_matrix, state_index)\n",
    "        for state_index in range(unperturbed_energies.shape[0]):\n",
    "            energies_tmp[state_index] = _second_order_energy(unperturbed_energies, energies_first_order, perturbation_matrix, state_index)\n",
    "        for state_index in range(unperturbed_energies.shape[0]):\n",
    "            energies_tmp[state_index] = _third_order_energy(energies_tmp, energies_first_order, unperturbed_energies, perturbation_matrix, state_index)\n",
    "        for state_index in range(unperturbed_energies.shape[0]):\n",
    "            energies_tmp[state_index] = _fourth_order_energy(energies_tmp, unperturbed_energies, perturbation_matrix, state_index)\n",
    "        result[t] = energies_tmp\n",
    "    return result\n",
    "\n",
    "@njit(\"float64[:,:](float64[:], complex128[:,:], float64[:], float64)\", fastmath=True, inline=\"always\", parallel=True)\n",
    "def _nearly_degenerate_perturbation(unperturbed_energies, perturbation_matrix, perturbation_order, degeneracy_tolerance=1e-6):\n",
    "    result = np.zeros((fields.shape[0],unperturbed_energies.shape[0]), dtype=np.float64)\n",
    "    for t in prange(fields.shape[0]):\n",
    "        perturbation = init_perturbation * fields[t]\n",
    "        perturbed_energies = np.zeros_like(unperturbed_energies, dtype=np.float64)\n",
    "        perturbed_energies_first_order_deg = np.zeros_like(unperturbed_energies, dtype=np.float64)\n",
    "        perturbed_energies_second_order_deg = np.zeros_like(unperturbed_energies, dtype=np.float64)\n",
    "        perturbation_matrix = perturbation.copy()\n",
    "        perturbation_matrix_sec = perturbation.copy()\n",
    "        start = 0\n",
    "        while start < unperturbed_energies.shape[0]:\n",
    "            end = start \n",
    "            while end + 1 < unperturbed_energies.shape[0] and np.isclose(unperturbed_energies[end + 1], unperturbed_energies[start], atol=atol):\n",
    "                end += 1\n",
    "            if end > start:\n",
    "                new_energy = np.mean(unperturbed_energies[start:end])\n",
    "                for i in range(start, end+1):\n",
    "                    perturbation[i,i] += unperturbed_energies[i] - new_energy\n",
    "                    unperturbed_energies[i] = new_energy\n",
    "                eigenvalues = linalg.eigvalsh(perturbation[start:end+1, start:end+1])\n",
    "                perturbed_energies_first_order_deg[start:end+1] = unperturbed_energies[start:end+1] + eigenvalues\n",
    "                for k in range(start, end+1):"
   ]
  },
  {
   "cell_type": "code",
   "execution_count": 5,
   "id": "7966518c-dc4c-4847-9e7d-52617d30d9d0",
   "metadata": {},
   "outputs": [
    {
     "name": "stdout",
     "output_type": "stream",
     "text": [
      "CPU times: user 1.34 s, sys: 5.69 s, total: 7.02 s\n",
      "Wall time: 13 s\n"
     ]
    }
   ],
   "source": [
    "%%time\n",
    "unperturbed_energies = Dy[\"demo\"].energies[:16]\n",
    "perturbation_matrix = -(Dy[\"demo\"].mx[:16,:16] + Dy[\"demo\"].my[:16,:16] + Dy[\"demo\"].mz[:16,:16])\n",
    "hamiltonian = -perturbation_matrix.copy()\n",
    "for k in range(perturbation_matrix.shape[0]):\n",
    "    hamiltonian[k,k] += unperturbed_energies[k]\n",
    "eigenvalues, eigenvectors= np.linalg.eigh(hamiltonian)\n",
    "unperturbed_energies = eigenvalues\n",
    "perturbation_matrix = eigenvectors.conj().T @ perturbation_matrix @ eigenvectors ###### zrób experyment z serią diagonalizacji\n",
    "set_num_threads(64)\n",
    "result = _nearly_degenerate_perturbation_4(unperturbed_energies, perturbation_matrix, np.linspace(0,4,100))\n",
    "zeeman = Dy.zeeman_splitting(\"demo\", 16, np.linspace(0,5,100), np.array([[1.,1.,1.]]), number_cpu=101, number_threads=10, states_cutoff=16)\n",
    "import matplotlib.pyplot as plt\n",
    "fig, axs = plt.subplots(1, 2, figsize=(10, 5), sharey=True)\n",
    "axs[0].plot(np.linspace(1,5,100), result[:,:] * 219474.6)\n",
    "axs[1].plot(np.linspace(0,5,100), zeeman[0])\n",
    "axs[0].set_ylim(-20,700)\n",
    "plt.show()"
   ]
  },
  {
   "cell_type": "code",
   "execution_count": 22,
   "id": "9fa4a611-9151-4542-9ab4-dcaacd297e80",
   "metadata": {},
   "outputs": [
    {
     "name": "stdout",
     "output_type": "stream",
     "text": [
      "[ -0.80691624   0.78466461 194.37815505 195.06081981 309.39445779\n",
      " 317.53583599 345.47001126 348.23019299 401.59971549 402.7424184\n",
      " 424.42577257 427.20376048 497.26690029 498.76821627 521.97823988\n",
      " 525.37723309]\n",
      "[ -0.80691624   0.78466461 194.37815505 195.06081981 309.39445779\n",
      " 317.53583599 345.47001126 348.23019299 401.59971549 402.7424184\n",
      " 424.42577257 427.20376048 497.26690029 498.76821627 521.97823988\n",
      " 525.37723309]\n"
     ]
    }
   ],
   "source": [
    "import numpy as np\n",
    "unperturbed_energies = Dy[\"demo\"].energies[:16]\n",
    "perturbation_matrix = (Dy[\"demo\"].mx[:16,:16] + Dy[\"demo\"].my[:16,:16] + Dy[\"demo\"].mz[:16,:16])*(1/math.sqrt(3))\n",
    "result = np.zeros((11,16), dtype=np.float64)\n",
    "linspace = np.array([0,1,2,3,4,5, 6, 7, 8, 9, 10])\n",
    "for i, fields in enumerate(linspace):\n",
    "    hamiltonian = -perturbation_matrix * (fields - linspace[i-1] if i-1 >= 0 else 0)\n",
    "    for k in range(perturbation_matrix.shape[0]):\n",
    "        hamiltonian[k,k] += unperturbed_energies[k]\n",
    "    eigenvalues, eigenvectors= np.linalg.eigh(hamiltonian)\n",
    "    unperturbed_energies = eigenvalues\n",
    "    perturbation_matrix = eigenvectors.conj().T @ perturbation_matrix @ eigenvectors\n",
    "    result[i] = eigenvalues\n",
    "zeeman = Dy.zeeman_splitting(\"demo\", 16, [0,1,2,3,4,5,6,7,8,9,10], np.array([[1.,1.,1.]]), number_cpu=128, number_threads=1, states_cutoff=16)\n",
    "print(zeeman[0][1])\n",
    "print(result[1]* 219474.6)\n",
    "import matplotlib.pyplot as plt\n",
    "fig, axs = plt.subplots(1, 2, figsize=(10, 5), sharey=True)\n",
    "axs[0].plot([0,1,2,3,4,5, 6, 7, 8, 9, 10], result[:,:] * 219474.6)\n",
    "axs[1].plot([0,1,2,3,4,5,6, 7, 8, 9, 10], zeeman[0])\n",
    "# axs[0].set_ylim(-20,700)\n",
    "plt.show()"
   ]
  },
  {
   "cell_type": "code",
   "execution_count": 17,
   "id": "82a741ab-8905-4928-b515-6bdfde2876e0",
   "metadata": {},
   "outputs": [
    {
     "name": "stdout",
     "output_type": "stream",
     "text": [
      "[ -0.80691624   0.78466461 194.37815505 195.06081981 309.39445779\n",
      " 317.53583599 345.47001126 348.23019299 401.59971549 402.7424184\n",
      " 424.42577257 427.20376048 497.26690029 498.76821627 521.97823988\n",
      " 525.37723309]\n"
     ]
    }
   ],
   "source": [
    "import numpy as np\n",
    "import math\n",
    "unperturbed_energies = Dy[\"demo\"].energies[:16]\n",
    "perturbation_matrix = (Dy[\"demo\"].mx[:16,:16] + Dy[\"demo\"].my[:16,:16] + Dy[\"demo\"].mz[:16,:16])*(1/math.sqrt(3))\n",
    "hamiltonian = -perturbation_matrix\n",
    "for k in range(perturbation_matrix.shape[0]):\n",
    "    hamiltonian[k,k] += unperturbed_energies[k]\n",
    "eigenvalues, eigenvectors= np.linalg.eigh(hamiltonian)\n",
    "print(eigenvalues * 219474.6)"
   ]
  },
  {
   "cell_type": "code",
   "execution_count": 30,
   "id": "6f5444a0-fa5e-4507-896b-256feb427b64",
   "metadata": {},
   "outputs": [
    {
     "name": "stdout",
     "output_type": "stream",
     "text": [
      "Benchmarking modulus_squared_direct:\n",
      "174 ms ± 5.01 ms per loop (mean ± std. dev. of 7 runs, 10 loops each)\n",
      "\n",
      "Benchmarking modulus_squared_abs_squared:\n",
      "179 ms ± 1.55 ms per loop (mean ± std. dev. of 7 runs, 10 loops each)\n",
      "\n",
      "Benchmarking modulus_squared_mult:\n",
      "169 ms ± 3.24 ms per loop (mean ± std. dev. of 7 runs, 10 loops each)\n",
      "\n",
      "Benchmarking modulus_squared_conjugate:\n",
      "165 ms ± 1.66 ms per loop (mean ± std. dev. of 7 runs, 10 loops each)\n"
     ]
    }
   ],
   "source": [
    "from numba import jit\n",
    "import numpy as np\n",
    "\n",
    "# Method 1: Direct Calculation\n",
    "@jit([\"float32(complex64)\", \"float64(complex128)\"], nopython=True, fastmath=True, inline=\"always\", cache=True)\n",
    "def modulus_squared_direct(c):\n",
    "    return c.real**2 + c.imag**2\n",
    "\n",
    "# Method 2: Using np.abs() squared (might not be optimal in numba)\n",
    "@jit([\"float32(complex64)\", \"float64(complex128)\"], nopython=True, fastmath=True, inline=\"always\", cache=True)\n",
    "def modulus_squared_abs_squared(c):\n",
    "    return np.abs(c)**2\n",
    "\n",
    "# Method 3: Using multiplication explicitly\n",
    "@jit([\"float32(complex64)\", \"float64(complex128)\"], nopython=True, fastmath=True, inline=\"always\", cache=True)\n",
    "def modulus_squared_mult(c):\n",
    "    return c.real * c.real + c.imag * c.imag\n",
    "\n",
    "# Create a large array of complex numbers for benchmarking\n",
    "complex_numbers = np.random.rand(1000000) + 1j * np.random.rand(1000000)\n",
    "\n",
    "# Benchmark\n",
    "print(\"Benchmarking modulus_squared_direct:\")\n",
    "%timeit [modulus_squared_direct(c) for c in complex_numbers]\n",
    "\n",
    "print(\"\\nBenchmarking modulus_squared_abs_squared:\")\n",
    "%timeit [modulus_squared_abs_squared(c) for c in complex_numbers]\n",
    "\n",
    "print(\"\\nBenchmarking modulus_squared_mult:\")\n",
    "%timeit [modulus_squared_mult(c) for c in complex_numbers]\n",
    "\n",
    "print(\"\\nBenchmarking modulus_squared_conjugate:\")\n",
    "%timeit [modulus_squared_mult_conjugate(c) for c in complex_numbers]\n"
   ]
  },
  {
   "cell_type": "code",
   "execution_count": null,
   "id": "fafaa319-8633-42a5-8da3-cba61855cf0f",
   "metadata": {},
   "outputs": [],
   "source": []
  },
  {
   "cell_type": "code",
   "execution_count": null,
   "id": "0be223f9-f193-4f63-afbd-8b5df36fc8c5",
   "metadata": {},
   "outputs": [],
   "source": []
  }
 ],
 "metadata": {
  "kernelspec": {
   "display_name": "Python 3 (ipykernel)",
   "language": "python",
   "name": "python3"
  },
  "language_info": {
   "codemirror_mode": {
    "name": "ipython",
    "version": 3
   },
   "file_extension": ".py",
   "mimetype": "text/x-python",
   "name": "python",
   "nbconvert_exporter": "python",
   "pygments_lexer": "ipython3",
   "version": "3.11.9"
  }
 },
 "nbformat": 4,
 "nbformat_minor": 5
}
