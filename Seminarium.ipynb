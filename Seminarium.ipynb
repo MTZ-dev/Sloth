{
 "cells": [
  {
   "cell_type": "markdown",
   "id": "27444a49-ff2b-4f3f-ae41-0a9792bdfeb9",
   "metadata": {
    "jp-MarkdownHeadingCollapsed": true
   },
   "source": [
    "# Moment siły ($\\vec \\tau$) i moment pędu ($\\vec L$)\n",
    "\n",
    "$$\\Large \\vec \\tau = \\vec r \\times \\vec F$$\n",
    "$$\\Large \\vec L = \\vec r \\times \\vec p$$\n",
    "\n",
    "$$\\Large  \\vec r \\times \\vec V = rV\\sin\\theta = rV_{\\perp}$$\n",
    "\n",
    "<div style=\"text-align: center;\">\n",
    "  <img src=\"Presentations/Torque_animation.gif\" width=\"30%\" />\n",
    "</div>\n",
    "\n",
    "$$\\Large  \\frac{\\mathrm{d}\\vec{L}}{\\mathrm{d}t} = \\vec{r} \\times \\frac{\\mathrm{d}\\vec{p}}{\\mathrm{d}t} + \\frac{\\mathrm{d}\\vec{r}}{\\mathrm{d}t} \\times \\vec{p} = \\vec{r} \\times \\vec{F} + \\vec{v} \\times \\vec{p} = \\vec{\\tau}$$"
   ]
  },
  {
   "cell_type": "markdown",
   "id": "b9f4c688-940b-48b1-b6e0-c8e6fc940c33",
   "metadata": {
    "jp-MarkdownHeadingCollapsed": true
   },
   "source": [
    "# Magnetyczny moment dipolowy ($\\vec m$)\n",
    "\n",
    "$$\\Large \\vec \\tau = \\vec m \\times \\vec B$$\n",
    "\n",
    "<div style=\"text-align: center; font-size: 22px;\">Moment magnetyczny pętli z prądem:</div>\n",
    "\n",
    "$$\\Large \\vec m = I \\cdot A \\cdot \\vec a $$\n",
    "\n",
    "<div style=\"text-align: center;\">\n",
    "  <img src=\"Presentations/magnetic_moment.png\" width=\"40%\" />\n",
    "</div>\n",
    "\n",
    "<div style=\"text-align: center; font-size: 22px;\">Dla jednej cząsteczki o ładunku q z prędkością v o masie m:</div>\n",
    "\n",
    "$$\\Large  I = \\frac{q}{t} = \\frac{q \\cdot v}{2 \\pi r}$$\n",
    "$$\\Large \\vec m = \\frac{q \\cdot v \\cdot \\pi r^{2}}{2 \\pi r} \\cdot \\frac{\\vec r \\times \\vec v}{r \\cdot v} \\cdot \\frac{m}{m} = \\frac{q}{2m} \\cdot \\vec L$$"
   ]
  },
  {
   "cell_type": "markdown",
   "id": "1192e27f-bb1a-423e-8dd4-165835e6f7e2",
   "metadata": {
    "jp-MarkdownHeadingCollapsed": true
   },
   "source": [
    "# Pętla z prądem w jednorodnym polu magnetycznym $\\vec B$\n",
    "\n",
    "<div style=\"text-align: center;\">\n",
    "  <img src=\"Presentations/torque_on_magnetic.png\" width=\"50%\" />\n",
    "</div>\n",
    "\n",
    "<div style=\"text-align: center; font-size: 22px;\">Moment siły:</div>\n",
    "\n",
    "$$\\Large \\vec \\tau = \\vec m \\times \\vec B$$\n",
    "\n",
    "<div style=\"text-align: center; font-size: 22px;\">Energia w polu:</div>\n",
    "\n",
    "$$\\Large E = \\mathbf{- \\vec m \\cdot \\vec B}$$\n"
   ]
  },
  {
   "cell_type": "markdown",
   "id": "01ce9001-eb27-4826-b8f3-fd00c1208c6b",
   "metadata": {},
   "source": [
    "# Makroskopowa magnetyzacja ($\\vec M$)\n",
    "\n",
    "$$\\Large \\vec M_{V} = \\frac{d\\vec m}{dV}$$\n",
    "\n",
    "$$\\Large \\vec m = \\iiint \\vec M_{V}\\, dV$$\n",
    "\n",
    "<div style=\"text-align: center;\">\n",
    "  <img src=\"Presentations/macroscopic_magnetisation.gif\" width=\"35%\" />\n",
    "</div>\n",
    "\n",
    "<div style=\"text-align: center; font-size: 22px;\">Dla jednorodnych materiałów:</div>\n",
    "\n",
    "$$\\Large \\vec M_{V} = \\frac{\\vec m}{V}$$\n",
    "\n",
    "<div style=\"text-align: center; font-size: 22px;\">Magnetyzacja molowa:</div>\n",
    "\n",
    "$$\\Large \\vec{M}_{mol} = \\frac{\\vec{m}}{N_{mol}}$$"
   ]
  },
  {
   "cell_type": "markdown",
   "id": "b39b2794-2640-4664-a0d6-ada3aada67bd",
   "metadata": {
    "jp-MarkdownHeadingCollapsed": true
   },
   "source": [
    "# Moment magnetyczny ($\\vec \\mu$) w mechanice kwantowej\n",
    "\n",
    "<div style=\"text-align: center; font-size: 22px;\">Magneton bohra:</div>\n",
    "\n",
    "$$\\Large \\mu_B = \\frac{e \\hbar}{2 m_e}$$\n",
    "\n",
    "<div style=\"text-align: center; font-size: 22px;\">Orbitalny i spinowy moment magnetyczny:</div>\n",
    "\n",
    "$$\\Large \\mu_L = -\\mu_B \\cdot \\hat L$$\n",
    "\n",
    "$$\\Large \\mu_S = -\\mu_B \\cdot g_e \\cdot \\hat S$$\n",
    "\n",
    "$$\\Large g_e = 2.002 319 304 362 56$$\n",
    "\n",
    "<div style=\"text-align: center; font-size: 22px;\">Jądrowy moment magnetyczny:</div>\n",
    "\n",
    "$$\\Large \\mu_I = -\\mu_B \\cdot g_I \\cdot \\hat I$$"
   ]
  },
  {
   "cell_type": "markdown",
   "id": "d23cc8ec-e52f-4fd9-8049-df6205bf5bee",
   "metadata": {},
   "source": [
    "# Energia w polu magnetycznym - oddziaływanie Zeemana\n",
    "\n",
    "$$\\Large H_{Zeeman} = - \\vec \\mu \\cdot \\vec B = - (\\vec \\mu_S + \\mu_L) \\cdot \\vec B$$\n",
    "\n",
    "$$\\Large H_{total}=H_{\\text{ab initio}}+ H_{Zeeman}$$\n",
    "\n",
    "$$\\mathbf{\\Large H_{total}=H_{\\text{ab initio}}+\\mu_B\\left(g_e\\vec{S}+\\vec{L}\\right)\\cdot\\vec{B}}$$"
   ]
  },
  {
   "cell_type": "markdown",
   "id": "a3d56117-fb49-414a-b2c5-0bca340f19ef",
   "metadata": {},
   "source": [
    "# SlothPy - [Dokumentacja](https://www.slothpy.org)\n",
    "\n",
    "<div style=\"text-align: center;\">\n",
    "  <img src=\"Presentations/slothpy.png\" width=\"50%\" />\n",
    "</div>\n",
    "\n",
    "<div style=\"text-align: right; font-size: 18px;\">Logo by Hubert Dziełak</div>\n"
   ]
  },
  {
   "cell_type": "code",
   "execution_count": 1,
   "id": "79d85181-8321-4ad0-85ee-108a222adaed",
   "metadata": {},
   "outputs": [
    {
     "name": "stdout",
     "output_type": "stream",
     "text": [
      "\u001b[34m                  ____  _       _   _     \u001b[33m____\n",
      "\u001b[34m                 / ___|| | ___ | |_| |__ \u001b[33m|  _ \\ _   _\n",
      "\u001b[34m                 \\___ \\| |/ _ \\| __| '_ \\\u001b[33m| |_) | | | |\n",
      "\u001b[34m                  ___) | | (_) | |_| | | \u001b[33m|  __/| |_| |\n",
      "\u001b[34m                 |____/|_|\\___/ \\__|_| |_\u001b[33m|_|    \\__, |\n",
      "                                                |___/\u001b[32m  by MTZ \n",
      "\u001b[0m\n",
      "SlothPy Copyright (C) 2023 Mikolaj Tadeusz Zychowicz (MTZ).\n",
      "This program comes with ABSOLUTELY NO WARRANTY.\n",
      "This is free software, and you are welcome to redistribute it.\n",
      "The default is chosen to omit the tracebacks completely. To change it use slt.set_default_error_reporting_mode() method for the printing of tracebacks.\n",
      "Turn on the SlothPy Monitor utility using slt.turn_on_monitor().\n",
      "Exception reporting mode: Plain\n"
     ]
    }
   ],
   "source": [
    "import slothpy as slt"
   ]
  },
  {
   "cell_type": "code",
   "execution_count": 2,
   "id": "6700dc0d-e511-4bd7-9b56-bc1204ce45fa",
   "metadata": {},
   "outputs": [],
   "source": [
    "Dy = slt.compound_from_molcas(\"./seminarium\", \"DyIrCN_Cl_bas2\", \"./seminarium\", \"Dy\", \"demo\")"
   ]
  },
  {
   "cell_type": "code",
   "execution_count": 3,
   "id": "06b9ef77-e939-45b8-80bc-73661bc1ac8c",
   "metadata": {},
   "outputs": [
    {
     "data": {
      "text/plain": [
       "<\u001b[31mSltCompound\u001b[0m object for \u001b[32mFile\u001b[0m './seminarium/Dy.slt'.>"
      ]
     },
     "execution_count": 3,
     "metadata": {},
     "output_type": "execute_result"
    }
   ],
   "source": [
    "Dy"
   ]
  },
  {
   "cell_type": "code",
   "execution_count": 4,
   "id": "654589c9-435e-4528-add4-76c6d6211731",
   "metadata": {},
   "outputs": [
    {
     "name": "stdout",
     "output_type": "stream",
     "text": [
      "\u001b[31mCompound\u001b[0m from File: \u001b[32m./seminarium/Dy.slt\u001b[0m with the following \u001b[34mGroups\u001b[0m/\u001b[35mDatasets\u001b[0m.\n",
      "Group: \u001b[34mdemo\u001b[0m | \u001b[33mDescription\u001b[0m: Group containing relativistic SOC MOLCAS results. | \u001b[33mKind\u001b[0m: MOLCAS | \u001b[33mPrecision\u001b[0m: double | \u001b[33mStates\u001b[0m: 2002 | \u001b[33mType\u001b[0m: Hamiltonian\n",
      "\t\u001b[35mSOC_ENERGIES\u001b[0m | \u001b[33mDescription\u001b[0m: Dataset containing SOC energies.\n",
      "\t\u001b[35mSOC_LX\u001b[0m | \u001b[33mDescription\u001b[0m: Dataset containing the Lx matrix in the SOC basis.\n",
      "\t\u001b[35mSOC_LY\u001b[0m | \u001b[33mDescription\u001b[0m: Dataset containing the Ly matrix in the SOC basis.\n",
      "\t\u001b[35mSOC_LZ\u001b[0m | \u001b[33mDescription\u001b[0m: Dataset containing the Lz matrix in the SOC basis.\n",
      "\t\u001b[35mSOC_SX\u001b[0m | \u001b[33mDescription\u001b[0m: Dataset containing the Sx matrix in the SOC basis.\n",
      "\t\u001b[35mSOC_SY\u001b[0m | \u001b[33mDescription\u001b[0m: Dataset containing the Sy matrix in the SOC basis.\n",
      "\t\u001b[35mSOC_SZ\u001b[0m | \u001b[33mDescription\u001b[0m: Dataset containing the Sz matrix in the SOC basis.\n"
     ]
    }
   ],
   "source": [
    "print(Dy)"
   ]
  },
  {
   "cell_type": "code",
   "execution_count": 5,
   "id": "b7c0a506-61c3-439a-916b-2933382c8d1f",
   "metadata": {},
   "outputs": [
    {
     "data": {
      "text/plain": [
       "array([-0.02887274, -0.02887274, -0.02798548, -0.02798548, -0.02744438,\n",
       "       -0.02744438, -0.02729224, -0.02729224, -0.02704025, -0.02704025,\n",
       "       -0.02693269, -0.02693269, -0.02660333, -0.02660333, -0.02648725,\n",
       "       -0.02648725])"
      ]
     },
     "execution_count": 5,
     "metadata": {},
     "output_type": "execute_result"
    }
   ],
   "source": [
    "energies = Dy[\"demo\"][\"SOC_ENERGIES\"][:16]\n",
    "energies"
   ]
  },
  {
   "cell_type": "code",
   "execution_count": 6,
   "id": "3c26cd45-4cbe-4b7b-91ac-65e055764f54",
   "metadata": {},
   "outputs": [
    {
     "data": {
      "text/plain": [
       "array([ 0.00000000e+00, -3.65498631e-11,  1.94729779e+02,  1.94729779e+02,\n",
       "        3.13488143e+02,  3.13488143e+02,  3.46879127e+02,  3.46879127e+02,\n",
       "        4.02184999e+02,  4.02184999e+02,  4.25790818e+02,  4.25790818e+02,\n",
       "        4.98077150e+02,  4.98077150e+02,  5.23554723e+02,  5.23554723e+02])"
      ]
     },
     "execution_count": 6,
     "metadata": {},
     "output_type": "execute_result"
    }
   ],
   "source": [
    "(energies - energies[0]) * 219474.6"
   ]
  },
  {
   "cell_type": "markdown",
   "id": "04ff62e8-0b3d-4b9a-bdea-0acfa9fac13d",
   "metadata": {},
   "source": [
    "# Rozszczepienie Zeemana\n",
    "$$\\Large H_{total}=H_{\\text{ab initio}}+\\mu_B\\left(g_e\\vec{S}+\\vec{L}\\right)\\cdot\\vec{B}$$\n",
    "$$\\Large H_{total} \\Psi = E(\\vec B) \\Psi$$\n",
    "$$(U^{\\dagger} H_{total} U = H_{diag})$$"
   ]
  },
  {
   "cell_type": "code",
   "execution_count": 7,
   "id": "80a43a2c-628d-4f81-975d-ad3928f96a9d",
   "metadata": {},
   "outputs": [
    {
     "data": {
      "text/plain": [
       "array([[[-3.65498631e-11,  0.00000000e+00,  1.94729779e+02,\n",
       "          1.94729779e+02,  3.13488143e+02,  3.13488143e+02,\n",
       "          3.46879127e+02,  3.46879127e+02,  4.02184999e+02,\n",
       "          4.02184999e+02,  4.25790818e+02,  4.25790818e+02,\n",
       "          4.98077150e+02,  4.98077150e+02,  5.23554723e+02,\n",
       "          5.23554723e+02],\n",
       "        [-1.19922520e+00,  1.18234681e+00,  1.94377586e+02,\n",
       "          1.95064961e+02,  3.09402837e+02,  3.17528996e+02,\n",
       "          3.45444004e+02,  3.48274100e+02,  4.01769647e+02,\n",
       "          4.02590203e+02,  4.24410114e+02,  4.27193618e+02,\n",
       "          4.97502730e+02,  4.98508135e+02,  5.22456931e+02,\n",
       "          5.24901188e+02],\n",
       "        [-2.41775079e+00,  2.35027523e+00,  1.94006142e+02,\n",
       "          1.95385720e+02,  3.05262102e+02,  3.21541341e+02,\n",
       "          3.43966587e+02,  3.49625228e+02,  4.01362609e+02,\n",
       "          4.02969559e+02,  4.23042176e+02,  4.28626194e+02,\n",
       "          4.96835051e+02,  4.98741219e+02,  5.21651145e+02,\n",
       "          5.26456662e+02],\n",
       "        [-3.65533483e+00,  3.50359533e+00,  1.93615511e+02,\n",
       "          1.95692457e+02,  3.01078281e+02,  3.25509708e+02,\n",
       "          3.42454614e+02,  3.50926520e+02,  4.00967042e+02,\n",
       "          4.03322558e+02,  4.21692681e+02,  4.30081297e+02,\n",
       "          4.96102661e+02,  4.98746803e+02,  5.21170451e+02,\n",
       "          5.28188891e+02],\n",
       "        [-4.91173938e+00,  4.64211462e+00,  1.93205739e+02,\n",
       "          1.95985517e+02,  2.96860129e+02,  3.29394161e+02,\n",
       "          3.40941263e+02,  3.52174452e+02,  4.00584974e+02,\n",
       "          4.03647935e+02,  4.20367877e+02,  4.31552246e+02,\n",
       "          4.95329449e+02,  4.98513695e+02,  5.21030279e+02,\n",
       "          5.30070512e+02],\n",
       "        [-6.18673044e+00,  5.76563807e+00,  1.92776849e+02,\n",
       "          1.96265190e+02,  2.92614131e+02,  3.33034344e+02,\n",
       "          3.39579931e+02,  3.53367732e+02,  4.00217610e+02,\n",
       "          4.03943366e+02,  4.19074976e+02,  4.33032586e+02,\n",
       "          4.94534387e+02,  4.98054629e+02,  5.21223108e+02,\n",
       "          5.32079113e+02],\n",
       "        [-7.48007788e+00,  6.87396817e+00,  1.92328839e+02,\n",
       "          1.96531706e+02,  2.88345270e+02,  3.35348221e+02,\n",
       "          3.39443893e+02,  3.54507997e+02,  3.99865619e+02,\n",
       "          4.04205015e+02,  4.17822706e+02,  4.34515791e+02,\n",
       "          4.93731886e+02,  4.97404134e+02,  5.21720890e+02,\n",
       "          5.34196645e+02],\n",
       "        [-8.79155543e+00,  7.96690497e+00,  1.91861677e+02,\n",
       "          1.96785228e+02,  2.84057514e+02,  3.34694034e+02,\n",
       "          3.42161462e+02,  3.55602024e+02,  3.99529415e+02,\n",
       "          4.04426886e+02,  4.16622084e+02,  4.35994992e+02,\n",
       "          4.92932314e+02,  4.96610401e+02,  5.22483508e+02,\n",
       "          5.36408648e+02],\n",
       "        [-1.01209406e+01,  9.04424618e+00,  1.91375302e+02,\n",
       "          1.97025850e+02,  2.79754126e+02,  3.33076135e+02,\n",
       "          3.45703771e+02,  3.56667522e+02,  3.99209460e+02,\n",
       "          4.04599924e+02,  4.15487442e+02,  4.37462733e+02,\n",
       "          4.92142492e+02,  4.95726326e+02,  5.23468063e+02,\n",
       "          5.38703509e+02],\n",
       "        [-1.14680148e+01,  1.01057872e+01,  1.90869609e+02,\n",
       "          1.97253580e+02,  2.75437886e+02,  3.31239318e+02,\n",
       "          3.49273673e+02,  3.57749310e+02,  3.98906607e+02,\n",
       "          4.04711002e+02,  4.14437616e+02,  4.38910742e+02,\n",
       "          4.91366237e+02,  4.94803383e+02,  5.24635189e+02,\n",
       "          5.41071845e+02],\n",
       "        [-1.28325629e+01,  1.11513212e+01,  1.90344451e+02,\n",
       "          1.97468334e+02,  2.71111254e+02,  3.29296747e+02,\n",
       "          3.52629494e+02,  3.58966925e+02,  3.98622539e+02,\n",
       "          4.04742276e+02,  4.13496831e+02,  4.40329721e+02,\n",
       "          4.90605243e+02,  4.93888609e+02,  5.25951778e+02,\n",
       "          5.43506007e+02],\n",
       "        [-1.42143738e+01,  1.21806392e+01,  1.89799620e+02,\n",
       "          1.97669910e+02,  2.66776500e+02,  3.27279111e+02,\n",
       "          3.55433492e+02,  3.60616067e+02,  3.98360320e+02,\n",
       "          4.04672299e+02,  4.12693953e+02,  4.41709180e+02,\n",
       "          4.89860795e+02,  4.93023051e+02,  5.27391294e+02,\n",
       "          5.45999695e+02],\n",
       "        [-1.56132397e+01,  1.31935300e+01,  1.89234838e+02,\n",
       "          1.97857963e+02,  2.62435814e+02,  3.25199245e+02,\n",
       "          3.57315218e+02,  3.63039276e+02,  3.98125159e+02,\n",
       "          4.04481061e+02,  4.12058021e+02,  4.43037331e+02,\n",
       "          4.89136562e+02,  4.92240108e+02,  5.28932968e+02,\n",
       "          5.48547667e+02]]])"
      ]
     },
     "execution_count": 7,
     "metadata": {},
     "output_type": "execute_result"
    }
   ],
   "source": [
    "zeeman = Dy.zeeman_splitting(\"demo\", 16, [0, 1, 2, 3, 4, 5, 6, 7, 8, 9, 10, 11, 12], [[1,1,1]], slt_save = \"moja_nazwa\")\n",
    "zeeman"
   ]
  },
  {
   "cell_type": "code",
   "execution_count": 8,
   "id": "0a160000-9fec-44c8-9920-d5fe635e1b5f",
   "metadata": {},
   "outputs": [
    {
     "name": "stdout",
     "output_type": "stream",
     "text": [
      "\u001b[31mCompound\u001b[0m from File: \u001b[32m./seminarium/Dy.slt\u001b[0m with the following \u001b[34mGroups\u001b[0m/\u001b[35mDatasets\u001b[0m.\n",
      "Group: \u001b[34mdemo\u001b[0m | \u001b[33mDescription\u001b[0m: Group containing relativistic SOC MOLCAS results. | \u001b[33mKind\u001b[0m: MOLCAS | \u001b[33mPrecision\u001b[0m: double | \u001b[33mStates\u001b[0m: 2002 | \u001b[33mType\u001b[0m: Hamiltonian\n",
      "\t\u001b[35mSOC_ENERGIES\u001b[0m | \u001b[33mDescription\u001b[0m: Dataset containing SOC energies.\n",
      "\t\u001b[35mSOC_LX\u001b[0m | \u001b[33mDescription\u001b[0m: Dataset containing the Lx matrix in the SOC basis.\n",
      "\t\u001b[35mSOC_LY\u001b[0m | \u001b[33mDescription\u001b[0m: Dataset containing the Ly matrix in the SOC basis.\n",
      "\t\u001b[35mSOC_LZ\u001b[0m | \u001b[33mDescription\u001b[0m: Dataset containing the Lz matrix in the SOC basis.\n",
      "\t\u001b[35mSOC_SX\u001b[0m | \u001b[33mDescription\u001b[0m: Dataset containing the Sx matrix in the SOC basis.\n",
      "\t\u001b[35mSOC_SY\u001b[0m | \u001b[33mDescription\u001b[0m: Dataset containing the Sy matrix in the SOC basis.\n",
      "\t\u001b[35mSOC_SZ\u001b[0m | \u001b[33mDescription\u001b[0m: Dataset containing the Sz matrix in the SOC basis.\n",
      "Group: \u001b[34mmoja_nazwa\u001b[0m | \u001b[33mDescription\u001b[0m: Group containing Zeeman splitting calculated from group: demo. | \u001b[33mKind\u001b[0m: directional | \u001b[33mPrecision\u001b[0m: double | \u001b[33mType\u001b[0m: Zeeman_splitting\n",
      "\t\u001b[35mmagnetic_fields\u001b[0m | \u001b[33mDescription\u001b[0m: Dataset containing magnetic field (T) values used in the simulation.\n",
      "\t\u001b[35morientations\u001b[0m | \u001b[33mDescription\u001b[0m: Dataset containing magnetic fields' orientation grid used in the simulation.\n",
      "\t\u001b[35mzeeman_splitting\u001b[0m | \u001b[33mDescription\u001b[0m: Dataset containing Zeeman splitting in the form [orientations, fields, energies].\n"
     ]
    }
   ],
   "source": [
    "print(Dy)"
   ]
  },
  {
   "cell_type": "code",
   "execution_count": 9,
   "id": "43b60295-5ac8-4e18-9a24-8c4e6df16ebf",
   "metadata": {},
   "outputs": [],
   "source": [
    "Dy.plot_zeeman(\"moja_nazwa\")"
   ]
  },
  {
   "cell_type": "code",
   "execution_count": 10,
   "id": "93aa537e-52ca-45fa-9c93-17084f792600",
   "metadata": {},
   "outputs": [],
   "source": [
    "del Dy[\"moja_nazwa\"]"
   ]
  },
  {
   "cell_type": "code",
   "execution_count": 11,
   "id": "bc146aef-1e9e-4b0a-911f-1cf663eae843",
   "metadata": {},
   "outputs": [
    {
     "name": "stdout",
     "output_type": "stream",
     "text": [
      "\u001b[31mCompound\u001b[0m from File: \u001b[32m./seminarium/Dy.slt\u001b[0m with the following \u001b[34mGroups\u001b[0m/\u001b[35mDatasets\u001b[0m.\n",
      "Group: \u001b[34mdemo\u001b[0m | \u001b[33mDescription\u001b[0m: Group containing relativistic SOC MOLCAS results. | \u001b[33mKind\u001b[0m: MOLCAS | \u001b[33mPrecision\u001b[0m: double | \u001b[33mStates\u001b[0m: 2002 | \u001b[33mType\u001b[0m: Hamiltonian\n",
      "\t\u001b[35mSOC_ENERGIES\u001b[0m | \u001b[33mDescription\u001b[0m: Dataset containing SOC energies.\n",
      "\t\u001b[35mSOC_LX\u001b[0m | \u001b[33mDescription\u001b[0m: Dataset containing the Lx matrix in the SOC basis.\n",
      "\t\u001b[35mSOC_LY\u001b[0m | \u001b[33mDescription\u001b[0m: Dataset containing the Ly matrix in the SOC basis.\n",
      "\t\u001b[35mSOC_LZ\u001b[0m | \u001b[33mDescription\u001b[0m: Dataset containing the Lz matrix in the SOC basis.\n",
      "\t\u001b[35mSOC_SX\u001b[0m | \u001b[33mDescription\u001b[0m: Dataset containing the Sx matrix in the SOC basis.\n",
      "\t\u001b[35mSOC_SY\u001b[0m | \u001b[33mDescription\u001b[0m: Dataset containing the Sy matrix in the SOC basis.\n",
      "\t\u001b[35mSOC_SZ\u001b[0m | \u001b[33mDescription\u001b[0m: Dataset containing the Sz matrix in the SOC basis.\n"
     ]
    }
   ],
   "source": [
    "print(Dy)"
   ]
  },
  {
   "cell_type": "code",
   "execution_count": 13,
   "id": "677f3a9e-b85b-4b5e-aa59-48d7b9eede86",
   "metadata": {},
   "outputs": [],
   "source": [
    "g_tensor, axes = Dy.calculate_g_tensor_and_axes_doublet(\"demo\", [0,1,2,3,4,5,6,7])"
   ]
  },
  {
   "cell_type": "code",
   "execution_count": 14,
   "id": "49bffb34-110b-4f6c-b9e2-12040bc83f86",
   "metadata": {},
   "outputs": [
    {
     "data": {
      "text/plain": [
       "array([[0.00000000e+00, 0.00000000e+00, 1.24623851e-02, 1.88860285e+01],\n",
       "       [1.00000000e+00, 9.41979498e-02, 1.96721487e-01, 1.67497819e+01],\n",
       "       [2.00000000e+00, 6.47355912e-01, 8.94074962e-01, 1.80190286e+01],\n",
       "       [3.00000000e+00, 5.76866353e-01, 5.10060583e+00, 8.47383487e+00],\n",
       "       [4.00000000e+00, 1.53357575e+00, 3.34715345e+00, 1.05073187e+01],\n",
       "       [5.00000000e+00, 2.57385739e-01, 2.04641906e+00, 9.43761597e+00],\n",
       "       [6.00000000e+00, 1.88646020e+00, 5.50463821e+00, 8.06474844e+00],\n",
       "       [7.00000000e+00, 0.00000000e+00, 7.40836968e+00, 1.13829807e+01]])"
      ]
     },
     "execution_count": 14,
     "metadata": {},
     "output_type": "execute_result"
    }
   ],
   "source": [
    "g_tensor"
   ]
  },
  {
   "cell_type": "code",
   "execution_count": 15,
   "id": "fc4912f2-2f0d-420d-9503-281366045756",
   "metadata": {},
   "outputs": [
    {
     "data": {
      "text/plain": [
       "array([[[ 0.51093014, -0.00315344, -0.85961645],\n",
       "        [-0.05803205,  0.99758544, -0.03815207],\n",
       "        [ 0.85766116,  0.06937834,  0.50951347]],\n",
       "\n",
       "       [[ 0.09525581,  0.61606871, -0.78191155],\n",
       "        [-0.98660083,  0.16294679,  0.00819396],\n",
       "        [ 0.13245802,  0.77065407,  0.62333553]],\n",
       "\n",
       "       [[ 0.87031012,  0.34326201, -0.35317345],\n",
       "        [ 0.0774113 , -0.80352608, -0.59021464],\n",
       "        [-0.48638234,  0.48633016, -0.72588924]],\n",
       "\n",
       "       [[ 0.10590738,  0.88854648, -0.44639531],\n",
       "        [-0.79264608,  0.3464989 ,  0.50164798],\n",
       "        [ 0.60041303,  0.30070527,  0.74099968]],\n",
       "\n",
       "       [[-0.76593357, -0.39677052, -0.5058843 ],\n",
       "        [-0.56406204,  0.03712843,  0.82489727],\n",
       "        [-0.30851222,  0.91716664, -0.2522411 ]],\n",
       "\n",
       "       [[ 0.56424625,  0.8228487 ,  0.06742535],\n",
       "        [-0.79254965,  0.56272277, -0.23496412],\n",
       "        [-0.2312817 ,  0.07913969,  0.96966267]],\n",
       "\n",
       "       [[-0.55137699,  0.83114545, -0.07197675],\n",
       "        [-0.66279989, -0.4888195 , -0.5672317 ],\n",
       "        [-0.50663569, -0.26505233,  0.82040694]],\n",
       "\n",
       "       [[-0.0898229 ,  0.75183562, -0.65320368],\n",
       "        [ 0.3980625 ,  0.62829359,  0.66842607],\n",
       "        [ 0.91295021, -0.19997592, -0.35571272]]])"
      ]
     },
     "execution_count": 15,
     "metadata": {},
     "output_type": "execute_result"
    }
   ],
   "source": [
    "axes"
   ]
  },
  {
   "cell_type": "code",
   "execution_count": 16,
   "id": "59448b1e-593c-42a6-b5ee-a8a217f8f643",
   "metadata": {},
   "outputs": [],
   "source": [
    "zeeman = Dy.zeeman_splitting(\"demo\", 16, [0, 1, 2, 3, 4, 5, 6, 7, 8, 9, 10, 11, 12], [axes[0,:,0], axes[0,:,1], axes[0,:,2]], slt_save = \"moja_nazwa\")\n",
    "Dy.plot_zeeman(\"moja_nazwa\")"
   ]
  },
  {
   "cell_type": "code",
   "execution_count": 17,
   "id": "865f43d8-90ab-4f82-8e8f-6876ce414b22",
   "metadata": {},
   "outputs": [],
   "source": [
    "# Skrypt z pliku"
   ]
  },
  {
   "cell_type": "code",
   "execution_count": null,
   "id": "ff81e3c0-de86-47b8-9c01-f81d63b17740",
   "metadata": {},
   "outputs": [],
   "source": [
    "# Stara wersja"
   ]
  },
  {
   "cell_type": "code",
   "execution_count": null,
   "id": "6faba362-781c-46f7-8d3e-aedcffdbfecc",
   "metadata": {},
   "outputs": [],
   "source": [
    "import slothpy as slt\n",
    "Dy = slt.compound_from_molcas(\"./seminarium\", \"seminarium\", \"demo\", \"./seminarium\", \"DyIrCN_Cl_bas2\")"
   ]
  },
  {
   "cell_type": "code",
   "execution_count": 18,
   "id": "d7cd5946-cdea-4e87-ab06-5634d0e6ecfd",
   "metadata": {},
   "outputs": [
    {
     "name": "stdout",
     "output_type": "stream",
     "text": [
      "\u001b[33mSlothPy message: \u001b[0mTable was saved as super_tabelka in ./seminarium as docx file.\n"
     ]
    }
   ],
   "source": [
    "g_tensor, axes = Dy.calculate_g_tensor_and_axes_doublet(\"demo\", [i for i in range(8)], slt=\"demo\")\n",
    "decomposition = Dy.matrix_decomposition_in_z_pseudo_spin_basis(\"demo\", \"soc\", \"magnetic\", 0, 15, axes[0].T, slt=\"demo\")\n",
    "energies = Dy.soc_energies_cm_1(\"demo\", 16, slt=\"demo\")\n",
    "slt.exporting.table_energy_and_g(Dy, \"demo\", 7, krames=True, decomp=\"magnetic\", i_last_composition=3, output_path=\"./seminarium\", output_name=\"super_tabelka\")"
   ]
  },
  {
   "cell_type": "markdown",
   "id": "8990bce5-72f2-409a-9383-4496569ff224",
   "metadata": {},
   "source": [
    "# Magnetyzacja mikroskopowo\n",
    "$$\\Large \\vec M\\left(\\vec{B},T\\right)=\\frac{\\sum_{i=1}^{n}{\\vec \\mu_i\\left(\\vec{B}\\right)e^{-\\frac{E_i\\left(\\vec{B}\\right)}{k_BT}}}}{\\sum_{i=1}^{n}e^{-\\frac{E_i\\left(\\vec{B}\\right)}{k_BT}}}=\\frac{\\sum_{i=1}^{n}{\\vec \\mu_i\\left(\\vec{B}\\right)e^{-\\frac{E_i\\left(\\vec{B}\\right)}{k_BT}}}}{Z}$$\n",
    "\n",
    "<div style=\"border:2px solid white; padding:10px;\">\n",
    "    \n",
    "$$\\Large H_{total}=H_{\\text{ab initio}}+\\mu_B\\left(g_e\\vec{S}+\\vec{L}\\right)\\cdot\\vec{B}$$\n",
    "\n",
    "$$\\Large H_{total} \\Psi = E(\\vec B) \\Psi$$\n",
    "\n",
    "$$\\Large (U^{\\dagger} H_{total} U = H_{diag})$$\n",
    "\n",
    "</div>\n",
    "\n",
    "<div style=\"text-align: center; font-size: 22px;\">Transformujemy momenty do nowej bazy:</div>\n",
    "\n",
    "$$\\Large \\mu\\left(\\vec{B}\\right)=U^\\dagger\\vec\\mu\\left(\\vec{B} = 0\\right) U=U^\\dagger\\left(\\mu_B\\left(g_e\\vec{S}+\\vec{L}\\right)\\right)U$$\n",
    "\n",
    "<div style=\"text-align: center; font-size: 22px;\">Magnetyzacja proszkowa:</div>\n",
    "\n",
    "$$\\Large M({B}, T) = \\frac{1}{2\\pi} \\int_{0}^{\\pi} \\sin\\theta d\\theta \\int_{0}^{2\\pi} d\\phi \\, M(\\vec{B}\\cdot \\hat{n}, T) \\cdot \\hat{n}$$"
   ]
  },
  {
   "cell_type": "code",
   "execution_count": 4,
   "id": "966c9300-febf-464c-a47e-5919b5420537",
   "metadata": {},
   "outputs": [
    {
     "ename": "KeyboardInterrupt",
     "evalue": "",
     "output_type": "error",
     "traceback": [
      "Traceback \u001b[0;36m(most recent call last)\u001b[0m:\n",
      "\u001b[0m  Cell \u001b[1;32mIn[4], line 2\u001b[0m\n    magnetisation = Dy.calculate_magnetisation(\"demo\", linspace(0.01,8,64), 4, [2,4,6,8,10,20,30,50], states_cutoff=850, number_cpu =128, autotune=True)\u001b[0m\n",
      "\u001b[0m  File \u001b[1;32m~/Sloth/Sloth/slothpy/core/compound_object.py:696\u001b[0m in \u001b[1;35mcalculate_magnetisation\u001b[0m\n    number_threads = _auto_tune(\u001b[0m\n",
      "\u001b[0m  File \u001b[1;32m~/Sloth/Sloth/slothpy/_general_utilities/_auto_tune.py:640\u001b[0m in \u001b[1;35m_auto_tune\u001b[0m\n    setup_time, exec_time = _benchmark(\u001b[0m\n",
      "\u001b[0m  File \u001b[1;32m~/Sloth/Sloth/slothpy/_general_utilities/_auto_tune.py:534\u001b[0m in \u001b[1;35m_benchmark\u001b[0m\n    timings = p.map(\u001b[0m\n",
      "\u001b[0m  File \u001b[1;32m/usr/lib/python3.11/multiprocessing/pool.py:367\u001b[0m in \u001b[1;35mmap\u001b[0m\n    return self._map_async(func, iterable, mapstar, chunksize).get()\u001b[0m\n",
      "\u001b[0m  File \u001b[1;32m/usr/lib/python3.11/multiprocessing/pool.py:768\u001b[0m in \u001b[1;35mget\u001b[0m\n    self.wait(timeout)\u001b[0m\n",
      "\u001b[0m  File \u001b[1;32m/usr/lib/python3.11/multiprocessing/pool.py:765\u001b[0m in \u001b[1;35mwait\u001b[0m\n    self._event.wait(timeout)\u001b[0m\n",
      "\u001b[0m  File \u001b[1;32m/usr/lib/python3.11/threading.py:622\u001b[0m in \u001b[1;35mwait\u001b[0m\n    signaled = self._cond.wait(timeout)\u001b[0m\n",
      "\u001b[0;36m  File \u001b[0;32m/usr/lib/python3.11/threading.py:320\u001b[0;36m in \u001b[0;35mwait\u001b[0;36m\n\u001b[0;31m    waiter.acquire()\u001b[0;36m\n",
      "\u001b[0;31mKeyboardInterrupt\u001b[0m\n"
     ]
    }
   ],
   "source": [
    "from numpy import linspace\n",
    "magnetisation = Dy.calculate_magnetisation(\"demo\", linspace(0.01,8,64), 4, [2,4,6,8,10,20,30,50], states_cutoff=850, number_cpu =128, autotune=True)"
   ]
  },
  {
   "cell_type": "code",
   "execution_count": null,
   "id": "841ef358-0e26-441c-8c49-4e4bdd76ea12",
   "metadata": {},
   "outputs": [],
   "source": [
    "from numpy import linspace\n",
    "magnetisation = Dy.calculate_magnetisation(\"demo\", linspace(0.01,8,64), 4, [2,4,6,8,10,20,30,50], 128, slt=\"demo\")"
   ]
  }
 ],
 "metadata": {
  "kernelspec": {
   "display_name": "Python 3 (ipykernel)",
   "language": "python",
   "name": "python3"
  },
  "language_info": {
   "codemirror_mode": {
    "name": "ipython",
    "version": 3
   },
   "file_extension": ".py",
   "mimetype": "text/x-python",
   "name": "python",
   "nbconvert_exporter": "python",
   "pygments_lexer": "ipython3",
   "version": "3.11.3"
  }
 },
 "nbformat": 4,
 "nbformat_minor": 5
}
