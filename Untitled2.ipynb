{
 "cells": [
  {
   "cell_type": "code",
   "execution_count": 25,
   "id": "ecb29f07-3282-4506-89b4-de387f091053",
   "metadata": {},
   "outputs": [
    {
     "name": "stdout",
     "output_type": "stream",
     "text": [
      "\u001b[31mSltFile\u001b[0m from File: \u001b[32m./seminarium/Dy.slt\u001b[0m with the following \u001b[34mGroups\u001b[0m/\u001b[35mDatasets\u001b[0m.\n",
      "Group: \u001b[34mdemo\u001b[0m | \u001b[33mAdditional\u001b[0m: ELECTRIC_DIPOLE_MOMENTA | \u001b[33mDescription\u001b[0m: Relativistic SOC MOLCAS results. | \u001b[33mKind\u001b[0m: MOLCAS | \u001b[33mPrecision\u001b[0m: DOUBLE | \u001b[33mStates\u001b[0m: 14 | \u001b[33mType\u001b[0m: HAMILTONIAN\n",
      "\t\u001b[35mANGULAR_MOMENTA\u001b[0m | \u001b[33mDescription\u001b[0m: Lx, Ly, and, Lz angular momentum matrices in the SOC basis [(x-0, y-1, z-2), :, :].\n",
      "\t\u001b[35mELECTRIC_DIPOLE_MOMENTA\u001b[0m | \u001b[33mDescription\u001b[0m: Px, Py, and Pz electric dipole momentum matrices in the SOC basis [(x-0, y-1, z-2), :, :].\n",
      "\t\u001b[35mSPINS\u001b[0m | \u001b[33mDescription\u001b[0m: Sx, Sy, and Sz spin matrices in the SOC basis [(x-0, y-1, z-2), :, :].\n",
      "\t\u001b[35mSTATES_ENERGIES\u001b[0m | \u001b[33mDescription\u001b[0m: SOC energies.\n"
     ]
    }
   ],
   "source": [
    "import slothpy as slt\n",
    "import os\n",
    "os.remove(\"./seminarium/Dy.slt\")\n",
    "Dy = slt.hamiltonian_from_molcas(\"./seminarium\", \"CeCo_DG_bas3_dipmom\", \"./seminarium\", \"Dy\", \"demo\", edipmom=True)\n",
    "Dy[\"elo\"][\"1\"] = [1,2,3]\n",
    "del Dy[\"elo\"]\n",
    "print(Dy)"
   ]
  },
  {
   "cell_type": "code",
   "execution_count": null,
   "id": "91c27b85-34f5-49d6-b1cb-be4083f83770",
   "metadata": {},
   "outputs": [
    {
     "name": "stderr",
     "output_type": "stream",
     "text": [
      "/home/mikolaj/VIRTUAL/ENV1/lib/python3.11/site-packages/distributed/node.py:182: UserWarning: Port 8787 is already in use.\n",
      "Perhaps you already have a cluster running?\n",
      "Hosting the HTTP server on port 39015 instead\n",
      "  warnings.warn(\n"
     ]
    }
   ],
   "source": [
    "import dask.array as da\n",
    "from dask.distributed import Client\n",
    "\n",
    "\n",
    "def heavy_computation(x):\n",
    "    # Simulate heavy computation\n",
    "    return x * x - x + 1\n",
    "\n",
    "# Generate large random Dask arrays\n",
    "array_size = 1000000  # Adjust this size based on your system's capability\n",
    "dask_arrays = [da.random.random((array_size, array_size), chunks=(1000, 1000)) for _ in range(10)]\n",
    "\n",
    "# Perform computation on these arrays\n",
    "results = [da.apply_gufunc(heavy_computation, \"()->()\", x).compute() for x in dask_arrays]\n",
    "\n",
    "# Remember to close the client when done\n",
    "client.close()\n"
   ]
  },
  {
   "cell_type": "code",
   "execution_count": 1,
   "id": "2823e82d-4f31-466f-b7be-0a985f311287",
   "metadata": {},
   "outputs": [],
   "source": [
    "import numpy as np"
   ]
  },
  {
   "cell_type": "code",
   "execution_count": 6,
   "id": "9efa9170-cbd1-4937-b79d-560fff7014de",
   "metadata": {},
   "outputs": [
    {
     "data": {
      "text/plain": [
       "array([[6., 6., 6., 6., 6., 6., 6., 6., 6., 6.],\n",
       "       [6., 6., 6., 6., 6., 6., 6., 6., 6., 6.],\n",
       "       [6., 6., 6., 6., 6., 6., 6., 6., 6., 6.],\n",
       "       [6., 6., 6., 6., 6., 6., 6., 6., 6., 6.],\n",
       "       [6., 6., 6., 6., 6., 6., 6., 6., 6., 6.],\n",
       "       [6., 6., 6., 6., 6., 6., 6., 6., 6., 6.],\n",
       "       [6., 6., 6., 6., 6., 6., 6., 6., 6., 6.],\n",
       "       [6., 6., 6., 6., 6., 6., 6., 6., 6., 6.],\n",
       "       [6., 6., 6., 6., 6., 6., 6., 6., 6., 6.],\n",
       "       [6., 6., 6., 6., 6., 6., 6., 6., 6., 6.]])"
      ]
     },
     "execution_count": 6,
     "metadata": {},
     "output_type": "execute_result"
    }
   ],
   "source": [
    "a = np.ones((10,10, 3))\n",
    "b = np.array([1,2,3])\n",
    "np.dot(a,b)"
   ]
  },
  {
   "cell_type": "markdown",
   "id": "38b59678-427d-4abd-9507-e6ba697e53c3",
   "metadata": {},
   "source": [
    "a = np.ones((3,10,10))"
   ]
  }
 ],
 "metadata": {
  "kernelspec": {
   "display_name": "Python 3 (ipykernel)",
   "language": "python",
   "name": "python3"
  },
  "language_info": {
   "codemirror_mode": {
    "name": "ipython",
    "version": 3
   },
   "file_extension": ".py",
   "mimetype": "text/x-python",
   "name": "python",
   "nbconvert_exporter": "python",
   "pygments_lexer": "ipython3",
   "version": "3.12.4"
  }
 },
 "nbformat": 4,
 "nbformat_minor": 5
}
