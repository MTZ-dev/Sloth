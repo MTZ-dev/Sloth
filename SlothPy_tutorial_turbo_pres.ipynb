{
 "cells": [
  {
   "cell_type": "markdown",
   "id": "7e774ec7",
   "metadata": {},
   "source": [
    "Copyright (c) 2023, Mikołaj Tadeusz Żychowicz (MTZ). All rights reserved.\n",
    "\n",
    "SlothPy is released under the GNU General Public License v3 (GPLv3). For details, see the [LICENSE](https://github.com/MTZ-dev/slothpy/blob/main/LICENSE.txt) file.\n",
    "\n",
    "# SlothPy Tutorial\n",
    "<img src=\"https://raw.githubusercontent.com/MTZ-dev/slothpy/main/doc/source/_static/slothpy_3.png\" width=\"300\">"
   ]
  },
  {
   "cell_type": "markdown",
   "id": "6d1597c3",
   "metadata": {},
   "source": [
    "I designed SlothPy to be used in interactive Jupyter notebooks and stand-alone scripts, which users can create and adjust to their needs, seemingly integrating into custom data pipelines. Remember, especially while working on Windows, to include into your programs `if __name__ == \"__main__\"` block for executing instructions after importing modules. You can follow the notebook or copy its contents to .py files and execute them as you prefer."
   ]
  },
  {
   "cell_type": "markdown",
   "id": "6ac36f18",
   "metadata": {},
   "source": [
    "# HDF5 Integration in SlothPy\n",
    "\n",
    "SlothPy extensively utilizes the HDF5 file format—a versatile and portable binary format optimized for fast I/O operations and handling large datasets. The primary file extension used by SlothPy, `.slt`, is essentially an HDF5 file. This means it can be opened and manipulated with standard HDF5 tools like HDFView and HDFCompass or accessed programmatically via the `h5py` Python interface. Now, let's begin by importing SlothPy along with other essential packages for this tutorial."
   ]
  },
  {
   "cell_type": "code",
   "execution_count": 1,
   "id": "41eba57d",
   "metadata": {},
   "outputs": [
    {
     "name": "stdout",
     "output_type": "stream",
     "text": [
      "\u001b[34m                  ____  _       _   _     \u001b[33m____\n",
      "\u001b[34m                 / ___|| | ___ | |_| |__ \u001b[33m|  _ \\ _   _\n",
      "\u001b[34m                 \\___ \\| |/ _ \\| __| '_ \\\u001b[33m| |_) | | | |\n",
      "\u001b[34m                  ___) | | (_) | |_| | | \u001b[33m|  __/| |_| |\n",
      "\u001b[34m                 |____/|_|\\___/ \\__|_| |_\u001b[33m|_|    \\__, |\n",
      "                                                |___/\u001b[32m  by MTZ \n",
      "\u001b[0m\n",
      "SlothPy Copyright (C) 2023 Mikolaj Tadeusz Zychowicz (MTZ).\n",
      "This program comes with ABSOLUTELY NO WARRANTY.\n",
      "This is free software, and you are welcome to redistribute it.\n",
      "The default is chosen to omit the tracebacks completely. To change it use slt.set_default_error_reporting_mode method for the printing of tracebacks.\n",
      "Exception reporting mode: Plain\n"
     ]
    }
   ],
   "source": [
    "import slothpy as slt\n",
    "import numpy as np\n",
    "import pandas as pd\n",
    "import matplotlib.pyplot as plt\n",
    "# Make sure you have access to the libraries on your machine."
   ]
  },
  {
   "cell_type": "markdown",
   "id": "8f0f7a70",
   "metadata": {},
   "source": [
    "\n",
    "# Creating a Compound Object in SlothPy\n",
    "\n",
    "To start using SlothPy, it's essential to create an instance of the `Compound` class, which is a core element of SlothPy. The `Compound` instance is directly linked to a `.slt` file on your disk and provides access to all the methods serving as a user interface/API. You can create a `Compound` object from the output of quantum chemistry software, work with an existing `.slt` file, or append new data to it. Those operations are handled by the Compound creation methods (see [documentation](https://slothpy.org/creation_methods)). In this tutorial, we'll utilize a `.rassi.h5` file from a MOLCAS calculation, available for download [here](https://drive.google.com/file/d/1obU_bK9sc2hdy3vFXjLxtTUX7CBzl-wf/view) or on the [website](https://slothpy.org/how_to_start) (you can try to use your file if you already have access to one). To create a `Compound` from this file, we use the [`slt.compound_from_molcas()`](https://slothpy.org/creation_methods#slothpy.compound_from_molcas) method. It's important to always refer to the [documentation](https://slothpy.org/reference_manual) for details on the methods we use. In Jupyter Notebooks, a quick way to access method docstring is to press `Shift` + `Tab` in parenthesis after typing the method name. You need to provide appropriate paths and names for the files. (you can click the underscored links)"
   ]
  },
  {
   "cell_type": "code",
   "execution_count": 2,
   "id": "29267b96",
   "metadata": {},
   "outputs": [],
   "source": [
    "NdCo = slt.compound_from_molcas(\".\", \"Nd_tutorial\", \"bas3\", \".\", \"YbCN_DPPMO2_small_bas2\")\n",
    "# Provide paths to the locations of your .rassi.h5 file and where you want to store the resulting .slt file\n",
    "# replacing \".\". You can also adjust the names."
   ]
  },
  {
   "cell_type": "markdown",
   "id": "58098321",
   "metadata": {},
   "source": [
    "We named the instance `NdCo`, and now it's directly linked to the new file `Nd_tutorial.slt`. After the creation, you can check what is inside your file using the print() method or directly in Notebook like this:"
   ]
  },
  {
   "cell_type": "code",
   "execution_count": 3,
   "id": "becceb4b",
   "metadata": {
    "scrolled": true
   },
   "outputs": [
    {
     "data": {
      "text/plain": [
       "\u001b[31mCompound \u001b[0mfrom \u001b[32mFile \u001b[0m\"./Nd_tutorial.slt\" with the following \u001b[34mGroups \u001b[0mof data:\n",
       "\u001b[34mbas3\u001b[0m: {'Description': 'Group(bas3) containing results of relativistic SOC MOLCAS calculations - angular momenta, spin in SOC basis and SOC energies'}\n",
       "and \u001b[35mDatasets\u001b[0m:\n",
       "\u001b[35mbas3/SOC_LX\n",
       "\u001b[0m\u001b[35mbas3/SOC_LY\n",
       "\u001b[0m\u001b[35mbas3/SOC_LZ\n",
       "\u001b[0m\u001b[35mbas3/SOC_SX\n",
       "\u001b[0m\u001b[35mbas3/SOC_SY\n",
       "\u001b[0m\u001b[35mbas3/SOC_SZ\n",
       "\u001b[0m\u001b[35mbas3/SOC_energies\n",
       "\u001b[0m"
      ]
     },
     "execution_count": 3,
     "metadata": {},
     "output_type": "execute_result"
    }
   ],
   "source": [
    "NdCo"
   ]
  },
  {
   "cell_type": "markdown",
   "id": "7cddbc2b",
   "metadata": {},
   "source": [
    "You should see the list of HDF5 groups (with `bas3` among them) and data sets contained in the file, together with their description attributes. This is the way that SlothPy will save all your future results. Having already .slt file on your disk, you can add to it more ab initio results (just use the path and name of an existing file) or access it at a later point using the [`slt.compound_from_slt() method`](https://slothpy.org/creation_methods#slothpy.compound_from_slt). You can also create many instances and files for different compounds or store them all in one file - the decision is up to you. More advanced use cases in actual workflows are demonstrated in Tutorial 2. (If you are interested in adding a new file format for loading energies, spin, and angular momenta data from your favorite quantum-chemistry package, please get in touch with me directly: mikolaj.zychowicz@uj.edu.pl or create an [issue](https://github.com/MTZ-dev/slothpy/issues).)"
   ]
  },
  {
   "cell_type": "code",
   "execution_count": 3,
   "id": "a403f2aa",
   "metadata": {},
   "outputs": [],
   "source": [
    "NdCo = slt.compound_from_slt(\".\", \"Nd_tutorial\")\n",
    "# If you have created \"Nd_tutorial.slt\" on your disk, only use this line."
   ]
  },
  {
   "cell_type": "markdown",
   "id": "17cd087b",
   "metadata": {},
   "source": [
    "## Utilizing SlothPy's  Methods\n",
    "\n",
    "All available methods are accessed through an instance of the Compound class that constitutes the user interface and API documented in the [Reference Manual](https://slothpy.org/reference_manual). Let us start by computing molar powder-averaged magnetisation as a function of temperature and magnetic field strength `M(T,H)` for our Nd-based compound. We must create one-dimensional lists or arrays of temperature and field values at which the magnetization will be computed. It's convenient to use the numpy linspace method here for fields between 0 and 7 T (50 points) and temperatures from 1 to 10 K with 1 K step."
   ]
  },
  {
   "cell_type": "code",
   "execution_count": 5,
   "id": "36cf472d",
   "metadata": {},
   "outputs": [],
   "source": [
    "fields_mth = np.linspace(0.0001, 7, 50)\n",
    "temperatures_mth = np.linspace(1, 10, 10)"
   ]
  },
  {
   "cell_type": "markdown",
   "id": "d11c1c64",
   "metadata": {},
   "source": [
    "After that, we should reference the NdCo object. Use `NdCo. + Tab` here in the notebook or autocompletion in our IDE to see the list of all available functions. The method for computing magnetisation as a function of field and temperature is called [`calculate_magnetisation()`](https://slothpy.org/compound#slothpy.Compound.calculate_magnetisation). We need to provide the name of a group from which magnetisation will be calculated along with fields, option for integration grid, temperatures and states cutoff for Zeeman Hamiltonian diagonalization."
   ]
  },
  {
   "cell_type": "code",
   "execution_count": 6,
   "id": "e04dd880",
   "metadata": {},
   "outputs": [
    {
     "name": "stdout",
     "output_type": "stream",
     "text": [
      "CPU times: user 2.86 s, sys: 12.6 s, total: 15.4 s\n",
      "Wall time: 1.79 s\n"
     ]
    }
   ],
   "source": [
    "%%time\n",
    "mth = NdCo.calculate_magnetisation(\"bas3\", fields_mth, 4, temperatures_mth, 14)"
   ]
  },
  {
   "cell_type": "markdown",
   "id": "d027cb60",
   "metadata": {},
   "source": [
    "Here, we calculate powder-averaged (using Lebedev-Laikov integration grid on the hemisphere) magnetisation for the Nd-based compound in the magnetic field range from 1 Oe to 7 T (50 points) and for ten temperature values from 1 K to 10 K. We include in the Zeeman Hamiltonian only 10 Spin-Orbit states from the ground multiplet $ ^{4}I_{9/2} $ of Nd(III). The calculation should finish immediately due to the very low amount of SO states included.\n",
    "\n",
    "The result is a numpy NdArray (10, 50) with the structure [temperatures, fields] returned from the function call to the mth variable. It is ready for you to process it using Python as you want. Remember to always check the output format of methods in the [Reference Manual](https://slothpy.org/reference_manual) (or using your editor/IDE) - `Returns` section of each function in the documentation."
   ]
  },
  {
   "cell_type": "code",
   "execution_count": 7,
   "id": "e7a6cdfc",
   "metadata": {},
   "outputs": [
    {
     "data": {
      "text/plain": [
       "array([[2.17035816e-04, 3.05824554e-01, 5.86901318e-01, 8.27471043e-01,\n",
       "        1.02263216e+00, 1.17558472e+00, 1.29325128e+00, 1.38315436e+00,\n",
       "        1.45192237e+00, 1.50485691e+00, 1.54599591e+00, 1.57834135e+00,\n",
       "        1.60410213e+00, 1.62489991e+00, 1.64192828e+00, 1.65607042e+00,\n",
       "        1.66798435e+00, 1.67816410e+00, 1.68698354e+00, 1.69472791e+00,\n",
       "        1.70161650e+00, 1.70781919e+00, 1.71346853e+00, 1.71866864e+00,\n",
       "        1.72350185e+00, 1.72803364e+00, 1.73231641e+00, 1.73639231e+00,\n",
       "        1.74029543e+00, 1.74405347e+00, 1.74768905e+00, 1.75122073e+00,\n",
       "        1.75466379e+00, 1.75803088e+00, 1.76133251e+00, 1.76457743e+00,\n",
       "        1.76777299e+00, 1.77092535e+00, 1.77403971e+00, 1.77712047e+00,\n",
       "        1.78017137e+00, 1.78319559e+00, 1.78619586e+00, 1.78917451e+00,\n",
       "        1.79213355e+00, 1.79507471e+00, 1.79799950e+00, 1.80090922e+00,\n",
       "        1.80380500e+00, 1.80668784e+00],\n",
       "       [1.09600885e-04, 1.56115906e-01, 3.08813432e-01, 4.55229132e-01,\n",
       "        5.92981515e-01, 7.20417869e-01, 8.36625697e-01, 9.41346939e-01,\n",
       "        1.03483803e+00, 1.11771579e+00, 1.19081689e+00, 1.25508451e+00,\n",
       "        1.31148571e+00, 1.36095642e+00, 1.40436859e+00, 1.44251340e+00,\n",
       "        1.47609555e+00, 1.50573445e+00, 1.53196946e+00, 1.55526712e+00,\n",
       "        1.57602923e+00, 1.59460080e+00, 1.61127758e+00, 1.62631295e+00,\n",
       "        1.63992393e+00, 1.65229653e+00, 1.66359033e+00, 1.67394241e+00,\n",
       "        1.68347067e+00, 1.69227674e+00, 1.70044835e+00, 1.70806136e+00,\n",
       "        1.71518154e+00, 1.72186599e+00, 1.72816441e+00, 1.73412011e+00,\n",
       "        1.73977095e+00, 1.74515006e+00, 1.75028649e+00, 1.75520577e+00,\n",
       "        1.75993039e+00, 1.76448017e+00, 1.76887262e+00, 1.77312326e+00,\n",
       "        1.77724581e+00, 1.78125250e+00, 1.78515416e+00, 1.78896047e+00,\n",
       "        1.79268007e+00, 1.79632064e+00],\n",
       "       [7.37892417e-05, 1.05317560e-01, 2.09565744e-01, 3.11869395e-01,\n",
       "        4.11366566e-01, 5.07314590e-01, 5.99111168e-01, 6.86303673e-01,\n",
       "        7.68587626e-01, 8.45796461e-01, 9.17885225e-01, 9.84910887e-01,\n",
       "        1.04701158e+00, 1.10438652e+00, 1.15727787e+00, 1.20595502e+00,\n",
       "        1.25070178e+00, 1.29180614e+00, 1.32955259e+00, 1.36421651e+00,\n",
       "        1.39606032e+00, 1.42533108e+00, 1.45225916e+00, 1.47705769e+00,\n",
       "        1.49992268e+00, 1.52103352e+00, 1.54055372e+00, 1.55863190e+00,\n",
       "        1.57540281e+00, 1.59098840e+00, 1.60549887e+00, 1.61903377e+00,\n",
       "        1.63168287e+00, 1.64352720e+00, 1.65463981e+00, 1.66508659e+00,\n",
       "        1.67492698e+00, 1.68421464e+00, 1.69299799e+00, 1.70132080e+00,\n",
       "        1.70922261e+00, 1.71673919e+00, 1.72390295e+00, 1.73074320e+00,\n",
       "        1.73728656e+00, 1.74355717e+00, 1.74957694e+00, 1.75536582e+00,\n",
       "        1.76094193e+00, 1.76632178e+00],\n",
       "       [5.58834198e-05, 7.98170890e-02, 1.59155624e-01, 2.37660203e-01,\n",
       "        3.14941043e-01, 3.90639003e-01, 4.64432990e-01, 5.36045339e-01,\n",
       "        6.05245051e-01, 6.71848959e-01, 7.35721026e-01, 7.96770079e-01,\n",
       "        8.54946338e-01, 9.10237113e-01, 9.62662017e-01, 1.01226800e+00,\n",
       "        1.05912443e+00, 1.10331849e+00, 1.14495089e+00, 1.18413203e+00,\n",
       "        1.22097878e+00, 1.25561158e+00, 1.28815216e+00, 1.31872162e+00,\n",
       "        1.34743894e+00, 1.37441983e+00, 1.39977585e+00, 1.42361386e+00,\n",
       "        1.44603554e+00, 1.46713723e+00, 1.48700980e+00, 1.50573866e+00,\n",
       "        1.52340386e+00, 1.54008024e+00, 1.55583759e+00, 1.57074095e+00,\n",
       "        1.58485074e+00, 1.59822312e+00, 1.61091019e+00, 1.62296024e+00,\n",
       "        1.63441802e+00, 1.64532498e+00, 1.65571950e+00, 1.66563708e+00,\n",
       "        1.67511060e+00, 1.68417049e+00, 1.69284489e+00, 1.70115988e+00,\n",
       "        1.70913958e+00, 1.71680633e+00],\n",
       "       [4.51399267e-05, 6.44932540e-02, 1.28724119e-01, 1.92524307e-01,\n",
       "        2.55687575e-01, 3.18018115e-01, 3.79333401e-01, 4.39466571e-01,\n",
       "        4.98268255e-01, 5.55607857e-01, 6.11374260e-01, 6.65476015e-01,\n",
       "        7.17841043e-01, 7.68415925e-01, 8.17164867e-01, 8.64068390e-01,\n",
       "        9.09121859e-01, 9.52333885e-01, 9.93724698e-01, 1.03332452e+00,\n",
       "        1.07117197e+00, 1.10731261e+00, 1.14179752e+00, 1.17468207e+00,\n",
       "        1.20602473e+00, 1.23588613e+00, 1.26432817e+00, 1.29141322e+00,\n",
       "        1.31720357e+00, 1.34176082e+00, 1.36514552e+00, 1.38741677e+00,\n",
       "        1.40863197e+00, 1.42884662e+00, 1.44811416e+00, 1.46648590e+00,\n",
       "        1.48401089e+00, 1.50073598e+00, 1.51670576e+00, 1.53196259e+00,\n",
       "        1.54654668e+00, 1.56049608e+00, 1.57384682e+00, 1.58663291e+00,\n",
       "        1.59888647e+00, 1.61063779e+00, 1.62191541e+00, 1.63274621e+00,\n",
       "        1.64315550e+00, 1.65316710e+00],\n",
       "       [3.79775979e-05, 5.42696235e-02, 1.08375156e-01, 1.62230031e-01,\n",
       "        2.15712631e-01, 2.68705622e-01, 3.21097204e-01, 3.72782218e-01,\n",
       "        4.23663083e-01, 4.73650559e-01, 5.22664312e-01, 5.70633295e-01,\n",
       "        6.17495944e-01, 6.63200199e-01, 7.07703366e-01, 7.50971845e-01,\n",
       "        7.92980737e-01, 8.33713360e-01, 8.73160685e-01, 9.11320730e-01,\n",
       "        9.48197909e-01, 9.83802382e-01, 1.01814939e+00, 1.05125860e+00,\n",
       "        1.08315352e+00, 1.11386085e+00, 1.14340998e+00, 1.17183245e+00,\n",
       "        1.19916147e+00, 1.22543154e+00, 1.25067800e+00, 1.27493678e+00,\n",
       "        1.29824400e+00, 1.32063580e+00, 1.34214807e+00, 1.36281627e+00,\n",
       "        1.38267528e+00, 1.40175926e+00, 1.42010155e+00, 1.43773458e+00,\n",
       "        1.45468982e+00, 1.47099769e+00, 1.48668760e+00, 1.50178785e+00,\n",
       "        1.51632567e+00, 1.53032722e+00, 1.54381756e+00, 1.55682070e+00,\n",
       "        1.56935961e+00, 1.58145623e+00],\n",
       "       [3.28616488e-05, 4.69638946e-02, 9.38152784e-02, 1.40508109e-01,\n",
       "        1.86964845e-01, 2.33109960e-01, 2.78870543e-01, 3.24176865e-01,\n",
       "        3.68962866e-01, 4.13166596e-01, 4.56730564e-01, 4.99602028e-01,\n",
       "        5.41733198e-01, 5.83081368e-01, 6.23608980e-01, 6.63283611e-01,\n",
       "        7.02077912e-01, 7.39969476e-01, 7.76940674e-01, 8.12978437e-01,\n",
       "        8.48074018e-01, 8.82222715e-01, 9.15423588e-01, 9.47679158e-01,\n",
       "        9.78995101e-01, 1.00937994e+00, 1.03884475e+00, 1.06740284e+00,\n",
       "        1.09506952e+00, 1.12186176e+00, 1.14779799e+00, 1.17289784e+00,\n",
       "        1.19718191e+00, 1.22067161e+00, 1.24338888e+00, 1.26535614e+00,\n",
       "        1.28659602e+00, 1.30713132e+00, 1.32698484e+00, 1.34617927e+00,\n",
       "        1.36473712e+00, 1.38268062e+00, 1.40003169e+00, 1.41681181e+00,\n",
       "        1.43304204e+00, 1.44874296e+00, 1.46393462e+00, 1.47863652e+00,\n",
       "        1.49286764e+00, 1.50664634e+00],\n",
       "       [2.90246869e-05, 4.14831348e-02, 8.28837297e-02, 1.24177687e-01,\n",
       "        1.65312587e-01, 2.06237056e-01, 2.46901082e-01, 2.87256324e-01,\n",
       "        3.27256384e-01, 3.66857059e-01, 4.06016562e-01, 4.44695705e-01,\n",
       "        4.82858054e-01, 5.20470047e-01, 5.57501078e-01, 5.93923550e-01,\n",
       "        6.29712892e-01, 6.64847552e-01, 6.99308957e-01, 7.33081453e-01,\n",
       "        7.66152216e-01, 7.98511157e-01, 8.30150796e-01, 8.61066132e-01,\n",
       "        8.91254502e-01, 9.20715428e-01, 9.49450468e-01, 9.77463052e-01,\n",
       "        1.00475833e+00, 1.03134301e+00, 1.05722521e+00, 1.08241431e+00,\n",
       "        1.10692079e+00, 1.13075613e+00, 1.15393263e+00, 1.17646332e+00,\n",
       "        1.19836186e+00, 1.21964236e+00, 1.24031938e+00, 1.26040775e+00,\n",
       "        1.27992254e+00, 1.29887896e+00, 1.31729228e+00, 1.33517781e+00,\n",
       "        1.35255080e+00, 1.36942642e+00, 1.38581969e+00, 1.40174545e+00,\n",
       "        1.41721836e+00, 1.43225281e+00],\n",
       "       [2.60403833e-05, 3.72195651e-02, 7.43753890e-02, 1.11456036e-01,\n",
       "        1.48424422e-01, 1.85244047e-01, 2.21879180e-01, 2.58295028e-01,\n",
       "        2.94457904e-01, 3.30335376e-01, 3.65896405e-01, 4.01111461e-01,\n",
       "        4.35952632e-01, 4.70393714e-01, 5.04410276e-01, 5.37979720e-01,\n",
       "        5.71081316e-01, 6.03696222e-01, 6.35807493e-01, 6.67400074e-01,\n",
       "        6.98460772e-01, 7.28978228e-01, 7.58942869e-01, 7.88346854e-01,\n",
       "        8.17184010e-01, 8.45449764e-01, 8.73141064e-01, 9.00256301e-01,\n",
       "        9.26795222e-01, 9.52758849e-01, 9.78149384e-01, 1.00297013e+00,\n",
       "        1.02722539e+00, 1.05092040e+00, 1.07406124e+00, 1.09665472e+00,\n",
       "        1.11870835e+00, 1.14023023e+00, 1.16122901e+00, 1.18171376e+00,\n",
       "        1.20169398e+00, 1.22117948e+00, 1.24018037e+00, 1.25870696e+00,\n",
       "        1.27676974e+00, 1.29437933e+00, 1.31154643e+00, 1.32828179e+00,\n",
       "        1.34459618e+00, 1.36050034e+00],\n",
       "       [2.36529403e-05, 3.38082864e-02, 6.75653466e-02, 1.01267397e-01,\n",
       "        1.34887234e-01, 1.68398001e-01, 2.01773300e-01, 2.34987295e-01,\n",
       "        2.68014815e-01, 3.00831446e-01, 3.33413619e-01, 3.65738691e-01,\n",
       "        3.97785014e-01, 4.29531997e-01, 4.60960164e-01, 4.92051192e-01,\n",
       "        5.22787954e-01, 5.53154539e-01, 5.83136275e-01, 6.12719734e-01,\n",
       "        6.41892739e-01, 6.70644350e-01, 6.98964857e-01, 7.26845760e-01,\n",
       "        7.54279739e-01, 7.81260624e-01, 8.07783362e-01, 8.33843974e-01,\n",
       "        8.59439516e-01, 8.84568026e-01, 9.09228481e-01, 9.33420747e-01,\n",
       "        9.57145523e-01, 9.80404296e-01, 1.00319928e+00, 1.02553338e+00,\n",
       "        1.04741012e+00, 1.06883361e+00, 1.08980848e+00, 1.11033985e+00,\n",
       "        1.13043326e+00, 1.15009467e+00, 1.16933036e+00, 1.18814692e+00,\n",
       "        1.20655122e+00, 1.22455035e+00, 1.24215160e+00, 1.25936242e+00,\n",
       "        1.27619039e+00, 1.29264320e+00]])"
      ]
     },
     "execution_count": 7,
     "metadata": {},
     "output_type": "execute_result"
    }
   ],
   "source": [
    "mth"
   ]
  },
  {
   "cell_type": "markdown",
   "id": "7d712c7a",
   "metadata": {},
   "source": [
    "# Data Manipulation and Visualisation\n",
    "SlothPy seamlessly interfaces with the broader toolchain and Python scientific ecosystem by returning data in numpy array format. This compatibility allows you to leverage the full range of Python's data manipulation, exporting, and visualization tools in your scripts using your favorite libraries. As an illustrative example, let's plot the data contained in mth variable as a magnetic field function M(H) iterating over different temperatures using matplotlib:"
   ]
  },
  {
   "cell_type": "code",
   "execution_count": 8,
   "id": "4690886a",
   "metadata": {},
   "outputs": [
    {
     "ename": "KeyboardInterrupt",
     "evalue": "",
     "output_type": "error",
     "traceback": [
      "Traceback \u001b[0;36m(most recent call last)\u001b[0m:\n",
      "\u001b[0m  Cell \u001b[1;32mIn[8], line 3\u001b[0m\n    plt.show()\u001b[0m\n",
      "\u001b[0m  File \u001b[1;32m~/VIRTUAL/ENV1/lib/python3.11/site-packages/matplotlib/pyplot.py:446\u001b[0m in \u001b[1;35mshow\u001b[0m\n    return _get_backend_mod().show(*args, **kwargs)\u001b[0m\n",
      "\u001b[0m  File \u001b[1;32m~/VIRTUAL/ENV1/lib/python3.11/site-packages/matplotlib/backend_bases.py:3620\u001b[0m in \u001b[1;35mshow\u001b[0m\n    cls.mainloop()\u001b[0m\n",
      "\u001b[0m  File \u001b[1;32m~/VIRTUAL/ENV1/lib/python3.11/site-packages/matplotlib/backends/backend_qt.py:604\u001b[0m in \u001b[1;35mstart_main_loop\u001b[0m\n    with _maybe_allow_interrupt(qapp):\u001b[0m\n",
      "\u001b[0m  File \u001b[1;32m/usr/lib/python3.11/contextlib.py:144\u001b[0m in \u001b[1;35m__exit__\u001b[0m\n    next(self.gen)\u001b[0m\n",
      "\u001b[0;36m  File \u001b[0;32m~/VIRTUAL/ENV1/lib/python3.11/site-packages/matplotlib/backends/qt_compat.py:245\u001b[0;36m in \u001b[0;35m_maybe_allow_interrupt\u001b[0;36m\n\u001b[0;31m    old_sigint_handler(*handler_args)\u001b[0;36m\n",
      "\u001b[0;31mKeyboardInterrupt\u001b[0m\n"
     ]
    }
   ],
   "source": [
    "for mh in mth:\n",
    "    plt.plot(fields_mth, mh)\n",
    "plt.show()"
   ]
  },
  {
   "cell_type": "markdown",
   "id": "af6c8426",
   "metadata": {},
   "source": [
    "If you need to export the data to use it elsewhere we can simply save it to a .csv file on the disk to be accessible for you or your other programs directly:"
   ]
  },
  {
   "cell_type": "code",
   "execution_count": null,
   "id": "a19aca8f",
   "metadata": {},
   "outputs": [],
   "source": [
    "np.savetxt('my_mth_array.csv', mth.T, delimiter=',')\n",
    "# Here we transpose to have the data for each temperature value in columns"
   ]
  },
  {
   "cell_type": "markdown",
   "id": "e3429f7e",
   "metadata": {},
   "source": [
    "We can make it even better and create a well-formated data frame using pandas library for the data exporting:"
   ]
  },
  {
   "cell_type": "code",
   "execution_count": null,
   "id": "9559a2e1",
   "metadata": {},
   "outputs": [],
   "source": [
    "import os\n",
    "\n",
    "fields_oe = fields_mth * 10000\n",
    "magnetisation_df = pd.DataFrame({'Fields (Oe)': fields_oe})\n",
    "\n",
    "for i, mh in enumerate(mth):\n",
    "    magnetisation_df[f\"{temperatures_mth[i]} K\"] = mh\n",
    "\n",
    "magnetisation_df.to_csv(os.path.join(\".\", \"magnetisation.csv\"))"
   ]
  },
  {
   "cell_type": "markdown",
   "id": "2c4b5868",
   "metadata": {},
   "source": [
    "As you can see, the possibilities are endless."
   ]
  },
  {
   "cell_type": "markdown",
   "id": "ab9bbe00",
   "metadata": {},
   "source": [
    "Nevertheless, SlothPy offers you its own organized data storage inside the core .slt files along with a series of built-in methods to visualize it and proceed with multi-step complex computations. To demonstrate it, we will now run the above calculation once again, but this time we will use a better, denser grid and include more SO-states. It will take a little more time. Additionally, we will save the results to our Nd_tutorial.slt file using `slt` keyword. (confront the [documentation](https://slothpy.org/compound#slothpy.Compound.calculate_magnetisation) for the comprehensive description of all the options). "
   ]
  },
  {
   "cell_type": "code",
   "execution_count": 7,
   "id": "e18fd1a9",
   "metadata": {
    "scrolled": false
   },
   "outputs": [
    {
     "name": "stdout",
     "output_type": "stream",
     "text": [
      "CPU times: user 3.17 s, sys: 15.1 s, total: 18.3 s\n",
      "Wall time: 1.52 s\n"
     ]
    }
   ],
   "source": [
    "%%time\n",
    "mth = NdCo.calculate_magnetisation(\"bas3\", fields_mth, 6, temperatures_mth, 14, slt=\"bas3\")"
   ]
  },
  {
   "cell_type": "markdown",
   "id": "6a7dd207",
   "metadata": {},
   "source": [
    "If you invoke the representation of the Nd_tutorial.slt file once again, you can see that a new group \"bas3_magnetisation\" was created which contains datasets for magnetisation (bas3_mth), magnetic fields (bas3_fields), and temperatures (bas3_temperatures). (all with description attributes)"
   ]
  },
  {
   "cell_type": "code",
   "execution_count": null,
   "id": "49b2424f",
   "metadata": {
    "scrolled": true
   },
   "outputs": [],
   "source": [
    "NdCo"
   ]
  },
  {
   "cell_type": "markdown",
   "id": "a33b0828",
   "metadata": {},
   "source": [
    "SlothPy provides an array-like interface for reading and writing data from and to .slt files. To access a particular dataset and read it in as a numpy array, you need to provide the name of a group followed by the dataset's name. As an example, let us read the magnetisation to another variable mth_custom_read together with field values:"
   ]
  },
  {
   "cell_type": "code",
   "execution_count": null,
   "id": "1abdd048",
   "metadata": {},
   "outputs": [],
   "source": [
    "mth_read = NdCo[\"bas3_magnetisation\", \"bas3_mth\"]\n",
    "field_values_read = NdCo[\"bas3_magnetisation\", \"bas3_fields\"]"
   ]
  },
  {
   "cell_type": "markdown",
   "id": "4c6b67fe",
   "metadata": {},
   "source": [
    "Here, we provide a <u>full</u> group and dataset name (with suffixes) to access the data! Now, once again, we can do whatever we want with the arrays. Let us confirm that they indeed represent the same magnetisation as before by plotting them:"
   ]
  },
  {
   "cell_type": "code",
   "execution_count": null,
   "id": "688ac510",
   "metadata": {},
   "outputs": [],
   "source": [
    "for mh in mth_read:\n",
    "    plt.plot(field_values_read, mh)\n",
    "plt.show()"
   ]
  },
  {
   "cell_type": "markdown",
   "id": "3a127429",
   "metadata": {},
   "source": [
    "Since we have our data saved in the .slt file, we can plot it using the build-in function (available for various methods and having plenty of customizable parameters - see all the methods starting with \"plot\" in the [documentation](https://slothpy.org/reference_manual))."
   ]
  },
  {
   "cell_type": "code",
   "execution_count": 8,
   "id": "25833511",
   "metadata": {},
   "outputs": [],
   "source": [
    "NdCo.plot_magnetisation(\"bas3\")"
   ]
  },
  {
   "cell_type": "markdown",
   "id": "34717331",
   "metadata": {},
   "source": [
    "As you noticed, when using the built-in functions, you do not need to (actually, you can't) provide a name of the group with a suffix, like \"_magnetisation\"; just use the name you gave for the `slt` parameter of the method and the program will handle the rest for you.\n",
    "\n",
    "If you want to integrate the .slt file in your workflow (e.g., adding experimental data), you can even create your custom groups with datasets (in the form of numpy NdArrays) in the file and use them in your programs and scripts simply by using a `Compound` class instance connected to the file - NdCo[...]:"
   ]
  },
  {
   "cell_type": "code",
   "execution_count": null,
   "id": "553e3b4f",
   "metadata": {
    "scrolled": true
   },
   "outputs": [],
   "source": [
    "one_to_ten = np.linspace(1, 10, 10)\n",
    "NdCo[\"my_custom_group\", \"one_to_ten_dataset\", \"My description of the dataset\",\n",
    "     \"My description of the whole group\"] = one_to_ten\n",
    "NdCo"
   ]
  },
  {
   "cell_type": "markdown",
   "id": "77b365bd",
   "metadata": {},
   "source": [
    "The last two strings, setting a description of the dataset and group, are optional and ordered in such a way as to make it possible to add datasets to the same group later without repeating its description. All the values you can store must be in an ArrayLike form (can be converted to the numpy NdArray). As an example, we add to our new group a new dataset with a description, a new dataset without a description, and a stand-alone dataset without any group. (the data must be at least one-dimensional)"
   ]
  },
  {
   "cell_type": "code",
   "execution_count": null,
   "id": "42f144e2",
   "metadata": {},
   "outputs": [],
   "source": [
    "NdCo[\"my_custom_group\", \"dataset_with_description\", \"Identity matrix\"] = [[1,0,0],[0,1,0],[0,0,1]]\n",
    "NdCo[\"my_custom_group\", \"123_dataset\"] = [1,2,3]\n",
    "NdCo[\"my_dataset_without_a_group\"] = [1]\n",
    "NdCo"
   ]
  },
  {
   "cell_type": "markdown",
   "id": "4c9eff25",
   "metadata": {},
   "source": [
    "Suppose you now re-run the previous calculation. In that case, you should see a SlothPyError due to the already existing name of the group (SlothPy prevents you from accidentally overwriting the data). The library has extensive custom error handling, eliminating tedious, long tracebacks and trying to inform users directly about all sorts of potential problems, hopefully making the user experience less painful."
   ]
  },
  {
   "cell_type": "code",
   "execution_count": null,
   "id": "30f700e0",
   "metadata": {},
   "outputs": [],
   "source": [
    "%%time\n",
    "mth = NdCo.calculate_magnetisation(\"bas3\", fields_mth, 6, temperatures_mth, 32, slt=\"bas3\")"
   ]
  },
  {
   "cell_type": "markdown",
   "id": "a5968c7f",
   "metadata": {},
   "source": [
    "Finally, we can use [delete_group_dataset()](https://slothpy.org/compound#slothpy.Compound.delete_group_dataset) to manually remove datases/groups from the .slt file."
   ]
  },
  {
   "cell_type": "code",
   "execution_count": null,
   "id": "887b940f",
   "metadata": {
    "scrolled": true
   },
   "outputs": [],
   "source": [
    "NdCo.delete_group_dataset(\"my_dataset_without_a_group\")\n",
    "NdCo.delete_group_dataset(\"my_custom_group\", \"123_dataset\") # Only the 123_dataset is removed\n",
    "NdCo.delete_group_dataset(\"bas3_magnetisation\") # The whole group is removed\n",
    "NdCo"
   ]
  },
  {
   "cell_type": "markdown",
   "id": "016a1201",
   "metadata": {},
   "source": [
    "As a final remark, remember that the .slt files are, in fact, HDF5 files in disguise. That means you can obtain all the above functionalities (and much more) directly using, for example, the h5py Python wrapper in your scripts for .slt file reading and modifications, further incorporating them into your data pipelines."
   ]
  },
  {
   "cell_type": "markdown",
   "id": "fcd9d8c0",
   "metadata": {},
   "source": [
    "# Optimizing Computational Performance with SlothPy:\n",
    "# Parallel Processing and Autotuning\n",
    "As you should have already noticed (when reading the docstring of [calculate_magnetisation()](https://slothpy.org/compound#slothpy.Compound.calculate_magnetisation) method), SlopthPy provides you full control over the number of CPUs you want to assign to your calculation and the threads to be used for linear algebra libraries. Computationally demanding methods are parallelized using a certain amount of separate Python processes - the number of processes that will be used is (number of CPUs) // (number of threads). Additionally, in the \"Note\" section of each method's documentation, the user is informed over what quantity the job will be parallelized. In the case of [calculate_magnetisation()](https://slothpy.org/compound#slothpy.Compound.calculate_magnetisation)  method, the work is distributed over different field values (here 50). So, when using, for example, 10 parallel processes, each will compute the magnetisation for 5 values of the magnetic field. As default, SlothPy uses all available logical cores with 1 thread assigned for the linear algebra libraries. For jobs with a very high number of points to be parallelized over, you should benefit from a greater number of processes. On the other hand, with increasing matrix sizes, it is beneficial to use more threads for operations such as diagonalization, dot products, etc. It is not a trivial task to choose optimal settings for very demanding calculations, and that is why we provide, within SlothPy, the autotune module to do it for you. It tests all possible meaningful setups and gives you time estimates for each of them. It takes some time to do this (because it actually truly does a part of the calculations to benchmark them), so it is advised to use it for jobs that will take hours. To demonstrate it with relatively small matrices available in our file (they are at most 364 x 364 with states_cutoff set to 0 - that is how many SO states there are), we will run two examples using all available CPUs on your machine (if you want to leave some for other tasks you should change number_cpu = 0 to your desired number):"
   ]
  },
  {
   "cell_type": "code",
   "execution_count": null,
   "id": "49f74f88",
   "metadata": {},
   "outputs": [],
   "source": [
    "fields_process = np.linspace(0.0001, 7, 60)\n",
    "fields_threads = np.linspace(0.0001, 7, 3)"
   ]
  },
  {
   "cell_type": "code",
   "execution_count": null,
   "id": "e4708d82",
   "metadata": {},
   "outputs": [],
   "source": [
    "%%time\n",
    "mth = NdCo.calculate_magnetisation(\"bas3\", fields_process, 6, temperatures_mth, 14, number_cpu = 16, autotune=True)"
   ]
  },
  {
   "cell_type": "code",
   "execution_count": null,
   "id": "f6c97efd",
   "metadata": {},
   "outputs": [],
   "source": [
    "%%time\n",
    "mth = NdCo.calculate_magnetisation(\"bas3\", fields_threads, 6, temperatures_mth, 14, number_cpu = 16, autotune=True)"
   ]
  },
  {
   "cell_type": "markdown",
   "id": "d0bf56cf",
   "metadata": {},
   "source": [
    "In the first case, the autotune module should choose (but it depends on your hardware and CPU number) more processes and fewer threads than in the second one, where we parallelize only over 3 field points. Time estimates include only pure calculation steps, and in our tests for a variety of different methods, they should give results within 20-30% maximal error of overall execution time. After the autotuning, you can run the calculation with the chosen setting manually to see how much time it will take compared to our estimate. Can you choose better settings by yourself?"
   ]
  },
  {
   "cell_type": "code",
   "execution_count": null,
   "id": "958a39d4",
   "metadata": {},
   "outputs": [],
   "source": [
    "num_of_cpu = 16 #fill here the number you were autotuning for\n",
    "num_of_threads = 2 #fill here the number of threads chosen by the autotune module (for fields_process and _threads)"
   ]
  },
  {
   "cell_type": "code",
   "execution_count": null,
   "id": "8fbb4fd6",
   "metadata": {},
   "outputs": [],
   "source": [
    "%%time\n",
    "mth = NdCo.calculate_magnetisation(\"bas3\", fields_process, 6, temperatures_mth, 14, num_of_cpu, num_of_threads)"
   ]
  },
  {
   "cell_type": "code",
   "execution_count": null,
   "id": "9f1ebdf4",
   "metadata": {},
   "outputs": [],
   "source": [
    "%%time\n",
    "mth = NdCo.calculate_magnetisation(\"bas3\", fields_threads, 6, temperatures_mth, 14, num_of_cpu, num_of_threads)"
   ]
  },
  {
   "cell_type": "markdown",
   "id": "399da4a1",
   "metadata": {},
   "source": [
    "The necessity of the autotune module will become visible for matrices with a number of states over 500-1000 or even 2000+ when calculations with certain settings (how many field values and grids) can take many hours or even days. It also all depends on your hardware e.g. how many possibilities is there to check. For me writing this tutorial now I am testing it on 128 logical cores (64 physical) CPU, so there are many possibilities to choose a number of threads and processes - therefore it is harder and also more time-consuming for the module, but still better than trying manually all the possibilities."
   ]
  },
  {
   "cell_type": "markdown",
   "id": "93855405",
   "metadata": {},
   "source": [
    "In the following part of the tutorial, we will give a glimpse into more methods presenting their use for our Nd-based compound. Make sure to check the documentation of each presented method - it always contains a comprehensive description of all the used parameters. We begin by calculating magnetic susceptibility - in the form of a product with temperature - (the derivative of magnetisation with respect to the magnetic field) in 1000, 2000, 3000, and 5000 Oe."
   ]
  },
  {
   "cell_type": "code",
   "execution_count": 11,
   "id": "03f3ee15",
   "metadata": {},
   "outputs": [],
   "source": [
    "temperatures = np.linspace(1, 300, 300)\n",
    "fields = [0.1, 0.2, 0.3, 0.5]"
   ]
  },
  {
   "cell_type": "code",
   "execution_count": null,
   "id": "549acc68",
   "metadata": {},
   "outputs": [],
   "source": [
    "%%time\n",
    "chitht = NdCo.calculate_susceptibility(\"bas3\", temperatures, fields, number_of_points=2, delta_h=0.0001,\n",
    "                               states_cutoff=14, number_cpu=0, number_threads=1, T=True, slt=\"your_name\")"
   ]
  },
  {
   "cell_type": "code",
   "execution_count": null,
   "id": "707e7967",
   "metadata": {},
   "outputs": [],
   "source": [
    "NdCo.plot_susceptibility(\"your_name\")"
   ]
  },
  {
   "cell_type": "markdown",
   "id": "ba38dc36",
   "metadata": {},
   "source": [
    "You can calculate the Helmholtz free energy or internal energy in the applied magnetic field (here instead of averaging we calculate with the field applied in the \"z\" direction):"
   ]
  },
  {
   "cell_type": "code",
   "execution_count": 12,
   "id": "3d2ad93a",
   "metadata": {},
   "outputs": [],
   "source": [
    "temperatures = np.linspace(1, 300, 300)\n",
    "fields = np.linspace(0.0001, 10, 100)"
   ]
  },
  {
   "cell_type": "code",
   "execution_count": null,
   "id": "769cc6d3",
   "metadata": {},
   "outputs": [],
   "source": [
    "%%time\n",
    "eth = NdCo.calculate_energy(\"bas3\", fields, [[0., 0., 1., 1.]], temperatures, \"helmholtz\", 14, number_cpu=0, \n",
    "                                  number_threads=1, slt=\"your_name\")"
   ]
  },
  {
   "cell_type": "code",
   "execution_count": null,
   "id": "34522549",
   "metadata": {
    "scrolled": false
   },
   "outputs": [],
   "source": [
    "NdCo.plot_energy(\"your_name\", \"helmholtz\")"
   ]
  },
  {
   "cell_type": "markdown",
   "id": "05b639a5",
   "metadata": {},
   "source": [
    "You can calculate the Zeeman splitting of the ground $ ^{4}I_{9/2} $ multiplet for various directions (here x, y, z) or take powder-average:"
   ]
  },
  {
   "cell_type": "code",
   "execution_count": 16,
   "id": "774e6746",
   "metadata": {
    "scrolled": true
   },
   "outputs": [
    {
     "name": "stdout",
     "output_type": "stream",
     "text": [
      "CPU times: user 981 ms, sys: 7.07 s, total: 8.05 s\n",
      "Wall time: 2.74 s\n"
     ]
    }
   ],
   "source": [
    "%%time\n",
    "zeeman = NdCo.calculate_zeeman_splitting(\"bas3\", 8, fields, [[1,0,0],[0,1,0],[0,0,1]], states_cutoff=14,\n",
    "                                number_cpu=0, number_threads=1, average=False, slt=\"your_namee\")"
   ]
  },
  {
   "cell_type": "code",
   "execution_count": 18,
   "id": "719036f0",
   "metadata": {},
   "outputs": [],
   "source": [
    "NdCo.plot_zeeman(\"your_namee\")"
   ]
  },
  {
   "cell_type": "code",
   "execution_count": 26,
   "id": "5be59f32",
   "metadata": {},
   "outputs": [],
   "source": [
    "g, axes = NdCo.calculate_g_tensor_and_axes_doublet(\"bas3\", [0], slt=\"axes\")"
   ]
  },
  {
   "cell_type": "markdown",
   "id": "58804fc2",
   "metadata": {},
   "source": [
    "SlothPy allows you to calculate directional data of the above quantities in the form of 3D plots over spherical angles. This type of calculation is pretty demanding and heavy on memory usage. See the Note sections for the following methods to see examples of memory estimation that is needed to handle big resulting and intermediate arrays!!! (example: for a calculation with 100 field values 1-10 T, 300 temperatures 1-300 K,\n",
    "and spherical_grid = 60, the resulting array will take 3 * 100 * 300 * 2 * 60 * 60 * 8 bytes = 5.184 GB)"
   ]
  },
  {
   "cell_type": "code",
   "execution_count": 27,
   "id": "4333c002",
   "metadata": {},
   "outputs": [
    {
     "data": {
      "text/plain": [
       "array([[ 0.26200751,  0.41073537,  0.8732975 ],\n",
       "       [-0.66145222,  0.73535806, -0.14740923],\n",
       "       [-0.70273254, -0.53902225,  0.46435115]])"
      ]
     },
     "execution_count": 27,
     "metadata": {},
     "output_type": "execute_result"
    }
   ],
   "source": [
    "g, axes = NdCo.calculate_g_tensor_and_axes_doublet(\"bas3\", [0])\n",
    "axes = axes[0].T\n",
    "axes"
   ]
  },
  {
   "cell_type": "code",
   "execution_count": 21,
   "id": "130939f6",
   "metadata": {},
   "outputs": [
    {
     "name": "stdout",
     "output_type": "stream",
     "text": [
      "CPU times: user 2.74 s, sys: 12.2 s, total: 15 s\n",
      "Wall time: 6.92 s\n"
     ]
    }
   ],
   "source": [
    "%%time\n",
    "r = NdCo.calculate_energy_3d(\"bas3\", fields, \"mesh\", 35, temperatures, \"helmholtz\", 14, slt=\"your_name\", number_cpu=16, rotation=axes)"
   ]
  },
  {
   "cell_type": "code",
   "execution_count": 22,
   "id": "40a6f55d",
   "metadata": {},
   "outputs": [
    {
     "name": "stdout",
     "output_type": "stream",
     "text": [
      "CPU times: user 3.29 s, sys: 14.3 s, total: 17.6 s\n",
      "Wall time: 7.62 s\n"
     ]
    }
   ],
   "source": [
    "%%time\n",
    "r = NdCo.calculate_magnetisation_3d(\"bas3\", fields, \"mesh\", 35, temperatures, 14, slt=\"your_name\", number_cpu=16, rotation=axes)"
   ]
  },
  {
   "cell_type": "code",
   "execution_count": 23,
   "id": "0f228ec6",
   "metadata": {},
   "outputs": [
    {
     "name": "stdout",
     "output_type": "stream",
     "text": [
      "CPU times: user 9.27 s, sys: 22.7 s, total: 31.9 s\n",
      "Wall time: 25.7 s\n"
     ]
    }
   ],
   "source": [
    "%%time\n",
    "r = NdCo.calculate_susceptibility_3d(\"bas3\", temperatures, fields, \"mesh\", 35, 2, states_cutoff=14,  number_cpu=16, slt=\"your_name\", rotation=axes)\n",
    "# Carefull! This is the most demanding calculation it has to perform (2*number_of_points+1) times the \n",
    "# magnetisation calculation for numerical differentiation using finite difference method with the custom stencil."
   ]
  },
  {
   "cell_type": "markdown",
   "id": "6afbb844",
   "metadata": {},
   "source": [
    "At this point, you may need to adjust (lower or raise) states_cutoff-s, density of spherical grid, or number of field values depending on your hardware (CPU and memory) capability. Also, the autotune module should always choose 1 thread due to the large number of the point we parallelize over (number of fields) * 2 * spherical_grid**2, since your matrices are small and can have at most 364 x 364 size it cannot prioritize multithreading for them.  "
   ]
  },
  {
   "cell_type": "markdown",
   "id": "8f71f41d",
   "metadata": {},
   "source": [
    "After you succeed we can plot the results for particular temperatures and field values with the plot_3d method which supports energy, magnetisation, and susceptibility plotting (see the datatype keyword):"
   ]
  },
  {
   "cell_type": "code",
   "execution_count": 24,
   "id": "4270d42b",
   "metadata": {},
   "outputs": [],
   "source": [
    "NdCo.plot_3d(\"your_name\", \"helmholtz_energy\", 10, 30) \n",
    "# Options: \"helmholtz_energy\", \"internal_energy\", \"magnetisation\", \"chi\", \"chit\""
   ]
  },
  {
   "cell_type": "markdown",
   "id": "9196f48f",
   "metadata": {},
   "source": [
    "Anyway, probably the best method to examine this type of data is to scan it using an interactive 3D plot where you can change fields and temperatures using sliders and see changes in real-time!"
   ]
  },
  {
   "cell_type": "code",
   "execution_count": 28,
   "id": "085e6f67",
   "metadata": {
    "scrolled": true
   },
   "outputs": [],
   "source": [
    "NdCo.interactive_plot_3d(\"your_name\", \"chit\", add_g_tensor_axes=True, axes_group=\"axes\", axes_scale_factor=1.5,\n",
    "                        doublet_number=0, rotation=axes)\n",
    "# Options: \"helmholtz_energy\", \"internal_energy\", \"magnetisation\", \"chi\", \"chit\""
   ]
  },
  {
   "cell_type": "markdown",
   "id": "f63a859e",
   "metadata": {},
   "source": [
    "After you manually find all the instersting \"phase\" transitions you can even prepare .gif animations varying temperature or field strenght while keepeing the other constant."
   ]
  },
  {
   "cell_type": "code",
   "execution_count": null,
   "id": "c87f9595",
   "metadata": {},
   "outputs": [],
   "source": [
    "NdCo.animate_3d(\"your_name\", \"helmholtz_energy\", \"temperature\", \"animation\", i_start=0, i_end=30, i_constant=2,\n",
    "               fps=6, dpi=200)"
   ]
  },
  {
   "cell_type": "markdown",
   "id": "6f3b8427",
   "metadata": {},
   "source": [
    "The animation should be saved to your current directory."
   ]
  },
  {
   "cell_type": "markdown",
   "id": "ace815ac",
   "metadata": {},
   "source": [
    "We will end this basic tutorial just by mentioning other methods. More advanced combinations resulting in e.g. studies on relaxation dynamics for molecular magnets will be addressed in more specialized tutorials."
   ]
  },
  {
   "cell_type": "markdown",
   "id": "d5d1bee3",
   "metadata": {},
   "source": [
    "In order to calculate pseudo-g-tensors for doublet states within the ground $ ^{4}I_{9/2} $ multiplet (10 states - 5 doublets) you can run the:"
   ]
  },
  {
   "cell_type": "code",
   "execution_count": null,
   "id": "728dbfbf",
   "metadata": {},
   "outputs": [],
   "source": [
    "g_tensors, magnetic_axes = NdCo.calculate_g_tensor_and_axes_doublet(\"bas3\", [0,1,2,3,4]) "
   ]
  },
  {
   "cell_type": "code",
   "execution_count": null,
   "id": "3a64be17",
   "metadata": {},
   "outputs": [],
   "source": [
    "g_tensors, magnetic_axes"
   ]
  },
  {
   "cell_type": "markdown",
   "id": "6e8de784",
   "metadata": {},
   "source": [
    "The first entry of the tuple contains g-tensor components x, y, and z for the doublets and magnetic_axes are rotation matrices from the initial coordinate system to the main magnetic axes of each doublet (Coordinates of the main axes X, Y, and Z in the initial x, y, z frame are columns of such matrices). We can use those matrices to rotate angular momenta in almost all the following methods to express the quantities in the reference frame of the chosen doublet's magnetic axes. Note, that you need to use the inverse rotation (transpose of an orthogonal matrix) to express everything in the new reference frame! (see also Exporting Module for an easy way to add the main magnetic axes to your .mol2/.xyz files with molecular coordinates)"
   ]
  },
  {
   "cell_type": "code",
   "execution_count": null,
   "id": "db98b552",
   "metadata": {
    "scrolled": true
   },
   "outputs": [],
   "source": [
    "your_rotation = magnetic_axes[0].T # Inverse rotation for the ground doublet\n",
    "your_rotation"
   ]
  },
  {
   "cell_type": "markdown",
   "id": "97525261",
   "metadata": {},
   "source": [
    "As an example, we calculate the susceptibility (Van-Vleck) tensor using true numerical differentiation in the reference frame of the ground doublet state:"
   ]
  },
  {
   "cell_type": "code",
   "execution_count": null,
   "id": "cfdbd46e",
   "metadata": {},
   "outputs": [],
   "source": [
    "temperatures = linspace(1, 300, 300)\n",
    "fields = [0.1, 0.2]"
   ]
  },
  {
   "cell_type": "code",
   "execution_count": null,
   "id": "b08736e7",
   "metadata": {},
   "outputs": [],
   "source": [
    "NdCo.calculate_chit_tensorht(\"bas3\", temperatures, fields, number_of_points=3, delta_h=0.0001, states_cutoff=364,\n",
    "                             number_cpu=0, number_threads=1, rotation=your_rotation)"
   ]
  },
  {
   "cell_type": "markdown",
   "id": "e17552c4",
   "metadata": {},
   "source": [
    "Now we will do a little demonstration considering our 10-state ground manifold. Firstly, let us take a look at SOC energies of the states:"
   ]
  },
  {
   "cell_type": "code",
   "execution_count": null,
   "id": "72357610",
   "metadata": {
    "scrolled": true
   },
   "outputs": [],
   "source": [
    "NdCo.soc_energies_cm_1(\"bas3\", 10)"
   ]
  },
  {
   "cell_type": "markdown",
   "id": "c1520827",
   "metadata": {},
   "source": [
    "They come in doublets as expected for the Krammers ion. We can then obtain Crystal-Fields-Parameters for S = 9/2 pseudo-spin (in the form of J - total angular momneta) for the SOC matrix taking as \"z\" quantization axis the main magnetic axis of a ground doublet (use your_rotation). Note that the order of CFPs cannot exceed 2S here and because SOC Hamiltonian (without magnetic fields) is time even operator we only need even orders. We will use real parameters."
   ]
  },
  {
   "cell_type": "code",
   "execution_count": null,
   "id": "e50d0170",
   "metadata": {},
   "outputs": [],
   "source": [
    "NdCo.soc_crystal_field_parameters(\"bas3\", 0, 9, order=9, pseudo_kind = \"magnetic\", \n",
    "                                  even_order=True, rotation=your_rotation, slt=\"your_name\")"
   ]
  },
  {
   "cell_type": "markdown",
   "id": "b2ad03a1",
   "metadata": {},
   "source": [
    "For the comparison let us get the initial SOC matrix in the same pseudo-spin Jz basis:"
   ]
  },
  {
   "cell_type": "code",
   "execution_count": null,
   "id": "ab7a32a8",
   "metadata": {},
   "outputs": [],
   "source": [
    "soc_matrix = NdCo.soc_zeem_in_z_angular_magnetic_momentum_basis(\"bas3\", 0, 9, \"soc\", \"magnetic\",\n",
    "                                                                rotation=your_rotation)\n",
    "soc_matrix"
   ]
  },
  {
   "cell_type": "markdown",
   "id": "ce1751b9",
   "metadata": {},
   "source": [
    "Verify it by computing its eigenvalues which should be the same as SOC energies from before."
   ]
  },
  {
   "cell_type": "code",
   "execution_count": null,
   "id": "5a8d6cbb",
   "metadata": {},
   "outputs": [],
   "source": [
    "from numpy.linalg import eigvalsh\n",
    "energies = eigvalsh(soc_matrix) * 219474.6 # Convert it from Hartree to cm-1\n",
    "energies"
   ]
  },
  {
   "cell_type": "markdown",
   "id": "57f86d0a",
   "metadata": {},
   "source": [
    "We can rebuild the whole matrix from the saved CFP (ITO) parameters and verify that it is the same as soc_matrix (giving the same eigenvalues):"
   ]
  },
  {
   "cell_type": "code",
   "execution_count": null,
   "id": "4de595ed",
   "metadata": {},
   "outputs": [],
   "source": [
    "soc_matrix_from_cfp = NdCo.matrix_from_ito(\"your_name_soc_ito_decomposition\", False)\n",
    "\n",
    "energies = eigvalsh(soc_matrix_from_cfp) * 219474.6 # Convert it from Hartree to cm-1\n",
    "energies"
   ]
  },
  {
   "cell_type": "code",
   "execution_count": null,
   "id": "2e9b0b2a",
   "metadata": {
    "scrolled": true
   },
   "outputs": [],
   "source": [
    "soc_matrix - soc_matrix_from_cfp"
   ]
  },
  {
   "cell_type": "markdown",
   "id": "4fd2f98b",
   "metadata": {},
   "source": [
    "If you need numerical precision for the matrix recreation, you should use odd orders of ITOs (Irreducible Tensor Operators) as well:"
   ]
  },
  {
   "cell_type": "code",
   "execution_count": null,
   "id": "0004b24f",
   "metadata": {},
   "outputs": [],
   "source": [
    "NdCo.soc_crystal_field_parameters(\"bas3\", 0, 9, order=9, pseudo_kind = \"magnetic\", \n",
    "                                  even_order=False, rotation=your_rotation, slt=\"your_name_odd\")"
   ]
  },
  {
   "cell_type": "code",
   "execution_count": null,
   "id": "acf7cc32",
   "metadata": {},
   "outputs": [],
   "source": [
    "soc_matrix_from_cfp_odd = NdCo.matrix_from_ito(\"your_name_odd_soc_ito_decomposition\", False)\n",
    "\n",
    "energies = eigvalsh(soc_matrix_from_cfp) * 219474.6 # Convert it from Hartree to cm-1\n",
    "energies"
   ]
  },
  {
   "cell_type": "code",
   "execution_count": null,
   "id": "656d7d75",
   "metadata": {},
   "outputs": [],
   "source": [
    "soc_matrix - soc_matrix_from_cfp_odd"
   ]
  },
  {
   "cell_type": "markdown",
   "id": "a27b4c4d",
   "metadata": {},
   "source": [
    "Using all orders is necessary e.g. when dealing with Zeeman Hamiltonians containing interaction with magnetic field on top of the energy of SOC states. We can follow the seam procedure for a full Zeeman matrix originating from interaction with a magnetic field in the \"y\" direction (2 T):"
   ]
  },
  {
   "cell_type": "code",
   "execution_count": null,
   "id": "c7419430",
   "metadata": {},
   "outputs": [],
   "source": [
    "NdCo.zeeman_matrix_ito_decpomosition(\"bas3\", 0, 9, 2, [0., 1., 0.], order=9, pseudo_kind = \"magnetic\", \n",
    "                                     rotation=your_rotation, slt=\"your_name\")"
   ]
  },
  {
   "cell_type": "code",
   "execution_count": null,
   "id": "48895bb7",
   "metadata": {
    "scrolled": true
   },
   "outputs": [],
   "source": [
    "zeeman_matrix = NdCo.soc_zeem_in_z_angular_magnetic_momentum_basis(\"bas3\", 0, 9, \"zeeman\", \"magnetic\", field=2.,\n",
    "                                                                   orientation= [0., 1., 0.],\n",
    "                                                                   rotation=your_rotation)\n",
    "zeeman_matrix"
   ]
  },
  {
   "cell_type": "code",
   "execution_count": null,
   "id": "1018beb9",
   "metadata": {},
   "outputs": [],
   "source": [
    "zeeman_matrix_from_cfp = NdCo.matrix_from_ito(\"your_name_zeeman_ito_decomposition\", False)\n",
    "\n",
    "energies = eigvalsh(zeeman_matrix_from_cfp) * 219474.6 # Convert it from Hartree to cm-1\n",
    "energies # Zeeman splitting"
   ]
  },
  {
   "cell_type": "code",
   "execution_count": null,
   "id": "d082a5ea",
   "metadata": {},
   "outputs": [],
   "source": [
    "energies = eigvalsh(zeeman_matrix) * 219474.6 # Convert it from Hartree to cm-1\n",
    "energies # Zeeman splitting"
   ]
  },
  {
   "cell_type": "code",
   "execution_count": null,
   "id": "e7b2ca6a",
   "metadata": {},
   "outputs": [],
   "source": [
    "zeeman_matrix - zeeman_matrix_from_cfp"
   ]
  },
  {
   "cell_type": "markdown",
   "id": "a6782f89",
   "metadata": {},
   "source": [
    "Feel free to experiment with two available pseudo-spin bases (total angular or magnetic)."
   ]
  },
  {
   "cell_type": "markdown",
   "id": "e8b493e9",
   "metadata": {},
   "source": [
    "We will end this short introduction to SlothPy software by showing how to obtain a % decomposition in the pseudo-spin basis of a SOC/Zeeman matrix."
   ]
  },
  {
   "cell_type": "code",
   "execution_count": null,
   "id": "fb50446b",
   "metadata": {
    "scrolled": true
   },
   "outputs": [],
   "source": [
    "NdCo.matrix_decomposition_in_z_pseudo_spin_basis(\"bas3\", \"soc\", \"magnetic\", 0, 9, rotation=your_rotation)"
   ]
  },
  {
   "cell_type": "code",
   "execution_count": null,
   "id": "4116b87a",
   "metadata": {
    "scrolled": true
   },
   "outputs": [],
   "source": [
    "NdCo.matrix_decomposition_in_z_pseudo_spin_basis(\"bas3\", \"zeeman\", \"magnetic\", 0, 9, rotation=your_rotation,\n",
    "                                                orientation=[0., 1., 0.], field=2.)"
   ]
  },
  {
   "cell_type": "markdown",
   "id": "79c8ea8f",
   "metadata": {},
   "source": [
    "Here, the resulting matrix contains % weights of pseudo-spin states (columns - from -S to S) in each state from the list (rows - here 10 states from 0 to 9) where pseudo-spin number S = number_of_states / 2 - 1/2 = 10/2 - 1/2 = 9/2."
   ]
  },
  {
   "cell_type": "markdown",
   "id": "53110b0c",
   "metadata": {},
   "source": [
    "To explore more methods check the Reference Manual and more specialized, upcoming tutorials."
   ]
  },
  {
   "cell_type": "markdown",
   "id": "beeb1295",
   "metadata": {},
   "source": [
    "MTZ"
   ]
  }
 ],
 "metadata": {
  "kernelspec": {
   "display_name": "Python 3 (ipykernel)",
   "language": "python",
   "name": "python3"
  },
  "language_info": {
   "codemirror_mode": {
    "name": "ipython",
    "version": 3
   },
   "file_extension": ".py",
   "mimetype": "text/x-python",
   "name": "python",
   "nbconvert_exporter": "python",
   "pygments_lexer": "ipython3",
   "version": "3.11.3"
  }
 },
 "nbformat": 4,
 "nbformat_minor": 5
}
