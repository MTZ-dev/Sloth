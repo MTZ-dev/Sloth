{
 "cells": [
  {
   "cell_type": "code",
   "execution_count": 1,
   "id": "c44b7cb3",
   "metadata": {},
   "outputs": [],
   "source": [
    "import slothpy as slt\n",
    "import os\n",
    "os.environ['OMP_NUM_THREADS'] = '2'\n",
    "import slothpy as slt\n",
    "import numpy as np\n",
    "import h5py\n",
    "import matplotlib.pyplot as plt"
   ]
  },
  {
   "cell_type": "code",
   "execution_count": 3,
   "id": "5c20caa5",
   "metadata": {},
   "outputs": [],
   "source": [
    "b = slt.compound_from_orca(\".\", \"CeCoN3\", \"CeCoN3_nevpt2_TVZP\", \".\", \"CeCoN3_TZVP_cas_nevpt2.out\", pt2=True)"
   ]
  },
  {
   "cell_type": "code",
   "execution_count": 4,
   "id": "b0b16e05",
   "metadata": {
    "scrolled": true
   },
   "outputs": [
    {
     "data": {
      "text/plain": [
       "Compound from ./CeCoN3.slt with the following groups of data:\n",
       "CeCoN3_nevpt2_TVZP: {'Description': 'Group(CeCoN3_nevpt2_TVZP) containing results of relativistic SOC ORCA calculations - angular momenta and SOC matrix in CI basis'}"
      ]
     },
     "execution_count": 4,
     "metadata": {},
     "output_type": "execute_result"
    }
   ],
   "source": [
    "b"
   ]
  },
  {
   "cell_type": "code",
   "execution_count": 9,
   "id": "78308382",
   "metadata": {},
   "outputs": [],
   "source": [
    "fields1 = np.linspace(0.0001, 7, 60)\n",
    "temperatures1 = np.linspace(1.8, 1.8, 1)\n",
    "temperatures2 = np.linspace(1, 300, 150)\n",
    "fields2 = np.linspace(0.1,0.1,1)\n",
    "temperatures3 = np.linspace(1,5,5)"
   ]
  },
  {
   "cell_type": "code",
   "execution_count": 10,
   "id": "bbb4d6f9",
   "metadata": {
    "scrolled": true
   },
   "outputs": [
    {
     "name": "stdout",
     "output_type": "stream",
     "text": [
      "0.0001\n",
      "0.11874237288135595\n",
      "0.23738474576271187\n",
      "0.35602711864406783\n",
      "0.47466949152542376\n",
      "0.5933118644067797\n",
      "0.7119542372881357\n",
      "0.8305966101694916\n",
      "0.9492389830508475\n",
      "1.0678813559322036\n",
      "1.1865237288135595\n",
      "1.3051661016949154\n",
      "1.4238084745762714\n",
      "1.5424508474576273\n",
      "1.6610932203389832\n",
      "1.7797355932203391\n",
      "1.898377966101695\n",
      "2.0170203389830514\n",
      "2.1356627118644074\n",
      "2.2543050847457633\n",
      "2.3729474576271192\n",
      "2.491589830508475\n",
      "2.610232203389831\n",
      "2.728874576271187\n",
      "2.847516949152543\n",
      "2.966159322033899\n",
      "3.084801694915255\n",
      "3.2034440677966107\n",
      "3.3220864406779667\n",
      "3.4407288135593226\n",
      "3.5593711864406785\n",
      "3.6780135593220344\n",
      "3.7966559322033904\n",
      "3.9152983050847463\n",
      "4.033940677966102\n",
      "4.152583050847458\n",
      "4.271225423728814\n",
      "4.38986779661017\n",
      "4.508510169491526\n",
      "4.627152542372881\n",
      "4.745794915254238\n",
      "4.864437288135593\n",
      "4.98307966101695\n",
      "5.101722033898305\n",
      "5.2203644067796615\n",
      "5.339006779661017\n",
      "5.457649152542373\n",
      "5.576291525423729\n",
      "5.694933898305085\n",
      "5.813576271186441\n",
      "5.932218644067797\n",
      "6.050861016949153\n",
      "6.169503389830509\n",
      "6.288145762711864\n",
      "6.406788135593221\n",
      "6.525430508474576\n",
      "6.644072881355933\n",
      "6.762715254237288\n",
      "6.8813576271186445\n",
      "7.0\n"
     ]
    }
   ],
   "source": [
    "for i in fields1:\n",
    "    print(i)"
   ]
  },
  {
   "cell_type": "code",
   "execution_count": 16,
   "id": "123ce65b",
   "metadata": {
    "scrolled": true
   },
   "outputs": [
    {
     "name": "stdout",
     "output_type": "stream",
     "text": [
      "Error encountered while trying to compute M(T,H) from file: ./CeCoN3.slt - group CeCoN3_nevpt2_TVZP: ZeroDivisionError: division by zero\n"
     ]
    },
    {
     "ename": "TypeError",
     "evalue": "'NoneType' object is not iterable",
     "output_type": "error",
     "traceback": [
      "\u001b[0;31m---------------------------------------------------------------------------\u001b[0m",
      "\u001b[0;31mTypeError\u001b[0m                                 Traceback (most recent call last)",
      "\u001b[0;32m/tmp/ipykernel_139723/3988704226.py\u001b[0m in \u001b[0;36m<module>\u001b[0;34m\u001b[0m\n\u001b[1;32m      1\u001b[0m \u001b[0mmth\u001b[0m \u001b[0;34m=\u001b[0m \u001b[0mb\u001b[0m\u001b[0;34m.\u001b[0m\u001b[0mcalculate_mth\u001b[0m\u001b[0;34m(\u001b[0m\u001b[0;34m\"CeCoN3_nevpt2_TVZP\"\u001b[0m\u001b[0;34m,\u001b[0m \u001b[0;36m0\u001b[0m\u001b[0;34m,\u001b[0m \u001b[0mfields1\u001b[0m\u001b[0;34m,\u001b[0m \u001b[0;36m6\u001b[0m\u001b[0;34m,\u001b[0m \u001b[0mtemperatures1\u001b[0m\u001b[0;34m,\u001b[0m \u001b[0;36m2\u001b[0m\u001b[0;34m)\u001b[0m\u001b[0;34m\u001b[0m\u001b[0;34m\u001b[0m\u001b[0m\n\u001b[1;32m      2\u001b[0m \u001b[0;34m\u001b[0m\u001b[0m\n\u001b[0;32m----> 3\u001b[0;31m \u001b[0;32mfor\u001b[0m \u001b[0mmh\u001b[0m \u001b[0;32min\u001b[0m \u001b[0mmth\u001b[0m\u001b[0;34m:\u001b[0m\u001b[0;34m\u001b[0m\u001b[0;34m\u001b[0m\u001b[0m\n\u001b[0m\u001b[1;32m      4\u001b[0m     \u001b[0mplt\u001b[0m\u001b[0;34m.\u001b[0m\u001b[0mplot\u001b[0m\u001b[0;34m(\u001b[0m\u001b[0mfields1\u001b[0m\u001b[0;34m,\u001b[0m \u001b[0mmh\u001b[0m\u001b[0;34m)\u001b[0m\u001b[0;34m\u001b[0m\u001b[0;34m\u001b[0m\u001b[0m\n\u001b[1;32m      5\u001b[0m     \u001b[0;32mfor\u001b[0m \u001b[0mi\u001b[0m \u001b[0;32min\u001b[0m \u001b[0mmh\u001b[0m\u001b[0;34m:\u001b[0m\u001b[0;34m\u001b[0m\u001b[0;34m\u001b[0m\u001b[0m\n",
      "\u001b[0;31mTypeError\u001b[0m: 'NoneType' object is not iterable"
     ]
    }
   ],
   "source": [
    "mth = b.calculate_mth(\"CeCoN3_nevpt2_TVZP\", 0, fields1, 6, temperatures1, 2)\n",
    "\n",
    "for mh in mth:\n",
    "    plt.plot(fields1, mh)\n",
    "    for i in mh:\n",
    "        print(i)\n",
    "\n",
    "plt.show()"
   ]
  },
  {
   "cell_type": "markdown",
   "id": "d14c0dbb",
   "metadata": {},
   "source": [
    "Teskt"
   ]
  },
  {
   "cell_type": "code",
   "execution_count": 7,
   "id": "85f2d141",
   "metadata": {},
   "outputs": [
    {
     "data": {
      "text/plain": [
       "array([[52, 74, 38],\n",
       "       [52, 74, 74]])"
      ]
     },
     "execution_count": 7,
     "metadata": {},
     "output_type": "execute_result"
    }
   ],
   "source": [
    "a = np.array([[[1,2,5],[3,4,5],[1,2,3]],[[1,2,5],[3,4,5],[1,8,3]]])\n",
    "b = np.array([5,6,7])\n",
    "c = np.dot(a,b)\n",
    "c"
   ]
  }
 ],
 "metadata": {
  "kernelspec": {
   "display_name": "Python 3 (ipykernel)",
   "language": "python",
   "name": "python3"
  },
  "language_info": {
   "codemirror_mode": {
    "name": "ipython",
    "version": 3
   },
   "file_extension": ".py",
   "mimetype": "text/x-python",
   "name": "python",
   "nbconvert_exporter": "python",
   "pygments_lexer": "ipython3",
   "version": "3.9.13"
  }
 },
 "nbformat": 4,
 "nbformat_minor": 5
}
